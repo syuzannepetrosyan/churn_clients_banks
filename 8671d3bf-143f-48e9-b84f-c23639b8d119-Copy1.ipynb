{
 "cells": [
  {
   "cell_type": "markdown",
   "metadata": {},
   "source": [
    "# Анализ оттока клиентов банка \"Метанпром\""
   ]
  },
  {
   "cell_type": "markdown",
   "metadata": {},
   "source": [
    "Ссылка на презентацию: https://docs.google.com/presentation/d/1Z7tFstCXLjVUfQuYMtNl6XyBkAgMRwecMcJBSmqCvc8/edit?usp=sharing\n",
    "\n",
    "Ссылка на дашборд: https://public.tableau.com/app/profile/syuzanna.petrosyan/viz/banks_project_16775314571180/Dashboard12"
   ]
  },
  {
   "cell_type": "markdown",
   "metadata": {},
   "source": [
    "## Введение"
   ]
  },
  {
   "cell_type": "markdown",
   "metadata": {},
   "source": [
    "Настоящее исследование представляет собой анализ клиентов банка \"Метанпром\", их сегментирование и проверку гипотез.\n",
    "\n",
    "**Целью проекта** является анализ оттока клиентов, поиск тех сегментов клиентов, которые в наибольшей степени склонны уходить из банка, а также подготовка рекомендаций для отдела маркетинга. \n",
    "\n",
    "**Задачи проекта:**\n",
    "1. Исследование данных, поиск различных корреляций;\n",
    "2. Составление портретов клиентов;\n",
    "3. Проверка статистических гипотез;\n",
    "4. Составление сегментов клиентов, приоритизация их в соответствии со степенью подверженности оттоку из банка;\n",
    "5. Подготовка выводов и рекомендаций для отдела маркетинга."
   ]
  },
  {
   "cell_type": "markdown",
   "metadata": {},
   "source": [
    "**Декомпозиция проекта:**\n",
    "\n",
    "1. Загрузка данных и импорт необходимых библиотек.\n",
    "2. Предобработка данных:\n",
    "    - приведение к корректному типу данных;\n",
    "    - проверка на корректность наименований колонок\n",
    "    - проверка на наличие пропусков;\n",
    "    - проверка на наличие дубликатов;\n",
    "    - проверка значений на наличие выбросов;\n",
    "    - кодирование части данных;\n",
    "    - категоризация части данных\n",
    "3. Исследовательский анализ данных:\n",
    "    - анализ отточных клиентов в разрезе различных параметров (город, пол, возраст);\n",
    "    - составление портретов уходящих клиентов\n",
    "4. Статистический анализ данных:\n",
    "    - выдвижение первой гипотезы и ее проверка\n",
    "    - выдвижение второй гипотезы и ее проверка\n",
    "    - формулирование промежуточных выводов на основе статистического анализа\n",
    "5. Сегментация пользователей и их приоритизация\n",
    "6. Итоговые выводы и рекомендации по каждому из сегментов"
   ]
  },
  {
   "cell_type": "markdown",
   "metadata": {},
   "source": [
    "## Предобработка данных"
   ]
  },
  {
   "cell_type": "markdown",
   "metadata": {},
   "source": [
    "### Импорт библиотек и загрузка файла"
   ]
  },
  {
   "cell_type": "code",
   "execution_count": 155,
   "metadata": {},
   "outputs": [],
   "source": [
    "# импортируем необходимые для работы библиотеки:\n",
    "\n",
    "import pandas as pd\n",
    "import numpy as np\n",
    "import seaborn as sns\n",
    "import matplotlib.pyplot as plt\n",
    "from scipy import stats as st"
   ]
  },
  {
   "cell_type": "code",
   "execution_count": 156,
   "metadata": {},
   "outputs": [],
   "source": [
    "# сохраним файл с данными в переменную data:\n",
    "\n",
    "data = pd.read_csv('https://drive.google.com/uc?export=download&id=1-U61mhTz_N1ARjy2XSAZ7IlQqGjeqP0F')"
   ]
  },
  {
   "cell_type": "markdown",
   "metadata": {},
   "source": [
    "### Переименование столбцов"
   ]
  },
  {
   "cell_type": "code",
   "execution_count": 157,
   "metadata": {},
   "outputs": [
    {
     "data": {
      "text/html": [
       "<div>\n",
       "<style scoped>\n",
       "    .dataframe tbody tr th:only-of-type {\n",
       "        vertical-align: middle;\n",
       "    }\n",
       "\n",
       "    .dataframe tbody tr th {\n",
       "        vertical-align: top;\n",
       "    }\n",
       "\n",
       "    .dataframe thead th {\n",
       "        text-align: right;\n",
       "    }\n",
       "</style>\n",
       "<table border=\"1\" class=\"dataframe\">\n",
       "  <thead>\n",
       "    <tr style=\"text-align: right;\">\n",
       "      <th></th>\n",
       "      <th>USERID</th>\n",
       "      <th>score</th>\n",
       "      <th>city</th>\n",
       "      <th>gender</th>\n",
       "      <th>age</th>\n",
       "      <th>equity</th>\n",
       "      <th>balance</th>\n",
       "      <th>products</th>\n",
       "      <th>credit_card</th>\n",
       "      <th>last_activity</th>\n",
       "      <th>EST_SALARY</th>\n",
       "      <th>churn</th>\n",
       "    </tr>\n",
       "  </thead>\n",
       "  <tbody>\n",
       "    <tr>\n",
       "      <th>0</th>\n",
       "      <td>183012</td>\n",
       "      <td>850.00</td>\n",
       "      <td>Рыбинск</td>\n",
       "      <td>Ж</td>\n",
       "      <td>25</td>\n",
       "      <td>1</td>\n",
       "      <td>59214.82</td>\n",
       "      <td>2</td>\n",
       "      <td>0</td>\n",
       "      <td>1</td>\n",
       "      <td>75719.14</td>\n",
       "      <td>1</td>\n",
       "    </tr>\n",
       "    <tr>\n",
       "      <th>1</th>\n",
       "      <td>146556</td>\n",
       "      <td>861.00</td>\n",
       "      <td>Рыбинск</td>\n",
       "      <td>Ж</td>\n",
       "      <td>37</td>\n",
       "      <td>5</td>\n",
       "      <td>850594.33</td>\n",
       "      <td>3</td>\n",
       "      <td>1</td>\n",
       "      <td>0</td>\n",
       "      <td>86621.77</td>\n",
       "      <td>0</td>\n",
       "    </tr>\n",
       "    <tr>\n",
       "      <th>2</th>\n",
       "      <td>120722</td>\n",
       "      <td>892.00</td>\n",
       "      <td>Рыбинск</td>\n",
       "      <td>Ж</td>\n",
       "      <td>30</td>\n",
       "      <td>0</td>\n",
       "      <td>NaN</td>\n",
       "      <td>1</td>\n",
       "      <td>1</td>\n",
       "      <td>1</td>\n",
       "      <td>107683.34</td>\n",
       "      <td>0</td>\n",
       "    </tr>\n",
       "    <tr>\n",
       "      <th>3</th>\n",
       "      <td>225363</td>\n",
       "      <td>866.00</td>\n",
       "      <td>Ярославль</td>\n",
       "      <td>Ж</td>\n",
       "      <td>51</td>\n",
       "      <td>5</td>\n",
       "      <td>1524746.26</td>\n",
       "      <td>2</td>\n",
       "      <td>0</td>\n",
       "      <td>1</td>\n",
       "      <td>174423.53</td>\n",
       "      <td>1</td>\n",
       "    </tr>\n",
       "    <tr>\n",
       "      <th>4</th>\n",
       "      <td>157978</td>\n",
       "      <td>730.00</td>\n",
       "      <td>Ярославль</td>\n",
       "      <td>М</td>\n",
       "      <td>34</td>\n",
       "      <td>5</td>\n",
       "      <td>174.00</td>\n",
       "      <td>1</td>\n",
       "      <td>1</td>\n",
       "      <td>0</td>\n",
       "      <td>67353.16</td>\n",
       "      <td>1</td>\n",
       "    </tr>\n",
       "    <tr>\n",
       "      <th>5</th>\n",
       "      <td>202305</td>\n",
       "      <td>856.00</td>\n",
       "      <td>Рыбинск</td>\n",
       "      <td>М</td>\n",
       "      <td>56</td>\n",
       "      <td>4</td>\n",
       "      <td>863687.24</td>\n",
       "      <td>3</td>\n",
       "      <td>1</td>\n",
       "      <td>0</td>\n",
       "      <td>156619.80</td>\n",
       "      <td>0</td>\n",
       "    </tr>\n",
       "    <tr>\n",
       "      <th>6</th>\n",
       "      <td>177259</td>\n",
       "      <td>807.00</td>\n",
       "      <td>Ярославль</td>\n",
       "      <td>Ж</td>\n",
       "      <td>39</td>\n",
       "      <td>3</td>\n",
       "      <td>405042.44</td>\n",
       "      <td>3</td>\n",
       "      <td>0</td>\n",
       "      <td>1</td>\n",
       "      <td>103838.32</td>\n",
       "      <td>0</td>\n",
       "    </tr>\n",
       "    <tr>\n",
       "      <th>7</th>\n",
       "      <td>218868</td>\n",
       "      <td>825.00</td>\n",
       "      <td>Ярославль</td>\n",
       "      <td>Ж</td>\n",
       "      <td>38</td>\n",
       "      <td>4</td>\n",
       "      <td>458145.40</td>\n",
       "      <td>2</td>\n",
       "      <td>1</td>\n",
       "      <td>1</td>\n",
       "      <td>68085.48</td>\n",
       "      <td>0</td>\n",
       "    </tr>\n",
       "    <tr>\n",
       "      <th>8</th>\n",
       "      <td>211686</td>\n",
       "      <td>923.00</td>\n",
       "      <td>Ярославль</td>\n",
       "      <td>М</td>\n",
       "      <td>54</td>\n",
       "      <td>5</td>\n",
       "      <td>1206337.87</td>\n",
       "      <td>2</td>\n",
       "      <td>1</td>\n",
       "      <td>0</td>\n",
       "      <td>155371.79</td>\n",
       "      <td>0</td>\n",
       "    </tr>\n",
       "    <tr>\n",
       "      <th>9</th>\n",
       "      <td>133130</td>\n",
       "      <td>906.00</td>\n",
       "      <td>Ярославль</td>\n",
       "      <td>Ж</td>\n",
       "      <td>67</td>\n",
       "      <td>0</td>\n",
       "      <td>NaN</td>\n",
       "      <td>1</td>\n",
       "      <td>0</td>\n",
       "      <td>1</td>\n",
       "      <td>238055.53</td>\n",
       "      <td>0</td>\n",
       "    </tr>\n",
       "  </tbody>\n",
       "</table>\n",
       "</div>"
      ],
      "text/plain": [
       "   USERID  score       city gender  age  equity    balance  products  \\\n",
       "0  183012 850.00    Рыбинск      Ж   25       1   59214.82         2   \n",
       "1  146556 861.00    Рыбинск      Ж   37       5  850594.33         3   \n",
       "2  120722 892.00    Рыбинск      Ж   30       0        NaN         1   \n",
       "3  225363 866.00  Ярославль      Ж   51       5 1524746.26         2   \n",
       "4  157978 730.00  Ярославль      М   34       5     174.00         1   \n",
       "5  202305 856.00    Рыбинск      М   56       4  863687.24         3   \n",
       "6  177259 807.00  Ярославль      Ж   39       3  405042.44         3   \n",
       "7  218868 825.00  Ярославль      Ж   38       4  458145.40         2   \n",
       "8  211686 923.00  Ярославль      М   54       5 1206337.87         2   \n",
       "9  133130 906.00  Ярославль      Ж   67       0        NaN         1   \n",
       "\n",
       "   credit_card  last_activity  EST_SALARY  churn  \n",
       "0            0              1    75719.14      1  \n",
       "1            1              0    86621.77      0  \n",
       "2            1              1   107683.34      0  \n",
       "3            0              1   174423.53      1  \n",
       "4            1              0    67353.16      1  \n",
       "5            1              0   156619.80      0  \n",
       "6            0              1   103838.32      0  \n",
       "7            1              1    68085.48      0  \n",
       "8            1              0   155371.79      0  \n",
       "9            0              1   238055.53      0  "
      ]
     },
     "metadata": {},
     "output_type": "display_data"
    }
   ],
   "source": [
    "# выведем на экран первые 10 строк датасета и ознакомимся со структурой данных:\n",
    "\n",
    "display (data.head(10))"
   ]
  },
  {
   "cell_type": "markdown",
   "metadata": {},
   "source": [
    "Мы видим, что названия некоторых столбцов набраны заглавными буквами. Для удобства приведем названия столбцов к нижнему регистру. Также добавим \"змеиный регистр\" для столбца USERID."
   ]
  },
  {
   "cell_type": "code",
   "execution_count": 158,
   "metadata": {
    "scrolled": true
   },
   "outputs": [
    {
     "data": {
      "text/html": [
       "<div>\n",
       "<style scoped>\n",
       "    .dataframe tbody tr th:only-of-type {\n",
       "        vertical-align: middle;\n",
       "    }\n",
       "\n",
       "    .dataframe tbody tr th {\n",
       "        vertical-align: top;\n",
       "    }\n",
       "\n",
       "    .dataframe thead th {\n",
       "        text-align: right;\n",
       "    }\n",
       "</style>\n",
       "<table border=\"1\" class=\"dataframe\">\n",
       "  <thead>\n",
       "    <tr style=\"text-align: right;\">\n",
       "      <th></th>\n",
       "      <th>user_id</th>\n",
       "      <th>score</th>\n",
       "      <th>city</th>\n",
       "      <th>gender</th>\n",
       "      <th>age</th>\n",
       "      <th>equity</th>\n",
       "      <th>balance</th>\n",
       "      <th>products</th>\n",
       "      <th>credit_card</th>\n",
       "      <th>last_activity</th>\n",
       "      <th>est_salary</th>\n",
       "      <th>churn</th>\n",
       "    </tr>\n",
       "  </thead>\n",
       "  <tbody>\n",
       "    <tr>\n",
       "      <th>0</th>\n",
       "      <td>183012</td>\n",
       "      <td>850.00</td>\n",
       "      <td>Рыбинск</td>\n",
       "      <td>Ж</td>\n",
       "      <td>25</td>\n",
       "      <td>1</td>\n",
       "      <td>59214.82</td>\n",
       "      <td>2</td>\n",
       "      <td>0</td>\n",
       "      <td>1</td>\n",
       "      <td>75719.14</td>\n",
       "      <td>1</td>\n",
       "    </tr>\n",
       "    <tr>\n",
       "      <th>1</th>\n",
       "      <td>146556</td>\n",
       "      <td>861.00</td>\n",
       "      <td>Рыбинск</td>\n",
       "      <td>Ж</td>\n",
       "      <td>37</td>\n",
       "      <td>5</td>\n",
       "      <td>850594.33</td>\n",
       "      <td>3</td>\n",
       "      <td>1</td>\n",
       "      <td>0</td>\n",
       "      <td>86621.77</td>\n",
       "      <td>0</td>\n",
       "    </tr>\n",
       "    <tr>\n",
       "      <th>2</th>\n",
       "      <td>120722</td>\n",
       "      <td>892.00</td>\n",
       "      <td>Рыбинск</td>\n",
       "      <td>Ж</td>\n",
       "      <td>30</td>\n",
       "      <td>0</td>\n",
       "      <td>NaN</td>\n",
       "      <td>1</td>\n",
       "      <td>1</td>\n",
       "      <td>1</td>\n",
       "      <td>107683.34</td>\n",
       "      <td>0</td>\n",
       "    </tr>\n",
       "    <tr>\n",
       "      <th>3</th>\n",
       "      <td>225363</td>\n",
       "      <td>866.00</td>\n",
       "      <td>Ярославль</td>\n",
       "      <td>Ж</td>\n",
       "      <td>51</td>\n",
       "      <td>5</td>\n",
       "      <td>1524746.26</td>\n",
       "      <td>2</td>\n",
       "      <td>0</td>\n",
       "      <td>1</td>\n",
       "      <td>174423.53</td>\n",
       "      <td>1</td>\n",
       "    </tr>\n",
       "    <tr>\n",
       "      <th>4</th>\n",
       "      <td>157978</td>\n",
       "      <td>730.00</td>\n",
       "      <td>Ярославль</td>\n",
       "      <td>М</td>\n",
       "      <td>34</td>\n",
       "      <td>5</td>\n",
       "      <td>174.00</td>\n",
       "      <td>1</td>\n",
       "      <td>1</td>\n",
       "      <td>0</td>\n",
       "      <td>67353.16</td>\n",
       "      <td>1</td>\n",
       "    </tr>\n",
       "  </tbody>\n",
       "</table>\n",
       "</div>"
      ],
      "text/plain": [
       "   user_id  score       city gender  age  equity    balance  products  \\\n",
       "0   183012 850.00    Рыбинск      Ж   25       1   59214.82         2   \n",
       "1   146556 861.00    Рыбинск      Ж   37       5  850594.33         3   \n",
       "2   120722 892.00    Рыбинск      Ж   30       0        NaN         1   \n",
       "3   225363 866.00  Ярославль      Ж   51       5 1524746.26         2   \n",
       "4   157978 730.00  Ярославль      М   34       5     174.00         1   \n",
       "\n",
       "   credit_card  last_activity  est_salary  churn  \n",
       "0            0              1    75719.14      1  \n",
       "1            1              0    86621.77      0  \n",
       "2            1              1   107683.34      0  \n",
       "3            0              1   174423.53      1  \n",
       "4            1              0    67353.16      1  "
      ]
     },
     "metadata": {},
     "output_type": "display_data"
    }
   ],
   "source": [
    "# приведем названия столбцов к нижнему и \"змеиному\" регистрам:\n",
    "\n",
    "data = data.rename (columns = {'USERID':'user_id', 'EST_SALARY':'est_salary'})\n",
    "display (data.head())"
   ]
  },
  {
   "cell_type": "markdown",
   "metadata": {},
   "source": [
    "### Приведение данных к корректному типу"
   ]
  },
  {
   "cell_type": "markdown",
   "metadata": {},
   "source": [
    "Далее проверим, насколько тип данных соответствует их содержанию."
   ]
  },
  {
   "cell_type": "code",
   "execution_count": 159,
   "metadata": {},
   "outputs": [
    {
     "name": "stdout",
     "output_type": "stream",
     "text": [
      "<class 'pandas.core.frame.DataFrame'>\n",
      "RangeIndex: 10000 entries, 0 to 9999\n",
      "Data columns (total 12 columns):\n",
      " #   Column         Non-Null Count  Dtype  \n",
      "---  ------         --------------  -----  \n",
      " 0   user_id        10000 non-null  int64  \n",
      " 1   score          10000 non-null  float64\n",
      " 2   city           10000 non-null  object \n",
      " 3   gender         10000 non-null  object \n",
      " 4   age            10000 non-null  int64  \n",
      " 5   equity         10000 non-null  int64  \n",
      " 6   balance        7705 non-null   float64\n",
      " 7   products       10000 non-null  int64  \n",
      " 8   credit_card    10000 non-null  int64  \n",
      " 9   last_activity  10000 non-null  int64  \n",
      " 10  est_salary     10000 non-null  float64\n",
      " 11  churn          10000 non-null  int64  \n",
      "dtypes: float64(3), int64(7), object(2)\n",
      "memory usage: 937.6+ KB\n"
     ]
    },
    {
     "data": {
      "text/plain": [
       "None"
      ]
     },
     "metadata": {},
     "output_type": "display_data"
    }
   ],
   "source": [
    "# выведем на экран информацию о датасете и о типе данных в каждом столбце:\n",
    "\n",
    "display (data.info())"
   ]
  },
  {
   "cell_type": "markdown",
   "metadata": {},
   "source": [
    "Мы видим, что в тип данных в столбцах адекватен их содержанию, поэтому можем перейти к следующему этапу предобработки - поиску пропусков."
   ]
  },
  {
   "cell_type": "markdown",
   "metadata": {},
   "source": [
    "### Работа с некорректными значениями"
   ]
  },
  {
   "cell_type": "code",
   "execution_count": 160,
   "metadata": {
    "scrolled": true
   },
   "outputs": [
    {
     "data": {
      "text/html": [
       "<div>\n",
       "<style scoped>\n",
       "    .dataframe tbody tr th:only-of-type {\n",
       "        vertical-align: middle;\n",
       "    }\n",
       "\n",
       "    .dataframe tbody tr th {\n",
       "        vertical-align: top;\n",
       "    }\n",
       "\n",
       "    .dataframe thead th {\n",
       "        text-align: right;\n",
       "    }\n",
       "</style>\n",
       "<table border=\"1\" class=\"dataframe\">\n",
       "  <thead>\n",
       "    <tr style=\"text-align: right;\">\n",
       "      <th></th>\n",
       "      <th>user_id</th>\n",
       "      <th>score</th>\n",
       "      <th>age</th>\n",
       "      <th>equity</th>\n",
       "      <th>balance</th>\n",
       "      <th>products</th>\n",
       "      <th>credit_card</th>\n",
       "      <th>last_activity</th>\n",
       "      <th>est_salary</th>\n",
       "      <th>churn</th>\n",
       "    </tr>\n",
       "  </thead>\n",
       "  <tbody>\n",
       "    <tr>\n",
       "      <th>count</th>\n",
       "      <td>10000.00</td>\n",
       "      <td>10000.00</td>\n",
       "      <td>10000.00</td>\n",
       "      <td>10000.00</td>\n",
       "      <td>7705.00</td>\n",
       "      <td>10000.00</td>\n",
       "      <td>10000.00</td>\n",
       "      <td>10000.00</td>\n",
       "      <td>10000.00</td>\n",
       "      <td>10000.00</td>\n",
       "    </tr>\n",
       "    <tr>\n",
       "      <th>mean</th>\n",
       "      <td>171814.71</td>\n",
       "      <td>848.70</td>\n",
       "      <td>42.84</td>\n",
       "      <td>2.63</td>\n",
       "      <td>827794.31</td>\n",
       "      <td>1.87</td>\n",
       "      <td>0.68</td>\n",
       "      <td>0.52</td>\n",
       "      <td>147866.89</td>\n",
       "      <td>0.18</td>\n",
       "    </tr>\n",
       "    <tr>\n",
       "      <th>std</th>\n",
       "      <td>33708.24</td>\n",
       "      <td>65.45</td>\n",
       "      <td>12.13</td>\n",
       "      <td>1.98</td>\n",
       "      <td>1980614.15</td>\n",
       "      <td>0.80</td>\n",
       "      <td>0.47</td>\n",
       "      <td>0.50</td>\n",
       "      <td>139388.51</td>\n",
       "      <td>0.39</td>\n",
       "    </tr>\n",
       "    <tr>\n",
       "      <th>min</th>\n",
       "      <td>94561.00</td>\n",
       "      <td>642.00</td>\n",
       "      <td>18.00</td>\n",
       "      <td>0.00</td>\n",
       "      <td>0.00</td>\n",
       "      <td>0.00</td>\n",
       "      <td>0.00</td>\n",
       "      <td>0.00</td>\n",
       "      <td>2546.30</td>\n",
       "      <td>0.00</td>\n",
       "    </tr>\n",
       "    <tr>\n",
       "      <th>25%</th>\n",
       "      <td>142810.25</td>\n",
       "      <td>802.00</td>\n",
       "      <td>34.00</td>\n",
       "      <td>0.00</td>\n",
       "      <td>295554.16</td>\n",
       "      <td>1.00</td>\n",
       "      <td>0.00</td>\n",
       "      <td>0.00</td>\n",
       "      <td>75251.90</td>\n",
       "      <td>0.00</td>\n",
       "    </tr>\n",
       "    <tr>\n",
       "      <th>50%</th>\n",
       "      <td>172728.00</td>\n",
       "      <td>853.00</td>\n",
       "      <td>40.00</td>\n",
       "      <td>3.00</td>\n",
       "      <td>524272.20</td>\n",
       "      <td>2.00</td>\n",
       "      <td>1.00</td>\n",
       "      <td>1.00</td>\n",
       "      <td>119658.10</td>\n",
       "      <td>0.00</td>\n",
       "    </tr>\n",
       "    <tr>\n",
       "      <th>75%</th>\n",
       "      <td>201261.75</td>\n",
       "      <td>900.00</td>\n",
       "      <td>51.00</td>\n",
       "      <td>4.00</td>\n",
       "      <td>980705.85</td>\n",
       "      <td>2.00</td>\n",
       "      <td>1.00</td>\n",
       "      <td>1.00</td>\n",
       "      <td>174500.54</td>\n",
       "      <td>0.00</td>\n",
       "    </tr>\n",
       "    <tr>\n",
       "      <th>max</th>\n",
       "      <td>229145.00</td>\n",
       "      <td>1000.00</td>\n",
       "      <td>86.00</td>\n",
       "      <td>9.00</td>\n",
       "      <td>119113552.01</td>\n",
       "      <td>5.00</td>\n",
       "      <td>1.00</td>\n",
       "      <td>1.00</td>\n",
       "      <td>1395064.45</td>\n",
       "      <td>1.00</td>\n",
       "    </tr>\n",
       "  </tbody>\n",
       "</table>\n",
       "</div>"
      ],
      "text/plain": [
       "        user_id    score      age   equity      balance  products  \\\n",
       "count  10000.00 10000.00 10000.00 10000.00      7705.00  10000.00   \n",
       "mean  171814.71   848.70    42.84     2.63    827794.31      1.87   \n",
       "std    33708.24    65.45    12.13     1.98   1980614.15      0.80   \n",
       "min    94561.00   642.00    18.00     0.00         0.00      0.00   \n",
       "25%   142810.25   802.00    34.00     0.00    295554.16      1.00   \n",
       "50%   172728.00   853.00    40.00     3.00    524272.20      2.00   \n",
       "75%   201261.75   900.00    51.00     4.00    980705.85      2.00   \n",
       "max   229145.00  1000.00    86.00     9.00 119113552.01      5.00   \n",
       "\n",
       "       credit_card  last_activity  est_salary    churn  \n",
       "count     10000.00       10000.00    10000.00 10000.00  \n",
       "mean          0.68           0.52   147866.89     0.18  \n",
       "std           0.47           0.50   139388.51     0.39  \n",
       "min           0.00           0.00     2546.30     0.00  \n",
       "25%           0.00           0.00    75251.90     0.00  \n",
       "50%           1.00           1.00   119658.10     0.00  \n",
       "75%           1.00           1.00   174500.54     0.00  \n",
       "max           1.00           1.00  1395064.45     1.00  "
      ]
     },
     "execution_count": 160,
     "metadata": {},
     "output_type": "execute_result"
    }
   ],
   "source": [
    "data.describe()"
   ]
  },
  {
   "cell_type": "markdown",
   "metadata": {},
   "source": [
    "При ознакомлении с таблицей внимание привлекает минимальное значение в столбце products - 0. Если человек является клиентом банка, то значит он пользуется как минимум одним продуктом.\n",
    "\n",
    "Взглянем на эту строку:"
   ]
  },
  {
   "cell_type": "code",
   "execution_count": 161,
   "metadata": {},
   "outputs": [
    {
     "data": {
      "text/html": [
       "<div>\n",
       "<style scoped>\n",
       "    .dataframe tbody tr th:only-of-type {\n",
       "        vertical-align: middle;\n",
       "    }\n",
       "\n",
       "    .dataframe tbody tr th {\n",
       "        vertical-align: top;\n",
       "    }\n",
       "\n",
       "    .dataframe thead th {\n",
       "        text-align: right;\n",
       "    }\n",
       "</style>\n",
       "<table border=\"1\" class=\"dataframe\">\n",
       "  <thead>\n",
       "    <tr style=\"text-align: right;\">\n",
       "      <th></th>\n",
       "      <th>user_id</th>\n",
       "      <th>score</th>\n",
       "      <th>city</th>\n",
       "      <th>gender</th>\n",
       "      <th>age</th>\n",
       "      <th>equity</th>\n",
       "      <th>balance</th>\n",
       "      <th>products</th>\n",
       "      <th>credit_card</th>\n",
       "      <th>last_activity</th>\n",
       "      <th>est_salary</th>\n",
       "      <th>churn</th>\n",
       "    </tr>\n",
       "  </thead>\n",
       "  <tbody>\n",
       "    <tr>\n",
       "      <th>8957</th>\n",
       "      <td>147837</td>\n",
       "      <td>962.00</td>\n",
       "      <td>Рыбинск</td>\n",
       "      <td>Ж</td>\n",
       "      <td>79</td>\n",
       "      <td>3</td>\n",
       "      <td>NaN</td>\n",
       "      <td>0</td>\n",
       "      <td>0</td>\n",
       "      <td>0</td>\n",
       "      <td>25063.96</td>\n",
       "      <td>1</td>\n",
       "    </tr>\n",
       "  </tbody>\n",
       "</table>\n",
       "</div>"
      ],
      "text/plain": [
       "      user_id  score     city gender  age  equity  balance  products  \\\n",
       "8957   147837 962.00  Рыбинск      Ж   79       3      NaN         0   \n",
       "\n",
       "      credit_card  last_activity  est_salary  churn  \n",
       "8957            0              0    25063.96      1  "
      ]
     },
     "execution_count": 161,
     "metadata": {},
     "output_type": "execute_result"
    }
   ],
   "source": [
    "data[data['products']==0]"
   ]
  },
  {
   "cell_type": "markdown",
   "metadata": {},
   "source": [
    "Судя по всему, 0 в столбце products появился потому что этот клиент ушел из банка и теперь действительно больше не пользуется банковскими продуктами. Однако для целей анализа нам необходимо изучать последние актуальные данные на момент, когда отточные пользователи еще являлись клиентами банка, поэтому эту строку необходимо удалить."
   ]
  },
  {
   "cell_type": "code",
   "execution_count": 162,
   "metadata": {},
   "outputs": [
    {
     "data": {
      "text/plain": [
       "count   9999.00\n",
       "mean       1.87\n",
       "std        0.80\n",
       "min        1.00\n",
       "25%        1.00\n",
       "50%        2.00\n",
       "75%        2.00\n",
       "max        5.00\n",
       "Name: products, dtype: float64"
      ]
     },
     "execution_count": 162,
     "metadata": {},
     "output_type": "execute_result"
    }
   ],
   "source": [
    "# удалим строку с ошибкой:\n",
    "\n",
    "data = data[data['products']!=0]\n",
    "data['products'].describe()"
   ]
  },
  {
   "cell_type": "markdown",
   "metadata": {},
   "source": [
    "### Работа с пропусками"
   ]
  },
  {
   "cell_type": "code",
   "execution_count": 163,
   "metadata": {},
   "outputs": [
    {
     "data": {
      "text/plain": [
       "user_id             0\n",
       "score               0\n",
       "city                0\n",
       "gender              0\n",
       "age                 0\n",
       "equity              0\n",
       "balance          2294\n",
       "products            0\n",
       "credit_card         0\n",
       "last_activity       0\n",
       "est_salary          0\n",
       "churn               0\n",
       "dtype: int64"
      ]
     },
     "execution_count": 163,
     "metadata": {},
     "output_type": "execute_result"
    }
   ],
   "source": [
    "# выведем на экран количество пропусков для каждого из столбцов:\n",
    "\n",
    "data.isnull().sum()"
   ]
  },
  {
   "cell_type": "markdown",
   "metadata": {},
   "source": [
    "Пропуски обнаружились лишь в одном столбце, однако их достаточно много (более 20%), поэтому удалять их было бы некорректно. Можно заменить средним или медианой, однако это может повлиять на результаты дальнейшего анализа, поэтому попробуем исследовать природу этих пропусков."
   ]
  },
  {
   "cell_type": "code",
   "execution_count": 164,
   "metadata": {
    "scrolled": false
   },
   "outputs": [
    {
     "data": {
      "text/html": [
       "<div>\n",
       "<style scoped>\n",
       "    .dataframe tbody tr th:only-of-type {\n",
       "        vertical-align: middle;\n",
       "    }\n",
       "\n",
       "    .dataframe tbody tr th {\n",
       "        vertical-align: top;\n",
       "    }\n",
       "\n",
       "    .dataframe thead th {\n",
       "        text-align: right;\n",
       "    }\n",
       "</style>\n",
       "<table border=\"1\" class=\"dataframe\">\n",
       "  <thead>\n",
       "    <tr style=\"text-align: right;\">\n",
       "      <th></th>\n",
       "      <th>user_id</th>\n",
       "      <th>score</th>\n",
       "      <th>age</th>\n",
       "      <th>equity</th>\n",
       "      <th>balance</th>\n",
       "      <th>products</th>\n",
       "      <th>credit_card</th>\n",
       "      <th>last_activity</th>\n",
       "      <th>est_salary</th>\n",
       "      <th>churn</th>\n",
       "    </tr>\n",
       "  </thead>\n",
       "  <tbody>\n",
       "    <tr>\n",
       "      <th>count</th>\n",
       "      <td>2294.00</td>\n",
       "      <td>2294.00</td>\n",
       "      <td>2294.00</td>\n",
       "      <td>2294.00</td>\n",
       "      <td>0.00</td>\n",
       "      <td>2294.00</td>\n",
       "      <td>2294.00</td>\n",
       "      <td>2294.00</td>\n",
       "      <td>2294.00</td>\n",
       "      <td>2294.00</td>\n",
       "    </tr>\n",
       "    <tr>\n",
       "      <th>mean</th>\n",
       "      <td>172080.01</td>\n",
       "      <td>865.31</td>\n",
       "      <td>41.83</td>\n",
       "      <td>0.05</td>\n",
       "      <td>NaN</td>\n",
       "      <td>1.16</td>\n",
       "      <td>0.82</td>\n",
       "      <td>0.55</td>\n",
       "      <td>226397.94</td>\n",
       "      <td>0.01</td>\n",
       "    </tr>\n",
       "    <tr>\n",
       "      <th>std</th>\n",
       "      <td>33340.51</td>\n",
       "      <td>89.60</td>\n",
       "      <td>11.71</td>\n",
       "      <td>0.22</td>\n",
       "      <td>NaN</td>\n",
       "      <td>0.40</td>\n",
       "      <td>0.39</td>\n",
       "      <td>0.50</td>\n",
       "      <td>199771.13</td>\n",
       "      <td>0.07</td>\n",
       "    </tr>\n",
       "    <tr>\n",
       "      <th>min</th>\n",
       "      <td>114182.00</td>\n",
       "      <td>642.00</td>\n",
       "      <td>18.00</td>\n",
       "      <td>0.00</td>\n",
       "      <td>NaN</td>\n",
       "      <td>1.00</td>\n",
       "      <td>0.00</td>\n",
       "      <td>0.00</td>\n",
       "      <td>20274.03</td>\n",
       "      <td>0.00</td>\n",
       "    </tr>\n",
       "    <tr>\n",
       "      <th>25%</th>\n",
       "      <td>143091.75</td>\n",
       "      <td>871.00</td>\n",
       "      <td>33.00</td>\n",
       "      <td>0.00</td>\n",
       "      <td>NaN</td>\n",
       "      <td>1.00</td>\n",
       "      <td>1.00</td>\n",
       "      <td>0.00</td>\n",
       "      <td>120418.21</td>\n",
       "      <td>0.00</td>\n",
       "    </tr>\n",
       "    <tr>\n",
       "      <th>50%</th>\n",
       "      <td>172713.50</td>\n",
       "      <td>903.00</td>\n",
       "      <td>39.00</td>\n",
       "      <td>0.00</td>\n",
       "      <td>NaN</td>\n",
       "      <td>1.00</td>\n",
       "      <td>1.00</td>\n",
       "      <td>1.00</td>\n",
       "      <td>174202.80</td>\n",
       "      <td>0.00</td>\n",
       "    </tr>\n",
       "    <tr>\n",
       "      <th>75%</th>\n",
       "      <td>201554.00</td>\n",
       "      <td>922.00</td>\n",
       "      <td>49.00</td>\n",
       "      <td>0.00</td>\n",
       "      <td>NaN</td>\n",
       "      <td>1.00</td>\n",
       "      <td>1.00</td>\n",
       "      <td>1.00</td>\n",
       "      <td>240070.56</td>\n",
       "      <td>0.00</td>\n",
       "    </tr>\n",
       "    <tr>\n",
       "      <th>max</th>\n",
       "      <td>229145.00</td>\n",
       "      <td>990.00</td>\n",
       "      <td>86.00</td>\n",
       "      <td>1.00</td>\n",
       "      <td>NaN</td>\n",
       "      <td>3.00</td>\n",
       "      <td>1.00</td>\n",
       "      <td>1.00</td>\n",
       "      <td>1333687.36</td>\n",
       "      <td>1.00</td>\n",
       "    </tr>\n",
       "  </tbody>\n",
       "</table>\n",
       "</div>"
      ],
      "text/plain": [
       "        user_id   score     age  equity  balance  products  credit_card  \\\n",
       "count   2294.00 2294.00 2294.00 2294.00     0.00   2294.00      2294.00   \n",
       "mean  172080.01  865.31   41.83    0.05      NaN      1.16         0.82   \n",
       "std    33340.51   89.60   11.71    0.22      NaN      0.40         0.39   \n",
       "min   114182.00  642.00   18.00    0.00      NaN      1.00         0.00   \n",
       "25%   143091.75  871.00   33.00    0.00      NaN      1.00         1.00   \n",
       "50%   172713.50  903.00   39.00    0.00      NaN      1.00         1.00   \n",
       "75%   201554.00  922.00   49.00    0.00      NaN      1.00         1.00   \n",
       "max   229145.00  990.00   86.00    1.00      NaN      3.00         1.00   \n",
       "\n",
       "       last_activity  est_salary   churn  \n",
       "count        2294.00     2294.00 2294.00  \n",
       "mean            0.55   226397.94    0.01  \n",
       "std             0.50   199771.13    0.07  \n",
       "min             0.00    20274.03    0.00  \n",
       "25%             0.00   120418.21    0.00  \n",
       "50%             1.00   174202.80    0.00  \n",
       "75%             1.00   240070.56    0.00  \n",
       "max             1.00  1333687.36    1.00  "
      ]
     },
     "metadata": {},
     "output_type": "display_data"
    },
    {
     "data": {
      "text/html": [
       "<div>\n",
       "<style scoped>\n",
       "    .dataframe tbody tr th:only-of-type {\n",
       "        vertical-align: middle;\n",
       "    }\n",
       "\n",
       "    .dataframe tbody tr th {\n",
       "        vertical-align: top;\n",
       "    }\n",
       "\n",
       "    .dataframe thead th {\n",
       "        text-align: right;\n",
       "    }\n",
       "</style>\n",
       "<table border=\"1\" class=\"dataframe\">\n",
       "  <thead>\n",
       "    <tr style=\"text-align: right;\">\n",
       "      <th></th>\n",
       "      <th>user_id</th>\n",
       "      <th>score</th>\n",
       "      <th>age</th>\n",
       "      <th>equity</th>\n",
       "      <th>balance</th>\n",
       "      <th>products</th>\n",
       "      <th>credit_card</th>\n",
       "      <th>last_activity</th>\n",
       "      <th>est_salary</th>\n",
       "      <th>churn</th>\n",
       "    </tr>\n",
       "  </thead>\n",
       "  <tbody>\n",
       "    <tr>\n",
       "      <th>count</th>\n",
       "      <td>9999.00</td>\n",
       "      <td>9999.00</td>\n",
       "      <td>9999.00</td>\n",
       "      <td>9999.00</td>\n",
       "      <td>7705.00</td>\n",
       "      <td>9999.00</td>\n",
       "      <td>9999.00</td>\n",
       "      <td>9999.00</td>\n",
       "      <td>9999.00</td>\n",
       "      <td>9999.00</td>\n",
       "    </tr>\n",
       "    <tr>\n",
       "      <th>mean</th>\n",
       "      <td>171817.11</td>\n",
       "      <td>848.69</td>\n",
       "      <td>42.83</td>\n",
       "      <td>2.63</td>\n",
       "      <td>827794.31</td>\n",
       "      <td>1.87</td>\n",
       "      <td>0.68</td>\n",
       "      <td>0.52</td>\n",
       "      <td>147879.17</td>\n",
       "      <td>0.18</td>\n",
       "    </tr>\n",
       "    <tr>\n",
       "      <th>std</th>\n",
       "      <td>33709.07</td>\n",
       "      <td>65.44</td>\n",
       "      <td>12.12</td>\n",
       "      <td>1.98</td>\n",
       "      <td>1980614.15</td>\n",
       "      <td>0.80</td>\n",
       "      <td>0.47</td>\n",
       "      <td>0.50</td>\n",
       "      <td>139390.07</td>\n",
       "      <td>0.39</td>\n",
       "    </tr>\n",
       "    <tr>\n",
       "      <th>min</th>\n",
       "      <td>94561.00</td>\n",
       "      <td>642.00</td>\n",
       "      <td>18.00</td>\n",
       "      <td>0.00</td>\n",
       "      <td>0.00</td>\n",
       "      <td>1.00</td>\n",
       "      <td>0.00</td>\n",
       "      <td>0.00</td>\n",
       "      <td>2546.30</td>\n",
       "      <td>0.00</td>\n",
       "    </tr>\n",
       "    <tr>\n",
       "      <th>25%</th>\n",
       "      <td>142809.50</td>\n",
       "      <td>802.00</td>\n",
       "      <td>34.00</td>\n",
       "      <td>0.00</td>\n",
       "      <td>295554.16</td>\n",
       "      <td>1.00</td>\n",
       "      <td>0.00</td>\n",
       "      <td>0.00</td>\n",
       "      <td>75252.12</td>\n",
       "      <td>0.00</td>\n",
       "    </tr>\n",
       "    <tr>\n",
       "      <th>50%</th>\n",
       "      <td>172740.00</td>\n",
       "      <td>853.00</td>\n",
       "      <td>40.00</td>\n",
       "      <td>3.00</td>\n",
       "      <td>524272.20</td>\n",
       "      <td>2.00</td>\n",
       "      <td>1.00</td>\n",
       "      <td>1.00</td>\n",
       "      <td>119661.51</td>\n",
       "      <td>0.00</td>\n",
       "    </tr>\n",
       "    <tr>\n",
       "      <th>75%</th>\n",
       "      <td>201262.50</td>\n",
       "      <td>900.00</td>\n",
       "      <td>51.00</td>\n",
       "      <td>4.00</td>\n",
       "      <td>980705.85</td>\n",
       "      <td>2.00</td>\n",
       "      <td>1.00</td>\n",
       "      <td>1.00</td>\n",
       "      <td>174501.12</td>\n",
       "      <td>0.00</td>\n",
       "    </tr>\n",
       "    <tr>\n",
       "      <th>max</th>\n",
       "      <td>229145.00</td>\n",
       "      <td>1000.00</td>\n",
       "      <td>86.00</td>\n",
       "      <td>9.00</td>\n",
       "      <td>119113552.01</td>\n",
       "      <td>5.00</td>\n",
       "      <td>1.00</td>\n",
       "      <td>1.00</td>\n",
       "      <td>1395064.45</td>\n",
       "      <td>1.00</td>\n",
       "    </tr>\n",
       "  </tbody>\n",
       "</table>\n",
       "</div>"
      ],
      "text/plain": [
       "        user_id   score     age  equity      balance  products  credit_card  \\\n",
       "count   9999.00 9999.00 9999.00 9999.00      7705.00   9999.00      9999.00   \n",
       "mean  171817.11  848.69   42.83    2.63    827794.31      1.87         0.68   \n",
       "std    33709.07   65.44   12.12    1.98   1980614.15      0.80         0.47   \n",
       "min    94561.00  642.00   18.00    0.00         0.00      1.00         0.00   \n",
       "25%   142809.50  802.00   34.00    0.00    295554.16      1.00         0.00   \n",
       "50%   172740.00  853.00   40.00    3.00    524272.20      2.00         1.00   \n",
       "75%   201262.50  900.00   51.00    4.00    980705.85      2.00         1.00   \n",
       "max   229145.00 1000.00   86.00    9.00 119113552.01      5.00         1.00   \n",
       "\n",
       "       last_activity  est_salary   churn  \n",
       "count        9999.00     9999.00 9999.00  \n",
       "mean            0.52   147879.17    0.18  \n",
       "std             0.50   139390.07    0.39  \n",
       "min             0.00     2546.30    0.00  \n",
       "25%             0.00    75252.12    0.00  \n",
       "50%             1.00   119661.51    0.00  \n",
       "75%             1.00   174501.12    0.00  \n",
       "max             1.00  1395064.45    1.00  "
      ]
     },
     "metadata": {},
     "output_type": "display_data"
    }
   ],
   "source": [
    "# Вызовем метод describe и проанализируем часть датасета, содержащую пропуски:\n",
    "\n",
    "display (data[data['balance'].isna()].describe())\n",
    "\n",
    "# Сравним с результатом вызова метода describe для всего датасета:\n",
    "\n",
    "display (data.describe())"
   ]
  },
  {
   "cell_type": "markdown",
   "metadata": {},
   "source": [
    "Анализ позволяет сделать следующие выводы о пользователях, в записях о которых содержится пропуск: \n",
    "- они имеют более низкие оценки собственности;\n",
    "- они пользуются чуть меньшим числом продуктов;\n",
    "- у них чуть более высокие зарплаты."
   ]
  },
  {
   "cell_type": "code",
   "execution_count": 165,
   "metadata": {},
   "outputs": [
    {
     "data": {
      "text/plain": [
       "0    2282\n",
       "1      12\n",
       "Name: churn, dtype: int64"
      ]
     },
     "execution_count": 165,
     "metadata": {},
     "output_type": "execute_result"
    }
   ],
   "source": [
    "# Выясним, связаны ли пропуски в столбце balance с фактом оттока клиента из банка:\n",
    "\n",
    "data[data['balance'].isna()]['churn'].value_counts()"
   ]
  },
  {
   "cell_type": "markdown",
   "metadata": {},
   "source": [
    "Как мы видим, лишь в 12 случаях пропуск мог быть связан с тем, что клиент ушел из банка, так что гипотеза о том, что пропуски связаны с оттоком, не подтвердилась."
   ]
  },
  {
   "cell_type": "markdown",
   "metadata": {},
   "source": [
    "Так как нам не удалось однозначно определить природу пропусков, лучше оставить их на месте."
   ]
  },
  {
   "cell_type": "markdown",
   "metadata": {},
   "source": [
    "### Проверка на наличие дубликатов"
   ]
  },
  {
   "cell_type": "code",
   "execution_count": 166,
   "metadata": {},
   "outputs": [
    {
     "data": {
      "text/plain": [
       "1"
      ]
     },
     "execution_count": 166,
     "metadata": {},
     "output_type": "execute_result"
    }
   ],
   "source": [
    "# найдем  количестве полных дубликатов в датасете:\n",
    "\n",
    "data.duplicated().sum()"
   ]
  },
  {
   "cell_type": "code",
   "execution_count": 167,
   "metadata": {},
   "outputs": [],
   "source": [
    "# удалим строку-дубликат:\n",
    "\n",
    "data = data.drop_duplicates()"
   ]
  },
  {
   "cell_type": "markdown",
   "metadata": {},
   "source": [
    "Также мы можем отдельно проверить на наличие дубликатов столбцы, где все значения должны быть уникальными (в нашем случае это столбец user_id)."
   ]
  },
  {
   "cell_type": "code",
   "execution_count": 168,
   "metadata": {},
   "outputs": [
    {
     "name": "stdout",
     "output_type": "stream",
     "text": [
      "72\n"
     ]
    }
   ],
   "source": [
    "# найдем дубликаты в столбце user_id:\n",
    "\n",
    "print (data['user_id'].duplicated().sum())"
   ]
  },
  {
   "cell_type": "markdown",
   "metadata": {},
   "source": [
    "Обнаружилось, что в датафрейме 72 дубликата в столбце user_id. Так как речь идет менее чем об 1% данных, дубликаты можно удалить."
   ]
  },
  {
   "cell_type": "code",
   "execution_count": 169,
   "metadata": {},
   "outputs": [],
   "source": [
    "data ['user_id'] = data['user_id'].drop_duplicates().reset_index(drop=True)"
   ]
  },
  {
   "cell_type": "markdown",
   "metadata": {},
   "source": [
    "Также осуществим проверку на неявные дубликаты в столбцах с категориальными переменными:"
   ]
  },
  {
   "cell_type": "code",
   "execution_count": 170,
   "metadata": {},
   "outputs": [
    {
     "data": {
      "text/plain": [
       "array(['Рыбинск', 'Ярославль', 'Ростов'], dtype=object)"
      ]
     },
     "execution_count": 170,
     "metadata": {},
     "output_type": "execute_result"
    }
   ],
   "source": [
    "# проверим уникальные значения в столбце city\n",
    "\n",
    "data['city'].unique()"
   ]
  },
  {
   "cell_type": "code",
   "execution_count": 171,
   "metadata": {},
   "outputs": [
    {
     "data": {
      "text/plain": [
       "array(['Ж', 'М'], dtype=object)"
      ]
     },
     "execution_count": 171,
     "metadata": {},
     "output_type": "execute_result"
    }
   ],
   "source": [
    "# проверим уникальные значения в столбце gender:\n",
    "\n",
    "data['gender'].unique()"
   ]
  },
  {
   "cell_type": "markdown",
   "metadata": {},
   "source": [
    "Все в порядке: городов три, а у столбца с полом всего два значения. Теперь проверим столбцы с бинарными значениями 0 и 1:"
   ]
  },
  {
   "cell_type": "code",
   "execution_count": 172,
   "metadata": {},
   "outputs": [
    {
     "data": {
      "text/plain": [
       "array([0, 1])"
      ]
     },
     "execution_count": 172,
     "metadata": {},
     "output_type": "execute_result"
    }
   ],
   "source": [
    "# проверим уникальные значения в столбце credit_card:\n",
    "\n",
    "data ['credit_card'].unique()"
   ]
  },
  {
   "cell_type": "code",
   "execution_count": 173,
   "metadata": {},
   "outputs": [
    {
     "data": {
      "text/plain": [
       "array([1, 0])"
      ]
     },
     "execution_count": 173,
     "metadata": {},
     "output_type": "execute_result"
    }
   ],
   "source": [
    "# проверим уникальные значения в столбце last_activity:\n",
    "\n",
    "data ['last_activity'].unique()"
   ]
  },
  {
   "cell_type": "code",
   "execution_count": 174,
   "metadata": {},
   "outputs": [
    {
     "data": {
      "text/plain": [
       "array([1, 0])"
      ]
     },
     "execution_count": 174,
     "metadata": {},
     "output_type": "execute_result"
    }
   ],
   "source": [
    "# проверим уникальные значения в столбце churn:\n",
    "\n",
    "data ['churn'].unique()"
   ]
  },
  {
   "cell_type": "markdown",
   "metadata": {},
   "source": [
    "### Проверка на выбросы"
   ]
  },
  {
   "cell_type": "code",
   "execution_count": 175,
   "metadata": {},
   "outputs": [
    {
     "data": {
      "text/html": [
       "<div>\n",
       "<style scoped>\n",
       "    .dataframe tbody tr th:only-of-type {\n",
       "        vertical-align: middle;\n",
       "    }\n",
       "\n",
       "    .dataframe tbody tr th {\n",
       "        vertical-align: top;\n",
       "    }\n",
       "\n",
       "    .dataframe thead th {\n",
       "        text-align: right;\n",
       "    }\n",
       "</style>\n",
       "<table border=\"1\" class=\"dataframe\">\n",
       "  <thead>\n",
       "    <tr style=\"text-align: right;\">\n",
       "      <th></th>\n",
       "      <th>user_id</th>\n",
       "      <th>score</th>\n",
       "      <th>age</th>\n",
       "      <th>equity</th>\n",
       "      <th>balance</th>\n",
       "      <th>products</th>\n",
       "      <th>credit_card</th>\n",
       "      <th>last_activity</th>\n",
       "      <th>est_salary</th>\n",
       "      <th>churn</th>\n",
       "    </tr>\n",
       "  </thead>\n",
       "  <tbody>\n",
       "    <tr>\n",
       "      <th>count</th>\n",
       "      <td>9924.00</td>\n",
       "      <td>9998.00</td>\n",
       "      <td>9998.00</td>\n",
       "      <td>9998.00</td>\n",
       "      <td>7705.00</td>\n",
       "      <td>9998.00</td>\n",
       "      <td>9998.00</td>\n",
       "      <td>9998.00</td>\n",
       "      <td>9998.00</td>\n",
       "      <td>9998.00</td>\n",
       "    </tr>\n",
       "    <tr>\n",
       "      <th>mean</th>\n",
       "      <td>171748.65</td>\n",
       "      <td>848.68</td>\n",
       "      <td>42.83</td>\n",
       "      <td>2.63</td>\n",
       "      <td>827794.31</td>\n",
       "      <td>1.87</td>\n",
       "      <td>0.68</td>\n",
       "      <td>0.52</td>\n",
       "      <td>147855.76</td>\n",
       "      <td>0.18</td>\n",
       "    </tr>\n",
       "    <tr>\n",
       "      <th>std</th>\n",
       "      <td>33696.94</td>\n",
       "      <td>65.44</td>\n",
       "      <td>12.12</td>\n",
       "      <td>1.98</td>\n",
       "      <td>1980614.15</td>\n",
       "      <td>0.80</td>\n",
       "      <td>0.47</td>\n",
       "      <td>0.50</td>\n",
       "      <td>139377.39</td>\n",
       "      <td>0.39</td>\n",
       "    </tr>\n",
       "    <tr>\n",
       "      <th>min</th>\n",
       "      <td>94561.00</td>\n",
       "      <td>642.00</td>\n",
       "      <td>18.00</td>\n",
       "      <td>0.00</td>\n",
       "      <td>0.00</td>\n",
       "      <td>1.00</td>\n",
       "      <td>0.00</td>\n",
       "      <td>0.00</td>\n",
       "      <td>2546.30</td>\n",
       "      <td>0.00</td>\n",
       "    </tr>\n",
       "    <tr>\n",
       "      <th>25%</th>\n",
       "      <td>142730.75</td>\n",
       "      <td>802.00</td>\n",
       "      <td>34.00</td>\n",
       "      <td>0.00</td>\n",
       "      <td>295554.16</td>\n",
       "      <td>1.00</td>\n",
       "      <td>0.00</td>\n",
       "      <td>0.00</td>\n",
       "      <td>75252.07</td>\n",
       "      <td>0.00</td>\n",
       "    </tr>\n",
       "    <tr>\n",
       "      <th>50%</th>\n",
       "      <td>172658.00</td>\n",
       "      <td>853.00</td>\n",
       "      <td>40.00</td>\n",
       "      <td>3.00</td>\n",
       "      <td>524272.20</td>\n",
       "      <td>2.00</td>\n",
       "      <td>1.00</td>\n",
       "      <td>1.00</td>\n",
       "      <td>119658.10</td>\n",
       "      <td>0.00</td>\n",
       "    </tr>\n",
       "    <tr>\n",
       "      <th>75%</th>\n",
       "      <td>201163.25</td>\n",
       "      <td>900.00</td>\n",
       "      <td>51.00</td>\n",
       "      <td>4.00</td>\n",
       "      <td>980705.85</td>\n",
       "      <td>2.00</td>\n",
       "      <td>1.00</td>\n",
       "      <td>1.00</td>\n",
       "      <td>174499.81</td>\n",
       "      <td>0.00</td>\n",
       "    </tr>\n",
       "    <tr>\n",
       "      <th>max</th>\n",
       "      <td>229145.00</td>\n",
       "      <td>1000.00</td>\n",
       "      <td>86.00</td>\n",
       "      <td>9.00</td>\n",
       "      <td>119113552.01</td>\n",
       "      <td>5.00</td>\n",
       "      <td>1.00</td>\n",
       "      <td>1.00</td>\n",
       "      <td>1395064.45</td>\n",
       "      <td>1.00</td>\n",
       "    </tr>\n",
       "  </tbody>\n",
       "</table>\n",
       "</div>"
      ],
      "text/plain": [
       "        user_id   score     age  equity      balance  products  credit_card  \\\n",
       "count   9924.00 9998.00 9998.00 9998.00      7705.00   9998.00      9998.00   \n",
       "mean  171748.65  848.68   42.83    2.63    827794.31      1.87         0.68   \n",
       "std    33696.94   65.44   12.12    1.98   1980614.15      0.80         0.47   \n",
       "min    94561.00  642.00   18.00    0.00         0.00      1.00         0.00   \n",
       "25%   142730.75  802.00   34.00    0.00    295554.16      1.00         0.00   \n",
       "50%   172658.00  853.00   40.00    3.00    524272.20      2.00         1.00   \n",
       "75%   201163.25  900.00   51.00    4.00    980705.85      2.00         1.00   \n",
       "max   229145.00 1000.00   86.00    9.00 119113552.01      5.00         1.00   \n",
       "\n",
       "       last_activity  est_salary   churn  \n",
       "count        9998.00     9998.00 9998.00  \n",
       "mean            0.52   147855.76    0.18  \n",
       "std             0.50   139377.39    0.39  \n",
       "min             0.00     2546.30    0.00  \n",
       "25%             0.00    75252.07    0.00  \n",
       "50%             1.00   119658.10    0.00  \n",
       "75%             1.00   174499.81    0.00  \n",
       "max             1.00  1395064.45    1.00  "
      ]
     },
     "execution_count": 175,
     "metadata": {},
     "output_type": "execute_result"
    }
   ],
   "source": [
    "# применим метод describe для оценки разброса данных в столбцах датасета:\n",
    "\n",
    "pd.set_option(\"display.float_format\", \"{:.2f}\".format)\n",
    "data.describe()\n"
   ]
  },
  {
   "cell_type": "markdown",
   "metadata": {},
   "source": [
    "Мы видим, что в большинстве столбцов данные нормально распределены: среднее отличается от медианы незначительно, а стандартное отклонение невелико. \n",
    "\n",
    "Однако дополнительно проверим значения в столбце est_salary: в таблице выше видно, что минимальное значение существенно ниже МРОТа, чего быть не должно."
   ]
  },
  {
   "cell_type": "code",
   "execution_count": 176,
   "metadata": {},
   "outputs": [
    {
     "data": {
      "text/plain": [
       "59"
      ]
     },
     "execution_count": 176,
     "metadata": {},
     "output_type": "execute_result"
    }
   ],
   "source": [
    "# Посчитаем строки с клиентами, заработная плата которых ниже МРОТа:\n",
    "\n",
    "data[data['est_salary']<15000]['user_id'].count()"
   ]
  },
  {
   "cell_type": "markdown",
   "metadata": {},
   "source": [
    "В датасете всего 59 строк с очевидными выбросами в столбце с заработной платой. Поскольку это менее 1% от всех данных, их можно безболезненно удалить."
   ]
  },
  {
   "cell_type": "code",
   "execution_count": 177,
   "metadata": {},
   "outputs": [],
   "source": [
    "# Удалим строки с выбросами:\n",
    "\n",
    "data = data[data['est_salary']>15000]"
   ]
  },
  {
   "cell_type": "markdown",
   "metadata": {},
   "source": [
    "### Кодирование данных"
   ]
  },
  {
   "cell_type": "markdown",
   "metadata": {},
   "source": [
    "Для дальнейшего анализа нам необходимо будет кодировать некоторые столбцы, то есть перевести категориальные значения в бинарные."
   ]
  },
  {
   "cell_type": "code",
   "execution_count": 178,
   "metadata": {},
   "outputs": [
    {
     "data": {
      "text/html": [
       "<div>\n",
       "<style scoped>\n",
       "    .dataframe tbody tr th:only-of-type {\n",
       "        vertical-align: middle;\n",
       "    }\n",
       "\n",
       "    .dataframe tbody tr th {\n",
       "        vertical-align: top;\n",
       "    }\n",
       "\n",
       "    .dataframe thead th {\n",
       "        text-align: right;\n",
       "    }\n",
       "</style>\n",
       "<table border=\"1\" class=\"dataframe\">\n",
       "  <thead>\n",
       "    <tr style=\"text-align: right;\">\n",
       "      <th></th>\n",
       "      <th>user_id</th>\n",
       "      <th>score</th>\n",
       "      <th>city</th>\n",
       "      <th>gender</th>\n",
       "      <th>age</th>\n",
       "      <th>equity</th>\n",
       "      <th>balance</th>\n",
       "      <th>products</th>\n",
       "      <th>credit_card</th>\n",
       "      <th>last_activity</th>\n",
       "      <th>est_salary</th>\n",
       "      <th>churn</th>\n",
       "      <th>city_2</th>\n",
       "      <th>gender_2</th>\n",
       "    </tr>\n",
       "  </thead>\n",
       "  <tbody>\n",
       "    <tr>\n",
       "      <th>0</th>\n",
       "      <td>183012.00</td>\n",
       "      <td>850.00</td>\n",
       "      <td>Рыбинск</td>\n",
       "      <td>Ж</td>\n",
       "      <td>25</td>\n",
       "      <td>1</td>\n",
       "      <td>59214.82</td>\n",
       "      <td>2</td>\n",
       "      <td>0</td>\n",
       "      <td>1</td>\n",
       "      <td>75719.14</td>\n",
       "      <td>1</td>\n",
       "      <td>Рыбинск</td>\n",
       "      <td>Ж</td>\n",
       "    </tr>\n",
       "    <tr>\n",
       "      <th>1</th>\n",
       "      <td>146556.00</td>\n",
       "      <td>861.00</td>\n",
       "      <td>Рыбинск</td>\n",
       "      <td>Ж</td>\n",
       "      <td>37</td>\n",
       "      <td>5</td>\n",
       "      <td>850594.33</td>\n",
       "      <td>3</td>\n",
       "      <td>1</td>\n",
       "      <td>0</td>\n",
       "      <td>86621.77</td>\n",
       "      <td>0</td>\n",
       "      <td>Рыбинск</td>\n",
       "      <td>Ж</td>\n",
       "    </tr>\n",
       "    <tr>\n",
       "      <th>2</th>\n",
       "      <td>120722.00</td>\n",
       "      <td>892.00</td>\n",
       "      <td>Рыбинск</td>\n",
       "      <td>Ж</td>\n",
       "      <td>30</td>\n",
       "      <td>0</td>\n",
       "      <td>NaN</td>\n",
       "      <td>1</td>\n",
       "      <td>1</td>\n",
       "      <td>1</td>\n",
       "      <td>107683.34</td>\n",
       "      <td>0</td>\n",
       "      <td>Рыбинск</td>\n",
       "      <td>Ж</td>\n",
       "    </tr>\n",
       "    <tr>\n",
       "      <th>3</th>\n",
       "      <td>225363.00</td>\n",
       "      <td>866.00</td>\n",
       "      <td>Ярославль</td>\n",
       "      <td>Ж</td>\n",
       "      <td>51</td>\n",
       "      <td>5</td>\n",
       "      <td>1524746.26</td>\n",
       "      <td>2</td>\n",
       "      <td>0</td>\n",
       "      <td>1</td>\n",
       "      <td>174423.53</td>\n",
       "      <td>1</td>\n",
       "      <td>Ярославль</td>\n",
       "      <td>Ж</td>\n",
       "    </tr>\n",
       "    <tr>\n",
       "      <th>4</th>\n",
       "      <td>157978.00</td>\n",
       "      <td>730.00</td>\n",
       "      <td>Ярославль</td>\n",
       "      <td>М</td>\n",
       "      <td>34</td>\n",
       "      <td>5</td>\n",
       "      <td>174.00</td>\n",
       "      <td>1</td>\n",
       "      <td>1</td>\n",
       "      <td>0</td>\n",
       "      <td>67353.16</td>\n",
       "      <td>1</td>\n",
       "      <td>Ярославль</td>\n",
       "      <td>М</td>\n",
       "    </tr>\n",
       "  </tbody>\n",
       "</table>\n",
       "</div>"
      ],
      "text/plain": [
       "    user_id  score       city gender  age  equity    balance  products  \\\n",
       "0 183012.00 850.00    Рыбинск      Ж   25       1   59214.82         2   \n",
       "1 146556.00 861.00    Рыбинск      Ж   37       5  850594.33         3   \n",
       "2 120722.00 892.00    Рыбинск      Ж   30       0        NaN         1   \n",
       "3 225363.00 866.00  Ярославль      Ж   51       5 1524746.26         2   \n",
       "4 157978.00 730.00  Ярославль      М   34       5     174.00         1   \n",
       "\n",
       "   credit_card  last_activity  est_salary  churn     city_2 gender_2  \n",
       "0            0              1    75719.14      1    Рыбинск        Ж  \n",
       "1            1              0    86621.77      0    Рыбинск        Ж  \n",
       "2            1              1   107683.34      0    Рыбинск        Ж  \n",
       "3            0              1   174423.53      1  Ярославль        Ж  \n",
       "4            1              0    67353.16      1  Ярославль        М  "
      ]
     },
     "execution_count": 178,
     "metadata": {},
     "output_type": "execute_result"
    }
   ],
   "source": [
    "# создадим копии столбцов city и gender:\n",
    "\n",
    "data['city_2']=data['city']\n",
    "data['gender_2']=data['gender']\n",
    "data.head()"
   ]
  },
  {
   "cell_type": "code",
   "execution_count": 179,
   "metadata": {
    "scrolled": false
   },
   "outputs": [
    {
     "data": {
      "text/html": [
       "<div>\n",
       "<style scoped>\n",
       "    .dataframe tbody tr th:only-of-type {\n",
       "        vertical-align: middle;\n",
       "    }\n",
       "\n",
       "    .dataframe tbody tr th {\n",
       "        vertical-align: top;\n",
       "    }\n",
       "\n",
       "    .dataframe thead th {\n",
       "        text-align: right;\n",
       "    }\n",
       "</style>\n",
       "<table border=\"1\" class=\"dataframe\">\n",
       "  <thead>\n",
       "    <tr style=\"text-align: right;\">\n",
       "      <th></th>\n",
       "      <th>user_id</th>\n",
       "      <th>score</th>\n",
       "      <th>city</th>\n",
       "      <th>gender</th>\n",
       "      <th>age</th>\n",
       "      <th>equity</th>\n",
       "      <th>balance</th>\n",
       "      <th>products</th>\n",
       "      <th>credit_card</th>\n",
       "      <th>last_activity</th>\n",
       "      <th>est_salary</th>\n",
       "      <th>churn</th>\n",
       "      <th>Ростов</th>\n",
       "      <th>Рыбинск</th>\n",
       "      <th>Ярославль</th>\n",
       "      <th>female</th>\n",
       "      <th>male</th>\n",
       "    </tr>\n",
       "  </thead>\n",
       "  <tbody>\n",
       "    <tr>\n",
       "      <th>0</th>\n",
       "      <td>183012.00</td>\n",
       "      <td>850.00</td>\n",
       "      <td>Рыбинск</td>\n",
       "      <td>Ж</td>\n",
       "      <td>25</td>\n",
       "      <td>1</td>\n",
       "      <td>59214.82</td>\n",
       "      <td>2</td>\n",
       "      <td>0</td>\n",
       "      <td>1</td>\n",
       "      <td>75719.14</td>\n",
       "      <td>1</td>\n",
       "      <td>0</td>\n",
       "      <td>1</td>\n",
       "      <td>0</td>\n",
       "      <td>1</td>\n",
       "      <td>0</td>\n",
       "    </tr>\n",
       "    <tr>\n",
       "      <th>1</th>\n",
       "      <td>146556.00</td>\n",
       "      <td>861.00</td>\n",
       "      <td>Рыбинск</td>\n",
       "      <td>Ж</td>\n",
       "      <td>37</td>\n",
       "      <td>5</td>\n",
       "      <td>850594.33</td>\n",
       "      <td>3</td>\n",
       "      <td>1</td>\n",
       "      <td>0</td>\n",
       "      <td>86621.77</td>\n",
       "      <td>0</td>\n",
       "      <td>0</td>\n",
       "      <td>1</td>\n",
       "      <td>0</td>\n",
       "      <td>1</td>\n",
       "      <td>0</td>\n",
       "    </tr>\n",
       "    <tr>\n",
       "      <th>2</th>\n",
       "      <td>120722.00</td>\n",
       "      <td>892.00</td>\n",
       "      <td>Рыбинск</td>\n",
       "      <td>Ж</td>\n",
       "      <td>30</td>\n",
       "      <td>0</td>\n",
       "      <td>NaN</td>\n",
       "      <td>1</td>\n",
       "      <td>1</td>\n",
       "      <td>1</td>\n",
       "      <td>107683.34</td>\n",
       "      <td>0</td>\n",
       "      <td>0</td>\n",
       "      <td>1</td>\n",
       "      <td>0</td>\n",
       "      <td>1</td>\n",
       "      <td>0</td>\n",
       "    </tr>\n",
       "    <tr>\n",
       "      <th>3</th>\n",
       "      <td>225363.00</td>\n",
       "      <td>866.00</td>\n",
       "      <td>Ярославль</td>\n",
       "      <td>Ж</td>\n",
       "      <td>51</td>\n",
       "      <td>5</td>\n",
       "      <td>1524746.26</td>\n",
       "      <td>2</td>\n",
       "      <td>0</td>\n",
       "      <td>1</td>\n",
       "      <td>174423.53</td>\n",
       "      <td>1</td>\n",
       "      <td>0</td>\n",
       "      <td>0</td>\n",
       "      <td>1</td>\n",
       "      <td>1</td>\n",
       "      <td>0</td>\n",
       "    </tr>\n",
       "    <tr>\n",
       "      <th>4</th>\n",
       "      <td>157978.00</td>\n",
       "      <td>730.00</td>\n",
       "      <td>Ярославль</td>\n",
       "      <td>М</td>\n",
       "      <td>34</td>\n",
       "      <td>5</td>\n",
       "      <td>174.00</td>\n",
       "      <td>1</td>\n",
       "      <td>1</td>\n",
       "      <td>0</td>\n",
       "      <td>67353.16</td>\n",
       "      <td>1</td>\n",
       "      <td>0</td>\n",
       "      <td>0</td>\n",
       "      <td>1</td>\n",
       "      <td>0</td>\n",
       "      <td>1</td>\n",
       "    </tr>\n",
       "  </tbody>\n",
       "</table>\n",
       "</div>"
      ],
      "text/plain": [
       "    user_id  score       city gender  age  equity    balance  products  \\\n",
       "0 183012.00 850.00    Рыбинск      Ж   25       1   59214.82         2   \n",
       "1 146556.00 861.00    Рыбинск      Ж   37       5  850594.33         3   \n",
       "2 120722.00 892.00    Рыбинск      Ж   30       0        NaN         1   \n",
       "3 225363.00 866.00  Ярославль      Ж   51       5 1524746.26         2   \n",
       "4 157978.00 730.00  Ярославль      М   34       5     174.00         1   \n",
       "\n",
       "   credit_card  last_activity  est_salary  churn  Ростов  Рыбинск  Ярославль  \\\n",
       "0            0              1    75719.14      1       0        1          0   \n",
       "1            1              0    86621.77      0       0        1          0   \n",
       "2            1              1   107683.34      0       0        1          0   \n",
       "3            0              1   174423.53      1       0        0          1   \n",
       "4            1              0    67353.16      1       0        0          1   \n",
       "\n",
       "   female  male  \n",
       "0       1     0  \n",
       "1       1     0  \n",
       "2       1     0  \n",
       "3       1     0  \n",
       "4       0     1  "
      ]
     },
     "metadata": {},
     "output_type": "display_data"
    }
   ],
   "source": [
    "# кодируем данные в столбцах city_2 и gender_2:\n",
    "\n",
    "data = pd.get_dummies(data, columns = ['city_2', 'gender_2'])\n",
    "data = data.rename (\n",
    "    columns = ({\n",
    "        'city_2_Ростов':'Ростов', 'city_2_Рыбинск':'Рыбинск','city_2_Ярославль':'Ярославль', \n",
    "        'gender_2_Ж':'female', 'gender_2_М':'male'}))\n",
    "display (data.head())"
   ]
  },
  {
   "cell_type": "markdown",
   "metadata": {},
   "source": [
    "### Категоризация данных"
   ]
  },
  {
   "cell_type": "markdown",
   "metadata": {},
   "source": [
    "Для столбца с данными о возрасте применим категоризацию - разделим пользователей на группы и в дальнейшем будем сравнивать их по группам."
   ]
  },
  {
   "cell_type": "code",
   "execution_count": 180,
   "metadata": {},
   "outputs": [
    {
     "data": {
      "image/png": "[encoded data removed]",
      "text/plain": [
       "<Figure size 864x576 with 1 Axes>"
      ]
     },
     "metadata": {
      "needs_background": "light"
     },
     "output_type": "display_data"
    }
   ],
   "source": [
    "# Посмотрим распределение отточных клиентов по возрасту:\n",
    "\n",
    "data[data['churn']==1]['age'].value_counts().reset_index().rename(columns={'index':'age', 'age':'count'}).\\\n",
    "sort_values(by='age').plot(kind='bar', figsize = (12,8), x = 'age', y = 'count');"
   ]
  },
  {
   "cell_type": "markdown",
   "metadata": {},
   "source": [
    "Теперь мы можем выделить возрастные группы с пользователями, имеющим схожие паттерны оттока:\n",
    "1) от 18 до 24 лет;  \n",
    "2) от 25 до 45 лет;  \n",
    "3) от 46 до 62 лет;  \n",
    "4) 63 года и старше."
   ]
  },
  {
   "cell_type": "code",
   "execution_count": 181,
   "metadata": {},
   "outputs": [],
   "source": [
    "# создадим функцию age_group для распределения клиентов по возрастным группам:\n",
    "\n",
    "def age_group(age):\n",
    "    if 25 > age >= 18:\n",
    "        return '18-24'\n",
    "    if 45 >= age >= 25:\n",
    "        return '25-45'\n",
    "    if 62 >= age >= 46:\n",
    "        return '46-62'\n",
    "    if 63 <= age:\n",
    "        return '63+'   "
   ]
  },
  {
   "cell_type": "code",
   "execution_count": 182,
   "metadata": {},
   "outputs": [
    {
     "data": {
      "text/html": [
       "<div>\n",
       "<style scoped>\n",
       "    .dataframe tbody tr th:only-of-type {\n",
       "        vertical-align: middle;\n",
       "    }\n",
       "\n",
       "    .dataframe tbody tr th {\n",
       "        vertical-align: top;\n",
       "    }\n",
       "\n",
       "    .dataframe thead th {\n",
       "        text-align: right;\n",
       "    }\n",
       "</style>\n",
       "<table border=\"1\" class=\"dataframe\">\n",
       "  <thead>\n",
       "    <tr style=\"text-align: right;\">\n",
       "      <th></th>\n",
       "      <th>user_id</th>\n",
       "      <th>score</th>\n",
       "      <th>city</th>\n",
       "      <th>gender</th>\n",
       "      <th>age</th>\n",
       "      <th>equity</th>\n",
       "      <th>balance</th>\n",
       "      <th>products</th>\n",
       "      <th>credit_card</th>\n",
       "      <th>last_activity</th>\n",
       "      <th>est_salary</th>\n",
       "      <th>churn</th>\n",
       "      <th>Ростов</th>\n",
       "      <th>Рыбинск</th>\n",
       "      <th>Ярославль</th>\n",
       "      <th>female</th>\n",
       "      <th>male</th>\n",
       "      <th>age_group</th>\n",
       "    </tr>\n",
       "  </thead>\n",
       "  <tbody>\n",
       "    <tr>\n",
       "      <th>0</th>\n",
       "      <td>183012.00</td>\n",
       "      <td>850.00</td>\n",
       "      <td>Рыбинск</td>\n",
       "      <td>Ж</td>\n",
       "      <td>25</td>\n",
       "      <td>1</td>\n",
       "      <td>59214.82</td>\n",
       "      <td>2</td>\n",
       "      <td>0</td>\n",
       "      <td>1</td>\n",
       "      <td>75719.14</td>\n",
       "      <td>1</td>\n",
       "      <td>0</td>\n",
       "      <td>1</td>\n",
       "      <td>0</td>\n",
       "      <td>1</td>\n",
       "      <td>0</td>\n",
       "      <td>25-45</td>\n",
       "    </tr>\n",
       "    <tr>\n",
       "      <th>1</th>\n",
       "      <td>146556.00</td>\n",
       "      <td>861.00</td>\n",
       "      <td>Рыбинск</td>\n",
       "      <td>Ж</td>\n",
       "      <td>37</td>\n",
       "      <td>5</td>\n",
       "      <td>850594.33</td>\n",
       "      <td>3</td>\n",
       "      <td>1</td>\n",
       "      <td>0</td>\n",
       "      <td>86621.77</td>\n",
       "      <td>0</td>\n",
       "      <td>0</td>\n",
       "      <td>1</td>\n",
       "      <td>0</td>\n",
       "      <td>1</td>\n",
       "      <td>0</td>\n",
       "      <td>25-45</td>\n",
       "    </tr>\n",
       "    <tr>\n",
       "      <th>2</th>\n",
       "      <td>120722.00</td>\n",
       "      <td>892.00</td>\n",
       "      <td>Рыбинск</td>\n",
       "      <td>Ж</td>\n",
       "      <td>30</td>\n",
       "      <td>0</td>\n",
       "      <td>NaN</td>\n",
       "      <td>1</td>\n",
       "      <td>1</td>\n",
       "      <td>1</td>\n",
       "      <td>107683.34</td>\n",
       "      <td>0</td>\n",
       "      <td>0</td>\n",
       "      <td>1</td>\n",
       "      <td>0</td>\n",
       "      <td>1</td>\n",
       "      <td>0</td>\n",
       "      <td>25-45</td>\n",
       "    </tr>\n",
       "    <tr>\n",
       "      <th>3</th>\n",
       "      <td>225363.00</td>\n",
       "      <td>866.00</td>\n",
       "      <td>Ярославль</td>\n",
       "      <td>Ж</td>\n",
       "      <td>51</td>\n",
       "      <td>5</td>\n",
       "      <td>1524746.26</td>\n",
       "      <td>2</td>\n",
       "      <td>0</td>\n",
       "      <td>1</td>\n",
       "      <td>174423.53</td>\n",
       "      <td>1</td>\n",
       "      <td>0</td>\n",
       "      <td>0</td>\n",
       "      <td>1</td>\n",
       "      <td>1</td>\n",
       "      <td>0</td>\n",
       "      <td>46-62</td>\n",
       "    </tr>\n",
       "    <tr>\n",
       "      <th>4</th>\n",
       "      <td>157978.00</td>\n",
       "      <td>730.00</td>\n",
       "      <td>Ярославль</td>\n",
       "      <td>М</td>\n",
       "      <td>34</td>\n",
       "      <td>5</td>\n",
       "      <td>174.00</td>\n",
       "      <td>1</td>\n",
       "      <td>1</td>\n",
       "      <td>0</td>\n",
       "      <td>67353.16</td>\n",
       "      <td>1</td>\n",
       "      <td>0</td>\n",
       "      <td>0</td>\n",
       "      <td>1</td>\n",
       "      <td>0</td>\n",
       "      <td>1</td>\n",
       "      <td>25-45</td>\n",
       "    </tr>\n",
       "  </tbody>\n",
       "</table>\n",
       "</div>"
      ],
      "text/plain": [
       "    user_id  score       city gender  age  equity    balance  products  \\\n",
       "0 183012.00 850.00    Рыбинск      Ж   25       1   59214.82         2   \n",
       "1 146556.00 861.00    Рыбинск      Ж   37       5  850594.33         3   \n",
       "2 120722.00 892.00    Рыбинск      Ж   30       0        NaN         1   \n",
       "3 225363.00 866.00  Ярославль      Ж   51       5 1524746.26         2   \n",
       "4 157978.00 730.00  Ярославль      М   34       5     174.00         1   \n",
       "\n",
       "   credit_card  last_activity  est_salary  churn  Ростов  Рыбинск  Ярославль  \\\n",
       "0            0              1    75719.14      1       0        1          0   \n",
       "1            1              0    86621.77      0       0        1          0   \n",
       "2            1              1   107683.34      0       0        1          0   \n",
       "3            0              1   174423.53      1       0        0          1   \n",
       "4            1              0    67353.16      1       0        0          1   \n",
       "\n",
       "   female  male age_group  \n",
       "0       1     0     25-45  \n",
       "1       1     0     25-45  \n",
       "2       1     0     25-45  \n",
       "3       1     0     46-62  \n",
       "4       0     1     25-45  "
      ]
     },
     "metadata": {},
     "output_type": "display_data"
    }
   ],
   "source": [
    "# применим функцию age_group и добавим новый столбец\n",
    "\n",
    "data['age_group'] = data['age'].apply (age_group)\n",
    "display (data.head())"
   ]
  },
  {
   "cell_type": "markdown",
   "metadata": {},
   "source": [
    "Полученные категориальные значения также необходимо кодировать, чтобы получилось рассчитать корреляцию:"
   ]
  },
  {
   "cell_type": "code",
   "execution_count": 183,
   "metadata": {},
   "outputs": [
    {
     "data": {
      "text/html": [
       "<div>\n",
       "<style scoped>\n",
       "    .dataframe tbody tr th:only-of-type {\n",
       "        vertical-align: middle;\n",
       "    }\n",
       "\n",
       "    .dataframe tbody tr th {\n",
       "        vertical-align: top;\n",
       "    }\n",
       "\n",
       "    .dataframe thead th {\n",
       "        text-align: right;\n",
       "    }\n",
       "</style>\n",
       "<table border=\"1\" class=\"dataframe\">\n",
       "  <thead>\n",
       "    <tr style=\"text-align: right;\">\n",
       "      <th></th>\n",
       "      <th>user_id</th>\n",
       "      <th>score</th>\n",
       "      <th>city</th>\n",
       "      <th>gender</th>\n",
       "      <th>age</th>\n",
       "      <th>equity</th>\n",
       "      <th>balance</th>\n",
       "      <th>products</th>\n",
       "      <th>credit_card</th>\n",
       "      <th>last_activity</th>\n",
       "      <th>est_salary</th>\n",
       "      <th>churn</th>\n",
       "      <th>Ростов</th>\n",
       "      <th>Рыбинск</th>\n",
       "      <th>Ярославль</th>\n",
       "      <th>female</th>\n",
       "      <th>male</th>\n",
       "      <th>age_group</th>\n",
       "      <th>age_group_2</th>\n",
       "    </tr>\n",
       "  </thead>\n",
       "  <tbody>\n",
       "    <tr>\n",
       "      <th>0</th>\n",
       "      <td>183012.00</td>\n",
       "      <td>850.00</td>\n",
       "      <td>Рыбинск</td>\n",
       "      <td>Ж</td>\n",
       "      <td>25</td>\n",
       "      <td>1</td>\n",
       "      <td>59214.82</td>\n",
       "      <td>2</td>\n",
       "      <td>0</td>\n",
       "      <td>1</td>\n",
       "      <td>75719.14</td>\n",
       "      <td>1</td>\n",
       "      <td>0</td>\n",
       "      <td>1</td>\n",
       "      <td>0</td>\n",
       "      <td>1</td>\n",
       "      <td>0</td>\n",
       "      <td>25-45</td>\n",
       "      <td>25-45</td>\n",
       "    </tr>\n",
       "    <tr>\n",
       "      <th>1</th>\n",
       "      <td>146556.00</td>\n",
       "      <td>861.00</td>\n",
       "      <td>Рыбинск</td>\n",
       "      <td>Ж</td>\n",
       "      <td>37</td>\n",
       "      <td>5</td>\n",
       "      <td>850594.33</td>\n",
       "      <td>3</td>\n",
       "      <td>1</td>\n",
       "      <td>0</td>\n",
       "      <td>86621.77</td>\n",
       "      <td>0</td>\n",
       "      <td>0</td>\n",
       "      <td>1</td>\n",
       "      <td>0</td>\n",
       "      <td>1</td>\n",
       "      <td>0</td>\n",
       "      <td>25-45</td>\n",
       "      <td>25-45</td>\n",
       "    </tr>\n",
       "    <tr>\n",
       "      <th>2</th>\n",
       "      <td>120722.00</td>\n",
       "      <td>892.00</td>\n",
       "      <td>Рыбинск</td>\n",
       "      <td>Ж</td>\n",
       "      <td>30</td>\n",
       "      <td>0</td>\n",
       "      <td>NaN</td>\n",
       "      <td>1</td>\n",
       "      <td>1</td>\n",
       "      <td>1</td>\n",
       "      <td>107683.34</td>\n",
       "      <td>0</td>\n",
       "      <td>0</td>\n",
       "      <td>1</td>\n",
       "      <td>0</td>\n",
       "      <td>1</td>\n",
       "      <td>0</td>\n",
       "      <td>25-45</td>\n",
       "      <td>25-45</td>\n",
       "    </tr>\n",
       "    <tr>\n",
       "      <th>3</th>\n",
       "      <td>225363.00</td>\n",
       "      <td>866.00</td>\n",
       "      <td>Ярославль</td>\n",
       "      <td>Ж</td>\n",
       "      <td>51</td>\n",
       "      <td>5</td>\n",
       "      <td>1524746.26</td>\n",
       "      <td>2</td>\n",
       "      <td>0</td>\n",
       "      <td>1</td>\n",
       "      <td>174423.53</td>\n",
       "      <td>1</td>\n",
       "      <td>0</td>\n",
       "      <td>0</td>\n",
       "      <td>1</td>\n",
       "      <td>1</td>\n",
       "      <td>0</td>\n",
       "      <td>46-62</td>\n",
       "      <td>46-62</td>\n",
       "    </tr>\n",
       "    <tr>\n",
       "      <th>4</th>\n",
       "      <td>157978.00</td>\n",
       "      <td>730.00</td>\n",
       "      <td>Ярославль</td>\n",
       "      <td>М</td>\n",
       "      <td>34</td>\n",
       "      <td>5</td>\n",
       "      <td>174.00</td>\n",
       "      <td>1</td>\n",
       "      <td>1</td>\n",
       "      <td>0</td>\n",
       "      <td>67353.16</td>\n",
       "      <td>1</td>\n",
       "      <td>0</td>\n",
       "      <td>0</td>\n",
       "      <td>1</td>\n",
       "      <td>0</td>\n",
       "      <td>1</td>\n",
       "      <td>25-45</td>\n",
       "      <td>25-45</td>\n",
       "    </tr>\n",
       "  </tbody>\n",
       "</table>\n",
       "</div>"
      ],
      "text/plain": [
       "    user_id  score       city gender  age  equity    balance  products  \\\n",
       "0 183012.00 850.00    Рыбинск      Ж   25       1   59214.82         2   \n",
       "1 146556.00 861.00    Рыбинск      Ж   37       5  850594.33         3   \n",
       "2 120722.00 892.00    Рыбинск      Ж   30       0        NaN         1   \n",
       "3 225363.00 866.00  Ярославль      Ж   51       5 1524746.26         2   \n",
       "4 157978.00 730.00  Ярославль      М   34       5     174.00         1   \n",
       "\n",
       "   credit_card  last_activity  est_salary  churn  Ростов  Рыбинск  Ярославль  \\\n",
       "0            0              1    75719.14      1       0        1          0   \n",
       "1            1              0    86621.77      0       0        1          0   \n",
       "2            1              1   107683.34      0       0        1          0   \n",
       "3            0              1   174423.53      1       0        0          1   \n",
       "4            1              0    67353.16      1       0        0          1   \n",
       "\n",
       "   female  male age_group age_group_2  \n",
       "0       1     0     25-45       25-45  \n",
       "1       1     0     25-45       25-45  \n",
       "2       1     0     25-45       25-45  \n",
       "3       1     0     46-62       46-62  \n",
       "4       0     1     25-45       25-45  "
      ]
     },
     "metadata": {},
     "output_type": "display_data"
    }
   ],
   "source": [
    "# создадим копию столбца age_group:\n",
    "\n",
    "data['age_group_2']=data['age_group']\n",
    "display (data.head())"
   ]
  },
  {
   "cell_type": "code",
   "execution_count": 184,
   "metadata": {},
   "outputs": [
    {
     "data": {
      "text/html": [
       "<div>\n",
       "<style scoped>\n",
       "    .dataframe tbody tr th:only-of-type {\n",
       "        vertical-align: middle;\n",
       "    }\n",
       "\n",
       "    .dataframe tbody tr th {\n",
       "        vertical-align: top;\n",
       "    }\n",
       "\n",
       "    .dataframe thead th {\n",
       "        text-align: right;\n",
       "    }\n",
       "</style>\n",
       "<table border=\"1\" class=\"dataframe\">\n",
       "  <thead>\n",
       "    <tr style=\"text-align: right;\">\n",
       "      <th></th>\n",
       "      <th>user_id</th>\n",
       "      <th>score</th>\n",
       "      <th>city</th>\n",
       "      <th>gender</th>\n",
       "      <th>age</th>\n",
       "      <th>equity</th>\n",
       "      <th>balance</th>\n",
       "      <th>products</th>\n",
       "      <th>credit_card</th>\n",
       "      <th>last_activity</th>\n",
       "      <th>...</th>\n",
       "      <th>Ростов</th>\n",
       "      <th>Рыбинск</th>\n",
       "      <th>Ярославль</th>\n",
       "      <th>female</th>\n",
       "      <th>male</th>\n",
       "      <th>age_group</th>\n",
       "      <th>18-24</th>\n",
       "      <th>25-45</th>\n",
       "      <th>46-62</th>\n",
       "      <th>63+</th>\n",
       "    </tr>\n",
       "  </thead>\n",
       "  <tbody>\n",
       "    <tr>\n",
       "      <th>0</th>\n",
       "      <td>183012.00</td>\n",
       "      <td>850.00</td>\n",
       "      <td>Рыбинск</td>\n",
       "      <td>Ж</td>\n",
       "      <td>25</td>\n",
       "      <td>1</td>\n",
       "      <td>59214.82</td>\n",
       "      <td>2</td>\n",
       "      <td>0</td>\n",
       "      <td>1</td>\n",
       "      <td>...</td>\n",
       "      <td>0</td>\n",
       "      <td>1</td>\n",
       "      <td>0</td>\n",
       "      <td>1</td>\n",
       "      <td>0</td>\n",
       "      <td>25-45</td>\n",
       "      <td>0</td>\n",
       "      <td>1</td>\n",
       "      <td>0</td>\n",
       "      <td>0</td>\n",
       "    </tr>\n",
       "    <tr>\n",
       "      <th>1</th>\n",
       "      <td>146556.00</td>\n",
       "      <td>861.00</td>\n",
       "      <td>Рыбинск</td>\n",
       "      <td>Ж</td>\n",
       "      <td>37</td>\n",
       "      <td>5</td>\n",
       "      <td>850594.33</td>\n",
       "      <td>3</td>\n",
       "      <td>1</td>\n",
       "      <td>0</td>\n",
       "      <td>...</td>\n",
       "      <td>0</td>\n",
       "      <td>1</td>\n",
       "      <td>0</td>\n",
       "      <td>1</td>\n",
       "      <td>0</td>\n",
       "      <td>25-45</td>\n",
       "      <td>0</td>\n",
       "      <td>1</td>\n",
       "      <td>0</td>\n",
       "      <td>0</td>\n",
       "    </tr>\n",
       "    <tr>\n",
       "      <th>2</th>\n",
       "      <td>120722.00</td>\n",
       "      <td>892.00</td>\n",
       "      <td>Рыбинск</td>\n",
       "      <td>Ж</td>\n",
       "      <td>30</td>\n",
       "      <td>0</td>\n",
       "      <td>NaN</td>\n",
       "      <td>1</td>\n",
       "      <td>1</td>\n",
       "      <td>1</td>\n",
       "      <td>...</td>\n",
       "      <td>0</td>\n",
       "      <td>1</td>\n",
       "      <td>0</td>\n",
       "      <td>1</td>\n",
       "      <td>0</td>\n",
       "      <td>25-45</td>\n",
       "      <td>0</td>\n",
       "      <td>1</td>\n",
       "      <td>0</td>\n",
       "      <td>0</td>\n",
       "    </tr>\n",
       "    <tr>\n",
       "      <th>3</th>\n",
       "      <td>225363.00</td>\n",
       "      <td>866.00</td>\n",
       "      <td>Ярославль</td>\n",
       "      <td>Ж</td>\n",
       "      <td>51</td>\n",
       "      <td>5</td>\n",
       "      <td>1524746.26</td>\n",
       "      <td>2</td>\n",
       "      <td>0</td>\n",
       "      <td>1</td>\n",
       "      <td>...</td>\n",
       "      <td>0</td>\n",
       "      <td>0</td>\n",
       "      <td>1</td>\n",
       "      <td>1</td>\n",
       "      <td>0</td>\n",
       "      <td>46-62</td>\n",
       "      <td>0</td>\n",
       "      <td>0</td>\n",
       "      <td>1</td>\n",
       "      <td>0</td>\n",
       "    </tr>\n",
       "    <tr>\n",
       "      <th>4</th>\n",
       "      <td>157978.00</td>\n",
       "      <td>730.00</td>\n",
       "      <td>Ярославль</td>\n",
       "      <td>М</td>\n",
       "      <td>34</td>\n",
       "      <td>5</td>\n",
       "      <td>174.00</td>\n",
       "      <td>1</td>\n",
       "      <td>1</td>\n",
       "      <td>0</td>\n",
       "      <td>...</td>\n",
       "      <td>0</td>\n",
       "      <td>0</td>\n",
       "      <td>1</td>\n",
       "      <td>0</td>\n",
       "      <td>1</td>\n",
       "      <td>25-45</td>\n",
       "      <td>0</td>\n",
       "      <td>1</td>\n",
       "      <td>0</td>\n",
       "      <td>0</td>\n",
       "    </tr>\n",
       "  </tbody>\n",
       "</table>\n",
       "<p>5 rows × 22 columns</p>\n",
       "</div>"
      ],
      "text/plain": [
       "    user_id  score       city gender  age  equity    balance  products  \\\n",
       "0 183012.00 850.00    Рыбинск      Ж   25       1   59214.82         2   \n",
       "1 146556.00 861.00    Рыбинск      Ж   37       5  850594.33         3   \n",
       "2 120722.00 892.00    Рыбинск      Ж   30       0        NaN         1   \n",
       "3 225363.00 866.00  Ярославль      Ж   51       5 1524746.26         2   \n",
       "4 157978.00 730.00  Ярославль      М   34       5     174.00         1   \n",
       "\n",
       "   credit_card  last_activity  ...  Ростов  Рыбинск  Ярославль  female  male  \\\n",
       "0            0              1  ...       0        1          0       1     0   \n",
       "1            1              0  ...       0        1          0       1     0   \n",
       "2            1              1  ...       0        1          0       1     0   \n",
       "3            0              1  ...       0        0          1       1     0   \n",
       "4            1              0  ...       0        0          1       0     1   \n",
       "\n",
       "   age_group  18-24 25-45  46-62  63+  \n",
       "0      25-45      0     1      0    0  \n",
       "1      25-45      0     1      0    0  \n",
       "2      25-45      0     1      0    0  \n",
       "3      46-62      0     0      1    0  \n",
       "4      25-45      0     1      0    0  \n",
       "\n",
       "[5 rows x 22 columns]"
      ]
     },
     "metadata": {},
     "output_type": "display_data"
    }
   ],
   "source": [
    "# кодируем данные в столбце age_group_2:\n",
    "\n",
    "data = pd.get_dummies(data, columns = ['age_group_2'])\n",
    "data = data.rename (columns = ({\n",
    "    'age_group_2_18-24':'18-24', 'age_group_2_25-45':'25-45','age_group_2_46-62':'46-62', \n",
    "    'age_group_2_63+':'63+'}))\n",
    "display (data.head())"
   ]
  },
  {
   "cell_type": "markdown",
   "metadata": {},
   "source": [
    "## Исследовательский анализ данных"
   ]
  },
  {
   "cell_type": "markdown",
   "metadata": {},
   "source": [
    "### Анализ отточных клиентов в разрезе различных параметров"
   ]
  },
  {
   "cell_type": "markdown",
   "metadata": {},
   "source": [
    "Для начала проанализируем, как отток клиентов коррелирует с другими параметрами, представленными в датафрейме:"
   ]
  },
  {
   "cell_type": "code",
   "execution_count": 185,
   "metadata": {
    "scrolled": false
   },
   "outputs": [
    {
     "data": {
      "image/png": "[encoded data removed]",
      "text/plain": [
       "<Figure size 1152x576 with 2 Axes>"
      ]
     },
     "metadata": {
      "needs_background": "light"
     },
     "output_type": "display_data"
    }
   ],
   "source": [
    "# вызовем метод corr(), чтобы найти коэффициент корреляции для всех столбцов, и построим тепловую карту:\n",
    "\n",
    "plt.figure(figsize=(16,8))\n",
    "sns.heatmap (data.corr(), annot=True, vmin=-1, vmax=1, center= 0, cmap= 'coolwarm', linewidths=1);"
   ]
  },
  {
   "cell_type": "markdown",
   "metadata": {},
   "source": [
    "По таблице видно, что наибольшая корреляция с показателем оттока клиентов у таких параметров как: \n",
    "- оценка объектов собственности клиента (столбец equity), \n",
    "- скоринговый рейтинг клиента (столбец score),\n",
    "- количество продуктов, которыми пользуется клиент (столбец products), \n",
    "- наличие кредитной карты (столбец credit_card),\n",
    "- активность пользователя (столбец last_activity),\n",
    "- пол пользователя (столбцы  female и male),\n",
    "- возраст пользователя.\n",
    "\n",
    "Рассмотрим эти параметры по отдельности."
   ]
  },
  {
   "cell_type": "markdown",
   "metadata": {},
   "source": [
    "#### Оценка объектов собственности"
   ]
  },
  {
   "cell_type": "code",
   "execution_count": 186,
   "metadata": {},
   "outputs": [
    {
     "data": {
      "text/html": [
       "<div>\n",
       "<style scoped>\n",
       "    .dataframe tbody tr th:only-of-type {\n",
       "        vertical-align: middle;\n",
       "    }\n",
       "\n",
       "    .dataframe tbody tr th {\n",
       "        vertical-align: top;\n",
       "    }\n",
       "\n",
       "    .dataframe thead th {\n",
       "        text-align: right;\n",
       "    }\n",
       "</style>\n",
       "<table border=\"1\" class=\"dataframe\">\n",
       "  <thead>\n",
       "    <tr style=\"text-align: right;\">\n",
       "      <th></th>\n",
       "      <th>sum</th>\n",
       "      <th>count</th>\n",
       "      <th>perc</th>\n",
       "    </tr>\n",
       "    <tr>\n",
       "      <th>equity</th>\n",
       "      <th></th>\n",
       "      <th></th>\n",
       "      <th></th>\n",
       "    </tr>\n",
       "  </thead>\n",
       "  <tbody>\n",
       "    <tr>\n",
       "      <th>0</th>\n",
       "      <td>90</td>\n",
       "      <td>2588</td>\n",
       "      <td>3.48</td>\n",
       "    </tr>\n",
       "    <tr>\n",
       "      <th>1</th>\n",
       "      <td>93</td>\n",
       "      <td>767</td>\n",
       "      <td>12.13</td>\n",
       "    </tr>\n",
       "    <tr>\n",
       "      <th>2</th>\n",
       "      <td>165</td>\n",
       "      <td>1038</td>\n",
       "      <td>15.90</td>\n",
       "    </tr>\n",
       "    <tr>\n",
       "      <th>3</th>\n",
       "      <td>320</td>\n",
       "      <td>1530</td>\n",
       "      <td>20.92</td>\n",
       "    </tr>\n",
       "    <tr>\n",
       "      <th>4</th>\n",
       "      <td>465</td>\n",
       "      <td>1839</td>\n",
       "      <td>25.29</td>\n",
       "    </tr>\n",
       "    <tr>\n",
       "      <th>5</th>\n",
       "      <td>577</td>\n",
       "      <td>1911</td>\n",
       "      <td>30.19</td>\n",
       "    </tr>\n",
       "    <tr>\n",
       "      <th>6</th>\n",
       "      <td>58</td>\n",
       "      <td>158</td>\n",
       "      <td>36.71</td>\n",
       "    </tr>\n",
       "    <tr>\n",
       "      <th>7</th>\n",
       "      <td>37</td>\n",
       "      <td>78</td>\n",
       "      <td>47.44</td>\n",
       "    </tr>\n",
       "    <tr>\n",
       "      <th>8</th>\n",
       "      <td>6</td>\n",
       "      <td>17</td>\n",
       "      <td>35.29</td>\n",
       "    </tr>\n",
       "    <tr>\n",
       "      <th>9</th>\n",
       "      <td>7</td>\n",
       "      <td>13</td>\n",
       "      <td>53.85</td>\n",
       "    </tr>\n",
       "  </tbody>\n",
       "</table>\n",
       "</div>"
      ],
      "text/plain": [
       "        sum  count  perc\n",
       "equity                  \n",
       "0        90   2588  3.48\n",
       "1        93    767 12.13\n",
       "2       165   1038 15.90\n",
       "3       320   1530 20.92\n",
       "4       465   1839 25.29\n",
       "5       577   1911 30.19\n",
       "6        58    158 36.71\n",
       "7        37     78 47.44\n",
       "8         6     17 35.29\n",
       "9         7     13 53.85"
      ]
     },
     "execution_count": 186,
     "metadata": {},
     "output_type": "execute_result"
    },
    {
     "data": {
      "image/png": "[encoded data removed]",
      "text/plain": [
       "<Figure size 720x432 with 1 Axes>"
      ]
     },
     "metadata": {
      "needs_background": "light"
     },
     "output_type": "display_data"
    }
   ],
   "source": [
    "# Рассчитаем процент ушедших клиентов в разбивке по оценке принадлежащей им собственности от общего числа:\n",
    "\n",
    "equity_churn = data.pivot_table (index = 'equity', values = 'churn', aggfunc = ['sum', 'count'])\n",
    "equity_churn.columns = equity_churn.columns.droplevel(level=1)\n",
    "equity_churn ['perc'] = equity_churn['sum']/equity_churn['count']*100\n",
    "\n",
    "# Построим столбчатую диаграмму:\n",
    "equity_churn['perc'].plot (\n",
    "    kind='bar', title = 'Процент ушедших клиентов в разбивке по оценке принадлежащей им собственности от общего числа',\n",
    "    xlabel = 'Оценка собственности', ylabel = 'Процент ушедших клиентов', figsize = (10,6), color = 'lightsteelblue');\n",
    "equity_churn"
   ]
  },
  {
   "cell_type": "markdown",
   "metadata": {},
   "source": [
    "Мы видим практически прямую зависимость - чем выше оценка собственности, тем больше процент отточных клиентов (от 3,5% для оценки 0 до почти 54% для оценки 9)"
   ]
  },
  {
   "cell_type": "markdown",
   "metadata": {},
   "source": [
    "#### Скоринговый рейтинг клиента"
   ]
  },
  {
   "cell_type": "code",
   "execution_count": 187,
   "metadata": {
    "scrolled": false
   },
   "outputs": [
    {
     "data": {
      "image/png": "[encoded data removed]",
      "text/plain": [
       "<Figure size 864x576 with 1 Axes>"
      ]
     },
     "metadata": {
      "needs_background": "light"
     },
     "output_type": "display_data"
    }
   ],
   "source": [
    "# Рассчитаем процент ушедших клиентов в разбивке по скоринговому рейтингу от общего числа:\n",
    "\n",
    "score_churn = data.pivot_table (index = 'score', values = 'churn', aggfunc =['sum', 'count'])\n",
    "score_churn.columns = score_churn.columns.droplevel(level=1)\n",
    "score_churn ['perc'] = score_churn['sum']/score_churn['count']*100\n",
    "score_churn = score_churn [score_churn['sum']==1]\n",
    "\n",
    "# Построим столбчатую диаграмму:\n",
    "\n",
    "score_churn ['perc'].plot (\n",
    "    kind = 'bar', figsize = (12,8), color = 'tomato', \n",
    "    title = 'Процент ушедших клиентов в разбивке по их скоринговому рейтингу');"
   ]
  },
  {
   "cell_type": "markdown",
   "metadata": {},
   "source": [
    "Первое, что бросается в глаза - из банка уходили клиенты со скоринговым баллом не ниже 706. Между значениями 707 и 769 наблюдалась тенденция к снижению вероятности ухода клиента по мере возрастания его рейтинга, однако после процент ушедших клиентов стал расти."
   ]
  },
  {
   "cell_type": "markdown",
   "metadata": {},
   "source": [
    "#### Количество используемых продуктов"
   ]
  },
  {
   "cell_type": "code",
   "execution_count": 188,
   "metadata": {},
   "outputs": [
    {
     "data": {
      "text/html": [
       "<div>\n",
       "<style scoped>\n",
       "    .dataframe tbody tr th:only-of-type {\n",
       "        vertical-align: middle;\n",
       "    }\n",
       "\n",
       "    .dataframe tbody tr th {\n",
       "        vertical-align: top;\n",
       "    }\n",
       "\n",
       "    .dataframe thead th {\n",
       "        text-align: right;\n",
       "    }\n",
       "</style>\n",
       "<table border=\"1\" class=\"dataframe\">\n",
       "  <thead>\n",
       "    <tr style=\"text-align: right;\">\n",
       "      <th></th>\n",
       "      <th>sum</th>\n",
       "      <th>count</th>\n",
       "      <th>perc</th>\n",
       "    </tr>\n",
       "    <tr>\n",
       "      <th>products</th>\n",
       "      <th></th>\n",
       "      <th></th>\n",
       "      <th></th>\n",
       "    </tr>\n",
       "  </thead>\n",
       "  <tbody>\n",
       "    <tr>\n",
       "      <th>1</th>\n",
       "      <td>234</td>\n",
       "      <td>3327</td>\n",
       "      <td>7.03</td>\n",
       "    </tr>\n",
       "    <tr>\n",
       "      <th>2</th>\n",
       "      <td>978</td>\n",
       "      <td>5077</td>\n",
       "      <td>19.26</td>\n",
       "    </tr>\n",
       "    <tr>\n",
       "      <th>3</th>\n",
       "      <td>297</td>\n",
       "      <td>1035</td>\n",
       "      <td>28.70</td>\n",
       "    </tr>\n",
       "    <tr>\n",
       "      <th>4</th>\n",
       "      <td>300</td>\n",
       "      <td>470</td>\n",
       "      <td>63.83</td>\n",
       "    </tr>\n",
       "    <tr>\n",
       "      <th>5</th>\n",
       "      <td>9</td>\n",
       "      <td>30</td>\n",
       "      <td>30.00</td>\n",
       "    </tr>\n",
       "  </tbody>\n",
       "</table>\n",
       "</div>"
      ],
      "text/plain": [
       "          sum  count  perc\n",
       "products                  \n",
       "1         234   3327  7.03\n",
       "2         978   5077 19.26\n",
       "3         297   1035 28.70\n",
       "4         300    470 63.83\n",
       "5           9     30 30.00"
      ]
     },
     "execution_count": 188,
     "metadata": {},
     "output_type": "execute_result"
    },
    {
     "data": {
      "image/png": "[encoded data removed]",
      "text/plain": [
       "<Figure size 720x432 with 1 Axes>"
      ]
     },
     "metadata": {
      "needs_background": "light"
     },
     "output_type": "display_data"
    }
   ],
   "source": [
    "# Рассчитаем процент ушедших клиентов в разбивке по количеству используемых продуктов от общего числа:\n",
    "\n",
    "products_churn = data.pivot_table (index = 'products', values = 'churn', aggfunc = ['sum', 'count'])\n",
    "products_churn.columns = products_churn.columns.droplevel(level=1)\n",
    "products_churn ['perc'] = products_churn['sum']/products_churn['count']*100\n",
    "\n",
    "# Построим столбчатую диаграмму:\n",
    "products_churn['perc'].plot (\n",
    "    kind='bar', title = 'Процент ушедших клиентов в разбивке по количеству используемых продуктов от общего числа',\n",
    "    xlabel = 'Количество используемых продуктов', ylabel = 'Процент ушедших клиентов', figsize = (10,6), \n",
    "    color = 'coral');\n",
    "products_churn"
   ]
  },
  {
   "cell_type": "markdown",
   "metadata": {},
   "source": [
    "На графике видно, что особенно много (больше половины) клиентов, использовавших 4 продукта, ушли из банка. Среди клиентов, использовавших 2,3 и 5 продуктов доля отточных находится в диапазоне 20-30%, для клиентов, использовавших 1 продукт - не превышает 10%."
   ]
  },
  {
   "cell_type": "markdown",
   "metadata": {},
   "source": [
    "#### Наличие кредитной карты"
   ]
  },
  {
   "cell_type": "code",
   "execution_count": 189,
   "metadata": {},
   "outputs": [
    {
     "data": {
      "text/html": [
       "<div>\n",
       "<style scoped>\n",
       "    .dataframe tbody tr th:only-of-type {\n",
       "        vertical-align: middle;\n",
       "    }\n",
       "\n",
       "    .dataframe tbody tr th {\n",
       "        vertical-align: top;\n",
       "    }\n",
       "\n",
       "    .dataframe thead th {\n",
       "        text-align: right;\n",
       "    }\n",
       "</style>\n",
       "<table border=\"1\" class=\"dataframe\">\n",
       "  <thead>\n",
       "    <tr style=\"text-align: right;\">\n",
       "      <th></th>\n",
       "      <th>sum</th>\n",
       "      <th>count</th>\n",
       "      <th>perc</th>\n",
       "    </tr>\n",
       "    <tr>\n",
       "      <th>credit_card</th>\n",
       "      <th></th>\n",
       "      <th></th>\n",
       "      <th></th>\n",
       "    </tr>\n",
       "  </thead>\n",
       "  <tbody>\n",
       "    <tr>\n",
       "      <th>0</th>\n",
       "      <td>818</td>\n",
       "      <td>3176</td>\n",
       "      <td>25.76</td>\n",
       "    </tr>\n",
       "    <tr>\n",
       "      <th>1</th>\n",
       "      <td>1000</td>\n",
       "      <td>6763</td>\n",
       "      <td>14.79</td>\n",
       "    </tr>\n",
       "  </tbody>\n",
       "</table>\n",
       "</div>"
      ],
      "text/plain": [
       "              sum  count  perc\n",
       "credit_card                   \n",
       "0             818   3176 25.76\n",
       "1            1000   6763 14.79"
      ]
     },
     "execution_count": 189,
     "metadata": {},
     "output_type": "execute_result"
    },
    {
     "data": {
      "image/png": "[encoded data removed]",
      "text/plain": [
       "<Figure size 864x576 with 1 Axes>"
      ]
     },
     "metadata": {
      "needs_background": "light"
     },
     "output_type": "display_data"
    }
   ],
   "source": [
    "# Рассчитаем процент ушедших клиентов в разбивке по наличию или отсутствию кредитной карты:\n",
    "\n",
    "credit_card_churn = data.pivot_table (index = 'credit_card', values = 'churn', aggfunc = ['sum', 'count'])\n",
    "credit_card_churn.columns = credit_card_churn.columns.droplevel(level=1)\n",
    "credit_card_churn ['perc'] = credit_card_churn['sum']/credit_card_churn['count']*100\n",
    "\n",
    "# Построим круговую диаграмму:\n",
    "\n",
    "credit_card_churn['perc'].plot(\n",
    "    kind='bar', figsize = (12,8), color = 'cornflowerblue', xlabel = 'Наличие кредитной карты',\n",
    "    title = 'Процент ушедших клиентов в разбивке по по наличию или отсутствию кредитной карты от общего числа',\n",
    "    ylabel = 'Процент ушедших клиентов');\n",
    "\n",
    "credit_card_churn"
   ]
  },
  {
   "cell_type": "markdown",
   "metadata": {},
   "source": [
    "Также наблюдается интересная особенность: среди тех клиентов, у кого была кредитная карта, ушло в почти 2 раза меньше, чем среди тех, у кого кредитной карты не было.    "
   ]
  },
  {
   "cell_type": "markdown",
   "metadata": {},
   "source": [
    "#### Пользовательская активность"
   ]
  },
  {
   "cell_type": "code",
   "execution_count": 190,
   "metadata": {
    "scrolled": false
   },
   "outputs": [
    {
     "data": {
      "text/html": [
       "<div>\n",
       "<style scoped>\n",
       "    .dataframe tbody tr th:only-of-type {\n",
       "        vertical-align: middle;\n",
       "    }\n",
       "\n",
       "    .dataframe tbody tr th {\n",
       "        vertical-align: top;\n",
       "    }\n",
       "\n",
       "    .dataframe thead th {\n",
       "        text-align: right;\n",
       "    }\n",
       "</style>\n",
       "<table border=\"1\" class=\"dataframe\">\n",
       "  <thead>\n",
       "    <tr style=\"text-align: right;\">\n",
       "      <th></th>\n",
       "      <th>sum</th>\n",
       "      <th>count</th>\n",
       "      <th>perc</th>\n",
       "    </tr>\n",
       "    <tr>\n",
       "      <th>last_activity</th>\n",
       "      <th></th>\n",
       "      <th></th>\n",
       "      <th></th>\n",
       "    </tr>\n",
       "  </thead>\n",
       "  <tbody>\n",
       "    <tr>\n",
       "      <th>0</th>\n",
       "      <td>539</td>\n",
       "      <td>4737</td>\n",
       "      <td>11.38</td>\n",
       "    </tr>\n",
       "    <tr>\n",
       "      <th>1</th>\n",
       "      <td>1279</td>\n",
       "      <td>5202</td>\n",
       "      <td>24.59</td>\n",
       "    </tr>\n",
       "  </tbody>\n",
       "</table>\n",
       "</div>"
      ],
      "text/plain": [
       "                sum  count  perc\n",
       "last_activity                   \n",
       "0               539   4737 11.38\n",
       "1              1279   5202 24.59"
      ]
     },
     "execution_count": 190,
     "metadata": {},
     "output_type": "execute_result"
    },
    {
     "data": {
      "image/png": "[encoded data removed]",
      "text/plain": [
       "<Figure size 864x576 with 1 Axes>"
      ]
     },
     "metadata": {
      "needs_background": "light"
     },
     "output_type": "display_data"
    }
   ],
   "source": [
    "# Рассчитаем процент ушедших клиентов в разбивке по активности от общего числа:\n",
    "\n",
    "activity_churn = data.pivot_table (index = 'last_activity', values = 'churn', aggfunc = ['sum', 'count'])\n",
    "activity_churn.columns = activity_churn.columns.droplevel(level=1)\n",
    "activity_churn ['perc'] = activity_churn['sum']/activity_churn['count']*100\n",
    "\n",
    "# Построим круговую диаграмму:\n",
    "\n",
    "activity_churn['perc'].plot(\n",
    "    kind='bar', title = 'Процент ушедших клиентов в разбивке по активности от общего числа', figsize = (12,8), \n",
    "    color = 'lightsalmon', ylabel = 'Процент ушедших клиентов', xlabel = 'Активность клиента');\n",
    "\n",
    "activity_churn"
   ]
  },
  {
   "cell_type": "markdown",
   "metadata": {},
   "source": [
    "Здесь мы наблюдаем парадоксальную, казалось бы, картину: у активных клиентов риск оттока в более чем 2 раза больше, чем у неактивных (хотя в целом по выборке их количество отличается не так разительно). Возможно это связано с тем, что активное использование банковских продуктов повышает вероятность в том числе негативного опыта от взаимодействия с банком, и, как следствие - принятию решения об отказе от услуг этого конкретного банка."
   ]
  },
  {
   "cell_type": "markdown",
   "metadata": {},
   "source": [
    "#### Пол пользователя"
   ]
  },
  {
   "cell_type": "code",
   "execution_count": 191,
   "metadata": {},
   "outputs": [
    {
     "data": {
      "text/html": [
       "<div>\n",
       "<style scoped>\n",
       "    .dataframe tbody tr th:only-of-type {\n",
       "        vertical-align: middle;\n",
       "    }\n",
       "\n",
       "    .dataframe tbody tr th {\n",
       "        vertical-align: top;\n",
       "    }\n",
       "\n",
       "    .dataframe thead th {\n",
       "        text-align: right;\n",
       "    }\n",
       "</style>\n",
       "<table border=\"1\" class=\"dataframe\">\n",
       "  <thead>\n",
       "    <tr style=\"text-align: right;\">\n",
       "      <th></th>\n",
       "      <th>sum</th>\n",
       "      <th>count</th>\n",
       "      <th>perc</th>\n",
       "    </tr>\n",
       "    <tr>\n",
       "      <th>gender</th>\n",
       "      <th></th>\n",
       "      <th></th>\n",
       "      <th></th>\n",
       "    </tr>\n",
       "  </thead>\n",
       "  <tbody>\n",
       "    <tr>\n",
       "      <th>Ж</th>\n",
       "      <td>636</td>\n",
       "      <td>4951</td>\n",
       "      <td>12.85</td>\n",
       "    </tr>\n",
       "    <tr>\n",
       "      <th>М</th>\n",
       "      <td>1182</td>\n",
       "      <td>4988</td>\n",
       "      <td>23.70</td>\n",
       "    </tr>\n",
       "  </tbody>\n",
       "</table>\n",
       "</div>"
      ],
      "text/plain": [
       "         sum  count  perc\n",
       "gender                   \n",
       "Ж        636   4951 12.85\n",
       "М       1182   4988 23.70"
      ]
     },
     "execution_count": 191,
     "metadata": {},
     "output_type": "execute_result"
    },
    {
     "data": {
      "image/png": "[encoded data removed]",
      "text/plain": [
       "<Figure size 864x576 with 1 Axes>"
      ]
     },
     "metadata": {
      "needs_background": "light"
     },
     "output_type": "display_data"
    }
   ],
   "source": [
    "# Рассчитаем процент ушедших клиентов в разбивке по полу от общего числа:\n",
    "\n",
    "gender_churn = data.pivot_table (index = 'gender', values = 'churn', aggfunc = ['sum', 'count'])\n",
    "gender_churn.columns = gender_churn.columns.droplevel(level=1)\n",
    "gender_churn ['perc'] = gender_churn['sum']/gender_churn['count']*100\n",
    "\n",
    "\n",
    "# Построим круговую диаграмму:\n",
    "\n",
    "colors = ['cornflowerblue', 'lightsalmon']\n",
    "mylabels = ['Не были активны','Были активны']\n",
    "gender_churn['perc'].plot(\n",
    "    kind='bar', title = 'Процент ушедших клиентов в разбивке по полу', figsize = (12,8), color = 'lightblue', \n",
    "    xlabel = 'Пол клиента', ylabel = 'Процент ушедших клиентов');\n",
    "\n",
    "gender_churn"
   ]
  },
  {
   "cell_type": "markdown",
   "metadata": {},
   "source": [
    "Мы видим, что среди женщин доля отточных клиентов почти в два раз ниже, чем среди мужчин."
   ]
  },
  {
   "cell_type": "markdown",
   "metadata": {},
   "source": [
    "#### Возраст пользователей"
   ]
  },
  {
   "cell_type": "code",
   "execution_count": 192,
   "metadata": {
    "scrolled": false
   },
   "outputs": [
    {
     "data": {
      "text/html": [
       "<div>\n",
       "<style scoped>\n",
       "    .dataframe tbody tr th:only-of-type {\n",
       "        vertical-align: middle;\n",
       "    }\n",
       "\n",
       "    .dataframe tbody tr th {\n",
       "        vertical-align: top;\n",
       "    }\n",
       "\n",
       "    .dataframe thead th {\n",
       "        text-align: right;\n",
       "    }\n",
       "</style>\n",
       "<table border=\"1\" class=\"dataframe\">\n",
       "  <thead>\n",
       "    <tr style=\"text-align: right;\">\n",
       "      <th></th>\n",
       "      <th>sum</th>\n",
       "      <th>count</th>\n",
       "      <th>perc</th>\n",
       "    </tr>\n",
       "    <tr>\n",
       "      <th>age_group</th>\n",
       "      <th></th>\n",
       "      <th></th>\n",
       "      <th></th>\n",
       "    </tr>\n",
       "  </thead>\n",
       "  <tbody>\n",
       "    <tr>\n",
       "      <th>18-24</th>\n",
       "      <td>20</td>\n",
       "      <td>155</td>\n",
       "      <td>12.90</td>\n",
       "    </tr>\n",
       "    <tr>\n",
       "      <th>25-45</th>\n",
       "      <td>1160</td>\n",
       "      <td>6280</td>\n",
       "      <td>18.47</td>\n",
       "    </tr>\n",
       "    <tr>\n",
       "      <th>46-62</th>\n",
       "      <td>613</td>\n",
       "      <td>2748</td>\n",
       "      <td>22.31</td>\n",
       "    </tr>\n",
       "    <tr>\n",
       "      <th>63+</th>\n",
       "      <td>25</td>\n",
       "      <td>756</td>\n",
       "      <td>3.31</td>\n",
       "    </tr>\n",
       "  </tbody>\n",
       "</table>\n",
       "</div>"
      ],
      "text/plain": [
       "            sum  count  perc\n",
       "age_group                   \n",
       "18-24        20    155 12.90\n",
       "25-45      1160   6280 18.47\n",
       "46-62       613   2748 22.31\n",
       "63+          25    756  3.31"
      ]
     },
     "execution_count": 192,
     "metadata": {},
     "output_type": "execute_result"
    },
    {
     "data": {
      "image/png": "[encoded data removed]",
      "text/plain": [
       "<Figure size 720x432 with 1 Axes>"
      ]
     },
     "metadata": {
      "needs_background": "light"
     },
     "output_type": "display_data"
    }
   ],
   "source": [
    "# Рассчитаем процент ушедших клиентов в разбивке по возрастным группам от общего числа:\n",
    "\n",
    "age_churn = data.pivot_table (index = 'age_group', values = 'churn', aggfunc =['sum', 'count'])\n",
    "age_churn.columns = age_churn.columns.droplevel(level=1)\n",
    "age_churn ['perc'] = age_churn['sum']/age_churn['count']*100\n",
    "\n",
    "# Построим столбчатую диаграмму:\n",
    "age_churn['perc'].plot (\n",
    "    kind='bar', title = 'Процент ушедших клиентов в разбивке по возрастным группам',\n",
    "    xlabel = 'Возраст клиентов', ylabel = 'Процент ушедших клиентов', figsize = (10,6), \n",
    "    color = 'sandybrown');\n",
    "age_churn\n"
   ]
  },
  {
   "cell_type": "markdown",
   "metadata": {},
   "source": [
    "На графике выделяется явный лидер по оттоку - пользователи в возрасте от 46 до 62 лет, среди них более 20% отточных. Чуть меньше (почти 19%) оттока у возрастной группы 25-45 лет. Минимальный показатель у пользователей старше 63 лет - отточных менее 3%."
   ]
  },
  {
   "cell_type": "markdown",
   "metadata": {},
   "source": [
    "#### Город"
   ]
  },
  {
   "cell_type": "markdown",
   "metadata": {},
   "source": [
    "На тепловой карте не было выявлено корреляции между городом и оттоком клиентов, однако мы все равно проверим этот важный параметр."
   ]
  },
  {
   "cell_type": "code",
   "execution_count": 193,
   "metadata": {},
   "outputs": [
    {
     "data": {
      "text/html": [
       "<div>\n",
       "<style scoped>\n",
       "    .dataframe tbody tr th:only-of-type {\n",
       "        vertical-align: middle;\n",
       "    }\n",
       "\n",
       "    .dataframe tbody tr th {\n",
       "        vertical-align: top;\n",
       "    }\n",
       "\n",
       "    .dataframe thead th {\n",
       "        text-align: right;\n",
       "    }\n",
       "</style>\n",
       "<table border=\"1\" class=\"dataframe\">\n",
       "  <thead>\n",
       "    <tr style=\"text-align: right;\">\n",
       "      <th></th>\n",
       "      <th>sum</th>\n",
       "      <th>count</th>\n",
       "      <th>perc</th>\n",
       "    </tr>\n",
       "    <tr>\n",
       "      <th>city</th>\n",
       "      <th></th>\n",
       "      <th></th>\n",
       "      <th></th>\n",
       "    </tr>\n",
       "  </thead>\n",
       "  <tbody>\n",
       "    <tr>\n",
       "      <th>Ростов</th>\n",
       "      <td>267</td>\n",
       "      <td>1413</td>\n",
       "      <td>18.90</td>\n",
       "    </tr>\n",
       "    <tr>\n",
       "      <th>Рыбинск</th>\n",
       "      <td>430</td>\n",
       "      <td>2639</td>\n",
       "      <td>16.29</td>\n",
       "    </tr>\n",
       "    <tr>\n",
       "      <th>Ярославль</th>\n",
       "      <td>1121</td>\n",
       "      <td>5887</td>\n",
       "      <td>19.04</td>\n",
       "    </tr>\n",
       "  </tbody>\n",
       "</table>\n",
       "</div>"
      ],
      "text/plain": [
       "            sum  count  perc\n",
       "city                        \n",
       "Ростов      267   1413 18.90\n",
       "Рыбинск     430   2639 16.29\n",
       "Ярославль  1121   5887 19.04"
      ]
     },
     "execution_count": 193,
     "metadata": {},
     "output_type": "execute_result"
    },
    {
     "data": {
      "image/png": "[encoded data removed]",
      "text/plain": [
       "<Figure size 720x432 with 1 Axes>"
      ]
     },
     "metadata": {
      "needs_background": "light"
     },
     "output_type": "display_data"
    }
   ],
   "source": [
    "# Рассчитаем процент ушедших клиентов в разбивке по городам от общего числа:\n",
    "\n",
    "city_churn = data.pivot_table (index = 'city', values = 'churn', aggfunc =['sum', 'count'])\n",
    "city_churn.columns = city_churn.columns.droplevel(level=1)\n",
    "city_churn ['perc'] = city_churn['sum']/city_churn['count']*100\n",
    "\n",
    "# Построим столбчатую диаграмму:\n",
    "city_churn['perc'].plot (\n",
    "    kind='bar', title = 'Процент ушедших клиентов в разбивке по городам',\n",
    "    xlabel = 'Возраст клиентов', ylabel = 'Процент ушедших клиентов', figsize = (10,6), \n",
    "    color = 'steelblue');\n",
    "city_churn\n"
   ]
  },
  {
   "cell_type": "markdown",
   "metadata": {},
   "source": [
    "Мы видим, что различие в доле ушедших клиентов между городами незначительное. Следовательно, можно подтвердить, что отток клиентов между городами происходил равномерно."
   ]
  },
  {
   "cell_type": "markdown",
   "metadata": {},
   "source": [
    "### Составление портретов уходящих клиентов"
   ]
  },
  {
   "cell_type": "markdown",
   "metadata": {},
   "source": [
    "Итак, по итогам анализа и расчетов корреляции можно выделить несколько портретов отточных пользователей:"
   ]
  },
  {
   "cell_type": "markdown",
   "metadata": {},
   "source": [
    "#### Портрет №1"
   ]
  },
  {
   "cell_type": "markdown",
   "metadata": {},
   "source": [
    "Пол: мужской  \n",
    "Возраст: 46-62  \n",
    "Город: любой  \n",
    "Оценка объектов собственности: 5 и выше  \n",
    "Скоринговый рейтинг: 800 и выше  \n",
    "Количество используемых продуктов: 3 и больше  \n",
    "Наличие кредитной карты: нет  \n",
    "Пользовательская активность: да"
   ]
  },
  {
   "cell_type": "markdown",
   "metadata": {},
   "source": [
    "Теперь найдем всех клиентов, удовлетворяющих этим критериям:"
   ]
  },
  {
   "cell_type": "code",
   "execution_count": 194,
   "metadata": {},
   "outputs": [
    {
     "data": {
      "text/html": [
       "<div>\n",
       "<style scoped>\n",
       "    .dataframe tbody tr th:only-of-type {\n",
       "        vertical-align: middle;\n",
       "    }\n",
       "\n",
       "    .dataframe tbody tr th {\n",
       "        vertical-align: top;\n",
       "    }\n",
       "\n",
       "    .dataframe thead th {\n",
       "        text-align: right;\n",
       "    }\n",
       "</style>\n",
       "<table border=\"1\" class=\"dataframe\">\n",
       "  <thead>\n",
       "    <tr style=\"text-align: right;\">\n",
       "      <th></th>\n",
       "      <th>user_id</th>\n",
       "      <th>score</th>\n",
       "      <th>city</th>\n",
       "      <th>gender</th>\n",
       "      <th>age</th>\n",
       "      <th>equity</th>\n",
       "      <th>balance</th>\n",
       "      <th>products</th>\n",
       "      <th>credit_card</th>\n",
       "      <th>last_activity</th>\n",
       "      <th>...</th>\n",
       "      <th>Ростов</th>\n",
       "      <th>Рыбинск</th>\n",
       "      <th>Ярославль</th>\n",
       "      <th>female</th>\n",
       "      <th>male</th>\n",
       "      <th>age_group</th>\n",
       "      <th>18-24</th>\n",
       "      <th>25-45</th>\n",
       "      <th>46-62</th>\n",
       "      <th>63+</th>\n",
       "    </tr>\n",
       "  </thead>\n",
       "  <tbody>\n",
       "    <tr>\n",
       "      <th>399</th>\n",
       "      <td>212030.00</td>\n",
       "      <td>867.00</td>\n",
       "      <td>Ярославль</td>\n",
       "      <td>М</td>\n",
       "      <td>59</td>\n",
       "      <td>5</td>\n",
       "      <td>851896.68</td>\n",
       "      <td>3</td>\n",
       "      <td>0</td>\n",
       "      <td>1</td>\n",
       "      <td>...</td>\n",
       "      <td>0</td>\n",
       "      <td>0</td>\n",
       "      <td>1</td>\n",
       "      <td>0</td>\n",
       "      <td>1</td>\n",
       "      <td>46-62</td>\n",
       "      <td>0</td>\n",
       "      <td>0</td>\n",
       "      <td>1</td>\n",
       "      <td>0</td>\n",
       "    </tr>\n",
       "    <tr>\n",
       "      <th>1292</th>\n",
       "      <td>131565.00</td>\n",
       "      <td>826.00</td>\n",
       "      <td>Ярославль</td>\n",
       "      <td>М</td>\n",
       "      <td>60</td>\n",
       "      <td>5</td>\n",
       "      <td>737821.34</td>\n",
       "      <td>3</td>\n",
       "      <td>0</td>\n",
       "      <td>1</td>\n",
       "      <td>...</td>\n",
       "      <td>0</td>\n",
       "      <td>0</td>\n",
       "      <td>1</td>\n",
       "      <td>0</td>\n",
       "      <td>1</td>\n",
       "      <td>46-62</td>\n",
       "      <td>0</td>\n",
       "      <td>0</td>\n",
       "      <td>1</td>\n",
       "      <td>0</td>\n",
       "    </tr>\n",
       "    <tr>\n",
       "      <th>1420</th>\n",
       "      <td>220656.00</td>\n",
       "      <td>899.00</td>\n",
       "      <td>Ярославль</td>\n",
       "      <td>М</td>\n",
       "      <td>59</td>\n",
       "      <td>5</td>\n",
       "      <td>1682723.25</td>\n",
       "      <td>3</td>\n",
       "      <td>0</td>\n",
       "      <td>1</td>\n",
       "      <td>...</td>\n",
       "      <td>0</td>\n",
       "      <td>0</td>\n",
       "      <td>1</td>\n",
       "      <td>0</td>\n",
       "      <td>1</td>\n",
       "      <td>46-62</td>\n",
       "      <td>0</td>\n",
       "      <td>0</td>\n",
       "      <td>1</td>\n",
       "      <td>0</td>\n",
       "    </tr>\n",
       "    <tr>\n",
       "      <th>1711</th>\n",
       "      <td>158362.00</td>\n",
       "      <td>870.00</td>\n",
       "      <td>Ярославль</td>\n",
       "      <td>М</td>\n",
       "      <td>52</td>\n",
       "      <td>5</td>\n",
       "      <td>775269.74</td>\n",
       "      <td>3</td>\n",
       "      <td>0</td>\n",
       "      <td>1</td>\n",
       "      <td>...</td>\n",
       "      <td>0</td>\n",
       "      <td>0</td>\n",
       "      <td>1</td>\n",
       "      <td>0</td>\n",
       "      <td>1</td>\n",
       "      <td>46-62</td>\n",
       "      <td>0</td>\n",
       "      <td>0</td>\n",
       "      <td>1</td>\n",
       "      <td>0</td>\n",
       "    </tr>\n",
       "    <tr>\n",
       "      <th>2623</th>\n",
       "      <td>159063.00</td>\n",
       "      <td>978.00</td>\n",
       "      <td>Рыбинск</td>\n",
       "      <td>М</td>\n",
       "      <td>53</td>\n",
       "      <td>6</td>\n",
       "      <td>2582959.96</td>\n",
       "      <td>4</td>\n",
       "      <td>0</td>\n",
       "      <td>1</td>\n",
       "      <td>...</td>\n",
       "      <td>0</td>\n",
       "      <td>1</td>\n",
       "      <td>0</td>\n",
       "      <td>0</td>\n",
       "      <td>1</td>\n",
       "      <td>46-62</td>\n",
       "      <td>0</td>\n",
       "      <td>0</td>\n",
       "      <td>1</td>\n",
       "      <td>0</td>\n",
       "    </tr>\n",
       "    <tr>\n",
       "      <th>2688</th>\n",
       "      <td>127110.00</td>\n",
       "      <td>832.00</td>\n",
       "      <td>Ярославль</td>\n",
       "      <td>М</td>\n",
       "      <td>55</td>\n",
       "      <td>5</td>\n",
       "      <td>585528.59</td>\n",
       "      <td>3</td>\n",
       "      <td>0</td>\n",
       "      <td>1</td>\n",
       "      <td>...</td>\n",
       "      <td>0</td>\n",
       "      <td>0</td>\n",
       "      <td>1</td>\n",
       "      <td>0</td>\n",
       "      <td>1</td>\n",
       "      <td>46-62</td>\n",
       "      <td>0</td>\n",
       "      <td>0</td>\n",
       "      <td>1</td>\n",
       "      <td>0</td>\n",
       "    </tr>\n",
       "    <tr>\n",
       "      <th>2822</th>\n",
       "      <td>116305.00</td>\n",
       "      <td>920.00</td>\n",
       "      <td>Ярославль</td>\n",
       "      <td>М</td>\n",
       "      <td>61</td>\n",
       "      <td>5</td>\n",
       "      <td>1821523.00</td>\n",
       "      <td>3</td>\n",
       "      <td>0</td>\n",
       "      <td>1</td>\n",
       "      <td>...</td>\n",
       "      <td>0</td>\n",
       "      <td>0</td>\n",
       "      <td>1</td>\n",
       "      <td>0</td>\n",
       "      <td>1</td>\n",
       "      <td>46-62</td>\n",
       "      <td>0</td>\n",
       "      <td>0</td>\n",
       "      <td>1</td>\n",
       "      <td>0</td>\n",
       "    </tr>\n",
       "    <tr>\n",
       "      <th>3267</th>\n",
       "      <td>211192.00</td>\n",
       "      <td>890.00</td>\n",
       "      <td>Ярославль</td>\n",
       "      <td>М</td>\n",
       "      <td>54</td>\n",
       "      <td>5</td>\n",
       "      <td>3582411.37</td>\n",
       "      <td>3</td>\n",
       "      <td>0</td>\n",
       "      <td>1</td>\n",
       "      <td>...</td>\n",
       "      <td>0</td>\n",
       "      <td>0</td>\n",
       "      <td>1</td>\n",
       "      <td>0</td>\n",
       "      <td>1</td>\n",
       "      <td>46-62</td>\n",
       "      <td>0</td>\n",
       "      <td>0</td>\n",
       "      <td>1</td>\n",
       "      <td>0</td>\n",
       "    </tr>\n",
       "    <tr>\n",
       "      <th>3861</th>\n",
       "      <td>119157.00</td>\n",
       "      <td>924.00</td>\n",
       "      <td>Ярославль</td>\n",
       "      <td>М</td>\n",
       "      <td>55</td>\n",
       "      <td>5</td>\n",
       "      <td>1675198.33</td>\n",
       "      <td>3</td>\n",
       "      <td>0</td>\n",
       "      <td>1</td>\n",
       "      <td>...</td>\n",
       "      <td>0</td>\n",
       "      <td>0</td>\n",
       "      <td>1</td>\n",
       "      <td>0</td>\n",
       "      <td>1</td>\n",
       "      <td>46-62</td>\n",
       "      <td>0</td>\n",
       "      <td>0</td>\n",
       "      <td>1</td>\n",
       "      <td>0</td>\n",
       "    </tr>\n",
       "    <tr>\n",
       "      <th>4083</th>\n",
       "      <td>142959.00</td>\n",
       "      <td>927.00</td>\n",
       "      <td>Ярославль</td>\n",
       "      <td>М</td>\n",
       "      <td>57</td>\n",
       "      <td>7</td>\n",
       "      <td>3134542.35</td>\n",
       "      <td>3</td>\n",
       "      <td>0</td>\n",
       "      <td>1</td>\n",
       "      <td>...</td>\n",
       "      <td>0</td>\n",
       "      <td>0</td>\n",
       "      <td>1</td>\n",
       "      <td>0</td>\n",
       "      <td>1</td>\n",
       "      <td>46-62</td>\n",
       "      <td>0</td>\n",
       "      <td>0</td>\n",
       "      <td>1</td>\n",
       "      <td>0</td>\n",
       "    </tr>\n",
       "    <tr>\n",
       "      <th>6041</th>\n",
       "      <td>173534.00</td>\n",
       "      <td>895.00</td>\n",
       "      <td>Ярославль</td>\n",
       "      <td>М</td>\n",
       "      <td>48</td>\n",
       "      <td>6</td>\n",
       "      <td>2917343.54</td>\n",
       "      <td>3</td>\n",
       "      <td>0</td>\n",
       "      <td>1</td>\n",
       "      <td>...</td>\n",
       "      <td>0</td>\n",
       "      <td>0</td>\n",
       "      <td>1</td>\n",
       "      <td>0</td>\n",
       "      <td>1</td>\n",
       "      <td>46-62</td>\n",
       "      <td>0</td>\n",
       "      <td>0</td>\n",
       "      <td>1</td>\n",
       "      <td>0</td>\n",
       "    </tr>\n",
       "    <tr>\n",
       "      <th>6162</th>\n",
       "      <td>175224.00</td>\n",
       "      <td>909.00</td>\n",
       "      <td>Ярославль</td>\n",
       "      <td>М</td>\n",
       "      <td>54</td>\n",
       "      <td>5</td>\n",
       "      <td>884462.90</td>\n",
       "      <td>3</td>\n",
       "      <td>0</td>\n",
       "      <td>1</td>\n",
       "      <td>...</td>\n",
       "      <td>0</td>\n",
       "      <td>0</td>\n",
       "      <td>1</td>\n",
       "      <td>0</td>\n",
       "      <td>1</td>\n",
       "      <td>46-62</td>\n",
       "      <td>0</td>\n",
       "      <td>0</td>\n",
       "      <td>1</td>\n",
       "      <td>0</td>\n",
       "    </tr>\n",
       "    <tr>\n",
       "      <th>6254</th>\n",
       "      <td>125759.00</td>\n",
       "      <td>826.00</td>\n",
       "      <td>Ростов</td>\n",
       "      <td>М</td>\n",
       "      <td>60</td>\n",
       "      <td>5</td>\n",
       "      <td>1333343.17</td>\n",
       "      <td>4</td>\n",
       "      <td>0</td>\n",
       "      <td>1</td>\n",
       "      <td>...</td>\n",
       "      <td>1</td>\n",
       "      <td>0</td>\n",
       "      <td>0</td>\n",
       "      <td>0</td>\n",
       "      <td>1</td>\n",
       "      <td>46-62</td>\n",
       "      <td>0</td>\n",
       "      <td>0</td>\n",
       "      <td>1</td>\n",
       "      <td>0</td>\n",
       "    </tr>\n",
       "    <tr>\n",
       "      <th>6486</th>\n",
       "      <td>226791.00</td>\n",
       "      <td>860.00</td>\n",
       "      <td>Ярославль</td>\n",
       "      <td>М</td>\n",
       "      <td>52</td>\n",
       "      <td>8</td>\n",
       "      <td>947578.39</td>\n",
       "      <td>4</td>\n",
       "      <td>0</td>\n",
       "      <td>1</td>\n",
       "      <td>...</td>\n",
       "      <td>0</td>\n",
       "      <td>0</td>\n",
       "      <td>1</td>\n",
       "      <td>0</td>\n",
       "      <td>1</td>\n",
       "      <td>46-62</td>\n",
       "      <td>0</td>\n",
       "      <td>0</td>\n",
       "      <td>1</td>\n",
       "      <td>0</td>\n",
       "    </tr>\n",
       "    <tr>\n",
       "      <th>8244</th>\n",
       "      <td>219754.00</td>\n",
       "      <td>891.00</td>\n",
       "      <td>Ярославль</td>\n",
       "      <td>М</td>\n",
       "      <td>54</td>\n",
       "      <td>5</td>\n",
       "      <td>443851.94</td>\n",
       "      <td>3</td>\n",
       "      <td>0</td>\n",
       "      <td>1</td>\n",
       "      <td>...</td>\n",
       "      <td>0</td>\n",
       "      <td>0</td>\n",
       "      <td>1</td>\n",
       "      <td>0</td>\n",
       "      <td>1</td>\n",
       "      <td>46-62</td>\n",
       "      <td>0</td>\n",
       "      <td>0</td>\n",
       "      <td>1</td>\n",
       "      <td>0</td>\n",
       "    </tr>\n",
       "    <tr>\n",
       "      <th>8335</th>\n",
       "      <td>195406.00</td>\n",
       "      <td>817.00</td>\n",
       "      <td>Ярославль</td>\n",
       "      <td>М</td>\n",
       "      <td>49</td>\n",
       "      <td>5</td>\n",
       "      <td>2616800.01</td>\n",
       "      <td>4</td>\n",
       "      <td>0</td>\n",
       "      <td>1</td>\n",
       "      <td>...</td>\n",
       "      <td>0</td>\n",
       "      <td>0</td>\n",
       "      <td>1</td>\n",
       "      <td>0</td>\n",
       "      <td>1</td>\n",
       "      <td>46-62</td>\n",
       "      <td>0</td>\n",
       "      <td>0</td>\n",
       "      <td>1</td>\n",
       "      <td>0</td>\n",
       "    </tr>\n",
       "    <tr>\n",
       "      <th>8727</th>\n",
       "      <td>183587.00</td>\n",
       "      <td>916.00</td>\n",
       "      <td>Ярославль</td>\n",
       "      <td>М</td>\n",
       "      <td>53</td>\n",
       "      <td>5</td>\n",
       "      <td>1822496.40</td>\n",
       "      <td>3</td>\n",
       "      <td>0</td>\n",
       "      <td>1</td>\n",
       "      <td>...</td>\n",
       "      <td>0</td>\n",
       "      <td>0</td>\n",
       "      <td>1</td>\n",
       "      <td>0</td>\n",
       "      <td>1</td>\n",
       "      <td>46-62</td>\n",
       "      <td>0</td>\n",
       "      <td>0</td>\n",
       "      <td>1</td>\n",
       "      <td>0</td>\n",
       "    </tr>\n",
       "    <tr>\n",
       "      <th>9772</th>\n",
       "      <td>121395.00</td>\n",
       "      <td>925.00</td>\n",
       "      <td>Ростов</td>\n",
       "      <td>М</td>\n",
       "      <td>58</td>\n",
       "      <td>5</td>\n",
       "      <td>2664421.66</td>\n",
       "      <td>4</td>\n",
       "      <td>0</td>\n",
       "      <td>1</td>\n",
       "      <td>...</td>\n",
       "      <td>1</td>\n",
       "      <td>0</td>\n",
       "      <td>0</td>\n",
       "      <td>0</td>\n",
       "      <td>1</td>\n",
       "      <td>46-62</td>\n",
       "      <td>0</td>\n",
       "      <td>0</td>\n",
       "      <td>1</td>\n",
       "      <td>0</td>\n",
       "    </tr>\n",
       "  </tbody>\n",
       "</table>\n",
       "<p>18 rows × 22 columns</p>\n",
       "</div>"
      ],
      "text/plain": [
       "       user_id  score       city gender  age  equity    balance  products  \\\n",
       "399  212030.00 867.00  Ярославль      М   59       5  851896.68         3   \n",
       "1292 131565.00 826.00  Ярославль      М   60       5  737821.34         3   \n",
       "1420 220656.00 899.00  Ярославль      М   59       5 1682723.25         3   \n",
       "1711 158362.00 870.00  Ярославль      М   52       5  775269.74         3   \n",
       "2623 159063.00 978.00    Рыбинск      М   53       6 2582959.96         4   \n",
       "2688 127110.00 832.00  Ярославль      М   55       5  585528.59         3   \n",
       "2822 116305.00 920.00  Ярославль      М   61       5 1821523.00         3   \n",
       "3267 211192.00 890.00  Ярославль      М   54       5 3582411.37         3   \n",
       "3861 119157.00 924.00  Ярославль      М   55       5 1675198.33         3   \n",
       "4083 142959.00 927.00  Ярославль      М   57       7 3134542.35         3   \n",
       "6041 173534.00 895.00  Ярославль      М   48       6 2917343.54         3   \n",
       "6162 175224.00 909.00  Ярославль      М   54       5  884462.90         3   \n",
       "6254 125759.00 826.00     Ростов      М   60       5 1333343.17         4   \n",
       "6486 226791.00 860.00  Ярославль      М   52       8  947578.39         4   \n",
       "8244 219754.00 891.00  Ярославль      М   54       5  443851.94         3   \n",
       "8335 195406.00 817.00  Ярославль      М   49       5 2616800.01         4   \n",
       "8727 183587.00 916.00  Ярославль      М   53       5 1822496.40         3   \n",
       "9772 121395.00 925.00     Ростов      М   58       5 2664421.66         4   \n",
       "\n",
       "      credit_card  last_activity  ...  Ростов  Рыбинск  Ярославль  female  \\\n",
       "399             0              1  ...       0        0          1       0   \n",
       "1292            0              1  ...       0        0          1       0   \n",
       "1420            0              1  ...       0        0          1       0   \n",
       "1711            0              1  ...       0        0          1       0   \n",
       "2623            0              1  ...       0        1          0       0   \n",
       "2688            0              1  ...       0        0          1       0   \n",
       "2822            0              1  ...       0        0          1       0   \n",
       "3267            0              1  ...       0        0          1       0   \n",
       "3861            0              1  ...       0        0          1       0   \n",
       "4083            0              1  ...       0        0          1       0   \n",
       "6041            0              1  ...       0        0          1       0   \n",
       "6162            0              1  ...       0        0          1       0   \n",
       "6254            0              1  ...       1        0          0       0   \n",
       "6486            0              1  ...       0        0          1       0   \n",
       "8244            0              1  ...       0        0          1       0   \n",
       "8335            0              1  ...       0        0          1       0   \n",
       "8727            0              1  ...       0        0          1       0   \n",
       "9772            0              1  ...       1        0          0       0   \n",
       "\n",
       "      male  age_group  18-24 25-45  46-62  63+  \n",
       "399      1      46-62      0     0      1    0  \n",
       "1292     1      46-62      0     0      1    0  \n",
       "1420     1      46-62      0     0      1    0  \n",
       "1711     1      46-62      0     0      1    0  \n",
       "2623     1      46-62      0     0      1    0  \n",
       "2688     1      46-62      0     0      1    0  \n",
       "2822     1      46-62      0     0      1    0  \n",
       "3267     1      46-62      0     0      1    0  \n",
       "3861     1      46-62      0     0      1    0  \n",
       "4083     1      46-62      0     0      1    0  \n",
       "6041     1      46-62      0     0      1    0  \n",
       "6162     1      46-62      0     0      1    0  \n",
       "6254     1      46-62      0     0      1    0  \n",
       "6486     1      46-62      0     0      1    0  \n",
       "8244     1      46-62      0     0      1    0  \n",
       "8335     1      46-62      0     0      1    0  \n",
       "8727     1      46-62      0     0      1    0  \n",
       "9772     1      46-62      0     0      1    0  \n",
       "\n",
       "[18 rows x 22 columns]"
      ]
     },
     "execution_count": 194,
     "metadata": {},
     "output_type": "execute_result"
    }
   ],
   "source": [
    "portrait1 = data.query (\n",
    "    'male==1 and equity>=5 and score >= 800 and credit_card==0 and last_activity==1 and age>46 \\\n",
    "    and age<= 62 and products >= 3 and churn==1') \n",
    "portrait1\n"
   ]
  },
  {
   "cell_type": "markdown",
   "metadata": {},
   "source": [
    "#### Портрет №2"
   ]
  },
  {
   "cell_type": "markdown",
   "metadata": {},
   "source": [
    "Пол: женский  \n",
    "Возраст: 46-62  \n",
    "Город: любой  \n",
    "Оценка объектов собственности: 5 и выше  \n",
    "Скоринговый рейтинг: 800 и выше  \n",
    "Количество используемых продуктов: 3 и больше  \n",
    "Наличие кредитной карты: нет  \n",
    "Пользовательская активность: да"
   ]
  },
  {
   "cell_type": "markdown",
   "metadata": {},
   "source": [
    "Теперь найдем всех клиентов, удовлетворяющих этим критериям:"
   ]
  },
  {
   "cell_type": "code",
   "execution_count": 195,
   "metadata": {},
   "outputs": [
    {
     "data": {
      "text/html": [
       "<div>\n",
       "<style scoped>\n",
       "    .dataframe tbody tr th:only-of-type {\n",
       "        vertical-align: middle;\n",
       "    }\n",
       "\n",
       "    .dataframe tbody tr th {\n",
       "        vertical-align: top;\n",
       "    }\n",
       "\n",
       "    .dataframe thead th {\n",
       "        text-align: right;\n",
       "    }\n",
       "</style>\n",
       "<table border=\"1\" class=\"dataframe\">\n",
       "  <thead>\n",
       "    <tr style=\"text-align: right;\">\n",
       "      <th></th>\n",
       "      <th>user_id</th>\n",
       "      <th>score</th>\n",
       "      <th>city</th>\n",
       "      <th>gender</th>\n",
       "      <th>age</th>\n",
       "      <th>equity</th>\n",
       "      <th>balance</th>\n",
       "      <th>products</th>\n",
       "      <th>credit_card</th>\n",
       "      <th>last_activity</th>\n",
       "      <th>...</th>\n",
       "      <th>Ростов</th>\n",
       "      <th>Рыбинск</th>\n",
       "      <th>Ярославль</th>\n",
       "      <th>female</th>\n",
       "      <th>male</th>\n",
       "      <th>age_group</th>\n",
       "      <th>18-24</th>\n",
       "      <th>25-45</th>\n",
       "      <th>46-62</th>\n",
       "      <th>63+</th>\n",
       "    </tr>\n",
       "  </thead>\n",
       "  <tbody>\n",
       "    <tr>\n",
       "      <th>148</th>\n",
       "      <td>122769.00</td>\n",
       "      <td>868.00</td>\n",
       "      <td>Ростов</td>\n",
       "      <td>Ж</td>\n",
       "      <td>58</td>\n",
       "      <td>5</td>\n",
       "      <td>1334745.59</td>\n",
       "      <td>4</td>\n",
       "      <td>0</td>\n",
       "      <td>1</td>\n",
       "      <td>...</td>\n",
       "      <td>1</td>\n",
       "      <td>0</td>\n",
       "      <td>0</td>\n",
       "      <td>1</td>\n",
       "      <td>0</td>\n",
       "      <td>46-62</td>\n",
       "      <td>0</td>\n",
       "      <td>0</td>\n",
       "      <td>1</td>\n",
       "      <td>0</td>\n",
       "    </tr>\n",
       "    <tr>\n",
       "      <th>859</th>\n",
       "      <td>177840.00</td>\n",
       "      <td>802.00</td>\n",
       "      <td>Рыбинск</td>\n",
       "      <td>Ж</td>\n",
       "      <td>51</td>\n",
       "      <td>5</td>\n",
       "      <td>1146872.86</td>\n",
       "      <td>3</td>\n",
       "      <td>0</td>\n",
       "      <td>1</td>\n",
       "      <td>...</td>\n",
       "      <td>0</td>\n",
       "      <td>1</td>\n",
       "      <td>0</td>\n",
       "      <td>1</td>\n",
       "      <td>0</td>\n",
       "      <td>46-62</td>\n",
       "      <td>0</td>\n",
       "      <td>0</td>\n",
       "      <td>1</td>\n",
       "      <td>0</td>\n",
       "    </tr>\n",
       "    <tr>\n",
       "      <th>1205</th>\n",
       "      <td>213664.00</td>\n",
       "      <td>807.00</td>\n",
       "      <td>Ярославль</td>\n",
       "      <td>Ж</td>\n",
       "      <td>54</td>\n",
       "      <td>5</td>\n",
       "      <td>478592.43</td>\n",
       "      <td>3</td>\n",
       "      <td>0</td>\n",
       "      <td>1</td>\n",
       "      <td>...</td>\n",
       "      <td>0</td>\n",
       "      <td>0</td>\n",
       "      <td>1</td>\n",
       "      <td>1</td>\n",
       "      <td>0</td>\n",
       "      <td>46-62</td>\n",
       "      <td>0</td>\n",
       "      <td>0</td>\n",
       "      <td>1</td>\n",
       "      <td>0</td>\n",
       "    </tr>\n",
       "    <tr>\n",
       "      <th>3091</th>\n",
       "      <td>163444.00</td>\n",
       "      <td>836.00</td>\n",
       "      <td>Ростов</td>\n",
       "      <td>Ж</td>\n",
       "      <td>52</td>\n",
       "      <td>5</td>\n",
       "      <td>294315.53</td>\n",
       "      <td>5</td>\n",
       "      <td>0</td>\n",
       "      <td>1</td>\n",
       "      <td>...</td>\n",
       "      <td>1</td>\n",
       "      <td>0</td>\n",
       "      <td>0</td>\n",
       "      <td>1</td>\n",
       "      <td>0</td>\n",
       "      <td>46-62</td>\n",
       "      <td>0</td>\n",
       "      <td>0</td>\n",
       "      <td>1</td>\n",
       "      <td>0</td>\n",
       "    </tr>\n",
       "    <tr>\n",
       "      <th>3718</th>\n",
       "      <td>178755.00</td>\n",
       "      <td>889.00</td>\n",
       "      <td>Ярославль</td>\n",
       "      <td>Ж</td>\n",
       "      <td>60</td>\n",
       "      <td>5</td>\n",
       "      <td>725760.89</td>\n",
       "      <td>4</td>\n",
       "      <td>0</td>\n",
       "      <td>1</td>\n",
       "      <td>...</td>\n",
       "      <td>0</td>\n",
       "      <td>0</td>\n",
       "      <td>1</td>\n",
       "      <td>1</td>\n",
       "      <td>0</td>\n",
       "      <td>46-62</td>\n",
       "      <td>0</td>\n",
       "      <td>0</td>\n",
       "      <td>1</td>\n",
       "      <td>0</td>\n",
       "    </tr>\n",
       "    <tr>\n",
       "      <th>4134</th>\n",
       "      <td>148952.00</td>\n",
       "      <td>856.00</td>\n",
       "      <td>Ярославль</td>\n",
       "      <td>Ж</td>\n",
       "      <td>52</td>\n",
       "      <td>5</td>\n",
       "      <td>1700165.08</td>\n",
       "      <td>4</td>\n",
       "      <td>0</td>\n",
       "      <td>1</td>\n",
       "      <td>...</td>\n",
       "      <td>0</td>\n",
       "      <td>0</td>\n",
       "      <td>1</td>\n",
       "      <td>1</td>\n",
       "      <td>0</td>\n",
       "      <td>46-62</td>\n",
       "      <td>0</td>\n",
       "      <td>0</td>\n",
       "      <td>1</td>\n",
       "      <td>0</td>\n",
       "    </tr>\n",
       "    <tr>\n",
       "      <th>4514</th>\n",
       "      <td>146441.00</td>\n",
       "      <td>936.00</td>\n",
       "      <td>Ярославль</td>\n",
       "      <td>Ж</td>\n",
       "      <td>61</td>\n",
       "      <td>5</td>\n",
       "      <td>3301164.33</td>\n",
       "      <td>4</td>\n",
       "      <td>0</td>\n",
       "      <td>1</td>\n",
       "      <td>...</td>\n",
       "      <td>0</td>\n",
       "      <td>0</td>\n",
       "      <td>1</td>\n",
       "      <td>1</td>\n",
       "      <td>0</td>\n",
       "      <td>46-62</td>\n",
       "      <td>0</td>\n",
       "      <td>0</td>\n",
       "      <td>1</td>\n",
       "      <td>0</td>\n",
       "    </tr>\n",
       "    <tr>\n",
       "      <th>5016</th>\n",
       "      <td>143651.00</td>\n",
       "      <td>885.00</td>\n",
       "      <td>Ярославль</td>\n",
       "      <td>Ж</td>\n",
       "      <td>55</td>\n",
       "      <td>5</td>\n",
       "      <td>1316966.94</td>\n",
       "      <td>3</td>\n",
       "      <td>0</td>\n",
       "      <td>1</td>\n",
       "      <td>...</td>\n",
       "      <td>0</td>\n",
       "      <td>0</td>\n",
       "      <td>1</td>\n",
       "      <td>1</td>\n",
       "      <td>0</td>\n",
       "      <td>46-62</td>\n",
       "      <td>0</td>\n",
       "      <td>0</td>\n",
       "      <td>1</td>\n",
       "      <td>0</td>\n",
       "    </tr>\n",
       "    <tr>\n",
       "      <th>6105</th>\n",
       "      <td>163196.00</td>\n",
       "      <td>868.00</td>\n",
       "      <td>Ярославль</td>\n",
       "      <td>Ж</td>\n",
       "      <td>59</td>\n",
       "      <td>5</td>\n",
       "      <td>1548910.65</td>\n",
       "      <td>3</td>\n",
       "      <td>0</td>\n",
       "      <td>1</td>\n",
       "      <td>...</td>\n",
       "      <td>0</td>\n",
       "      <td>0</td>\n",
       "      <td>1</td>\n",
       "      <td>1</td>\n",
       "      <td>0</td>\n",
       "      <td>46-62</td>\n",
       "      <td>0</td>\n",
       "      <td>0</td>\n",
       "      <td>1</td>\n",
       "      <td>0</td>\n",
       "    </tr>\n",
       "    <tr>\n",
       "      <th>7328</th>\n",
       "      <td>163622.00</td>\n",
       "      <td>862.00</td>\n",
       "      <td>Ярославль</td>\n",
       "      <td>Ж</td>\n",
       "      <td>56</td>\n",
       "      <td>5</td>\n",
       "      <td>942423.50</td>\n",
       "      <td>3</td>\n",
       "      <td>0</td>\n",
       "      <td>1</td>\n",
       "      <td>...</td>\n",
       "      <td>0</td>\n",
       "      <td>0</td>\n",
       "      <td>1</td>\n",
       "      <td>1</td>\n",
       "      <td>0</td>\n",
       "      <td>46-62</td>\n",
       "      <td>0</td>\n",
       "      <td>0</td>\n",
       "      <td>1</td>\n",
       "      <td>0</td>\n",
       "    </tr>\n",
       "    <tr>\n",
       "      <th>7920</th>\n",
       "      <td>171245.00</td>\n",
       "      <td>897.00</td>\n",
       "      <td>Ярославль</td>\n",
       "      <td>Ж</td>\n",
       "      <td>55</td>\n",
       "      <td>5</td>\n",
       "      <td>1847675.01</td>\n",
       "      <td>3</td>\n",
       "      <td>0</td>\n",
       "      <td>1</td>\n",
       "      <td>...</td>\n",
       "      <td>0</td>\n",
       "      <td>0</td>\n",
       "      <td>1</td>\n",
       "      <td>1</td>\n",
       "      <td>0</td>\n",
       "      <td>46-62</td>\n",
       "      <td>0</td>\n",
       "      <td>0</td>\n",
       "      <td>1</td>\n",
       "      <td>0</td>\n",
       "    </tr>\n",
       "    <tr>\n",
       "      <th>8057</th>\n",
       "      <td>219626.00</td>\n",
       "      <td>933.00</td>\n",
       "      <td>Ярославль</td>\n",
       "      <td>Ж</td>\n",
       "      <td>51</td>\n",
       "      <td>5</td>\n",
       "      <td>1449619.59</td>\n",
       "      <td>3</td>\n",
       "      <td>0</td>\n",
       "      <td>1</td>\n",
       "      <td>...</td>\n",
       "      <td>0</td>\n",
       "      <td>0</td>\n",
       "      <td>1</td>\n",
       "      <td>1</td>\n",
       "      <td>0</td>\n",
       "      <td>46-62</td>\n",
       "      <td>0</td>\n",
       "      <td>0</td>\n",
       "      <td>1</td>\n",
       "      <td>0</td>\n",
       "    </tr>\n",
       "    <tr>\n",
       "      <th>8527</th>\n",
       "      <td>213194.00</td>\n",
       "      <td>913.00</td>\n",
       "      <td>Ярославль</td>\n",
       "      <td>Ж</td>\n",
       "      <td>55</td>\n",
       "      <td>5</td>\n",
       "      <td>2120761.57</td>\n",
       "      <td>3</td>\n",
       "      <td>0</td>\n",
       "      <td>1</td>\n",
       "      <td>...</td>\n",
       "      <td>0</td>\n",
       "      <td>0</td>\n",
       "      <td>1</td>\n",
       "      <td>1</td>\n",
       "      <td>0</td>\n",
       "      <td>46-62</td>\n",
       "      <td>0</td>\n",
       "      <td>0</td>\n",
       "      <td>1</td>\n",
       "      <td>0</td>\n",
       "    </tr>\n",
       "    <tr>\n",
       "      <th>8591</th>\n",
       "      <td>154752.00</td>\n",
       "      <td>923.00</td>\n",
       "      <td>Ярославль</td>\n",
       "      <td>Ж</td>\n",
       "      <td>59</td>\n",
       "      <td>5</td>\n",
       "      <td>1411835.48</td>\n",
       "      <td>3</td>\n",
       "      <td>0</td>\n",
       "      <td>1</td>\n",
       "      <td>...</td>\n",
       "      <td>0</td>\n",
       "      <td>0</td>\n",
       "      <td>1</td>\n",
       "      <td>1</td>\n",
       "      <td>0</td>\n",
       "      <td>46-62</td>\n",
       "      <td>0</td>\n",
       "      <td>0</td>\n",
       "      <td>1</td>\n",
       "      <td>0</td>\n",
       "    </tr>\n",
       "    <tr>\n",
       "      <th>8777</th>\n",
       "      <td>154997.00</td>\n",
       "      <td>899.00</td>\n",
       "      <td>Рыбинск</td>\n",
       "      <td>Ж</td>\n",
       "      <td>50</td>\n",
       "      <td>5</td>\n",
       "      <td>1347272.29</td>\n",
       "      <td>4</td>\n",
       "      <td>0</td>\n",
       "      <td>1</td>\n",
       "      <td>...</td>\n",
       "      <td>0</td>\n",
       "      <td>1</td>\n",
       "      <td>0</td>\n",
       "      <td>1</td>\n",
       "      <td>0</td>\n",
       "      <td>46-62</td>\n",
       "      <td>0</td>\n",
       "      <td>0</td>\n",
       "      <td>1</td>\n",
       "      <td>0</td>\n",
       "    </tr>\n",
       "    <tr>\n",
       "      <th>9066</th>\n",
       "      <td>178568.00</td>\n",
       "      <td>901.00</td>\n",
       "      <td>Ярославль</td>\n",
       "      <td>Ж</td>\n",
       "      <td>56</td>\n",
       "      <td>5</td>\n",
       "      <td>2137524.35</td>\n",
       "      <td>3</td>\n",
       "      <td>0</td>\n",
       "      <td>1</td>\n",
       "      <td>...</td>\n",
       "      <td>0</td>\n",
       "      <td>0</td>\n",
       "      <td>1</td>\n",
       "      <td>1</td>\n",
       "      <td>0</td>\n",
       "      <td>46-62</td>\n",
       "      <td>0</td>\n",
       "      <td>0</td>\n",
       "      <td>1</td>\n",
       "      <td>0</td>\n",
       "    </tr>\n",
       "  </tbody>\n",
       "</table>\n",
       "<p>16 rows × 22 columns</p>\n",
       "</div>"
      ],
      "text/plain": [
       "       user_id  score       city gender  age  equity    balance  products  \\\n",
       "148  122769.00 868.00     Ростов      Ж   58       5 1334745.59         4   \n",
       "859  177840.00 802.00    Рыбинск      Ж   51       5 1146872.86         3   \n",
       "1205 213664.00 807.00  Ярославль      Ж   54       5  478592.43         3   \n",
       "3091 163444.00 836.00     Ростов      Ж   52       5  294315.53         5   \n",
       "3718 178755.00 889.00  Ярославль      Ж   60       5  725760.89         4   \n",
       "4134 148952.00 856.00  Ярославль      Ж   52       5 1700165.08         4   \n",
       "4514 146441.00 936.00  Ярославль      Ж   61       5 3301164.33         4   \n",
       "5016 143651.00 885.00  Ярославль      Ж   55       5 1316966.94         3   \n",
       "6105 163196.00 868.00  Ярославль      Ж   59       5 1548910.65         3   \n",
       "7328 163622.00 862.00  Ярославль      Ж   56       5  942423.50         3   \n",
       "7920 171245.00 897.00  Ярославль      Ж   55       5 1847675.01         3   \n",
       "8057 219626.00 933.00  Ярославль      Ж   51       5 1449619.59         3   \n",
       "8527 213194.00 913.00  Ярославль      Ж   55       5 2120761.57         3   \n",
       "8591 154752.00 923.00  Ярославль      Ж   59       5 1411835.48         3   \n",
       "8777 154997.00 899.00    Рыбинск      Ж   50       5 1347272.29         4   \n",
       "9066 178568.00 901.00  Ярославль      Ж   56       5 2137524.35         3   \n",
       "\n",
       "      credit_card  last_activity  ...  Ростов  Рыбинск  Ярославль  female  \\\n",
       "148             0              1  ...       1        0          0       1   \n",
       "859             0              1  ...       0        1          0       1   \n",
       "1205            0              1  ...       0        0          1       1   \n",
       "3091            0              1  ...       1        0          0       1   \n",
       "3718            0              1  ...       0        0          1       1   \n",
       "4134            0              1  ...       0        0          1       1   \n",
       "4514            0              1  ...       0        0          1       1   \n",
       "5016            0              1  ...       0        0          1       1   \n",
       "6105            0              1  ...       0        0          1       1   \n",
       "7328            0              1  ...       0        0          1       1   \n",
       "7920            0              1  ...       0        0          1       1   \n",
       "8057            0              1  ...       0        0          1       1   \n",
       "8527            0              1  ...       0        0          1       1   \n",
       "8591            0              1  ...       0        0          1       1   \n",
       "8777            0              1  ...       0        1          0       1   \n",
       "9066            0              1  ...       0        0          1       1   \n",
       "\n",
       "      male  age_group  18-24 25-45  46-62  63+  \n",
       "148      0      46-62      0     0      1    0  \n",
       "859      0      46-62      0     0      1    0  \n",
       "1205     0      46-62      0     0      1    0  \n",
       "3091     0      46-62      0     0      1    0  \n",
       "3718     0      46-62      0     0      1    0  \n",
       "4134     0      46-62      0     0      1    0  \n",
       "4514     0      46-62      0     0      1    0  \n",
       "5016     0      46-62      0     0      1    0  \n",
       "6105     0      46-62      0     0      1    0  \n",
       "7328     0      46-62      0     0      1    0  \n",
       "7920     0      46-62      0     0      1    0  \n",
       "8057     0      46-62      0     0      1    0  \n",
       "8527     0      46-62      0     0      1    0  \n",
       "8591     0      46-62      0     0      1    0  \n",
       "8777     0      46-62      0     0      1    0  \n",
       "9066     0      46-62      0     0      1    0  \n",
       "\n",
       "[16 rows x 22 columns]"
      ]
     },
     "execution_count": 195,
     "metadata": {},
     "output_type": "execute_result"
    }
   ],
   "source": [
    "portrait2 = data.query (\n",
    "    'female==1 and equity>=5 and score >= 800 and credit_card==0 and last_activity==1 and age>46 \\\n",
    "    and age <= 62 and products >= 3 and churn==1') \n",
    "portrait2\n"
   ]
  },
  {
   "cell_type": "markdown",
   "metadata": {},
   "source": [
    "#### Портрет №3"
   ]
  },
  {
   "cell_type": "markdown",
   "metadata": {},
   "source": [
    "Пол: любой  \n",
    "Возраст: от 25 до 45  \n",
    "Город: любой  \n",
    "Оценка объектов собственности: 5 и выше  \n",
    "Скоринговый рейтинг: 750 и выше  \n",
    "Количество используемых продуктов: 3 и больше  \n",
    "Наличие кредитной карты: нет  \n",
    "Пользовательская активность: да"
   ]
  },
  {
   "cell_type": "markdown",
   "metadata": {},
   "source": [
    "Теперь найдем всех клиентов, удовлетворяющих этим критериям:"
   ]
  },
  {
   "cell_type": "code",
   "execution_count": 196,
   "metadata": {},
   "outputs": [
    {
     "data": {
      "text/html": [
       "<div>\n",
       "<style scoped>\n",
       "    .dataframe tbody tr th:only-of-type {\n",
       "        vertical-align: middle;\n",
       "    }\n",
       "\n",
       "    .dataframe tbody tr th {\n",
       "        vertical-align: top;\n",
       "    }\n",
       "\n",
       "    .dataframe thead th {\n",
       "        text-align: right;\n",
       "    }\n",
       "</style>\n",
       "<table border=\"1\" class=\"dataframe\">\n",
       "  <thead>\n",
       "    <tr style=\"text-align: right;\">\n",
       "      <th></th>\n",
       "      <th>user_id</th>\n",
       "      <th>score</th>\n",
       "      <th>city</th>\n",
       "      <th>gender</th>\n",
       "      <th>age</th>\n",
       "      <th>equity</th>\n",
       "      <th>balance</th>\n",
       "      <th>products</th>\n",
       "      <th>credit_card</th>\n",
       "      <th>last_activity</th>\n",
       "      <th>...</th>\n",
       "      <th>Ростов</th>\n",
       "      <th>Рыбинск</th>\n",
       "      <th>Ярославль</th>\n",
       "      <th>female</th>\n",
       "      <th>male</th>\n",
       "      <th>age_group</th>\n",
       "      <th>18-24</th>\n",
       "      <th>25-45</th>\n",
       "      <th>46-62</th>\n",
       "      <th>63+</th>\n",
       "    </tr>\n",
       "  </thead>\n",
       "  <tbody>\n",
       "    <tr>\n",
       "      <th>72</th>\n",
       "      <td>156677.00</td>\n",
       "      <td>873.00</td>\n",
       "      <td>Ярославль</td>\n",
       "      <td>М</td>\n",
       "      <td>39</td>\n",
       "      <td>5</td>\n",
       "      <td>915959.85</td>\n",
       "      <td>3</td>\n",
       "      <td>0</td>\n",
       "      <td>1</td>\n",
       "      <td>...</td>\n",
       "      <td>0</td>\n",
       "      <td>0</td>\n",
       "      <td>1</td>\n",
       "      <td>0</td>\n",
       "      <td>1</td>\n",
       "      <td>25-45</td>\n",
       "      <td>0</td>\n",
       "      <td>1</td>\n",
       "      <td>0</td>\n",
       "      <td>0</td>\n",
       "    </tr>\n",
       "    <tr>\n",
       "      <th>81</th>\n",
       "      <td>223978.00</td>\n",
       "      <td>850.00</td>\n",
       "      <td>Рыбинск</td>\n",
       "      <td>М</td>\n",
       "      <td>34</td>\n",
       "      <td>5</td>\n",
       "      <td>351583.16</td>\n",
       "      <td>4</td>\n",
       "      <td>0</td>\n",
       "      <td>1</td>\n",
       "      <td>...</td>\n",
       "      <td>0</td>\n",
       "      <td>1</td>\n",
       "      <td>0</td>\n",
       "      <td>0</td>\n",
       "      <td>1</td>\n",
       "      <td>25-45</td>\n",
       "      <td>0</td>\n",
       "      <td>1</td>\n",
       "      <td>0</td>\n",
       "      <td>0</td>\n",
       "    </tr>\n",
       "    <tr>\n",
       "      <th>475</th>\n",
       "      <td>140383.00</td>\n",
       "      <td>908.00</td>\n",
       "      <td>Ярославль</td>\n",
       "      <td>М</td>\n",
       "      <td>33</td>\n",
       "      <td>5</td>\n",
       "      <td>649294.72</td>\n",
       "      <td>4</td>\n",
       "      <td>0</td>\n",
       "      <td>1</td>\n",
       "      <td>...</td>\n",
       "      <td>0</td>\n",
       "      <td>0</td>\n",
       "      <td>1</td>\n",
       "      <td>0</td>\n",
       "      <td>1</td>\n",
       "      <td>25-45</td>\n",
       "      <td>0</td>\n",
       "      <td>1</td>\n",
       "      <td>0</td>\n",
       "      <td>0</td>\n",
       "    </tr>\n",
       "    <tr>\n",
       "      <th>734</th>\n",
       "      <td>170176.00</td>\n",
       "      <td>893.00</td>\n",
       "      <td>Ярославль</td>\n",
       "      <td>М</td>\n",
       "      <td>27</td>\n",
       "      <td>5</td>\n",
       "      <td>499315.41</td>\n",
       "      <td>3</td>\n",
       "      <td>0</td>\n",
       "      <td>1</td>\n",
       "      <td>...</td>\n",
       "      <td>0</td>\n",
       "      <td>0</td>\n",
       "      <td>1</td>\n",
       "      <td>0</td>\n",
       "      <td>1</td>\n",
       "      <td>25-45</td>\n",
       "      <td>0</td>\n",
       "      <td>1</td>\n",
       "      <td>0</td>\n",
       "      <td>0</td>\n",
       "    </tr>\n",
       "    <tr>\n",
       "      <th>847</th>\n",
       "      <td>115095.00</td>\n",
       "      <td>880.00</td>\n",
       "      <td>Ярославль</td>\n",
       "      <td>Ж</td>\n",
       "      <td>34</td>\n",
       "      <td>5</td>\n",
       "      <td>956027.03</td>\n",
       "      <td>3</td>\n",
       "      <td>0</td>\n",
       "      <td>1</td>\n",
       "      <td>...</td>\n",
       "      <td>0</td>\n",
       "      <td>0</td>\n",
       "      <td>1</td>\n",
       "      <td>1</td>\n",
       "      <td>0</td>\n",
       "      <td>25-45</td>\n",
       "      <td>0</td>\n",
       "      <td>1</td>\n",
       "      <td>0</td>\n",
       "      <td>0</td>\n",
       "    </tr>\n",
       "    <tr>\n",
       "      <th>936</th>\n",
       "      <td>134107.00</td>\n",
       "      <td>848.00</td>\n",
       "      <td>Ростов</td>\n",
       "      <td>М</td>\n",
       "      <td>26</td>\n",
       "      <td>5</td>\n",
       "      <td>218655.27</td>\n",
       "      <td>4</td>\n",
       "      <td>0</td>\n",
       "      <td>1</td>\n",
       "      <td>...</td>\n",
       "      <td>1</td>\n",
       "      <td>0</td>\n",
       "      <td>0</td>\n",
       "      <td>0</td>\n",
       "      <td>1</td>\n",
       "      <td>25-45</td>\n",
       "      <td>0</td>\n",
       "      <td>1</td>\n",
       "      <td>0</td>\n",
       "      <td>0</td>\n",
       "    </tr>\n",
       "    <tr>\n",
       "      <th>980</th>\n",
       "      <td>153716.00</td>\n",
       "      <td>857.00</td>\n",
       "      <td>Ярославль</td>\n",
       "      <td>Ж</td>\n",
       "      <td>28</td>\n",
       "      <td>7</td>\n",
       "      <td>317884.70</td>\n",
       "      <td>3</td>\n",
       "      <td>0</td>\n",
       "      <td>1</td>\n",
       "      <td>...</td>\n",
       "      <td>0</td>\n",
       "      <td>0</td>\n",
       "      <td>1</td>\n",
       "      <td>1</td>\n",
       "      <td>0</td>\n",
       "      <td>25-45</td>\n",
       "      <td>0</td>\n",
       "      <td>1</td>\n",
       "      <td>0</td>\n",
       "      <td>0</td>\n",
       "    </tr>\n",
       "    <tr>\n",
       "      <th>1147</th>\n",
       "      <td>226891.00</td>\n",
       "      <td>864.00</td>\n",
       "      <td>Ярославль</td>\n",
       "      <td>М</td>\n",
       "      <td>39</td>\n",
       "      <td>5</td>\n",
       "      <td>920418.77</td>\n",
       "      <td>3</td>\n",
       "      <td>0</td>\n",
       "      <td>1</td>\n",
       "      <td>...</td>\n",
       "      <td>0</td>\n",
       "      <td>0</td>\n",
       "      <td>1</td>\n",
       "      <td>0</td>\n",
       "      <td>1</td>\n",
       "      <td>25-45</td>\n",
       "      <td>0</td>\n",
       "      <td>1</td>\n",
       "      <td>0</td>\n",
       "      <td>0</td>\n",
       "    </tr>\n",
       "    <tr>\n",
       "      <th>1166</th>\n",
       "      <td>194256.00</td>\n",
       "      <td>892.00</td>\n",
       "      <td>Ярославль</td>\n",
       "      <td>Ж</td>\n",
       "      <td>37</td>\n",
       "      <td>5</td>\n",
       "      <td>1182532.82</td>\n",
       "      <td>3</td>\n",
       "      <td>0</td>\n",
       "      <td>1</td>\n",
       "      <td>...</td>\n",
       "      <td>0</td>\n",
       "      <td>0</td>\n",
       "      <td>1</td>\n",
       "      <td>1</td>\n",
       "      <td>0</td>\n",
       "      <td>25-45</td>\n",
       "      <td>0</td>\n",
       "      <td>1</td>\n",
       "      <td>0</td>\n",
       "      <td>0</td>\n",
       "    </tr>\n",
       "    <tr>\n",
       "      <th>1204</th>\n",
       "      <td>223416.00</td>\n",
       "      <td>901.00</td>\n",
       "      <td>Ярославль</td>\n",
       "      <td>М</td>\n",
       "      <td>27</td>\n",
       "      <td>5</td>\n",
       "      <td>1007657.77</td>\n",
       "      <td>3</td>\n",
       "      <td>0</td>\n",
       "      <td>1</td>\n",
       "      <td>...</td>\n",
       "      <td>0</td>\n",
       "      <td>0</td>\n",
       "      <td>1</td>\n",
       "      <td>0</td>\n",
       "      <td>1</td>\n",
       "      <td>25-45</td>\n",
       "      <td>0</td>\n",
       "      <td>1</td>\n",
       "      <td>0</td>\n",
       "      <td>0</td>\n",
       "    </tr>\n",
       "    <tr>\n",
       "      <th>1365</th>\n",
       "      <td>216512.00</td>\n",
       "      <td>918.00</td>\n",
       "      <td>Ярославль</td>\n",
       "      <td>М</td>\n",
       "      <td>34</td>\n",
       "      <td>5</td>\n",
       "      <td>1297184.34</td>\n",
       "      <td>3</td>\n",
       "      <td>0</td>\n",
       "      <td>1</td>\n",
       "      <td>...</td>\n",
       "      <td>0</td>\n",
       "      <td>0</td>\n",
       "      <td>1</td>\n",
       "      <td>0</td>\n",
       "      <td>1</td>\n",
       "      <td>25-45</td>\n",
       "      <td>0</td>\n",
       "      <td>1</td>\n",
       "      <td>0</td>\n",
       "      <td>0</td>\n",
       "    </tr>\n",
       "    <tr>\n",
       "      <th>1820</th>\n",
       "      <td>175415.00</td>\n",
       "      <td>868.00</td>\n",
       "      <td>Рыбинск</td>\n",
       "      <td>М</td>\n",
       "      <td>33</td>\n",
       "      <td>6</td>\n",
       "      <td>669230.15</td>\n",
       "      <td>4</td>\n",
       "      <td>0</td>\n",
       "      <td>1</td>\n",
       "      <td>...</td>\n",
       "      <td>0</td>\n",
       "      <td>1</td>\n",
       "      <td>0</td>\n",
       "      <td>0</td>\n",
       "      <td>1</td>\n",
       "      <td>25-45</td>\n",
       "      <td>0</td>\n",
       "      <td>1</td>\n",
       "      <td>0</td>\n",
       "      <td>0</td>\n",
       "    </tr>\n",
       "    <tr>\n",
       "      <th>1827</th>\n",
       "      <td>219322.00</td>\n",
       "      <td>938.00</td>\n",
       "      <td>Ярославль</td>\n",
       "      <td>Ж</td>\n",
       "      <td>34</td>\n",
       "      <td>5</td>\n",
       "      <td>2011480.78</td>\n",
       "      <td>3</td>\n",
       "      <td>0</td>\n",
       "      <td>1</td>\n",
       "      <td>...</td>\n",
       "      <td>0</td>\n",
       "      <td>0</td>\n",
       "      <td>1</td>\n",
       "      <td>1</td>\n",
       "      <td>0</td>\n",
       "      <td>25-45</td>\n",
       "      <td>0</td>\n",
       "      <td>1</td>\n",
       "      <td>0</td>\n",
       "      <td>0</td>\n",
       "    </tr>\n",
       "    <tr>\n",
       "      <th>2078</th>\n",
       "      <td>168376.00</td>\n",
       "      <td>860.00</td>\n",
       "      <td>Ярославль</td>\n",
       "      <td>М</td>\n",
       "      <td>42</td>\n",
       "      <td>5</td>\n",
       "      <td>1546551.11</td>\n",
       "      <td>3</td>\n",
       "      <td>0</td>\n",
       "      <td>1</td>\n",
       "      <td>...</td>\n",
       "      <td>0</td>\n",
       "      <td>0</td>\n",
       "      <td>1</td>\n",
       "      <td>0</td>\n",
       "      <td>1</td>\n",
       "      <td>25-45</td>\n",
       "      <td>0</td>\n",
       "      <td>1</td>\n",
       "      <td>0</td>\n",
       "      <td>0</td>\n",
       "    </tr>\n",
       "    <tr>\n",
       "      <th>2776</th>\n",
       "      <td>224975.00</td>\n",
       "      <td>941.00</td>\n",
       "      <td>Ярославль</td>\n",
       "      <td>Ж</td>\n",
       "      <td>34</td>\n",
       "      <td>5</td>\n",
       "      <td>6916364.04</td>\n",
       "      <td>3</td>\n",
       "      <td>0</td>\n",
       "      <td>1</td>\n",
       "      <td>...</td>\n",
       "      <td>0</td>\n",
       "      <td>0</td>\n",
       "      <td>1</td>\n",
       "      <td>1</td>\n",
       "      <td>0</td>\n",
       "      <td>25-45</td>\n",
       "      <td>0</td>\n",
       "      <td>1</td>\n",
       "      <td>0</td>\n",
       "      <td>0</td>\n",
       "    </tr>\n",
       "    <tr>\n",
       "      <th>3067</th>\n",
       "      <td>139305.00</td>\n",
       "      <td>866.00</td>\n",
       "      <td>Рыбинск</td>\n",
       "      <td>М</td>\n",
       "      <td>30</td>\n",
       "      <td>5</td>\n",
       "      <td>588736.74</td>\n",
       "      <td>4</td>\n",
       "      <td>0</td>\n",
       "      <td>1</td>\n",
       "      <td>...</td>\n",
       "      <td>0</td>\n",
       "      <td>1</td>\n",
       "      <td>0</td>\n",
       "      <td>0</td>\n",
       "      <td>1</td>\n",
       "      <td>25-45</td>\n",
       "      <td>0</td>\n",
       "      <td>1</td>\n",
       "      <td>0</td>\n",
       "      <td>0</td>\n",
       "    </tr>\n",
       "    <tr>\n",
       "      <th>3076</th>\n",
       "      <td>122751.00</td>\n",
       "      <td>887.00</td>\n",
       "      <td>Ярославль</td>\n",
       "      <td>М</td>\n",
       "      <td>35</td>\n",
       "      <td>6</td>\n",
       "      <td>475768.04</td>\n",
       "      <td>3</td>\n",
       "      <td>0</td>\n",
       "      <td>1</td>\n",
       "      <td>...</td>\n",
       "      <td>0</td>\n",
       "      <td>0</td>\n",
       "      <td>1</td>\n",
       "      <td>0</td>\n",
       "      <td>1</td>\n",
       "      <td>25-45</td>\n",
       "      <td>0</td>\n",
       "      <td>1</td>\n",
       "      <td>0</td>\n",
       "      <td>0</td>\n",
       "    </tr>\n",
       "    <tr>\n",
       "      <th>3138</th>\n",
       "      <td>171085.00</td>\n",
       "      <td>906.00</td>\n",
       "      <td>Ярославль</td>\n",
       "      <td>Ж</td>\n",
       "      <td>29</td>\n",
       "      <td>5</td>\n",
       "      <td>659172.87</td>\n",
       "      <td>3</td>\n",
       "      <td>0</td>\n",
       "      <td>1</td>\n",
       "      <td>...</td>\n",
       "      <td>0</td>\n",
       "      <td>0</td>\n",
       "      <td>1</td>\n",
       "      <td>1</td>\n",
       "      <td>0</td>\n",
       "      <td>25-45</td>\n",
       "      <td>0</td>\n",
       "      <td>1</td>\n",
       "      <td>0</td>\n",
       "      <td>0</td>\n",
       "    </tr>\n",
       "    <tr>\n",
       "      <th>3251</th>\n",
       "      <td>117597.00</td>\n",
       "      <td>868.00</td>\n",
       "      <td>Ярославль</td>\n",
       "      <td>Ж</td>\n",
       "      <td>33</td>\n",
       "      <td>5</td>\n",
       "      <td>801203.06</td>\n",
       "      <td>3</td>\n",
       "      <td>0</td>\n",
       "      <td>1</td>\n",
       "      <td>...</td>\n",
       "      <td>0</td>\n",
       "      <td>0</td>\n",
       "      <td>1</td>\n",
       "      <td>1</td>\n",
       "      <td>0</td>\n",
       "      <td>25-45</td>\n",
       "      <td>0</td>\n",
       "      <td>1</td>\n",
       "      <td>0</td>\n",
       "      <td>0</td>\n",
       "    </tr>\n",
       "    <tr>\n",
       "      <th>3988</th>\n",
       "      <td>138451.00</td>\n",
       "      <td>904.00</td>\n",
       "      <td>Ярославль</td>\n",
       "      <td>М</td>\n",
       "      <td>33</td>\n",
       "      <td>5</td>\n",
       "      <td>2427737.60</td>\n",
       "      <td>3</td>\n",
       "      <td>0</td>\n",
       "      <td>1</td>\n",
       "      <td>...</td>\n",
       "      <td>0</td>\n",
       "      <td>0</td>\n",
       "      <td>1</td>\n",
       "      <td>0</td>\n",
       "      <td>1</td>\n",
       "      <td>25-45</td>\n",
       "      <td>0</td>\n",
       "      <td>1</td>\n",
       "      <td>0</td>\n",
       "      <td>0</td>\n",
       "    </tr>\n",
       "    <tr>\n",
       "      <th>4052</th>\n",
       "      <td>164594.00</td>\n",
       "      <td>923.00</td>\n",
       "      <td>Ростов</td>\n",
       "      <td>М</td>\n",
       "      <td>35</td>\n",
       "      <td>5</td>\n",
       "      <td>1497880.90</td>\n",
       "      <td>4</td>\n",
       "      <td>0</td>\n",
       "      <td>1</td>\n",
       "      <td>...</td>\n",
       "      <td>1</td>\n",
       "      <td>0</td>\n",
       "      <td>0</td>\n",
       "      <td>0</td>\n",
       "      <td>1</td>\n",
       "      <td>25-45</td>\n",
       "      <td>0</td>\n",
       "      <td>1</td>\n",
       "      <td>0</td>\n",
       "      <td>0</td>\n",
       "    </tr>\n",
       "    <tr>\n",
       "      <th>4436</th>\n",
       "      <td>139621.00</td>\n",
       "      <td>870.00</td>\n",
       "      <td>Ярославль</td>\n",
       "      <td>Ж</td>\n",
       "      <td>31</td>\n",
       "      <td>5</td>\n",
       "      <td>599512.35</td>\n",
       "      <td>3</td>\n",
       "      <td>0</td>\n",
       "      <td>1</td>\n",
       "      <td>...</td>\n",
       "      <td>0</td>\n",
       "      <td>0</td>\n",
       "      <td>1</td>\n",
       "      <td>1</td>\n",
       "      <td>0</td>\n",
       "      <td>25-45</td>\n",
       "      <td>0</td>\n",
       "      <td>1</td>\n",
       "      <td>0</td>\n",
       "      <td>0</td>\n",
       "    </tr>\n",
       "    <tr>\n",
       "      <th>4638</th>\n",
       "      <td>181348.00</td>\n",
       "      <td>901.00</td>\n",
       "      <td>Ярославль</td>\n",
       "      <td>М</td>\n",
       "      <td>44</td>\n",
       "      <td>8</td>\n",
       "      <td>2590265.13</td>\n",
       "      <td>3</td>\n",
       "      <td>0</td>\n",
       "      <td>1</td>\n",
       "      <td>...</td>\n",
       "      <td>0</td>\n",
       "      <td>0</td>\n",
       "      <td>1</td>\n",
       "      <td>0</td>\n",
       "      <td>1</td>\n",
       "      <td>25-45</td>\n",
       "      <td>0</td>\n",
       "      <td>1</td>\n",
       "      <td>0</td>\n",
       "      <td>0</td>\n",
       "    </tr>\n",
       "    <tr>\n",
       "      <th>4827</th>\n",
       "      <td>132437.00</td>\n",
       "      <td>913.00</td>\n",
       "      <td>Ярославль</td>\n",
       "      <td>М</td>\n",
       "      <td>41</td>\n",
       "      <td>5</td>\n",
       "      <td>1693633.12</td>\n",
       "      <td>3</td>\n",
       "      <td>0</td>\n",
       "      <td>1</td>\n",
       "      <td>...</td>\n",
       "      <td>0</td>\n",
       "      <td>0</td>\n",
       "      <td>1</td>\n",
       "      <td>0</td>\n",
       "      <td>1</td>\n",
       "      <td>25-45</td>\n",
       "      <td>0</td>\n",
       "      <td>1</td>\n",
       "      <td>0</td>\n",
       "      <td>0</td>\n",
       "    </tr>\n",
       "    <tr>\n",
       "      <th>4898</th>\n",
       "      <td>114344.00</td>\n",
       "      <td>877.00</td>\n",
       "      <td>Ярославль</td>\n",
       "      <td>Ж</td>\n",
       "      <td>29</td>\n",
       "      <td>7</td>\n",
       "      <td>394906.70</td>\n",
       "      <td>3</td>\n",
       "      <td>0</td>\n",
       "      <td>1</td>\n",
       "      <td>...</td>\n",
       "      <td>0</td>\n",
       "      <td>0</td>\n",
       "      <td>1</td>\n",
       "      <td>1</td>\n",
       "      <td>0</td>\n",
       "      <td>25-45</td>\n",
       "      <td>0</td>\n",
       "      <td>1</td>\n",
       "      <td>0</td>\n",
       "      <td>0</td>\n",
       "    </tr>\n",
       "    <tr>\n",
       "      <th>5028</th>\n",
       "      <td>118108.00</td>\n",
       "      <td>909.00</td>\n",
       "      <td>Ярославль</td>\n",
       "      <td>Ж</td>\n",
       "      <td>37</td>\n",
       "      <td>5</td>\n",
       "      <td>1207775.30</td>\n",
       "      <td>3</td>\n",
       "      <td>0</td>\n",
       "      <td>1</td>\n",
       "      <td>...</td>\n",
       "      <td>0</td>\n",
       "      <td>0</td>\n",
       "      <td>1</td>\n",
       "      <td>1</td>\n",
       "      <td>0</td>\n",
       "      <td>25-45</td>\n",
       "      <td>0</td>\n",
       "      <td>1</td>\n",
       "      <td>0</td>\n",
       "      <td>0</td>\n",
       "    </tr>\n",
       "    <tr>\n",
       "      <th>5290</th>\n",
       "      <td>173873.00</td>\n",
       "      <td>884.00</td>\n",
       "      <td>Ярославль</td>\n",
       "      <td>Ж</td>\n",
       "      <td>42</td>\n",
       "      <td>5</td>\n",
       "      <td>2269291.52</td>\n",
       "      <td>3</td>\n",
       "      <td>0</td>\n",
       "      <td>1</td>\n",
       "      <td>...</td>\n",
       "      <td>0</td>\n",
       "      <td>0</td>\n",
       "      <td>1</td>\n",
       "      <td>1</td>\n",
       "      <td>0</td>\n",
       "      <td>25-45</td>\n",
       "      <td>0</td>\n",
       "      <td>1</td>\n",
       "      <td>0</td>\n",
       "      <td>0</td>\n",
       "    </tr>\n",
       "    <tr>\n",
       "      <th>5394</th>\n",
       "      <td>184761.00</td>\n",
       "      <td>826.00</td>\n",
       "      <td>Ярославль</td>\n",
       "      <td>М</td>\n",
       "      <td>28</td>\n",
       "      <td>7</td>\n",
       "      <td>214989.96</td>\n",
       "      <td>4</td>\n",
       "      <td>0</td>\n",
       "      <td>1</td>\n",
       "      <td>...</td>\n",
       "      <td>0</td>\n",
       "      <td>0</td>\n",
       "      <td>1</td>\n",
       "      <td>0</td>\n",
       "      <td>1</td>\n",
       "      <td>25-45</td>\n",
       "      <td>0</td>\n",
       "      <td>1</td>\n",
       "      <td>0</td>\n",
       "      <td>0</td>\n",
       "    </tr>\n",
       "    <tr>\n",
       "      <th>5396</th>\n",
       "      <td>203549.00</td>\n",
       "      <td>846.00</td>\n",
       "      <td>Рыбинск</td>\n",
       "      <td>М</td>\n",
       "      <td>38</td>\n",
       "      <td>6</td>\n",
       "      <td>603585.35</td>\n",
       "      <td>4</td>\n",
       "      <td>0</td>\n",
       "      <td>1</td>\n",
       "      <td>...</td>\n",
       "      <td>0</td>\n",
       "      <td>1</td>\n",
       "      <td>0</td>\n",
       "      <td>0</td>\n",
       "      <td>1</td>\n",
       "      <td>25-45</td>\n",
       "      <td>0</td>\n",
       "      <td>1</td>\n",
       "      <td>0</td>\n",
       "      <td>0</td>\n",
       "    </tr>\n",
       "    <tr>\n",
       "      <th>5529</th>\n",
       "      <td>126344.00</td>\n",
       "      <td>855.00</td>\n",
       "      <td>Ярославль</td>\n",
       "      <td>М</td>\n",
       "      <td>39</td>\n",
       "      <td>5</td>\n",
       "      <td>1146433.23</td>\n",
       "      <td>3</td>\n",
       "      <td>0</td>\n",
       "      <td>1</td>\n",
       "      <td>...</td>\n",
       "      <td>0</td>\n",
       "      <td>0</td>\n",
       "      <td>1</td>\n",
       "      <td>0</td>\n",
       "      <td>1</td>\n",
       "      <td>25-45</td>\n",
       "      <td>0</td>\n",
       "      <td>1</td>\n",
       "      <td>0</td>\n",
       "      <td>0</td>\n",
       "    </tr>\n",
       "    <tr>\n",
       "      <th>5907</th>\n",
       "      <td>125742.00</td>\n",
       "      <td>814.00</td>\n",
       "      <td>Ярославль</td>\n",
       "      <td>М</td>\n",
       "      <td>44</td>\n",
       "      <td>5</td>\n",
       "      <td>1618334.48</td>\n",
       "      <td>3</td>\n",
       "      <td>0</td>\n",
       "      <td>1</td>\n",
       "      <td>...</td>\n",
       "      <td>0</td>\n",
       "      <td>0</td>\n",
       "      <td>1</td>\n",
       "      <td>0</td>\n",
       "      <td>1</td>\n",
       "      <td>25-45</td>\n",
       "      <td>0</td>\n",
       "      <td>1</td>\n",
       "      <td>0</td>\n",
       "      <td>0</td>\n",
       "    </tr>\n",
       "    <tr>\n",
       "      <th>6437</th>\n",
       "      <td>190542.00</td>\n",
       "      <td>915.00</td>\n",
       "      <td>Ярославль</td>\n",
       "      <td>М</td>\n",
       "      <td>42</td>\n",
       "      <td>5</td>\n",
       "      <td>3013357.61</td>\n",
       "      <td>3</td>\n",
       "      <td>0</td>\n",
       "      <td>1</td>\n",
       "      <td>...</td>\n",
       "      <td>0</td>\n",
       "      <td>0</td>\n",
       "      <td>1</td>\n",
       "      <td>0</td>\n",
       "      <td>1</td>\n",
       "      <td>25-45</td>\n",
       "      <td>0</td>\n",
       "      <td>1</td>\n",
       "      <td>0</td>\n",
       "      <td>0</td>\n",
       "    </tr>\n",
       "    <tr>\n",
       "      <th>6572</th>\n",
       "      <td>194345.00</td>\n",
       "      <td>834.00</td>\n",
       "      <td>Ярославль</td>\n",
       "      <td>М</td>\n",
       "      <td>34</td>\n",
       "      <td>5</td>\n",
       "      <td>1435912.40</td>\n",
       "      <td>4</td>\n",
       "      <td>0</td>\n",
       "      <td>1</td>\n",
       "      <td>...</td>\n",
       "      <td>0</td>\n",
       "      <td>0</td>\n",
       "      <td>1</td>\n",
       "      <td>0</td>\n",
       "      <td>1</td>\n",
       "      <td>25-45</td>\n",
       "      <td>0</td>\n",
       "      <td>1</td>\n",
       "      <td>0</td>\n",
       "      <td>0</td>\n",
       "    </tr>\n",
       "    <tr>\n",
       "      <th>6641</th>\n",
       "      <td>229009.00</td>\n",
       "      <td>846.00</td>\n",
       "      <td>Ярославль</td>\n",
       "      <td>Ж</td>\n",
       "      <td>36</td>\n",
       "      <td>5</td>\n",
       "      <td>1005407.55</td>\n",
       "      <td>3</td>\n",
       "      <td>0</td>\n",
       "      <td>1</td>\n",
       "      <td>...</td>\n",
       "      <td>0</td>\n",
       "      <td>0</td>\n",
       "      <td>1</td>\n",
       "      <td>1</td>\n",
       "      <td>0</td>\n",
       "      <td>25-45</td>\n",
       "      <td>0</td>\n",
       "      <td>1</td>\n",
       "      <td>0</td>\n",
       "      <td>0</td>\n",
       "    </tr>\n",
       "    <tr>\n",
       "      <th>6650</th>\n",
       "      <td>205263.00</td>\n",
       "      <td>867.00</td>\n",
       "      <td>Ярославль</td>\n",
       "      <td>Ж</td>\n",
       "      <td>38</td>\n",
       "      <td>5</td>\n",
       "      <td>675832.76</td>\n",
       "      <td>3</td>\n",
       "      <td>0</td>\n",
       "      <td>1</td>\n",
       "      <td>...</td>\n",
       "      <td>0</td>\n",
       "      <td>0</td>\n",
       "      <td>1</td>\n",
       "      <td>1</td>\n",
       "      <td>0</td>\n",
       "      <td>25-45</td>\n",
       "      <td>0</td>\n",
       "      <td>1</td>\n",
       "      <td>0</td>\n",
       "      <td>0</td>\n",
       "    </tr>\n",
       "    <tr>\n",
       "      <th>6892</th>\n",
       "      <td>217640.00</td>\n",
       "      <td>927.00</td>\n",
       "      <td>Ярославль</td>\n",
       "      <td>Ж</td>\n",
       "      <td>34</td>\n",
       "      <td>5</td>\n",
       "      <td>3782453.73</td>\n",
       "      <td>3</td>\n",
       "      <td>0</td>\n",
       "      <td>1</td>\n",
       "      <td>...</td>\n",
       "      <td>0</td>\n",
       "      <td>0</td>\n",
       "      <td>1</td>\n",
       "      <td>1</td>\n",
       "      <td>0</td>\n",
       "      <td>25-45</td>\n",
       "      <td>0</td>\n",
       "      <td>1</td>\n",
       "      <td>0</td>\n",
       "      <td>0</td>\n",
       "    </tr>\n",
       "    <tr>\n",
       "      <th>7015</th>\n",
       "      <td>141160.00</td>\n",
       "      <td>868.00</td>\n",
       "      <td>Ярославль</td>\n",
       "      <td>М</td>\n",
       "      <td>37</td>\n",
       "      <td>6</td>\n",
       "      <td>818763.06</td>\n",
       "      <td>3</td>\n",
       "      <td>0</td>\n",
       "      <td>1</td>\n",
       "      <td>...</td>\n",
       "      <td>0</td>\n",
       "      <td>0</td>\n",
       "      <td>1</td>\n",
       "      <td>0</td>\n",
       "      <td>1</td>\n",
       "      <td>25-45</td>\n",
       "      <td>0</td>\n",
       "      <td>1</td>\n",
       "      <td>0</td>\n",
       "      <td>0</td>\n",
       "    </tr>\n",
       "    <tr>\n",
       "      <th>7019</th>\n",
       "      <td>200430.00</td>\n",
       "      <td>929.00</td>\n",
       "      <td>Ярославль</td>\n",
       "      <td>Ж</td>\n",
       "      <td>27</td>\n",
       "      <td>5</td>\n",
       "      <td>1476573.30</td>\n",
       "      <td>3</td>\n",
       "      <td>0</td>\n",
       "      <td>1</td>\n",
       "      <td>...</td>\n",
       "      <td>0</td>\n",
       "      <td>0</td>\n",
       "      <td>1</td>\n",
       "      <td>1</td>\n",
       "      <td>0</td>\n",
       "      <td>25-45</td>\n",
       "      <td>0</td>\n",
       "      <td>1</td>\n",
       "      <td>0</td>\n",
       "      <td>0</td>\n",
       "    </tr>\n",
       "    <tr>\n",
       "      <th>7124</th>\n",
       "      <td>165467.00</td>\n",
       "      <td>912.00</td>\n",
       "      <td>Ярославль</td>\n",
       "      <td>Ж</td>\n",
       "      <td>32</td>\n",
       "      <td>6</td>\n",
       "      <td>1374695.43</td>\n",
       "      <td>4</td>\n",
       "      <td>0</td>\n",
       "      <td>1</td>\n",
       "      <td>...</td>\n",
       "      <td>0</td>\n",
       "      <td>0</td>\n",
       "      <td>1</td>\n",
       "      <td>1</td>\n",
       "      <td>0</td>\n",
       "      <td>25-45</td>\n",
       "      <td>0</td>\n",
       "      <td>1</td>\n",
       "      <td>0</td>\n",
       "      <td>0</td>\n",
       "    </tr>\n",
       "    <tr>\n",
       "      <th>7337</th>\n",
       "      <td>205572.00</td>\n",
       "      <td>933.00</td>\n",
       "      <td>Ярославль</td>\n",
       "      <td>Ж</td>\n",
       "      <td>32</td>\n",
       "      <td>5</td>\n",
       "      <td>1496658.76</td>\n",
       "      <td>3</td>\n",
       "      <td>0</td>\n",
       "      <td>1</td>\n",
       "      <td>...</td>\n",
       "      <td>0</td>\n",
       "      <td>0</td>\n",
       "      <td>1</td>\n",
       "      <td>1</td>\n",
       "      <td>0</td>\n",
       "      <td>25-45</td>\n",
       "      <td>0</td>\n",
       "      <td>1</td>\n",
       "      <td>0</td>\n",
       "      <td>0</td>\n",
       "    </tr>\n",
       "    <tr>\n",
       "      <th>7507</th>\n",
       "      <td>151050.00</td>\n",
       "      <td>900.00</td>\n",
       "      <td>Ярославль</td>\n",
       "      <td>М</td>\n",
       "      <td>26</td>\n",
       "      <td>5</td>\n",
       "      <td>749698.70</td>\n",
       "      <td>3</td>\n",
       "      <td>0</td>\n",
       "      <td>1</td>\n",
       "      <td>...</td>\n",
       "      <td>0</td>\n",
       "      <td>0</td>\n",
       "      <td>1</td>\n",
       "      <td>0</td>\n",
       "      <td>1</td>\n",
       "      <td>25-45</td>\n",
       "      <td>0</td>\n",
       "      <td>1</td>\n",
       "      <td>0</td>\n",
       "      <td>0</td>\n",
       "    </tr>\n",
       "    <tr>\n",
       "      <th>7971</th>\n",
       "      <td>145176.00</td>\n",
       "      <td>926.00</td>\n",
       "      <td>Ярославль</td>\n",
       "      <td>Ж</td>\n",
       "      <td>30</td>\n",
       "      <td>5</td>\n",
       "      <td>5270924.77</td>\n",
       "      <td>3</td>\n",
       "      <td>0</td>\n",
       "      <td>1</td>\n",
       "      <td>...</td>\n",
       "      <td>0</td>\n",
       "      <td>0</td>\n",
       "      <td>1</td>\n",
       "      <td>1</td>\n",
       "      <td>0</td>\n",
       "      <td>25-45</td>\n",
       "      <td>0</td>\n",
       "      <td>1</td>\n",
       "      <td>0</td>\n",
       "      <td>0</td>\n",
       "    </tr>\n",
       "    <tr>\n",
       "      <th>8308</th>\n",
       "      <td>213911.00</td>\n",
       "      <td>913.00</td>\n",
       "      <td>Ярославль</td>\n",
       "      <td>М</td>\n",
       "      <td>28</td>\n",
       "      <td>5</td>\n",
       "      <td>1191027.34</td>\n",
       "      <td>3</td>\n",
       "      <td>0</td>\n",
       "      <td>1</td>\n",
       "      <td>...</td>\n",
       "      <td>0</td>\n",
       "      <td>0</td>\n",
       "      <td>1</td>\n",
       "      <td>0</td>\n",
       "      <td>1</td>\n",
       "      <td>25-45</td>\n",
       "      <td>0</td>\n",
       "      <td>1</td>\n",
       "      <td>0</td>\n",
       "      <td>0</td>\n",
       "    </tr>\n",
       "    <tr>\n",
       "      <th>8584</th>\n",
       "      <td>175409.00</td>\n",
       "      <td>922.00</td>\n",
       "      <td>Ярославль</td>\n",
       "      <td>М</td>\n",
       "      <td>26</td>\n",
       "      <td>5</td>\n",
       "      <td>448542.42</td>\n",
       "      <td>3</td>\n",
       "      <td>0</td>\n",
       "      <td>1</td>\n",
       "      <td>...</td>\n",
       "      <td>0</td>\n",
       "      <td>0</td>\n",
       "      <td>1</td>\n",
       "      <td>0</td>\n",
       "      <td>1</td>\n",
       "      <td>25-45</td>\n",
       "      <td>0</td>\n",
       "      <td>1</td>\n",
       "      <td>0</td>\n",
       "      <td>0</td>\n",
       "    </tr>\n",
       "    <tr>\n",
       "      <th>8689</th>\n",
       "      <td>174192.00</td>\n",
       "      <td>869.00</td>\n",
       "      <td>Рыбинск</td>\n",
       "      <td>М</td>\n",
       "      <td>40</td>\n",
       "      <td>5</td>\n",
       "      <td>655740.71</td>\n",
       "      <td>4</td>\n",
       "      <td>0</td>\n",
       "      <td>1</td>\n",
       "      <td>...</td>\n",
       "      <td>0</td>\n",
       "      <td>1</td>\n",
       "      <td>0</td>\n",
       "      <td>0</td>\n",
       "      <td>1</td>\n",
       "      <td>25-45</td>\n",
       "      <td>0</td>\n",
       "      <td>1</td>\n",
       "      <td>0</td>\n",
       "      <td>0</td>\n",
       "    </tr>\n",
       "    <tr>\n",
       "      <th>8894</th>\n",
       "      <td>183719.00</td>\n",
       "      <td>900.00</td>\n",
       "      <td>Ярославль</td>\n",
       "      <td>М</td>\n",
       "      <td>35</td>\n",
       "      <td>6</td>\n",
       "      <td>2243654.20</td>\n",
       "      <td>4</td>\n",
       "      <td>0</td>\n",
       "      <td>1</td>\n",
       "      <td>...</td>\n",
       "      <td>0</td>\n",
       "      <td>0</td>\n",
       "      <td>1</td>\n",
       "      <td>0</td>\n",
       "      <td>1</td>\n",
       "      <td>25-45</td>\n",
       "      <td>0</td>\n",
       "      <td>1</td>\n",
       "      <td>0</td>\n",
       "      <td>0</td>\n",
       "    </tr>\n",
       "    <tr>\n",
       "      <th>8924</th>\n",
       "      <td>216291.00</td>\n",
       "      <td>867.00</td>\n",
       "      <td>Ярославль</td>\n",
       "      <td>Ж</td>\n",
       "      <td>36</td>\n",
       "      <td>5</td>\n",
       "      <td>863582.70</td>\n",
       "      <td>3</td>\n",
       "      <td>0</td>\n",
       "      <td>1</td>\n",
       "      <td>...</td>\n",
       "      <td>0</td>\n",
       "      <td>0</td>\n",
       "      <td>1</td>\n",
       "      <td>1</td>\n",
       "      <td>0</td>\n",
       "      <td>25-45</td>\n",
       "      <td>0</td>\n",
       "      <td>1</td>\n",
       "      <td>0</td>\n",
       "      <td>0</td>\n",
       "    </tr>\n",
       "    <tr>\n",
       "      <th>9440</th>\n",
       "      <td>180657.00</td>\n",
       "      <td>821.00</td>\n",
       "      <td>Ростов</td>\n",
       "      <td>Ж</td>\n",
       "      <td>45</td>\n",
       "      <td>5</td>\n",
       "      <td>1390546.09</td>\n",
       "      <td>3</td>\n",
       "      <td>0</td>\n",
       "      <td>1</td>\n",
       "      <td>...</td>\n",
       "      <td>1</td>\n",
       "      <td>0</td>\n",
       "      <td>0</td>\n",
       "      <td>1</td>\n",
       "      <td>0</td>\n",
       "      <td>25-45</td>\n",
       "      <td>0</td>\n",
       "      <td>1</td>\n",
       "      <td>0</td>\n",
       "      <td>0</td>\n",
       "    </tr>\n",
       "    <tr>\n",
       "      <th>9633</th>\n",
       "      <td>158006.00</td>\n",
       "      <td>937.00</td>\n",
       "      <td>Ярославль</td>\n",
       "      <td>Ж</td>\n",
       "      <td>38</td>\n",
       "      <td>6</td>\n",
       "      <td>2183546.58</td>\n",
       "      <td>3</td>\n",
       "      <td>0</td>\n",
       "      <td>1</td>\n",
       "      <td>...</td>\n",
       "      <td>0</td>\n",
       "      <td>0</td>\n",
       "      <td>1</td>\n",
       "      <td>1</td>\n",
       "      <td>0</td>\n",
       "      <td>25-45</td>\n",
       "      <td>0</td>\n",
       "      <td>1</td>\n",
       "      <td>0</td>\n",
       "      <td>0</td>\n",
       "    </tr>\n",
       "  </tbody>\n",
       "</table>\n",
       "<p>49 rows × 22 columns</p>\n",
       "</div>"
      ],
      "text/plain": [
       "       user_id  score       city gender  age  equity    balance  products  \\\n",
       "72   156677.00 873.00  Ярославль      М   39       5  915959.85         3   \n",
       "81   223978.00 850.00    Рыбинск      М   34       5  351583.16         4   \n",
       "475  140383.00 908.00  Ярославль      М   33       5  649294.72         4   \n",
       "734  170176.00 893.00  Ярославль      М   27       5  499315.41         3   \n",
       "847  115095.00 880.00  Ярославль      Ж   34       5  956027.03         3   \n",
       "936  134107.00 848.00     Ростов      М   26       5  218655.27         4   \n",
       "980  153716.00 857.00  Ярославль      Ж   28       7  317884.70         3   \n",
       "1147 226891.00 864.00  Ярославль      М   39       5  920418.77         3   \n",
       "1166 194256.00 892.00  Ярославль      Ж   37       5 1182532.82         3   \n",
       "1204 223416.00 901.00  Ярославль      М   27       5 1007657.77         3   \n",
       "1365 216512.00 918.00  Ярославль      М   34       5 1297184.34         3   \n",
       "1820 175415.00 868.00    Рыбинск      М   33       6  669230.15         4   \n",
       "1827 219322.00 938.00  Ярославль      Ж   34       5 2011480.78         3   \n",
       "2078 168376.00 860.00  Ярославль      М   42       5 1546551.11         3   \n",
       "2776 224975.00 941.00  Ярославль      Ж   34       5 6916364.04         3   \n",
       "3067 139305.00 866.00    Рыбинск      М   30       5  588736.74         4   \n",
       "3076 122751.00 887.00  Ярославль      М   35       6  475768.04         3   \n",
       "3138 171085.00 906.00  Ярославль      Ж   29       5  659172.87         3   \n",
       "3251 117597.00 868.00  Ярославль      Ж   33       5  801203.06         3   \n",
       "3988 138451.00 904.00  Ярославль      М   33       5 2427737.60         3   \n",
       "4052 164594.00 923.00     Ростов      М   35       5 1497880.90         4   \n",
       "4436 139621.00 870.00  Ярославль      Ж   31       5  599512.35         3   \n",
       "4638 181348.00 901.00  Ярославль      М   44       8 2590265.13         3   \n",
       "4827 132437.00 913.00  Ярославль      М   41       5 1693633.12         3   \n",
       "4898 114344.00 877.00  Ярославль      Ж   29       7  394906.70         3   \n",
       "5028 118108.00 909.00  Ярославль      Ж   37       5 1207775.30         3   \n",
       "5290 173873.00 884.00  Ярославль      Ж   42       5 2269291.52         3   \n",
       "5394 184761.00 826.00  Ярославль      М   28       7  214989.96         4   \n",
       "5396 203549.00 846.00    Рыбинск      М   38       6  603585.35         4   \n",
       "5529 126344.00 855.00  Ярославль      М   39       5 1146433.23         3   \n",
       "5907 125742.00 814.00  Ярославль      М   44       5 1618334.48         3   \n",
       "6437 190542.00 915.00  Ярославль      М   42       5 3013357.61         3   \n",
       "6572 194345.00 834.00  Ярославль      М   34       5 1435912.40         4   \n",
       "6641 229009.00 846.00  Ярославль      Ж   36       5 1005407.55         3   \n",
       "6650 205263.00 867.00  Ярославль      Ж   38       5  675832.76         3   \n",
       "6892 217640.00 927.00  Ярославль      Ж   34       5 3782453.73         3   \n",
       "7015 141160.00 868.00  Ярославль      М   37       6  818763.06         3   \n",
       "7019 200430.00 929.00  Ярославль      Ж   27       5 1476573.30         3   \n",
       "7124 165467.00 912.00  Ярославль      Ж   32       6 1374695.43         4   \n",
       "7337 205572.00 933.00  Ярославль      Ж   32       5 1496658.76         3   \n",
       "7507 151050.00 900.00  Ярославль      М   26       5  749698.70         3   \n",
       "7971 145176.00 926.00  Ярославль      Ж   30       5 5270924.77         3   \n",
       "8308 213911.00 913.00  Ярославль      М   28       5 1191027.34         3   \n",
       "8584 175409.00 922.00  Ярославль      М   26       5  448542.42         3   \n",
       "8689 174192.00 869.00    Рыбинск      М   40       5  655740.71         4   \n",
       "8894 183719.00 900.00  Ярославль      М   35       6 2243654.20         4   \n",
       "8924 216291.00 867.00  Ярославль      Ж   36       5  863582.70         3   \n",
       "9440 180657.00 821.00     Ростов      Ж   45       5 1390546.09         3   \n",
       "9633 158006.00 937.00  Ярославль      Ж   38       6 2183546.58         3   \n",
       "\n",
       "      credit_card  last_activity  ...  Ростов  Рыбинск  Ярославль  female  \\\n",
       "72              0              1  ...       0        0          1       0   \n",
       "81              0              1  ...       0        1          0       0   \n",
       "475             0              1  ...       0        0          1       0   \n",
       "734             0              1  ...       0        0          1       0   \n",
       "847             0              1  ...       0        0          1       1   \n",
       "936             0              1  ...       1        0          0       0   \n",
       "980             0              1  ...       0        0          1       1   \n",
       "1147            0              1  ...       0        0          1       0   \n",
       "1166            0              1  ...       0        0          1       1   \n",
       "1204            0              1  ...       0        0          1       0   \n",
       "1365            0              1  ...       0        0          1       0   \n",
       "1820            0              1  ...       0        1          0       0   \n",
       "1827            0              1  ...       0        0          1       1   \n",
       "2078            0              1  ...       0        0          1       0   \n",
       "2776            0              1  ...       0        0          1       1   \n",
       "3067            0              1  ...       0        1          0       0   \n",
       "3076            0              1  ...       0        0          1       0   \n",
       "3138            0              1  ...       0        0          1       1   \n",
       "3251            0              1  ...       0        0          1       1   \n",
       "3988            0              1  ...       0        0          1       0   \n",
       "4052            0              1  ...       1        0          0       0   \n",
       "4436            0              1  ...       0        0          1       1   \n",
       "4638            0              1  ...       0        0          1       0   \n",
       "4827            0              1  ...       0        0          1       0   \n",
       "4898            0              1  ...       0        0          1       1   \n",
       "5028            0              1  ...       0        0          1       1   \n",
       "5290            0              1  ...       0        0          1       1   \n",
       "5394            0              1  ...       0        0          1       0   \n",
       "5396            0              1  ...       0        1          0       0   \n",
       "5529            0              1  ...       0        0          1       0   \n",
       "5907            0              1  ...       0        0          1       0   \n",
       "6437            0              1  ...       0        0          1       0   \n",
       "6572            0              1  ...       0        0          1       0   \n",
       "6641            0              1  ...       0        0          1       1   \n",
       "6650            0              1  ...       0        0          1       1   \n",
       "6892            0              1  ...       0        0          1       1   \n",
       "7015            0              1  ...       0        0          1       0   \n",
       "7019            0              1  ...       0        0          1       1   \n",
       "7124            0              1  ...       0        0          1       1   \n",
       "7337            0              1  ...       0        0          1       1   \n",
       "7507            0              1  ...       0        0          1       0   \n",
       "7971            0              1  ...       0        0          1       1   \n",
       "8308            0              1  ...       0        0          1       0   \n",
       "8584            0              1  ...       0        0          1       0   \n",
       "8689            0              1  ...       0        1          0       0   \n",
       "8894            0              1  ...       0        0          1       0   \n",
       "8924            0              1  ...       0        0          1       1   \n",
       "9440            0              1  ...       1        0          0       1   \n",
       "9633            0              1  ...       0        0          1       1   \n",
       "\n",
       "      male  age_group  18-24 25-45  46-62  63+  \n",
       "72       1      25-45      0     1      0    0  \n",
       "81       1      25-45      0     1      0    0  \n",
       "475      1      25-45      0     1      0    0  \n",
       "734      1      25-45      0     1      0    0  \n",
       "847      0      25-45      0     1      0    0  \n",
       "936      1      25-45      0     1      0    0  \n",
       "980      0      25-45      0     1      0    0  \n",
       "1147     1      25-45      0     1      0    0  \n",
       "1166     0      25-45      0     1      0    0  \n",
       "1204     1      25-45      0     1      0    0  \n",
       "1365     1      25-45      0     1      0    0  \n",
       "1820     1      25-45      0     1      0    0  \n",
       "1827     0      25-45      0     1      0    0  \n",
       "2078     1      25-45      0     1      0    0  \n",
       "2776     0      25-45      0     1      0    0  \n",
       "3067     1      25-45      0     1      0    0  \n",
       "3076     1      25-45      0     1      0    0  \n",
       "3138     0      25-45      0     1      0    0  \n",
       "3251     0      25-45      0     1      0    0  \n",
       "3988     1      25-45      0     1      0    0  \n",
       "4052     1      25-45      0     1      0    0  \n",
       "4436     0      25-45      0     1      0    0  \n",
       "4638     1      25-45      0     1      0    0  \n",
       "4827     1      25-45      0     1      0    0  \n",
       "4898     0      25-45      0     1      0    0  \n",
       "5028     0      25-45      0     1      0    0  \n",
       "5290     0      25-45      0     1      0    0  \n",
       "5394     1      25-45      0     1      0    0  \n",
       "5396     1      25-45      0     1      0    0  \n",
       "5529     1      25-45      0     1      0    0  \n",
       "5907     1      25-45      0     1      0    0  \n",
       "6437     1      25-45      0     1      0    0  \n",
       "6572     1      25-45      0     1      0    0  \n",
       "6641     0      25-45      0     1      0    0  \n",
       "6650     0      25-45      0     1      0    0  \n",
       "6892     0      25-45      0     1      0    0  \n",
       "7015     1      25-45      0     1      0    0  \n",
       "7019     0      25-45      0     1      0    0  \n",
       "7124     0      25-45      0     1      0    0  \n",
       "7337     0      25-45      0     1      0    0  \n",
       "7507     1      25-45      0     1      0    0  \n",
       "7971     0      25-45      0     1      0    0  \n",
       "8308     1      25-45      0     1      0    0  \n",
       "8584     1      25-45      0     1      0    0  \n",
       "8689     1      25-45      0     1      0    0  \n",
       "8894     1      25-45      0     1      0    0  \n",
       "8924     0      25-45      0     1      0    0  \n",
       "9440     0      25-45      0     1      0    0  \n",
       "9633     0      25-45      0     1      0    0  \n",
       "\n",
       "[49 rows x 22 columns]"
      ]
     },
     "execution_count": 196,
     "metadata": {},
     "output_type": "execute_result"
    }
   ],
   "source": [
    "portrait3 = data.query (\n",
    "    'score >= 750 and credit_card==0 and equity >= 5 and last_activity==1 and age>=25 \\\n",
    "    and age <= 45 and products >= 3 and churn==1') \n",
    "portrait3\n"
   ]
  },
  {
   "cell_type": "markdown",
   "metadata": {},
   "source": [
    "#### Портрет №4"
   ]
  },
  {
   "cell_type": "markdown",
   "metadata": {},
   "source": [
    "Пол: любой  \n",
    "Возраст: от 46 до 62  \n",
    "Город: любой  \n",
    "Оценка объектов собственности: менее 5  \n",
    "Скоринговый рейтинг: 750 и выше  \n",
    "Количество используемых продуктов: 3 и больше  \n",
    "Наличие кредитной карты: нет  \n",
    "Пользовательская активность: да"
   ]
  },
  {
   "cell_type": "markdown",
   "metadata": {},
   "source": [
    "Теперь найдем всех клиентов, удовлетворяющих этим критериям:"
   ]
  },
  {
   "cell_type": "code",
   "execution_count": 197,
   "metadata": {},
   "outputs": [
    {
     "data": {
      "text/html": [
       "<div>\n",
       "<style scoped>\n",
       "    .dataframe tbody tr th:only-of-type {\n",
       "        vertical-align: middle;\n",
       "    }\n",
       "\n",
       "    .dataframe tbody tr th {\n",
       "        vertical-align: top;\n",
       "    }\n",
       "\n",
       "    .dataframe thead th {\n",
       "        text-align: right;\n",
       "    }\n",
       "</style>\n",
       "<table border=\"1\" class=\"dataframe\">\n",
       "  <thead>\n",
       "    <tr style=\"text-align: right;\">\n",
       "      <th></th>\n",
       "      <th>user_id</th>\n",
       "      <th>score</th>\n",
       "      <th>city</th>\n",
       "      <th>gender</th>\n",
       "      <th>age</th>\n",
       "      <th>equity</th>\n",
       "      <th>balance</th>\n",
       "      <th>products</th>\n",
       "      <th>credit_card</th>\n",
       "      <th>last_activity</th>\n",
       "      <th>...</th>\n",
       "      <th>Ростов</th>\n",
       "      <th>Рыбинск</th>\n",
       "      <th>Ярославль</th>\n",
       "      <th>female</th>\n",
       "      <th>male</th>\n",
       "      <th>age_group</th>\n",
       "      <th>18-24</th>\n",
       "      <th>25-45</th>\n",
       "      <th>46-62</th>\n",
       "      <th>63+</th>\n",
       "    </tr>\n",
       "  </thead>\n",
       "  <tbody>\n",
       "    <tr>\n",
       "      <th>927</th>\n",
       "      <td>142574.00</td>\n",
       "      <td>908.00</td>\n",
       "      <td>Ярославль</td>\n",
       "      <td>Ж</td>\n",
       "      <td>56</td>\n",
       "      <td>4</td>\n",
       "      <td>1169266.23</td>\n",
       "      <td>3</td>\n",
       "      <td>0</td>\n",
       "      <td>1</td>\n",
       "      <td>...</td>\n",
       "      <td>0</td>\n",
       "      <td>0</td>\n",
       "      <td>1</td>\n",
       "      <td>1</td>\n",
       "      <td>0</td>\n",
       "      <td>46-62</td>\n",
       "      <td>0</td>\n",
       "      <td>0</td>\n",
       "      <td>1</td>\n",
       "      <td>0</td>\n",
       "    </tr>\n",
       "    <tr>\n",
       "      <th>1359</th>\n",
       "      <td>211130.00</td>\n",
       "      <td>833.00</td>\n",
       "      <td>Ярославль</td>\n",
       "      <td>М</td>\n",
       "      <td>55</td>\n",
       "      <td>3</td>\n",
       "      <td>1231184.90</td>\n",
       "      <td>4</td>\n",
       "      <td>0</td>\n",
       "      <td>1</td>\n",
       "      <td>...</td>\n",
       "      <td>0</td>\n",
       "      <td>0</td>\n",
       "      <td>1</td>\n",
       "      <td>0</td>\n",
       "      <td>1</td>\n",
       "      <td>46-62</td>\n",
       "      <td>0</td>\n",
       "      <td>0</td>\n",
       "      <td>1</td>\n",
       "      <td>0</td>\n",
       "    </tr>\n",
       "    <tr>\n",
       "      <th>1748</th>\n",
       "      <td>146036.00</td>\n",
       "      <td>832.00</td>\n",
       "      <td>Ярославль</td>\n",
       "      <td>Ж</td>\n",
       "      <td>46</td>\n",
       "      <td>2</td>\n",
       "      <td>395500.59</td>\n",
       "      <td>3</td>\n",
       "      <td>0</td>\n",
       "      <td>1</td>\n",
       "      <td>...</td>\n",
       "      <td>0</td>\n",
       "      <td>0</td>\n",
       "      <td>1</td>\n",
       "      <td>1</td>\n",
       "      <td>0</td>\n",
       "      <td>46-62</td>\n",
       "      <td>0</td>\n",
       "      <td>0</td>\n",
       "      <td>1</td>\n",
       "      <td>0</td>\n",
       "    </tr>\n",
       "    <tr>\n",
       "      <th>1851</th>\n",
       "      <td>150276.00</td>\n",
       "      <td>837.00</td>\n",
       "      <td>Ярославль</td>\n",
       "      <td>М</td>\n",
       "      <td>53</td>\n",
       "      <td>3</td>\n",
       "      <td>1404105.68</td>\n",
       "      <td>3</td>\n",
       "      <td>0</td>\n",
       "      <td>1</td>\n",
       "      <td>...</td>\n",
       "      <td>0</td>\n",
       "      <td>0</td>\n",
       "      <td>1</td>\n",
       "      <td>0</td>\n",
       "      <td>1</td>\n",
       "      <td>46-62</td>\n",
       "      <td>0</td>\n",
       "      <td>0</td>\n",
       "      <td>1</td>\n",
       "      <td>0</td>\n",
       "    </tr>\n",
       "    <tr>\n",
       "      <th>1893</th>\n",
       "      <td>116362.00</td>\n",
       "      <td>883.00</td>\n",
       "      <td>Ярославль</td>\n",
       "      <td>Ж</td>\n",
       "      <td>55</td>\n",
       "      <td>1</td>\n",
       "      <td>362756.49</td>\n",
       "      <td>3</td>\n",
       "      <td>0</td>\n",
       "      <td>1</td>\n",
       "      <td>...</td>\n",
       "      <td>0</td>\n",
       "      <td>0</td>\n",
       "      <td>1</td>\n",
       "      <td>1</td>\n",
       "      <td>0</td>\n",
       "      <td>46-62</td>\n",
       "      <td>0</td>\n",
       "      <td>0</td>\n",
       "      <td>1</td>\n",
       "      <td>0</td>\n",
       "    </tr>\n",
       "    <tr>\n",
       "      <th>2236</th>\n",
       "      <td>159760.00</td>\n",
       "      <td>810.00</td>\n",
       "      <td>Ярославль</td>\n",
       "      <td>М</td>\n",
       "      <td>54</td>\n",
       "      <td>4</td>\n",
       "      <td>761640.30</td>\n",
       "      <td>3</td>\n",
       "      <td>0</td>\n",
       "      <td>1</td>\n",
       "      <td>...</td>\n",
       "      <td>0</td>\n",
       "      <td>0</td>\n",
       "      <td>1</td>\n",
       "      <td>0</td>\n",
       "      <td>1</td>\n",
       "      <td>46-62</td>\n",
       "      <td>0</td>\n",
       "      <td>0</td>\n",
       "      <td>1</td>\n",
       "      <td>0</td>\n",
       "    </tr>\n",
       "    <tr>\n",
       "      <th>2594</th>\n",
       "      <td>137901.00</td>\n",
       "      <td>804.00</td>\n",
       "      <td>Ярославль</td>\n",
       "      <td>Ж</td>\n",
       "      <td>48</td>\n",
       "      <td>4</td>\n",
       "      <td>911148.51</td>\n",
       "      <td>3</td>\n",
       "      <td>0</td>\n",
       "      <td>1</td>\n",
       "      <td>...</td>\n",
       "      <td>0</td>\n",
       "      <td>0</td>\n",
       "      <td>1</td>\n",
       "      <td>1</td>\n",
       "      <td>0</td>\n",
       "      <td>46-62</td>\n",
       "      <td>0</td>\n",
       "      <td>0</td>\n",
       "      <td>1</td>\n",
       "      <td>0</td>\n",
       "    </tr>\n",
       "    <tr>\n",
       "      <th>2911</th>\n",
       "      <td>219223.00</td>\n",
       "      <td>905.00</td>\n",
       "      <td>Ярославль</td>\n",
       "      <td>Ж</td>\n",
       "      <td>52</td>\n",
       "      <td>3</td>\n",
       "      <td>1383614.66</td>\n",
       "      <td>4</td>\n",
       "      <td>0</td>\n",
       "      <td>1</td>\n",
       "      <td>...</td>\n",
       "      <td>0</td>\n",
       "      <td>0</td>\n",
       "      <td>1</td>\n",
       "      <td>1</td>\n",
       "      <td>0</td>\n",
       "      <td>46-62</td>\n",
       "      <td>0</td>\n",
       "      <td>0</td>\n",
       "      <td>1</td>\n",
       "      <td>0</td>\n",
       "    </tr>\n",
       "    <tr>\n",
       "      <th>3020</th>\n",
       "      <td>117066.00</td>\n",
       "      <td>926.00</td>\n",
       "      <td>Ярославль</td>\n",
       "      <td>Ж</td>\n",
       "      <td>52</td>\n",
       "      <td>4</td>\n",
       "      <td>2488753.54</td>\n",
       "      <td>3</td>\n",
       "      <td>0</td>\n",
       "      <td>1</td>\n",
       "      <td>...</td>\n",
       "      <td>0</td>\n",
       "      <td>0</td>\n",
       "      <td>1</td>\n",
       "      <td>1</td>\n",
       "      <td>0</td>\n",
       "      <td>46-62</td>\n",
       "      <td>0</td>\n",
       "      <td>0</td>\n",
       "      <td>1</td>\n",
       "      <td>0</td>\n",
       "    </tr>\n",
       "    <tr>\n",
       "      <th>3035</th>\n",
       "      <td>181775.00</td>\n",
       "      <td>881.00</td>\n",
       "      <td>Ярославль</td>\n",
       "      <td>Ж</td>\n",
       "      <td>50</td>\n",
       "      <td>4</td>\n",
       "      <td>511237.34</td>\n",
       "      <td>3</td>\n",
       "      <td>0</td>\n",
       "      <td>1</td>\n",
       "      <td>...</td>\n",
       "      <td>0</td>\n",
       "      <td>0</td>\n",
       "      <td>1</td>\n",
       "      <td>1</td>\n",
       "      <td>0</td>\n",
       "      <td>46-62</td>\n",
       "      <td>0</td>\n",
       "      <td>0</td>\n",
       "      <td>1</td>\n",
       "      <td>0</td>\n",
       "    </tr>\n",
       "    <tr>\n",
       "      <th>3135</th>\n",
       "      <td>200856.00</td>\n",
       "      <td>889.00</td>\n",
       "      <td>Рыбинск</td>\n",
       "      <td>Ж</td>\n",
       "      <td>55</td>\n",
       "      <td>4</td>\n",
       "      <td>1792087.10</td>\n",
       "      <td>4</td>\n",
       "      <td>0</td>\n",
       "      <td>1</td>\n",
       "      <td>...</td>\n",
       "      <td>0</td>\n",
       "      <td>1</td>\n",
       "      <td>0</td>\n",
       "      <td>1</td>\n",
       "      <td>0</td>\n",
       "      <td>46-62</td>\n",
       "      <td>0</td>\n",
       "      <td>0</td>\n",
       "      <td>1</td>\n",
       "      <td>0</td>\n",
       "    </tr>\n",
       "    <tr>\n",
       "      <th>3447</th>\n",
       "      <td>152817.00</td>\n",
       "      <td>796.00</td>\n",
       "      <td>Ярославль</td>\n",
       "      <td>Ж</td>\n",
       "      <td>58</td>\n",
       "      <td>3</td>\n",
       "      <td>289006.45</td>\n",
       "      <td>3</td>\n",
       "      <td>0</td>\n",
       "      <td>1</td>\n",
       "      <td>...</td>\n",
       "      <td>0</td>\n",
       "      <td>0</td>\n",
       "      <td>1</td>\n",
       "      <td>1</td>\n",
       "      <td>0</td>\n",
       "      <td>46-62</td>\n",
       "      <td>0</td>\n",
       "      <td>0</td>\n",
       "      <td>1</td>\n",
       "      <td>0</td>\n",
       "    </tr>\n",
       "    <tr>\n",
       "      <th>4251</th>\n",
       "      <td>168328.00</td>\n",
       "      <td>864.00</td>\n",
       "      <td>Ярославль</td>\n",
       "      <td>М</td>\n",
       "      <td>58</td>\n",
       "      <td>3</td>\n",
       "      <td>1500606.59</td>\n",
       "      <td>3</td>\n",
       "      <td>0</td>\n",
       "      <td>1</td>\n",
       "      <td>...</td>\n",
       "      <td>0</td>\n",
       "      <td>0</td>\n",
       "      <td>1</td>\n",
       "      <td>0</td>\n",
       "      <td>1</td>\n",
       "      <td>46-62</td>\n",
       "      <td>0</td>\n",
       "      <td>0</td>\n",
       "      <td>1</td>\n",
       "      <td>0</td>\n",
       "    </tr>\n",
       "    <tr>\n",
       "      <th>4453</th>\n",
       "      <td>221733.00</td>\n",
       "      <td>855.00</td>\n",
       "      <td>Ярославль</td>\n",
       "      <td>Ж</td>\n",
       "      <td>57</td>\n",
       "      <td>4</td>\n",
       "      <td>1424358.89</td>\n",
       "      <td>3</td>\n",
       "      <td>0</td>\n",
       "      <td>1</td>\n",
       "      <td>...</td>\n",
       "      <td>0</td>\n",
       "      <td>0</td>\n",
       "      <td>1</td>\n",
       "      <td>1</td>\n",
       "      <td>0</td>\n",
       "      <td>46-62</td>\n",
       "      <td>0</td>\n",
       "      <td>0</td>\n",
       "      <td>1</td>\n",
       "      <td>0</td>\n",
       "    </tr>\n",
       "    <tr>\n",
       "      <th>4495</th>\n",
       "      <td>132790.00</td>\n",
       "      <td>825.00</td>\n",
       "      <td>Ярославль</td>\n",
       "      <td>Ж</td>\n",
       "      <td>51</td>\n",
       "      <td>4</td>\n",
       "      <td>1358259.18</td>\n",
       "      <td>3</td>\n",
       "      <td>0</td>\n",
       "      <td>1</td>\n",
       "      <td>...</td>\n",
       "      <td>0</td>\n",
       "      <td>0</td>\n",
       "      <td>1</td>\n",
       "      <td>1</td>\n",
       "      <td>0</td>\n",
       "      <td>46-62</td>\n",
       "      <td>0</td>\n",
       "      <td>0</td>\n",
       "      <td>1</td>\n",
       "      <td>0</td>\n",
       "    </tr>\n",
       "    <tr>\n",
       "      <th>4702</th>\n",
       "      <td>142286.00</td>\n",
       "      <td>859.00</td>\n",
       "      <td>Ярославль</td>\n",
       "      <td>Ж</td>\n",
       "      <td>48</td>\n",
       "      <td>4</td>\n",
       "      <td>1913593.94</td>\n",
       "      <td>3</td>\n",
       "      <td>0</td>\n",
       "      <td>1</td>\n",
       "      <td>...</td>\n",
       "      <td>0</td>\n",
       "      <td>0</td>\n",
       "      <td>1</td>\n",
       "      <td>1</td>\n",
       "      <td>0</td>\n",
       "      <td>46-62</td>\n",
       "      <td>0</td>\n",
       "      <td>0</td>\n",
       "      <td>1</td>\n",
       "      <td>0</td>\n",
       "    </tr>\n",
       "    <tr>\n",
       "      <th>4716</th>\n",
       "      <td>177980.00</td>\n",
       "      <td>862.00</td>\n",
       "      <td>Ярославль</td>\n",
       "      <td>Ж</td>\n",
       "      <td>53</td>\n",
       "      <td>2</td>\n",
       "      <td>538311.23</td>\n",
       "      <td>3</td>\n",
       "      <td>0</td>\n",
       "      <td>1</td>\n",
       "      <td>...</td>\n",
       "      <td>0</td>\n",
       "      <td>0</td>\n",
       "      <td>1</td>\n",
       "      <td>1</td>\n",
       "      <td>0</td>\n",
       "      <td>46-62</td>\n",
       "      <td>0</td>\n",
       "      <td>0</td>\n",
       "      <td>1</td>\n",
       "      <td>0</td>\n",
       "    </tr>\n",
       "    <tr>\n",
       "      <th>4792</th>\n",
       "      <td>216265.00</td>\n",
       "      <td>924.00</td>\n",
       "      <td>Ярославль</td>\n",
       "      <td>М</td>\n",
       "      <td>61</td>\n",
       "      <td>4</td>\n",
       "      <td>3658259.74</td>\n",
       "      <td>3</td>\n",
       "      <td>0</td>\n",
       "      <td>1</td>\n",
       "      <td>...</td>\n",
       "      <td>0</td>\n",
       "      <td>0</td>\n",
       "      <td>1</td>\n",
       "      <td>0</td>\n",
       "      <td>1</td>\n",
       "      <td>46-62</td>\n",
       "      <td>0</td>\n",
       "      <td>0</td>\n",
       "      <td>1</td>\n",
       "      <td>0</td>\n",
       "    </tr>\n",
       "    <tr>\n",
       "      <th>5464</th>\n",
       "      <td>210816.00</td>\n",
       "      <td>841.00</td>\n",
       "      <td>Ярославль</td>\n",
       "      <td>М</td>\n",
       "      <td>52</td>\n",
       "      <td>4</td>\n",
       "      <td>587295.99</td>\n",
       "      <td>4</td>\n",
       "      <td>0</td>\n",
       "      <td>1</td>\n",
       "      <td>...</td>\n",
       "      <td>0</td>\n",
       "      <td>0</td>\n",
       "      <td>1</td>\n",
       "      <td>0</td>\n",
       "      <td>1</td>\n",
       "      <td>46-62</td>\n",
       "      <td>0</td>\n",
       "      <td>0</td>\n",
       "      <td>1</td>\n",
       "      <td>0</td>\n",
       "    </tr>\n",
       "    <tr>\n",
       "      <th>5764</th>\n",
       "      <td>214268.00</td>\n",
       "      <td>875.00</td>\n",
       "      <td>Ярославль</td>\n",
       "      <td>М</td>\n",
       "      <td>54</td>\n",
       "      <td>4</td>\n",
       "      <td>3680351.98</td>\n",
       "      <td>3</td>\n",
       "      <td>0</td>\n",
       "      <td>1</td>\n",
       "      <td>...</td>\n",
       "      <td>0</td>\n",
       "      <td>0</td>\n",
       "      <td>1</td>\n",
       "      <td>0</td>\n",
       "      <td>1</td>\n",
       "      <td>46-62</td>\n",
       "      <td>0</td>\n",
       "      <td>0</td>\n",
       "      <td>1</td>\n",
       "      <td>0</td>\n",
       "    </tr>\n",
       "    <tr>\n",
       "      <th>6469</th>\n",
       "      <td>192693.00</td>\n",
       "      <td>857.00</td>\n",
       "      <td>Ярославль</td>\n",
       "      <td>М</td>\n",
       "      <td>60</td>\n",
       "      <td>4</td>\n",
       "      <td>1346008.00</td>\n",
       "      <td>3</td>\n",
       "      <td>0</td>\n",
       "      <td>1</td>\n",
       "      <td>...</td>\n",
       "      <td>0</td>\n",
       "      <td>0</td>\n",
       "      <td>1</td>\n",
       "      <td>0</td>\n",
       "      <td>1</td>\n",
       "      <td>46-62</td>\n",
       "      <td>0</td>\n",
       "      <td>0</td>\n",
       "      <td>1</td>\n",
       "      <td>0</td>\n",
       "    </tr>\n",
       "    <tr>\n",
       "      <th>6622</th>\n",
       "      <td>205224.00</td>\n",
       "      <td>831.00</td>\n",
       "      <td>Ярославль</td>\n",
       "      <td>Ж</td>\n",
       "      <td>60</td>\n",
       "      <td>3</td>\n",
       "      <td>346457.77</td>\n",
       "      <td>3</td>\n",
       "      <td>0</td>\n",
       "      <td>1</td>\n",
       "      <td>...</td>\n",
       "      <td>0</td>\n",
       "      <td>0</td>\n",
       "      <td>1</td>\n",
       "      <td>1</td>\n",
       "      <td>0</td>\n",
       "      <td>46-62</td>\n",
       "      <td>0</td>\n",
       "      <td>0</td>\n",
       "      <td>1</td>\n",
       "      <td>0</td>\n",
       "    </tr>\n",
       "    <tr>\n",
       "      <th>6733</th>\n",
       "      <td>121270.00</td>\n",
       "      <td>842.00</td>\n",
       "      <td>Ярославль</td>\n",
       "      <td>Ж</td>\n",
       "      <td>46</td>\n",
       "      <td>3</td>\n",
       "      <td>608998.96</td>\n",
       "      <td>3</td>\n",
       "      <td>0</td>\n",
       "      <td>1</td>\n",
       "      <td>...</td>\n",
       "      <td>0</td>\n",
       "      <td>0</td>\n",
       "      <td>1</td>\n",
       "      <td>1</td>\n",
       "      <td>0</td>\n",
       "      <td>46-62</td>\n",
       "      <td>0</td>\n",
       "      <td>0</td>\n",
       "      <td>1</td>\n",
       "      <td>0</td>\n",
       "    </tr>\n",
       "    <tr>\n",
       "      <th>7016</th>\n",
       "      <td>158166.00</td>\n",
       "      <td>844.00</td>\n",
       "      <td>Ярославль</td>\n",
       "      <td>Ж</td>\n",
       "      <td>49</td>\n",
       "      <td>3</td>\n",
       "      <td>415599.26</td>\n",
       "      <td>3</td>\n",
       "      <td>0</td>\n",
       "      <td>1</td>\n",
       "      <td>...</td>\n",
       "      <td>0</td>\n",
       "      <td>0</td>\n",
       "      <td>1</td>\n",
       "      <td>1</td>\n",
       "      <td>0</td>\n",
       "      <td>46-62</td>\n",
       "      <td>0</td>\n",
       "      <td>0</td>\n",
       "      <td>1</td>\n",
       "      <td>0</td>\n",
       "    </tr>\n",
       "    <tr>\n",
       "      <th>8165</th>\n",
       "      <td>189378.00</td>\n",
       "      <td>877.00</td>\n",
       "      <td>Ярославль</td>\n",
       "      <td>М</td>\n",
       "      <td>57</td>\n",
       "      <td>3</td>\n",
       "      <td>2097428.99</td>\n",
       "      <td>3</td>\n",
       "      <td>0</td>\n",
       "      <td>1</td>\n",
       "      <td>...</td>\n",
       "      <td>0</td>\n",
       "      <td>0</td>\n",
       "      <td>1</td>\n",
       "      <td>0</td>\n",
       "      <td>1</td>\n",
       "      <td>46-62</td>\n",
       "      <td>0</td>\n",
       "      <td>0</td>\n",
       "      <td>1</td>\n",
       "      <td>0</td>\n",
       "    </tr>\n",
       "    <tr>\n",
       "      <th>8524</th>\n",
       "      <td>115263.00</td>\n",
       "      <td>802.00</td>\n",
       "      <td>Рыбинск</td>\n",
       "      <td>Ж</td>\n",
       "      <td>48</td>\n",
       "      <td>0</td>\n",
       "      <td>191193.64</td>\n",
       "      <td>4</td>\n",
       "      <td>0</td>\n",
       "      <td>1</td>\n",
       "      <td>...</td>\n",
       "      <td>0</td>\n",
       "      <td>1</td>\n",
       "      <td>0</td>\n",
       "      <td>1</td>\n",
       "      <td>0</td>\n",
       "      <td>46-62</td>\n",
       "      <td>0</td>\n",
       "      <td>0</td>\n",
       "      <td>1</td>\n",
       "      <td>0</td>\n",
       "    </tr>\n",
       "    <tr>\n",
       "      <th>8633</th>\n",
       "      <td>212885.00</td>\n",
       "      <td>858.00</td>\n",
       "      <td>Ярославль</td>\n",
       "      <td>Ж</td>\n",
       "      <td>58</td>\n",
       "      <td>3</td>\n",
       "      <td>749256.43</td>\n",
       "      <td>3</td>\n",
       "      <td>0</td>\n",
       "      <td>1</td>\n",
       "      <td>...</td>\n",
       "      <td>0</td>\n",
       "      <td>0</td>\n",
       "      <td>1</td>\n",
       "      <td>1</td>\n",
       "      <td>0</td>\n",
       "      <td>46-62</td>\n",
       "      <td>0</td>\n",
       "      <td>0</td>\n",
       "      <td>1</td>\n",
       "      <td>0</td>\n",
       "    </tr>\n",
       "    <tr>\n",
       "      <th>8846</th>\n",
       "      <td>134221.00</td>\n",
       "      <td>869.00</td>\n",
       "      <td>Ярославль</td>\n",
       "      <td>М</td>\n",
       "      <td>53</td>\n",
       "      <td>4</td>\n",
       "      <td>3821282.25</td>\n",
       "      <td>3</td>\n",
       "      <td>0</td>\n",
       "      <td>1</td>\n",
       "      <td>...</td>\n",
       "      <td>0</td>\n",
       "      <td>0</td>\n",
       "      <td>1</td>\n",
       "      <td>0</td>\n",
       "      <td>1</td>\n",
       "      <td>46-62</td>\n",
       "      <td>0</td>\n",
       "      <td>0</td>\n",
       "      <td>1</td>\n",
       "      <td>0</td>\n",
       "    </tr>\n",
       "    <tr>\n",
       "      <th>9053</th>\n",
       "      <td>116140.00</td>\n",
       "      <td>908.00</td>\n",
       "      <td>Ярославль</td>\n",
       "      <td>Ж</td>\n",
       "      <td>61</td>\n",
       "      <td>4</td>\n",
       "      <td>727516.28</td>\n",
       "      <td>3</td>\n",
       "      <td>0</td>\n",
       "      <td>1</td>\n",
       "      <td>...</td>\n",
       "      <td>0</td>\n",
       "      <td>0</td>\n",
       "      <td>1</td>\n",
       "      <td>1</td>\n",
       "      <td>0</td>\n",
       "      <td>46-62</td>\n",
       "      <td>0</td>\n",
       "      <td>0</td>\n",
       "      <td>1</td>\n",
       "      <td>0</td>\n",
       "    </tr>\n",
       "    <tr>\n",
       "      <th>9242</th>\n",
       "      <td>211611.00</td>\n",
       "      <td>847.00</td>\n",
       "      <td>Ярославль</td>\n",
       "      <td>М</td>\n",
       "      <td>60</td>\n",
       "      <td>4</td>\n",
       "      <td>572145.74</td>\n",
       "      <td>3</td>\n",
       "      <td>0</td>\n",
       "      <td>1</td>\n",
       "      <td>...</td>\n",
       "      <td>0</td>\n",
       "      <td>0</td>\n",
       "      <td>1</td>\n",
       "      <td>0</td>\n",
       "      <td>1</td>\n",
       "      <td>46-62</td>\n",
       "      <td>0</td>\n",
       "      <td>0</td>\n",
       "      <td>1</td>\n",
       "      <td>0</td>\n",
       "    </tr>\n",
       "  </tbody>\n",
       "</table>\n",
       "<p>30 rows × 22 columns</p>\n",
       "</div>"
      ],
      "text/plain": [
       "       user_id  score       city gender  age  equity    balance  products  \\\n",
       "927  142574.00 908.00  Ярославль      Ж   56       4 1169266.23         3   \n",
       "1359 211130.00 833.00  Ярославль      М   55       3 1231184.90         4   \n",
       "1748 146036.00 832.00  Ярославль      Ж   46       2  395500.59         3   \n",
       "1851 150276.00 837.00  Ярославль      М   53       3 1404105.68         3   \n",
       "1893 116362.00 883.00  Ярославль      Ж   55       1  362756.49         3   \n",
       "2236 159760.00 810.00  Ярославль      М   54       4  761640.30         3   \n",
       "2594 137901.00 804.00  Ярославль      Ж   48       4  911148.51         3   \n",
       "2911 219223.00 905.00  Ярославль      Ж   52       3 1383614.66         4   \n",
       "3020 117066.00 926.00  Ярославль      Ж   52       4 2488753.54         3   \n",
       "3035 181775.00 881.00  Ярославль      Ж   50       4  511237.34         3   \n",
       "3135 200856.00 889.00    Рыбинск      Ж   55       4 1792087.10         4   \n",
       "3447 152817.00 796.00  Ярославль      Ж   58       3  289006.45         3   \n",
       "4251 168328.00 864.00  Ярославль      М   58       3 1500606.59         3   \n",
       "4453 221733.00 855.00  Ярославль      Ж   57       4 1424358.89         3   \n",
       "4495 132790.00 825.00  Ярославль      Ж   51       4 1358259.18         3   \n",
       "4702 142286.00 859.00  Ярославль      Ж   48       4 1913593.94         3   \n",
       "4716 177980.00 862.00  Ярославль      Ж   53       2  538311.23         3   \n",
       "4792 216265.00 924.00  Ярославль      М   61       4 3658259.74         3   \n",
       "5464 210816.00 841.00  Ярославль      М   52       4  587295.99         4   \n",
       "5764 214268.00 875.00  Ярославль      М   54       4 3680351.98         3   \n",
       "6469 192693.00 857.00  Ярославль      М   60       4 1346008.00         3   \n",
       "6622 205224.00 831.00  Ярославль      Ж   60       3  346457.77         3   \n",
       "6733 121270.00 842.00  Ярославль      Ж   46       3  608998.96         3   \n",
       "7016 158166.00 844.00  Ярославль      Ж   49       3  415599.26         3   \n",
       "8165 189378.00 877.00  Ярославль      М   57       3 2097428.99         3   \n",
       "8524 115263.00 802.00    Рыбинск      Ж   48       0  191193.64         4   \n",
       "8633 212885.00 858.00  Ярославль      Ж   58       3  749256.43         3   \n",
       "8846 134221.00 869.00  Ярославль      М   53       4 3821282.25         3   \n",
       "9053 116140.00 908.00  Ярославль      Ж   61       4  727516.28         3   \n",
       "9242 211611.00 847.00  Ярославль      М   60       4  572145.74         3   \n",
       "\n",
       "      credit_card  last_activity  ...  Ростов  Рыбинск  Ярославль  female  \\\n",
       "927             0              1  ...       0        0          1       1   \n",
       "1359            0              1  ...       0        0          1       0   \n",
       "1748            0              1  ...       0        0          1       1   \n",
       "1851            0              1  ...       0        0          1       0   \n",
       "1893            0              1  ...       0        0          1       1   \n",
       "2236            0              1  ...       0        0          1       0   \n",
       "2594            0              1  ...       0        0          1       1   \n",
       "2911            0              1  ...       0        0          1       1   \n",
       "3020            0              1  ...       0        0          1       1   \n",
       "3035            0              1  ...       0        0          1       1   \n",
       "3135            0              1  ...       0        1          0       1   \n",
       "3447            0              1  ...       0        0          1       1   \n",
       "4251            0              1  ...       0        0          1       0   \n",
       "4453            0              1  ...       0        0          1       1   \n",
       "4495            0              1  ...       0        0          1       1   \n",
       "4702            0              1  ...       0        0          1       1   \n",
       "4716            0              1  ...       0        0          1       1   \n",
       "4792            0              1  ...       0        0          1       0   \n",
       "5464            0              1  ...       0        0          1       0   \n",
       "5764            0              1  ...       0        0          1       0   \n",
       "6469            0              1  ...       0        0          1       0   \n",
       "6622            0              1  ...       0        0          1       1   \n",
       "6733            0              1  ...       0        0          1       1   \n",
       "7016            0              1  ...       0        0          1       1   \n",
       "8165            0              1  ...       0        0          1       0   \n",
       "8524            0              1  ...       0        1          0       1   \n",
       "8633            0              1  ...       0        0          1       1   \n",
       "8846            0              1  ...       0        0          1       0   \n",
       "9053            0              1  ...       0        0          1       1   \n",
       "9242            0              1  ...       0        0          1       0   \n",
       "\n",
       "      male  age_group  18-24 25-45  46-62  63+  \n",
       "927      0      46-62      0     0      1    0  \n",
       "1359     1      46-62      0     0      1    0  \n",
       "1748     0      46-62      0     0      1    0  \n",
       "1851     1      46-62      0     0      1    0  \n",
       "1893     0      46-62      0     0      1    0  \n",
       "2236     1      46-62      0     0      1    0  \n",
       "2594     0      46-62      0     0      1    0  \n",
       "2911     0      46-62      0     0      1    0  \n",
       "3020     0      46-62      0     0      1    0  \n",
       "3035     0      46-62      0     0      1    0  \n",
       "3135     0      46-62      0     0      1    0  \n",
       "3447     0      46-62      0     0      1    0  \n",
       "4251     1      46-62      0     0      1    0  \n",
       "4453     0      46-62      0     0      1    0  \n",
       "4495     0      46-62      0     0      1    0  \n",
       "4702     0      46-62      0     0      1    0  \n",
       "4716     0      46-62      0     0      1    0  \n",
       "4792     1      46-62      0     0      1    0  \n",
       "5464     1      46-62      0     0      1    0  \n",
       "5764     1      46-62      0     0      1    0  \n",
       "6469     1      46-62      0     0      1    0  \n",
       "6622     0      46-62      0     0      1    0  \n",
       "6733     0      46-62      0     0      1    0  \n",
       "7016     0      46-62      0     0      1    0  \n",
       "8165     1      46-62      0     0      1    0  \n",
       "8524     0      46-62      0     0      1    0  \n",
       "8633     0      46-62      0     0      1    0  \n",
       "8846     1      46-62      0     0      1    0  \n",
       "9053     0      46-62      0     0      1    0  \n",
       "9242     1      46-62      0     0      1    0  \n",
       "\n",
       "[30 rows x 22 columns]"
      ]
     },
     "execution_count": 197,
     "metadata": {},
     "output_type": "execute_result"
    }
   ],
   "source": [
    "portrait4 = data.query (\n",
    "    'score >= 750 and credit_card==0 and equity < 5 and last_activity==1 and age>=46 \\\n",
    "    and age <62 and products >= 3 and churn==1') \n",
    "portrait4"
   ]
  },
  {
   "cell_type": "markdown",
   "metadata": {},
   "source": [
    "#### Портрет №5"
   ]
  },
  {
   "cell_type": "markdown",
   "metadata": {},
   "source": [
    "Пол: любой  \n",
    "Возраст: от 46 до 62  \n",
    "Город: любой  \n",
    "Оценка объектов собственности: менее 5  \n",
    "Скоринговый рейтинг: 750 и выше  \n",
    "Количество используемых продуктов: 3 и больше  \n",
    "Наличие кредитной карты: да  \n",
    "Пользовательская активность: да"
   ]
  },
  {
   "cell_type": "markdown",
   "metadata": {},
   "source": [
    "Теперь найдем всех клиентов, удовлетворяющих этим критериям:"
   ]
  },
  {
   "cell_type": "code",
   "execution_count": 198,
   "metadata": {},
   "outputs": [
    {
     "data": {
      "text/html": [
       "<div>\n",
       "<style scoped>\n",
       "    .dataframe tbody tr th:only-of-type {\n",
       "        vertical-align: middle;\n",
       "    }\n",
       "\n",
       "    .dataframe tbody tr th {\n",
       "        vertical-align: top;\n",
       "    }\n",
       "\n",
       "    .dataframe thead th {\n",
       "        text-align: right;\n",
       "    }\n",
       "</style>\n",
       "<table border=\"1\" class=\"dataframe\">\n",
       "  <thead>\n",
       "    <tr style=\"text-align: right;\">\n",
       "      <th></th>\n",
       "      <th>user_id</th>\n",
       "      <th>score</th>\n",
       "      <th>city</th>\n",
       "      <th>gender</th>\n",
       "      <th>age</th>\n",
       "      <th>equity</th>\n",
       "      <th>balance</th>\n",
       "      <th>products</th>\n",
       "      <th>credit_card</th>\n",
       "      <th>last_activity</th>\n",
       "      <th>...</th>\n",
       "      <th>Ростов</th>\n",
       "      <th>Рыбинск</th>\n",
       "      <th>Ярославль</th>\n",
       "      <th>female</th>\n",
       "      <th>male</th>\n",
       "      <th>age_group</th>\n",
       "      <th>18-24</th>\n",
       "      <th>25-45</th>\n",
       "      <th>46-62</th>\n",
       "      <th>63+</th>\n",
       "    </tr>\n",
       "  </thead>\n",
       "  <tbody>\n",
       "    <tr>\n",
       "      <th>969</th>\n",
       "      <td>178059.00</td>\n",
       "      <td>828.00</td>\n",
       "      <td>Ростов</td>\n",
       "      <td>Ж</td>\n",
       "      <td>62</td>\n",
       "      <td>4</td>\n",
       "      <td>653195.12</td>\n",
       "      <td>3</td>\n",
       "      <td>1</td>\n",
       "      <td>1</td>\n",
       "      <td>...</td>\n",
       "      <td>1</td>\n",
       "      <td>0</td>\n",
       "      <td>0</td>\n",
       "      <td>1</td>\n",
       "      <td>0</td>\n",
       "      <td>46-62</td>\n",
       "      <td>0</td>\n",
       "      <td>0</td>\n",
       "      <td>1</td>\n",
       "      <td>0</td>\n",
       "    </tr>\n",
       "    <tr>\n",
       "      <th>972</th>\n",
       "      <td>178092.00</td>\n",
       "      <td>888.00</td>\n",
       "      <td>Ярославль</td>\n",
       "      <td>М</td>\n",
       "      <td>48</td>\n",
       "      <td>4</td>\n",
       "      <td>315074.84</td>\n",
       "      <td>4</td>\n",
       "      <td>1</td>\n",
       "      <td>1</td>\n",
       "      <td>...</td>\n",
       "      <td>0</td>\n",
       "      <td>0</td>\n",
       "      <td>1</td>\n",
       "      <td>0</td>\n",
       "      <td>1</td>\n",
       "      <td>46-62</td>\n",
       "      <td>0</td>\n",
       "      <td>0</td>\n",
       "      <td>1</td>\n",
       "      <td>0</td>\n",
       "    </tr>\n",
       "    <tr>\n",
       "      <th>1455</th>\n",
       "      <td>190099.00</td>\n",
       "      <td>928.00</td>\n",
       "      <td>Рыбинск</td>\n",
       "      <td>М</td>\n",
       "      <td>53</td>\n",
       "      <td>4</td>\n",
       "      <td>2414446.77</td>\n",
       "      <td>4</td>\n",
       "      <td>1</td>\n",
       "      <td>1</td>\n",
       "      <td>...</td>\n",
       "      <td>0</td>\n",
       "      <td>1</td>\n",
       "      <td>0</td>\n",
       "      <td>0</td>\n",
       "      <td>1</td>\n",
       "      <td>46-62</td>\n",
       "      <td>0</td>\n",
       "      <td>0</td>\n",
       "      <td>1</td>\n",
       "      <td>0</td>\n",
       "    </tr>\n",
       "    <tr>\n",
       "      <th>2204</th>\n",
       "      <td>212529.00</td>\n",
       "      <td>857.00</td>\n",
       "      <td>Ростов</td>\n",
       "      <td>М</td>\n",
       "      <td>57</td>\n",
       "      <td>2</td>\n",
       "      <td>343682.57</td>\n",
       "      <td>4</td>\n",
       "      <td>1</td>\n",
       "      <td>1</td>\n",
       "      <td>...</td>\n",
       "      <td>1</td>\n",
       "      <td>0</td>\n",
       "      <td>0</td>\n",
       "      <td>0</td>\n",
       "      <td>1</td>\n",
       "      <td>46-62</td>\n",
       "      <td>0</td>\n",
       "      <td>0</td>\n",
       "      <td>1</td>\n",
       "      <td>0</td>\n",
       "    </tr>\n",
       "    <tr>\n",
       "      <th>2221</th>\n",
       "      <td>145933.00</td>\n",
       "      <td>771.00</td>\n",
       "      <td>Рыбинск</td>\n",
       "      <td>М</td>\n",
       "      <td>52</td>\n",
       "      <td>3</td>\n",
       "      <td>1014910.13</td>\n",
       "      <td>3</td>\n",
       "      <td>1</td>\n",
       "      <td>1</td>\n",
       "      <td>...</td>\n",
       "      <td>0</td>\n",
       "      <td>1</td>\n",
       "      <td>0</td>\n",
       "      <td>0</td>\n",
       "      <td>1</td>\n",
       "      <td>46-62</td>\n",
       "      <td>0</td>\n",
       "      <td>0</td>\n",
       "      <td>1</td>\n",
       "      <td>0</td>\n",
       "    </tr>\n",
       "    <tr>\n",
       "      <th>2790</th>\n",
       "      <td>220918.00</td>\n",
       "      <td>847.00</td>\n",
       "      <td>Ярославль</td>\n",
       "      <td>Ж</td>\n",
       "      <td>55</td>\n",
       "      <td>2</td>\n",
       "      <td>410118.95</td>\n",
       "      <td>4</td>\n",
       "      <td>1</td>\n",
       "      <td>1</td>\n",
       "      <td>...</td>\n",
       "      <td>0</td>\n",
       "      <td>0</td>\n",
       "      <td>1</td>\n",
       "      <td>1</td>\n",
       "      <td>0</td>\n",
       "      <td>46-62</td>\n",
       "      <td>0</td>\n",
       "      <td>0</td>\n",
       "      <td>1</td>\n",
       "      <td>0</td>\n",
       "    </tr>\n",
       "    <tr>\n",
       "      <th>2960</th>\n",
       "      <td>215667.00</td>\n",
       "      <td>876.00</td>\n",
       "      <td>Рыбинск</td>\n",
       "      <td>Ж</td>\n",
       "      <td>54</td>\n",
       "      <td>2</td>\n",
       "      <td>1137673.90</td>\n",
       "      <td>4</td>\n",
       "      <td>1</td>\n",
       "      <td>1</td>\n",
       "      <td>...</td>\n",
       "      <td>0</td>\n",
       "      <td>1</td>\n",
       "      <td>0</td>\n",
       "      <td>1</td>\n",
       "      <td>0</td>\n",
       "      <td>46-62</td>\n",
       "      <td>0</td>\n",
       "      <td>0</td>\n",
       "      <td>1</td>\n",
       "      <td>0</td>\n",
       "    </tr>\n",
       "    <tr>\n",
       "      <th>2962</th>\n",
       "      <td>179595.00</td>\n",
       "      <td>784.00</td>\n",
       "      <td>Ярославль</td>\n",
       "      <td>Ж</td>\n",
       "      <td>61</td>\n",
       "      <td>3</td>\n",
       "      <td>1216077.13</td>\n",
       "      <td>3</td>\n",
       "      <td>1</td>\n",
       "      <td>1</td>\n",
       "      <td>...</td>\n",
       "      <td>0</td>\n",
       "      <td>0</td>\n",
       "      <td>1</td>\n",
       "      <td>1</td>\n",
       "      <td>0</td>\n",
       "      <td>46-62</td>\n",
       "      <td>0</td>\n",
       "      <td>0</td>\n",
       "      <td>1</td>\n",
       "      <td>0</td>\n",
       "    </tr>\n",
       "    <tr>\n",
       "      <th>3075</th>\n",
       "      <td>108227.00</td>\n",
       "      <td>927.00</td>\n",
       "      <td>Ярославль</td>\n",
       "      <td>Ж</td>\n",
       "      <td>48</td>\n",
       "      <td>3</td>\n",
       "      <td>2858389.58</td>\n",
       "      <td>4</td>\n",
       "      <td>1</td>\n",
       "      <td>1</td>\n",
       "      <td>...</td>\n",
       "      <td>0</td>\n",
       "      <td>0</td>\n",
       "      <td>1</td>\n",
       "      <td>1</td>\n",
       "      <td>0</td>\n",
       "      <td>46-62</td>\n",
       "      <td>0</td>\n",
       "      <td>0</td>\n",
       "      <td>1</td>\n",
       "      <td>0</td>\n",
       "    </tr>\n",
       "    <tr>\n",
       "      <th>3121</th>\n",
       "      <td>134628.00</td>\n",
       "      <td>920.00</td>\n",
       "      <td>Ярославль</td>\n",
       "      <td>Ж</td>\n",
       "      <td>50</td>\n",
       "      <td>3</td>\n",
       "      <td>1636351.29</td>\n",
       "      <td>4</td>\n",
       "      <td>1</td>\n",
       "      <td>1</td>\n",
       "      <td>...</td>\n",
       "      <td>0</td>\n",
       "      <td>0</td>\n",
       "      <td>1</td>\n",
       "      <td>1</td>\n",
       "      <td>0</td>\n",
       "      <td>46-62</td>\n",
       "      <td>0</td>\n",
       "      <td>0</td>\n",
       "      <td>1</td>\n",
       "      <td>0</td>\n",
       "    </tr>\n",
       "    <tr>\n",
       "      <th>3169</th>\n",
       "      <td>196873.00</td>\n",
       "      <td>772.00</td>\n",
       "      <td>Ростов</td>\n",
       "      <td>М</td>\n",
       "      <td>46</td>\n",
       "      <td>4</td>\n",
       "      <td>476039.17</td>\n",
       "      <td>3</td>\n",
       "      <td>1</td>\n",
       "      <td>1</td>\n",
       "      <td>...</td>\n",
       "      <td>1</td>\n",
       "      <td>0</td>\n",
       "      <td>0</td>\n",
       "      <td>0</td>\n",
       "      <td>1</td>\n",
       "      <td>46-62</td>\n",
       "      <td>0</td>\n",
       "      <td>0</td>\n",
       "      <td>1</td>\n",
       "      <td>0</td>\n",
       "    </tr>\n",
       "    <tr>\n",
       "      <th>3514</th>\n",
       "      <td>212540.00</td>\n",
       "      <td>848.00</td>\n",
       "      <td>Ярославль</td>\n",
       "      <td>Ж</td>\n",
       "      <td>51</td>\n",
       "      <td>3</td>\n",
       "      <td>503158.22</td>\n",
       "      <td>4</td>\n",
       "      <td>1</td>\n",
       "      <td>1</td>\n",
       "      <td>...</td>\n",
       "      <td>0</td>\n",
       "      <td>0</td>\n",
       "      <td>1</td>\n",
       "      <td>1</td>\n",
       "      <td>0</td>\n",
       "      <td>46-62</td>\n",
       "      <td>0</td>\n",
       "      <td>0</td>\n",
       "      <td>1</td>\n",
       "      <td>0</td>\n",
       "    </tr>\n",
       "    <tr>\n",
       "      <th>4635</th>\n",
       "      <td>173844.00</td>\n",
       "      <td>917.00</td>\n",
       "      <td>Ярославль</td>\n",
       "      <td>Ж</td>\n",
       "      <td>50</td>\n",
       "      <td>3</td>\n",
       "      <td>3940958.85</td>\n",
       "      <td>4</td>\n",
       "      <td>1</td>\n",
       "      <td>1</td>\n",
       "      <td>...</td>\n",
       "      <td>0</td>\n",
       "      <td>0</td>\n",
       "      <td>1</td>\n",
       "      <td>1</td>\n",
       "      <td>0</td>\n",
       "      <td>46-62</td>\n",
       "      <td>0</td>\n",
       "      <td>0</td>\n",
       "      <td>1</td>\n",
       "      <td>0</td>\n",
       "    </tr>\n",
       "    <tr>\n",
       "      <th>5093</th>\n",
       "      <td>136712.00</td>\n",
       "      <td>896.00</td>\n",
       "      <td>Рыбинск</td>\n",
       "      <td>Ж</td>\n",
       "      <td>55</td>\n",
       "      <td>4</td>\n",
       "      <td>1858499.05</td>\n",
       "      <td>4</td>\n",
       "      <td>1</td>\n",
       "      <td>1</td>\n",
       "      <td>...</td>\n",
       "      <td>0</td>\n",
       "      <td>1</td>\n",
       "      <td>0</td>\n",
       "      <td>1</td>\n",
       "      <td>0</td>\n",
       "      <td>46-62</td>\n",
       "      <td>0</td>\n",
       "      <td>0</td>\n",
       "      <td>1</td>\n",
       "      <td>0</td>\n",
       "    </tr>\n",
       "    <tr>\n",
       "      <th>5319</th>\n",
       "      <td>204514.00</td>\n",
       "      <td>781.00</td>\n",
       "      <td>Рыбинск</td>\n",
       "      <td>М</td>\n",
       "      <td>58</td>\n",
       "      <td>4</td>\n",
       "      <td>1546584.39</td>\n",
       "      <td>3</td>\n",
       "      <td>1</td>\n",
       "      <td>1</td>\n",
       "      <td>...</td>\n",
       "      <td>0</td>\n",
       "      <td>1</td>\n",
       "      <td>0</td>\n",
       "      <td>0</td>\n",
       "      <td>1</td>\n",
       "      <td>46-62</td>\n",
       "      <td>0</td>\n",
       "      <td>0</td>\n",
       "      <td>1</td>\n",
       "      <td>0</td>\n",
       "    </tr>\n",
       "    <tr>\n",
       "      <th>5359</th>\n",
       "      <td>187784.00</td>\n",
       "      <td>899.00</td>\n",
       "      <td>Ярославль</td>\n",
       "      <td>Ж</td>\n",
       "      <td>56</td>\n",
       "      <td>4</td>\n",
       "      <td>1617017.35</td>\n",
       "      <td>4</td>\n",
       "      <td>1</td>\n",
       "      <td>1</td>\n",
       "      <td>...</td>\n",
       "      <td>0</td>\n",
       "      <td>0</td>\n",
       "      <td>1</td>\n",
       "      <td>1</td>\n",
       "      <td>0</td>\n",
       "      <td>46-62</td>\n",
       "      <td>0</td>\n",
       "      <td>0</td>\n",
       "      <td>1</td>\n",
       "      <td>0</td>\n",
       "    </tr>\n",
       "    <tr>\n",
       "      <th>5803</th>\n",
       "      <td>173450.00</td>\n",
       "      <td>886.00</td>\n",
       "      <td>Рыбинск</td>\n",
       "      <td>Ж</td>\n",
       "      <td>47</td>\n",
       "      <td>3</td>\n",
       "      <td>1197579.25</td>\n",
       "      <td>4</td>\n",
       "      <td>1</td>\n",
       "      <td>1</td>\n",
       "      <td>...</td>\n",
       "      <td>0</td>\n",
       "      <td>1</td>\n",
       "      <td>0</td>\n",
       "      <td>1</td>\n",
       "      <td>0</td>\n",
       "      <td>46-62</td>\n",
       "      <td>0</td>\n",
       "      <td>0</td>\n",
       "      <td>1</td>\n",
       "      <td>0</td>\n",
       "    </tr>\n",
       "    <tr>\n",
       "      <th>6193</th>\n",
       "      <td>126340.00</td>\n",
       "      <td>825.00</td>\n",
       "      <td>Ярославль</td>\n",
       "      <td>М</td>\n",
       "      <td>51</td>\n",
       "      <td>3</td>\n",
       "      <td>1395175.47</td>\n",
       "      <td>4</td>\n",
       "      <td>1</td>\n",
       "      <td>1</td>\n",
       "      <td>...</td>\n",
       "      <td>0</td>\n",
       "      <td>0</td>\n",
       "      <td>1</td>\n",
       "      <td>0</td>\n",
       "      <td>1</td>\n",
       "      <td>46-62</td>\n",
       "      <td>0</td>\n",
       "      <td>0</td>\n",
       "      <td>1</td>\n",
       "      <td>0</td>\n",
       "    </tr>\n",
       "    <tr>\n",
       "      <th>6324</th>\n",
       "      <td>130438.00</td>\n",
       "      <td>758.00</td>\n",
       "      <td>Ростов</td>\n",
       "      <td>М</td>\n",
       "      <td>53</td>\n",
       "      <td>2</td>\n",
       "      <td>1011296.68</td>\n",
       "      <td>3</td>\n",
       "      <td>1</td>\n",
       "      <td>1</td>\n",
       "      <td>...</td>\n",
       "      <td>1</td>\n",
       "      <td>0</td>\n",
       "      <td>0</td>\n",
       "      <td>0</td>\n",
       "      <td>1</td>\n",
       "      <td>46-62</td>\n",
       "      <td>0</td>\n",
       "      <td>0</td>\n",
       "      <td>1</td>\n",
       "      <td>0</td>\n",
       "    </tr>\n",
       "    <tr>\n",
       "      <th>6339</th>\n",
       "      <td>197492.00</td>\n",
       "      <td>816.00</td>\n",
       "      <td>Ярославль</td>\n",
       "      <td>Ж</td>\n",
       "      <td>60</td>\n",
       "      <td>1</td>\n",
       "      <td>229592.68</td>\n",
       "      <td>4</td>\n",
       "      <td>1</td>\n",
       "      <td>1</td>\n",
       "      <td>...</td>\n",
       "      <td>0</td>\n",
       "      <td>0</td>\n",
       "      <td>1</td>\n",
       "      <td>1</td>\n",
       "      <td>0</td>\n",
       "      <td>46-62</td>\n",
       "      <td>0</td>\n",
       "      <td>0</td>\n",
       "      <td>1</td>\n",
       "      <td>0</td>\n",
       "    </tr>\n",
       "    <tr>\n",
       "      <th>6607</th>\n",
       "      <td>188737.00</td>\n",
       "      <td>808.00</td>\n",
       "      <td>Рыбинск</td>\n",
       "      <td>Ж</td>\n",
       "      <td>53</td>\n",
       "      <td>2</td>\n",
       "      <td>1164851.18</td>\n",
       "      <td>4</td>\n",
       "      <td>1</td>\n",
       "      <td>1</td>\n",
       "      <td>...</td>\n",
       "      <td>0</td>\n",
       "      <td>1</td>\n",
       "      <td>0</td>\n",
       "      <td>1</td>\n",
       "      <td>0</td>\n",
       "      <td>46-62</td>\n",
       "      <td>0</td>\n",
       "      <td>0</td>\n",
       "      <td>1</td>\n",
       "      <td>0</td>\n",
       "    </tr>\n",
       "    <tr>\n",
       "      <th>6930</th>\n",
       "      <td>170745.00</td>\n",
       "      <td>897.00</td>\n",
       "      <td>Ярославль</td>\n",
       "      <td>М</td>\n",
       "      <td>51</td>\n",
       "      <td>3</td>\n",
       "      <td>2106712.39</td>\n",
       "      <td>4</td>\n",
       "      <td>1</td>\n",
       "      <td>1</td>\n",
       "      <td>...</td>\n",
       "      <td>0</td>\n",
       "      <td>0</td>\n",
       "      <td>1</td>\n",
       "      <td>0</td>\n",
       "      <td>1</td>\n",
       "      <td>46-62</td>\n",
       "      <td>0</td>\n",
       "      <td>0</td>\n",
       "      <td>1</td>\n",
       "      <td>0</td>\n",
       "    </tr>\n",
       "    <tr>\n",
       "      <th>7158</th>\n",
       "      <td>133888.00</td>\n",
       "      <td>898.00</td>\n",
       "      <td>Ярославль</td>\n",
       "      <td>Ж</td>\n",
       "      <td>57</td>\n",
       "      <td>3</td>\n",
       "      <td>1324821.90</td>\n",
       "      <td>4</td>\n",
       "      <td>1</td>\n",
       "      <td>1</td>\n",
       "      <td>...</td>\n",
       "      <td>0</td>\n",
       "      <td>0</td>\n",
       "      <td>1</td>\n",
       "      <td>1</td>\n",
       "      <td>0</td>\n",
       "      <td>46-62</td>\n",
       "      <td>0</td>\n",
       "      <td>0</td>\n",
       "      <td>1</td>\n",
       "      <td>0</td>\n",
       "    </tr>\n",
       "    <tr>\n",
       "      <th>8095</th>\n",
       "      <td>224514.00</td>\n",
       "      <td>878.00</td>\n",
       "      <td>Ростов</td>\n",
       "      <td>М</td>\n",
       "      <td>50</td>\n",
       "      <td>3</td>\n",
       "      <td>1149138.92</td>\n",
       "      <td>4</td>\n",
       "      <td>1</td>\n",
       "      <td>1</td>\n",
       "      <td>...</td>\n",
       "      <td>1</td>\n",
       "      <td>0</td>\n",
       "      <td>0</td>\n",
       "      <td>0</td>\n",
       "      <td>1</td>\n",
       "      <td>46-62</td>\n",
       "      <td>0</td>\n",
       "      <td>0</td>\n",
       "      <td>1</td>\n",
       "      <td>0</td>\n",
       "    </tr>\n",
       "    <tr>\n",
       "      <th>8674</th>\n",
       "      <td>207559.00</td>\n",
       "      <td>814.00</td>\n",
       "      <td>Рыбинск</td>\n",
       "      <td>М</td>\n",
       "      <td>49</td>\n",
       "      <td>4</td>\n",
       "      <td>651331.06</td>\n",
       "      <td>4</td>\n",
       "      <td>1</td>\n",
       "      <td>1</td>\n",
       "      <td>...</td>\n",
       "      <td>0</td>\n",
       "      <td>1</td>\n",
       "      <td>0</td>\n",
       "      <td>0</td>\n",
       "      <td>1</td>\n",
       "      <td>46-62</td>\n",
       "      <td>0</td>\n",
       "      <td>0</td>\n",
       "      <td>1</td>\n",
       "      <td>0</td>\n",
       "    </tr>\n",
       "    <tr>\n",
       "      <th>8779</th>\n",
       "      <td>102830.00</td>\n",
       "      <td>977.00</td>\n",
       "      <td>Ярославль</td>\n",
       "      <td>М</td>\n",
       "      <td>55</td>\n",
       "      <td>3</td>\n",
       "      <td>447928.61</td>\n",
       "      <td>3</td>\n",
       "      <td>1</td>\n",
       "      <td>1</td>\n",
       "      <td>...</td>\n",
       "      <td>0</td>\n",
       "      <td>0</td>\n",
       "      <td>1</td>\n",
       "      <td>0</td>\n",
       "      <td>1</td>\n",
       "      <td>46-62</td>\n",
       "      <td>0</td>\n",
       "      <td>0</td>\n",
       "      <td>1</td>\n",
       "      <td>0</td>\n",
       "    </tr>\n",
       "    <tr>\n",
       "      <th>8932</th>\n",
       "      <td>213263.00</td>\n",
       "      <td>892.00</td>\n",
       "      <td>Рыбинск</td>\n",
       "      <td>М</td>\n",
       "      <td>55</td>\n",
       "      <td>2</td>\n",
       "      <td>787844.80</td>\n",
       "      <td>4</td>\n",
       "      <td>1</td>\n",
       "      <td>1</td>\n",
       "      <td>...</td>\n",
       "      <td>0</td>\n",
       "      <td>1</td>\n",
       "      <td>0</td>\n",
       "      <td>0</td>\n",
       "      <td>1</td>\n",
       "      <td>46-62</td>\n",
       "      <td>0</td>\n",
       "      <td>0</td>\n",
       "      <td>1</td>\n",
       "      <td>0</td>\n",
       "    </tr>\n",
       "    <tr>\n",
       "      <th>8996</th>\n",
       "      <td>139969.00</td>\n",
       "      <td>822.00</td>\n",
       "      <td>Ярославль</td>\n",
       "      <td>М</td>\n",
       "      <td>49</td>\n",
       "      <td>3</td>\n",
       "      <td>515181.04</td>\n",
       "      <td>4</td>\n",
       "      <td>1</td>\n",
       "      <td>1</td>\n",
       "      <td>...</td>\n",
       "      <td>0</td>\n",
       "      <td>0</td>\n",
       "      <td>1</td>\n",
       "      <td>0</td>\n",
       "      <td>1</td>\n",
       "      <td>46-62</td>\n",
       "      <td>0</td>\n",
       "      <td>0</td>\n",
       "      <td>1</td>\n",
       "      <td>0</td>\n",
       "    </tr>\n",
       "    <tr>\n",
       "      <th>9941</th>\n",
       "      <td>NaN</td>\n",
       "      <td>862.00</td>\n",
       "      <td>Ростов</td>\n",
       "      <td>М</td>\n",
       "      <td>46</td>\n",
       "      <td>3</td>\n",
       "      <td>1784723.84</td>\n",
       "      <td>4</td>\n",
       "      <td>1</td>\n",
       "      <td>1</td>\n",
       "      <td>...</td>\n",
       "      <td>1</td>\n",
       "      <td>0</td>\n",
       "      <td>0</td>\n",
       "      <td>0</td>\n",
       "      <td>1</td>\n",
       "      <td>46-62</td>\n",
       "      <td>0</td>\n",
       "      <td>0</td>\n",
       "      <td>1</td>\n",
       "      <td>0</td>\n",
       "    </tr>\n",
       "  </tbody>\n",
       "</table>\n",
       "<p>29 rows × 22 columns</p>\n",
       "</div>"
      ],
      "text/plain": [
       "       user_id  score       city gender  age  equity    balance  products  \\\n",
       "969  178059.00 828.00     Ростов      Ж   62       4  653195.12         3   \n",
       "972  178092.00 888.00  Ярославль      М   48       4  315074.84         4   \n",
       "1455 190099.00 928.00    Рыбинск      М   53       4 2414446.77         4   \n",
       "2204 212529.00 857.00     Ростов      М   57       2  343682.57         4   \n",
       "2221 145933.00 771.00    Рыбинск      М   52       3 1014910.13         3   \n",
       "2790 220918.00 847.00  Ярославль      Ж   55       2  410118.95         4   \n",
       "2960 215667.00 876.00    Рыбинск      Ж   54       2 1137673.90         4   \n",
       "2962 179595.00 784.00  Ярославль      Ж   61       3 1216077.13         3   \n",
       "3075 108227.00 927.00  Ярославль      Ж   48       3 2858389.58         4   \n",
       "3121 134628.00 920.00  Ярославль      Ж   50       3 1636351.29         4   \n",
       "3169 196873.00 772.00     Ростов      М   46       4  476039.17         3   \n",
       "3514 212540.00 848.00  Ярославль      Ж   51       3  503158.22         4   \n",
       "4635 173844.00 917.00  Ярославль      Ж   50       3 3940958.85         4   \n",
       "5093 136712.00 896.00    Рыбинск      Ж   55       4 1858499.05         4   \n",
       "5319 204514.00 781.00    Рыбинск      М   58       4 1546584.39         3   \n",
       "5359 187784.00 899.00  Ярославль      Ж   56       4 1617017.35         4   \n",
       "5803 173450.00 886.00    Рыбинск      Ж   47       3 1197579.25         4   \n",
       "6193 126340.00 825.00  Ярославль      М   51       3 1395175.47         4   \n",
       "6324 130438.00 758.00     Ростов      М   53       2 1011296.68         3   \n",
       "6339 197492.00 816.00  Ярославль      Ж   60       1  229592.68         4   \n",
       "6607 188737.00 808.00    Рыбинск      Ж   53       2 1164851.18         4   \n",
       "6930 170745.00 897.00  Ярославль      М   51       3 2106712.39         4   \n",
       "7158 133888.00 898.00  Ярославль      Ж   57       3 1324821.90         4   \n",
       "8095 224514.00 878.00     Ростов      М   50       3 1149138.92         4   \n",
       "8674 207559.00 814.00    Рыбинск      М   49       4  651331.06         4   \n",
       "8779 102830.00 977.00  Ярославль      М   55       3  447928.61         3   \n",
       "8932 213263.00 892.00    Рыбинск      М   55       2  787844.80         4   \n",
       "8996 139969.00 822.00  Ярославль      М   49       3  515181.04         4   \n",
       "9941       NaN 862.00     Ростов      М   46       3 1784723.84         4   \n",
       "\n",
       "      credit_card  last_activity  ...  Ростов  Рыбинск  Ярославль  female  \\\n",
       "969             1              1  ...       1        0          0       1   \n",
       "972             1              1  ...       0        0          1       0   \n",
       "1455            1              1  ...       0        1          0       0   \n",
       "2204            1              1  ...       1        0          0       0   \n",
       "2221            1              1  ...       0        1          0       0   \n",
       "2790            1              1  ...       0        0          1       1   \n",
       "2960            1              1  ...       0        1          0       1   \n",
       "2962            1              1  ...       0        0          1       1   \n",
       "3075            1              1  ...       0        0          1       1   \n",
       "3121            1              1  ...       0        0          1       1   \n",
       "3169            1              1  ...       1        0          0       0   \n",
       "3514            1              1  ...       0        0          1       1   \n",
       "4635            1              1  ...       0        0          1       1   \n",
       "5093            1              1  ...       0        1          0       1   \n",
       "5319            1              1  ...       0        1          0       0   \n",
       "5359            1              1  ...       0        0          1       1   \n",
       "5803            1              1  ...       0        1          0       1   \n",
       "6193            1              1  ...       0        0          1       0   \n",
       "6324            1              1  ...       1        0          0       0   \n",
       "6339            1              1  ...       0        0          1       1   \n",
       "6607            1              1  ...       0        1          0       1   \n",
       "6930            1              1  ...       0        0          1       0   \n",
       "7158            1              1  ...       0        0          1       1   \n",
       "8095            1              1  ...       1        0          0       0   \n",
       "8674            1              1  ...       0        1          0       0   \n",
       "8779            1              1  ...       0        0          1       0   \n",
       "8932            1              1  ...       0        1          0       0   \n",
       "8996            1              1  ...       0        0          1       0   \n",
       "9941            1              1  ...       1        0          0       0   \n",
       "\n",
       "      male  age_group  18-24 25-45  46-62  63+  \n",
       "969      0      46-62      0     0      1    0  \n",
       "972      1      46-62      0     0      1    0  \n",
       "1455     1      46-62      0     0      1    0  \n",
       "2204     1      46-62      0     0      1    0  \n",
       "2221     1      46-62      0     0      1    0  \n",
       "2790     0      46-62      0     0      1    0  \n",
       "2960     0      46-62      0     0      1    0  \n",
       "2962     0      46-62      0     0      1    0  \n",
       "3075     0      46-62      0     0      1    0  \n",
       "3121     0      46-62      0     0      1    0  \n",
       "3169     1      46-62      0     0      1    0  \n",
       "3514     0      46-62      0     0      1    0  \n",
       "4635     0      46-62      0     0      1    0  \n",
       "5093     0      46-62      0     0      1    0  \n",
       "5319     1      46-62      0     0      1    0  \n",
       "5359     0      46-62      0     0      1    0  \n",
       "5803     0      46-62      0     0      1    0  \n",
       "6193     1      46-62      0     0      1    0  \n",
       "6324     1      46-62      0     0      1    0  \n",
       "6339     0      46-62      0     0      1    0  \n",
       "6607     0      46-62      0     0      1    0  \n",
       "6930     1      46-62      0     0      1    0  \n",
       "7158     0      46-62      0     0      1    0  \n",
       "8095     1      46-62      0     0      1    0  \n",
       "8674     1      46-62      0     0      1    0  \n",
       "8779     1      46-62      0     0      1    0  \n",
       "8932     1      46-62      0     0      1    0  \n",
       "8996     1      46-62      0     0      1    0  \n",
       "9941     1      46-62      0     0      1    0  \n",
       "\n",
       "[29 rows x 22 columns]"
      ]
     },
     "execution_count": 198,
     "metadata": {},
     "output_type": "execute_result"
    }
   ],
   "source": [
    "portrait5 = data.query (\n",
    "    'score >= 750 and credit_card==1 and equity < 5 and last_activity==1 and age>=46 \\\n",
    "    and age <63 and products >= 3 and churn==1') \n",
    "portrait5"
   ]
  },
  {
   "cell_type": "markdown",
   "metadata": {},
   "source": [
    "#### Портрет №6"
   ]
  },
  {
   "cell_type": "markdown",
   "metadata": {},
   "source": [
    "Пол: мужской  \n",
    "Возраст: 25-45  \n",
    "Город: любой  \n",
    "Оценка объектов собственности: 5 и выше  \n",
    "Скоринговый рейтинг: 800 и выше  \n",
    "Количество используемых продуктов: 3 и больше  \n",
    "Наличие кредитной карты: да  \n",
    "Пользовательская активность: да"
   ]
  },
  {
   "cell_type": "markdown",
   "metadata": {},
   "source": [
    "Теперь найдем всех клиентов, удовлетворяющих этим критериям:"
   ]
  },
  {
   "cell_type": "code",
   "execution_count": 199,
   "metadata": {},
   "outputs": [
    {
     "data": {
      "text/html": [
       "<div>\n",
       "<style scoped>\n",
       "    .dataframe tbody tr th:only-of-type {\n",
       "        vertical-align: middle;\n",
       "    }\n",
       "\n",
       "    .dataframe tbody tr th {\n",
       "        vertical-align: top;\n",
       "    }\n",
       "\n",
       "    .dataframe thead th {\n",
       "        text-align: right;\n",
       "    }\n",
       "</style>\n",
       "<table border=\"1\" class=\"dataframe\">\n",
       "  <thead>\n",
       "    <tr style=\"text-align: right;\">\n",
       "      <th></th>\n",
       "      <th>user_id</th>\n",
       "      <th>score</th>\n",
       "      <th>city</th>\n",
       "      <th>gender</th>\n",
       "      <th>age</th>\n",
       "      <th>equity</th>\n",
       "      <th>balance</th>\n",
       "      <th>products</th>\n",
       "      <th>credit_card</th>\n",
       "      <th>last_activity</th>\n",
       "      <th>...</th>\n",
       "      <th>Ростов</th>\n",
       "      <th>Рыбинск</th>\n",
       "      <th>Ярославль</th>\n",
       "      <th>female</th>\n",
       "      <th>male</th>\n",
       "      <th>age_group</th>\n",
       "      <th>18-24</th>\n",
       "      <th>25-45</th>\n",
       "      <th>46-62</th>\n",
       "      <th>63+</th>\n",
       "    </tr>\n",
       "  </thead>\n",
       "  <tbody>\n",
       "    <tr>\n",
       "      <th>370</th>\n",
       "      <td>221249.00</td>\n",
       "      <td>803.00</td>\n",
       "      <td>Рыбинск</td>\n",
       "      <td>М</td>\n",
       "      <td>42</td>\n",
       "      <td>7</td>\n",
       "      <td>458193.57</td>\n",
       "      <td>4</td>\n",
       "      <td>1</td>\n",
       "      <td>1</td>\n",
       "      <td>...</td>\n",
       "      <td>0</td>\n",
       "      <td>1</td>\n",
       "      <td>0</td>\n",
       "      <td>0</td>\n",
       "      <td>1</td>\n",
       "      <td>25-45</td>\n",
       "      <td>0</td>\n",
       "      <td>1</td>\n",
       "      <td>0</td>\n",
       "      <td>0</td>\n",
       "    </tr>\n",
       "    <tr>\n",
       "      <th>864</th>\n",
       "      <td>208809.00</td>\n",
       "      <td>838.00</td>\n",
       "      <td>Ростов</td>\n",
       "      <td>М</td>\n",
       "      <td>32</td>\n",
       "      <td>6</td>\n",
       "      <td>239613.03</td>\n",
       "      <td>4</td>\n",
       "      <td>1</td>\n",
       "      <td>1</td>\n",
       "      <td>...</td>\n",
       "      <td>1</td>\n",
       "      <td>0</td>\n",
       "      <td>0</td>\n",
       "      <td>0</td>\n",
       "      <td>1</td>\n",
       "      <td>25-45</td>\n",
       "      <td>0</td>\n",
       "      <td>1</td>\n",
       "      <td>0</td>\n",
       "      <td>0</td>\n",
       "    </tr>\n",
       "    <tr>\n",
       "      <th>928</th>\n",
       "      <td>220254.00</td>\n",
       "      <td>838.00</td>\n",
       "      <td>Ярославль</td>\n",
       "      <td>М</td>\n",
       "      <td>35</td>\n",
       "      <td>5</td>\n",
       "      <td>1284094.43</td>\n",
       "      <td>4</td>\n",
       "      <td>1</td>\n",
       "      <td>1</td>\n",
       "      <td>...</td>\n",
       "      <td>0</td>\n",
       "      <td>0</td>\n",
       "      <td>1</td>\n",
       "      <td>0</td>\n",
       "      <td>1</td>\n",
       "      <td>25-45</td>\n",
       "      <td>0</td>\n",
       "      <td>1</td>\n",
       "      <td>0</td>\n",
       "      <td>0</td>\n",
       "    </tr>\n",
       "    <tr>\n",
       "      <th>1330</th>\n",
       "      <td>226844.00</td>\n",
       "      <td>900.00</td>\n",
       "      <td>Ярославль</td>\n",
       "      <td>М</td>\n",
       "      <td>35</td>\n",
       "      <td>5</td>\n",
       "      <td>3971985.11</td>\n",
       "      <td>4</td>\n",
       "      <td>1</td>\n",
       "      <td>1</td>\n",
       "      <td>...</td>\n",
       "      <td>0</td>\n",
       "      <td>0</td>\n",
       "      <td>1</td>\n",
       "      <td>0</td>\n",
       "      <td>1</td>\n",
       "      <td>25-45</td>\n",
       "      <td>0</td>\n",
       "      <td>1</td>\n",
       "      <td>0</td>\n",
       "      <td>0</td>\n",
       "    </tr>\n",
       "    <tr>\n",
       "      <th>1539</th>\n",
       "      <td>211237.00</td>\n",
       "      <td>890.00</td>\n",
       "      <td>Ярославль</td>\n",
       "      <td>М</td>\n",
       "      <td>32</td>\n",
       "      <td>5</td>\n",
       "      <td>1938963.26</td>\n",
       "      <td>4</td>\n",
       "      <td>1</td>\n",
       "      <td>1</td>\n",
       "      <td>...</td>\n",
       "      <td>0</td>\n",
       "      <td>0</td>\n",
       "      <td>1</td>\n",
       "      <td>0</td>\n",
       "      <td>1</td>\n",
       "      <td>25-45</td>\n",
       "      <td>0</td>\n",
       "      <td>1</td>\n",
       "      <td>0</td>\n",
       "      <td>0</td>\n",
       "    </tr>\n",
       "    <tr>\n",
       "      <th>1652</th>\n",
       "      <td>186910.00</td>\n",
       "      <td>893.00</td>\n",
       "      <td>Рыбинск</td>\n",
       "      <td>М</td>\n",
       "      <td>26</td>\n",
       "      <td>5</td>\n",
       "      <td>703073.41</td>\n",
       "      <td>4</td>\n",
       "      <td>1</td>\n",
       "      <td>1</td>\n",
       "      <td>...</td>\n",
       "      <td>0</td>\n",
       "      <td>1</td>\n",
       "      <td>0</td>\n",
       "      <td>0</td>\n",
       "      <td>1</td>\n",
       "      <td>25-45</td>\n",
       "      <td>0</td>\n",
       "      <td>1</td>\n",
       "      <td>0</td>\n",
       "      <td>0</td>\n",
       "    </tr>\n",
       "    <tr>\n",
       "      <th>1804</th>\n",
       "      <td>115614.00</td>\n",
       "      <td>911.00</td>\n",
       "      <td>Рыбинск</td>\n",
       "      <td>М</td>\n",
       "      <td>44</td>\n",
       "      <td>5</td>\n",
       "      <td>1515849.26</td>\n",
       "      <td>4</td>\n",
       "      <td>1</td>\n",
       "      <td>1</td>\n",
       "      <td>...</td>\n",
       "      <td>0</td>\n",
       "      <td>1</td>\n",
       "      <td>0</td>\n",
       "      <td>0</td>\n",
       "      <td>1</td>\n",
       "      <td>25-45</td>\n",
       "      <td>0</td>\n",
       "      <td>1</td>\n",
       "      <td>0</td>\n",
       "      <td>0</td>\n",
       "    </tr>\n",
       "    <tr>\n",
       "      <th>1862</th>\n",
       "      <td>163158.00</td>\n",
       "      <td>897.00</td>\n",
       "      <td>Ярославль</td>\n",
       "      <td>М</td>\n",
       "      <td>29</td>\n",
       "      <td>5</td>\n",
       "      <td>1176545.37</td>\n",
       "      <td>4</td>\n",
       "      <td>1</td>\n",
       "      <td>1</td>\n",
       "      <td>...</td>\n",
       "      <td>0</td>\n",
       "      <td>0</td>\n",
       "      <td>1</td>\n",
       "      <td>0</td>\n",
       "      <td>1</td>\n",
       "      <td>25-45</td>\n",
       "      <td>0</td>\n",
       "      <td>1</td>\n",
       "      <td>0</td>\n",
       "      <td>0</td>\n",
       "    </tr>\n",
       "    <tr>\n",
       "      <th>1970</th>\n",
       "      <td>217749.00</td>\n",
       "      <td>845.00</td>\n",
       "      <td>Ярославль</td>\n",
       "      <td>М</td>\n",
       "      <td>29</td>\n",
       "      <td>5</td>\n",
       "      <td>733098.45</td>\n",
       "      <td>4</td>\n",
       "      <td>1</td>\n",
       "      <td>1</td>\n",
       "      <td>...</td>\n",
       "      <td>0</td>\n",
       "      <td>0</td>\n",
       "      <td>1</td>\n",
       "      <td>0</td>\n",
       "      <td>1</td>\n",
       "      <td>25-45</td>\n",
       "      <td>0</td>\n",
       "      <td>1</td>\n",
       "      <td>0</td>\n",
       "      <td>0</td>\n",
       "    </tr>\n",
       "    <tr>\n",
       "      <th>2499</th>\n",
       "      <td>224376.00</td>\n",
       "      <td>948.00</td>\n",
       "      <td>Ярославль</td>\n",
       "      <td>М</td>\n",
       "      <td>41</td>\n",
       "      <td>5</td>\n",
       "      <td>3095721.85</td>\n",
       "      <td>4</td>\n",
       "      <td>1</td>\n",
       "      <td>1</td>\n",
       "      <td>...</td>\n",
       "      <td>0</td>\n",
       "      <td>0</td>\n",
       "      <td>1</td>\n",
       "      <td>0</td>\n",
       "      <td>1</td>\n",
       "      <td>25-45</td>\n",
       "      <td>0</td>\n",
       "      <td>1</td>\n",
       "      <td>0</td>\n",
       "      <td>0</td>\n",
       "    </tr>\n",
       "    <tr>\n",
       "      <th>2772</th>\n",
       "      <td>221620.00</td>\n",
       "      <td>804.00</td>\n",
       "      <td>Ярославль</td>\n",
       "      <td>М</td>\n",
       "      <td>42</td>\n",
       "      <td>5</td>\n",
       "      <td>1376983.64</td>\n",
       "      <td>4</td>\n",
       "      <td>1</td>\n",
       "      <td>1</td>\n",
       "      <td>...</td>\n",
       "      <td>0</td>\n",
       "      <td>0</td>\n",
       "      <td>1</td>\n",
       "      <td>0</td>\n",
       "      <td>1</td>\n",
       "      <td>25-45</td>\n",
       "      <td>0</td>\n",
       "      <td>1</td>\n",
       "      <td>0</td>\n",
       "      <td>0</td>\n",
       "    </tr>\n",
       "    <tr>\n",
       "      <th>3083</th>\n",
       "      <td>138660.00</td>\n",
       "      <td>977.00</td>\n",
       "      <td>Рыбинск</td>\n",
       "      <td>М</td>\n",
       "      <td>40</td>\n",
       "      <td>5</td>\n",
       "      <td>4827195.67</td>\n",
       "      <td>4</td>\n",
       "      <td>1</td>\n",
       "      <td>1</td>\n",
       "      <td>...</td>\n",
       "      <td>0</td>\n",
       "      <td>1</td>\n",
       "      <td>0</td>\n",
       "      <td>0</td>\n",
       "      <td>1</td>\n",
       "      <td>25-45</td>\n",
       "      <td>0</td>\n",
       "      <td>1</td>\n",
       "      <td>0</td>\n",
       "      <td>0</td>\n",
       "    </tr>\n",
       "    <tr>\n",
       "      <th>3274</th>\n",
       "      <td>155712.00</td>\n",
       "      <td>863.00</td>\n",
       "      <td>Ярославль</td>\n",
       "      <td>М</td>\n",
       "      <td>30</td>\n",
       "      <td>5</td>\n",
       "      <td>1036114.50</td>\n",
       "      <td>5</td>\n",
       "      <td>1</td>\n",
       "      <td>1</td>\n",
       "      <td>...</td>\n",
       "      <td>0</td>\n",
       "      <td>0</td>\n",
       "      <td>1</td>\n",
       "      <td>0</td>\n",
       "      <td>1</td>\n",
       "      <td>25-45</td>\n",
       "      <td>0</td>\n",
       "      <td>1</td>\n",
       "      <td>0</td>\n",
       "      <td>0</td>\n",
       "    </tr>\n",
       "    <tr>\n",
       "      <th>3319</th>\n",
       "      <td>160374.00</td>\n",
       "      <td>857.00</td>\n",
       "      <td>Ярославль</td>\n",
       "      <td>М</td>\n",
       "      <td>36</td>\n",
       "      <td>7</td>\n",
       "      <td>718066.40</td>\n",
       "      <td>4</td>\n",
       "      <td>1</td>\n",
       "      <td>1</td>\n",
       "      <td>...</td>\n",
       "      <td>0</td>\n",
       "      <td>0</td>\n",
       "      <td>1</td>\n",
       "      <td>0</td>\n",
       "      <td>1</td>\n",
       "      <td>25-45</td>\n",
       "      <td>0</td>\n",
       "      <td>1</td>\n",
       "      <td>0</td>\n",
       "      <td>0</td>\n",
       "    </tr>\n",
       "    <tr>\n",
       "      <th>3457</th>\n",
       "      <td>126392.00</td>\n",
       "      <td>854.00</td>\n",
       "      <td>Ярославль</td>\n",
       "      <td>М</td>\n",
       "      <td>43</td>\n",
       "      <td>7</td>\n",
       "      <td>566387.88</td>\n",
       "      <td>4</td>\n",
       "      <td>1</td>\n",
       "      <td>1</td>\n",
       "      <td>...</td>\n",
       "      <td>0</td>\n",
       "      <td>0</td>\n",
       "      <td>1</td>\n",
       "      <td>0</td>\n",
       "      <td>1</td>\n",
       "      <td>25-45</td>\n",
       "      <td>0</td>\n",
       "      <td>1</td>\n",
       "      <td>0</td>\n",
       "      <td>0</td>\n",
       "    </tr>\n",
       "    <tr>\n",
       "      <th>3676</th>\n",
       "      <td>123009.00</td>\n",
       "      <td>886.00</td>\n",
       "      <td>Рыбинск</td>\n",
       "      <td>М</td>\n",
       "      <td>39</td>\n",
       "      <td>5</td>\n",
       "      <td>1035362.01</td>\n",
       "      <td>4</td>\n",
       "      <td>1</td>\n",
       "      <td>1</td>\n",
       "      <td>...</td>\n",
       "      <td>0</td>\n",
       "      <td>1</td>\n",
       "      <td>0</td>\n",
       "      <td>0</td>\n",
       "      <td>1</td>\n",
       "      <td>25-45</td>\n",
       "      <td>0</td>\n",
       "      <td>1</td>\n",
       "      <td>0</td>\n",
       "      <td>0</td>\n",
       "    </tr>\n",
       "    <tr>\n",
       "      <th>4171</th>\n",
       "      <td>220915.00</td>\n",
       "      <td>929.00</td>\n",
       "      <td>Ростов</td>\n",
       "      <td>М</td>\n",
       "      <td>27</td>\n",
       "      <td>5</td>\n",
       "      <td>2037330.25</td>\n",
       "      <td>4</td>\n",
       "      <td>1</td>\n",
       "      <td>1</td>\n",
       "      <td>...</td>\n",
       "      <td>1</td>\n",
       "      <td>0</td>\n",
       "      <td>0</td>\n",
       "      <td>0</td>\n",
       "      <td>1</td>\n",
       "      <td>25-45</td>\n",
       "      <td>0</td>\n",
       "      <td>1</td>\n",
       "      <td>0</td>\n",
       "      <td>0</td>\n",
       "    </tr>\n",
       "    <tr>\n",
       "      <th>4183</th>\n",
       "      <td>188481.00</td>\n",
       "      <td>913.00</td>\n",
       "      <td>Ярославль</td>\n",
       "      <td>М</td>\n",
       "      <td>40</td>\n",
       "      <td>5</td>\n",
       "      <td>1392227.00</td>\n",
       "      <td>5</td>\n",
       "      <td>1</td>\n",
       "      <td>1</td>\n",
       "      <td>...</td>\n",
       "      <td>0</td>\n",
       "      <td>0</td>\n",
       "      <td>1</td>\n",
       "      <td>0</td>\n",
       "      <td>1</td>\n",
       "      <td>25-45</td>\n",
       "      <td>0</td>\n",
       "      <td>1</td>\n",
       "      <td>0</td>\n",
       "      <td>0</td>\n",
       "    </tr>\n",
       "    <tr>\n",
       "      <th>4203</th>\n",
       "      <td>151921.00</td>\n",
       "      <td>910.00</td>\n",
       "      <td>Ярославль</td>\n",
       "      <td>М</td>\n",
       "      <td>42</td>\n",
       "      <td>7</td>\n",
       "      <td>3942878.16</td>\n",
       "      <td>4</td>\n",
       "      <td>1</td>\n",
       "      <td>1</td>\n",
       "      <td>...</td>\n",
       "      <td>0</td>\n",
       "      <td>0</td>\n",
       "      <td>1</td>\n",
       "      <td>0</td>\n",
       "      <td>1</td>\n",
       "      <td>25-45</td>\n",
       "      <td>0</td>\n",
       "      <td>1</td>\n",
       "      <td>0</td>\n",
       "      <td>0</td>\n",
       "    </tr>\n",
       "    <tr>\n",
       "      <th>4620</th>\n",
       "      <td>181167.00</td>\n",
       "      <td>924.00</td>\n",
       "      <td>Ярославль</td>\n",
       "      <td>М</td>\n",
       "      <td>31</td>\n",
       "      <td>5</td>\n",
       "      <td>927300.68</td>\n",
       "      <td>4</td>\n",
       "      <td>1</td>\n",
       "      <td>1</td>\n",
       "      <td>...</td>\n",
       "      <td>0</td>\n",
       "      <td>0</td>\n",
       "      <td>1</td>\n",
       "      <td>0</td>\n",
       "      <td>1</td>\n",
       "      <td>25-45</td>\n",
       "      <td>0</td>\n",
       "      <td>1</td>\n",
       "      <td>0</td>\n",
       "      <td>0</td>\n",
       "    </tr>\n",
       "    <tr>\n",
       "      <th>5450</th>\n",
       "      <td>136369.00</td>\n",
       "      <td>867.00</td>\n",
       "      <td>Ярославль</td>\n",
       "      <td>М</td>\n",
       "      <td>44</td>\n",
       "      <td>6</td>\n",
       "      <td>789556.36</td>\n",
       "      <td>4</td>\n",
       "      <td>1</td>\n",
       "      <td>1</td>\n",
       "      <td>...</td>\n",
       "      <td>0</td>\n",
       "      <td>0</td>\n",
       "      <td>1</td>\n",
       "      <td>0</td>\n",
       "      <td>1</td>\n",
       "      <td>25-45</td>\n",
       "      <td>0</td>\n",
       "      <td>1</td>\n",
       "      <td>0</td>\n",
       "      <td>0</td>\n",
       "    </tr>\n",
       "    <tr>\n",
       "      <th>5966</th>\n",
       "      <td>151887.00</td>\n",
       "      <td>933.00</td>\n",
       "      <td>Ярославль</td>\n",
       "      <td>М</td>\n",
       "      <td>45</td>\n",
       "      <td>5</td>\n",
       "      <td>2825744.81</td>\n",
       "      <td>4</td>\n",
       "      <td>1</td>\n",
       "      <td>1</td>\n",
       "      <td>...</td>\n",
       "      <td>0</td>\n",
       "      <td>0</td>\n",
       "      <td>1</td>\n",
       "      <td>0</td>\n",
       "      <td>1</td>\n",
       "      <td>25-45</td>\n",
       "      <td>0</td>\n",
       "      <td>1</td>\n",
       "      <td>0</td>\n",
       "      <td>0</td>\n",
       "    </tr>\n",
       "    <tr>\n",
       "      <th>6053</th>\n",
       "      <td>225293.00</td>\n",
       "      <td>849.00</td>\n",
       "      <td>Рыбинск</td>\n",
       "      <td>М</td>\n",
       "      <td>34</td>\n",
       "      <td>5</td>\n",
       "      <td>325648.74</td>\n",
       "      <td>4</td>\n",
       "      <td>1</td>\n",
       "      <td>1</td>\n",
       "      <td>...</td>\n",
       "      <td>0</td>\n",
       "      <td>1</td>\n",
       "      <td>0</td>\n",
       "      <td>0</td>\n",
       "      <td>1</td>\n",
       "      <td>25-45</td>\n",
       "      <td>0</td>\n",
       "      <td>1</td>\n",
       "      <td>0</td>\n",
       "      <td>0</td>\n",
       "    </tr>\n",
       "    <tr>\n",
       "      <th>6342</th>\n",
       "      <td>206945.00</td>\n",
       "      <td>821.00</td>\n",
       "      <td>Рыбинск</td>\n",
       "      <td>М</td>\n",
       "      <td>36</td>\n",
       "      <td>7</td>\n",
       "      <td>330762.44</td>\n",
       "      <td>4</td>\n",
       "      <td>1</td>\n",
       "      <td>1</td>\n",
       "      <td>...</td>\n",
       "      <td>0</td>\n",
       "      <td>1</td>\n",
       "      <td>0</td>\n",
       "      <td>0</td>\n",
       "      <td>1</td>\n",
       "      <td>25-45</td>\n",
       "      <td>0</td>\n",
       "      <td>1</td>\n",
       "      <td>0</td>\n",
       "      <td>0</td>\n",
       "    </tr>\n",
       "    <tr>\n",
       "      <th>7119</th>\n",
       "      <td>156567.00</td>\n",
       "      <td>869.00</td>\n",
       "      <td>Ростов</td>\n",
       "      <td>М</td>\n",
       "      <td>37</td>\n",
       "      <td>5</td>\n",
       "      <td>2633767.57</td>\n",
       "      <td>4</td>\n",
       "      <td>1</td>\n",
       "      <td>1</td>\n",
       "      <td>...</td>\n",
       "      <td>1</td>\n",
       "      <td>0</td>\n",
       "      <td>0</td>\n",
       "      <td>0</td>\n",
       "      <td>1</td>\n",
       "      <td>25-45</td>\n",
       "      <td>0</td>\n",
       "      <td>1</td>\n",
       "      <td>0</td>\n",
       "      <td>0</td>\n",
       "    </tr>\n",
       "    <tr>\n",
       "      <th>7254</th>\n",
       "      <td>115132.00</td>\n",
       "      <td>920.00</td>\n",
       "      <td>Рыбинск</td>\n",
       "      <td>М</td>\n",
       "      <td>37</td>\n",
       "      <td>5</td>\n",
       "      <td>1759413.69</td>\n",
       "      <td>4</td>\n",
       "      <td>1</td>\n",
       "      <td>1</td>\n",
       "      <td>...</td>\n",
       "      <td>0</td>\n",
       "      <td>1</td>\n",
       "      <td>0</td>\n",
       "      <td>0</td>\n",
       "      <td>1</td>\n",
       "      <td>25-45</td>\n",
       "      <td>0</td>\n",
       "      <td>1</td>\n",
       "      <td>0</td>\n",
       "      <td>0</td>\n",
       "    </tr>\n",
       "    <tr>\n",
       "      <th>7545</th>\n",
       "      <td>169672.00</td>\n",
       "      <td>893.00</td>\n",
       "      <td>Ярославль</td>\n",
       "      <td>М</td>\n",
       "      <td>29</td>\n",
       "      <td>5</td>\n",
       "      <td>867727.78</td>\n",
       "      <td>5</td>\n",
       "      <td>1</td>\n",
       "      <td>1</td>\n",
       "      <td>...</td>\n",
       "      <td>0</td>\n",
       "      <td>0</td>\n",
       "      <td>1</td>\n",
       "      <td>0</td>\n",
       "      <td>1</td>\n",
       "      <td>25-45</td>\n",
       "      <td>0</td>\n",
       "      <td>1</td>\n",
       "      <td>0</td>\n",
       "      <td>0</td>\n",
       "    </tr>\n",
       "    <tr>\n",
       "      <th>7998</th>\n",
       "      <td>212021.00</td>\n",
       "      <td>859.00</td>\n",
       "      <td>Рыбинск</td>\n",
       "      <td>М</td>\n",
       "      <td>28</td>\n",
       "      <td>8</td>\n",
       "      <td>196999.67</td>\n",
       "      <td>4</td>\n",
       "      <td>1</td>\n",
       "      <td>1</td>\n",
       "      <td>...</td>\n",
       "      <td>0</td>\n",
       "      <td>1</td>\n",
       "      <td>0</td>\n",
       "      <td>0</td>\n",
       "      <td>1</td>\n",
       "      <td>25-45</td>\n",
       "      <td>0</td>\n",
       "      <td>1</td>\n",
       "      <td>0</td>\n",
       "      <td>0</td>\n",
       "    </tr>\n",
       "    <tr>\n",
       "      <th>8096</th>\n",
       "      <td>169399.00</td>\n",
       "      <td>964.00</td>\n",
       "      <td>Ярославль</td>\n",
       "      <td>М</td>\n",
       "      <td>32</td>\n",
       "      <td>7</td>\n",
       "      <td>2387747.91</td>\n",
       "      <td>4</td>\n",
       "      <td>1</td>\n",
       "      <td>1</td>\n",
       "      <td>...</td>\n",
       "      <td>0</td>\n",
       "      <td>0</td>\n",
       "      <td>1</td>\n",
       "      <td>0</td>\n",
       "      <td>1</td>\n",
       "      <td>25-45</td>\n",
       "      <td>0</td>\n",
       "      <td>1</td>\n",
       "      <td>0</td>\n",
       "      <td>0</td>\n",
       "    </tr>\n",
       "    <tr>\n",
       "      <th>8399</th>\n",
       "      <td>154419.00</td>\n",
       "      <td>918.00</td>\n",
       "      <td>Ярославль</td>\n",
       "      <td>М</td>\n",
       "      <td>35</td>\n",
       "      <td>5</td>\n",
       "      <td>1169452.38</td>\n",
       "      <td>4</td>\n",
       "      <td>1</td>\n",
       "      <td>1</td>\n",
       "      <td>...</td>\n",
       "      <td>0</td>\n",
       "      <td>0</td>\n",
       "      <td>1</td>\n",
       "      <td>0</td>\n",
       "      <td>1</td>\n",
       "      <td>25-45</td>\n",
       "      <td>0</td>\n",
       "      <td>1</td>\n",
       "      <td>0</td>\n",
       "      <td>0</td>\n",
       "    </tr>\n",
       "    <tr>\n",
       "      <th>8690</th>\n",
       "      <td>182268.00</td>\n",
       "      <td>867.00</td>\n",
       "      <td>Ярославль</td>\n",
       "      <td>М</td>\n",
       "      <td>42</td>\n",
       "      <td>5</td>\n",
       "      <td>780671.46</td>\n",
       "      <td>4</td>\n",
       "      <td>1</td>\n",
       "      <td>1</td>\n",
       "      <td>...</td>\n",
       "      <td>0</td>\n",
       "      <td>0</td>\n",
       "      <td>1</td>\n",
       "      <td>0</td>\n",
       "      <td>1</td>\n",
       "      <td>25-45</td>\n",
       "      <td>0</td>\n",
       "      <td>1</td>\n",
       "      <td>0</td>\n",
       "      <td>0</td>\n",
       "    </tr>\n",
       "    <tr>\n",
       "      <th>8804</th>\n",
       "      <td>207885.00</td>\n",
       "      <td>948.00</td>\n",
       "      <td>Рыбинск</td>\n",
       "      <td>М</td>\n",
       "      <td>42</td>\n",
       "      <td>5</td>\n",
       "      <td>2130302.29</td>\n",
       "      <td>4</td>\n",
       "      <td>1</td>\n",
       "      <td>1</td>\n",
       "      <td>...</td>\n",
       "      <td>0</td>\n",
       "      <td>1</td>\n",
       "      <td>0</td>\n",
       "      <td>0</td>\n",
       "      <td>1</td>\n",
       "      <td>25-45</td>\n",
       "      <td>0</td>\n",
       "      <td>1</td>\n",
       "      <td>0</td>\n",
       "      <td>0</td>\n",
       "    </tr>\n",
       "    <tr>\n",
       "      <th>8958</th>\n",
       "      <td>165988.00</td>\n",
       "      <td>866.00</td>\n",
       "      <td>Рыбинск</td>\n",
       "      <td>М</td>\n",
       "      <td>34</td>\n",
       "      <td>5</td>\n",
       "      <td>1435780.21</td>\n",
       "      <td>3</td>\n",
       "      <td>1</td>\n",
       "      <td>1</td>\n",
       "      <td>...</td>\n",
       "      <td>0</td>\n",
       "      <td>1</td>\n",
       "      <td>0</td>\n",
       "      <td>0</td>\n",
       "      <td>1</td>\n",
       "      <td>25-45</td>\n",
       "      <td>0</td>\n",
       "      <td>1</td>\n",
       "      <td>0</td>\n",
       "      <td>0</td>\n",
       "    </tr>\n",
       "    <tr>\n",
       "      <th>8964</th>\n",
       "      <td>171777.00</td>\n",
       "      <td>863.00</td>\n",
       "      <td>Ростов</td>\n",
       "      <td>М</td>\n",
       "      <td>27</td>\n",
       "      <td>5</td>\n",
       "      <td>155609.82</td>\n",
       "      <td>4</td>\n",
       "      <td>1</td>\n",
       "      <td>1</td>\n",
       "      <td>...</td>\n",
       "      <td>1</td>\n",
       "      <td>0</td>\n",
       "      <td>0</td>\n",
       "      <td>0</td>\n",
       "      <td>1</td>\n",
       "      <td>25-45</td>\n",
       "      <td>0</td>\n",
       "      <td>1</td>\n",
       "      <td>0</td>\n",
       "      <td>0</td>\n",
       "    </tr>\n",
       "    <tr>\n",
       "      <th>9273</th>\n",
       "      <td>188544.00</td>\n",
       "      <td>849.00</td>\n",
       "      <td>Рыбинск</td>\n",
       "      <td>М</td>\n",
       "      <td>39</td>\n",
       "      <td>5</td>\n",
       "      <td>255958.81</td>\n",
       "      <td>4</td>\n",
       "      <td>1</td>\n",
       "      <td>1</td>\n",
       "      <td>...</td>\n",
       "      <td>0</td>\n",
       "      <td>1</td>\n",
       "      <td>0</td>\n",
       "      <td>0</td>\n",
       "      <td>1</td>\n",
       "      <td>25-45</td>\n",
       "      <td>0</td>\n",
       "      <td>1</td>\n",
       "      <td>0</td>\n",
       "      <td>0</td>\n",
       "    </tr>\n",
       "    <tr>\n",
       "      <th>9284</th>\n",
       "      <td>225304.00</td>\n",
       "      <td>895.00</td>\n",
       "      <td>Ярославль</td>\n",
       "      <td>М</td>\n",
       "      <td>31</td>\n",
       "      <td>6</td>\n",
       "      <td>845549.34</td>\n",
       "      <td>4</td>\n",
       "      <td>1</td>\n",
       "      <td>1</td>\n",
       "      <td>...</td>\n",
       "      <td>0</td>\n",
       "      <td>0</td>\n",
       "      <td>1</td>\n",
       "      <td>0</td>\n",
       "      <td>1</td>\n",
       "      <td>25-45</td>\n",
       "      <td>0</td>\n",
       "      <td>1</td>\n",
       "      <td>0</td>\n",
       "      <td>0</td>\n",
       "    </tr>\n",
       "    <tr>\n",
       "      <th>9896</th>\n",
       "      <td>123120.00</td>\n",
       "      <td>919.00</td>\n",
       "      <td>Ярославль</td>\n",
       "      <td>М</td>\n",
       "      <td>42</td>\n",
       "      <td>5</td>\n",
       "      <td>2183175.39</td>\n",
       "      <td>4</td>\n",
       "      <td>1</td>\n",
       "      <td>1</td>\n",
       "      <td>...</td>\n",
       "      <td>0</td>\n",
       "      <td>0</td>\n",
       "      <td>1</td>\n",
       "      <td>0</td>\n",
       "      <td>1</td>\n",
       "      <td>25-45</td>\n",
       "      <td>0</td>\n",
       "      <td>1</td>\n",
       "      <td>0</td>\n",
       "      <td>0</td>\n",
       "    </tr>\n",
       "  </tbody>\n",
       "</table>\n",
       "<p>37 rows × 22 columns</p>\n",
       "</div>"
      ],
      "text/plain": [
       "       user_id  score       city gender  age  equity    balance  products  \\\n",
       "370  221249.00 803.00    Рыбинск      М   42       7  458193.57         4   \n",
       "864  208809.00 838.00     Ростов      М   32       6  239613.03         4   \n",
       "928  220254.00 838.00  Ярославль      М   35       5 1284094.43         4   \n",
       "1330 226844.00 900.00  Ярославль      М   35       5 3971985.11         4   \n",
       "1539 211237.00 890.00  Ярославль      М   32       5 1938963.26         4   \n",
       "1652 186910.00 893.00    Рыбинск      М   26       5  703073.41         4   \n",
       "1804 115614.00 911.00    Рыбинск      М   44       5 1515849.26         4   \n",
       "1862 163158.00 897.00  Ярославль      М   29       5 1176545.37         4   \n",
       "1970 217749.00 845.00  Ярославль      М   29       5  733098.45         4   \n",
       "2499 224376.00 948.00  Ярославль      М   41       5 3095721.85         4   \n",
       "2772 221620.00 804.00  Ярославль      М   42       5 1376983.64         4   \n",
       "3083 138660.00 977.00    Рыбинск      М   40       5 4827195.67         4   \n",
       "3274 155712.00 863.00  Ярославль      М   30       5 1036114.50         5   \n",
       "3319 160374.00 857.00  Ярославль      М   36       7  718066.40         4   \n",
       "3457 126392.00 854.00  Ярославль      М   43       7  566387.88         4   \n",
       "3676 123009.00 886.00    Рыбинск      М   39       5 1035362.01         4   \n",
       "4171 220915.00 929.00     Ростов      М   27       5 2037330.25         4   \n",
       "4183 188481.00 913.00  Ярославль      М   40       5 1392227.00         5   \n",
       "4203 151921.00 910.00  Ярославль      М   42       7 3942878.16         4   \n",
       "4620 181167.00 924.00  Ярославль      М   31       5  927300.68         4   \n",
       "5450 136369.00 867.00  Ярославль      М   44       6  789556.36         4   \n",
       "5966 151887.00 933.00  Ярославль      М   45       5 2825744.81         4   \n",
       "6053 225293.00 849.00    Рыбинск      М   34       5  325648.74         4   \n",
       "6342 206945.00 821.00    Рыбинск      М   36       7  330762.44         4   \n",
       "7119 156567.00 869.00     Ростов      М   37       5 2633767.57         4   \n",
       "7254 115132.00 920.00    Рыбинск      М   37       5 1759413.69         4   \n",
       "7545 169672.00 893.00  Ярославль      М   29       5  867727.78         5   \n",
       "7998 212021.00 859.00    Рыбинск      М   28       8  196999.67         4   \n",
       "8096 169399.00 964.00  Ярославль      М   32       7 2387747.91         4   \n",
       "8399 154419.00 918.00  Ярославль      М   35       5 1169452.38         4   \n",
       "8690 182268.00 867.00  Ярославль      М   42       5  780671.46         4   \n",
       "8804 207885.00 948.00    Рыбинск      М   42       5 2130302.29         4   \n",
       "8958 165988.00 866.00    Рыбинск      М   34       5 1435780.21         3   \n",
       "8964 171777.00 863.00     Ростов      М   27       5  155609.82         4   \n",
       "9273 188544.00 849.00    Рыбинск      М   39       5  255958.81         4   \n",
       "9284 225304.00 895.00  Ярославль      М   31       6  845549.34         4   \n",
       "9896 123120.00 919.00  Ярославль      М   42       5 2183175.39         4   \n",
       "\n",
       "      credit_card  last_activity  ...  Ростов  Рыбинск  Ярославль  female  \\\n",
       "370             1              1  ...       0        1          0       0   \n",
       "864             1              1  ...       1        0          0       0   \n",
       "928             1              1  ...       0        0          1       0   \n",
       "1330            1              1  ...       0        0          1       0   \n",
       "1539            1              1  ...       0        0          1       0   \n",
       "1652            1              1  ...       0        1          0       0   \n",
       "1804            1              1  ...       0        1          0       0   \n",
       "1862            1              1  ...       0        0          1       0   \n",
       "1970            1              1  ...       0        0          1       0   \n",
       "2499            1              1  ...       0        0          1       0   \n",
       "2772            1              1  ...       0        0          1       0   \n",
       "3083            1              1  ...       0        1          0       0   \n",
       "3274            1              1  ...       0        0          1       0   \n",
       "3319            1              1  ...       0        0          1       0   \n",
       "3457            1              1  ...       0        0          1       0   \n",
       "3676            1              1  ...       0        1          0       0   \n",
       "4171            1              1  ...       1        0          0       0   \n",
       "4183            1              1  ...       0        0          1       0   \n",
       "4203            1              1  ...       0        0          1       0   \n",
       "4620            1              1  ...       0        0          1       0   \n",
       "5450            1              1  ...       0        0          1       0   \n",
       "5966            1              1  ...       0        0          1       0   \n",
       "6053            1              1  ...       0        1          0       0   \n",
       "6342            1              1  ...       0        1          0       0   \n",
       "7119            1              1  ...       1        0          0       0   \n",
       "7254            1              1  ...       0        1          0       0   \n",
       "7545            1              1  ...       0        0          1       0   \n",
       "7998            1              1  ...       0        1          0       0   \n",
       "8096            1              1  ...       0        0          1       0   \n",
       "8399            1              1  ...       0        0          1       0   \n",
       "8690            1              1  ...       0        0          1       0   \n",
       "8804            1              1  ...       0        1          0       0   \n",
       "8958            1              1  ...       0        1          0       0   \n",
       "8964            1              1  ...       1        0          0       0   \n",
       "9273            1              1  ...       0        1          0       0   \n",
       "9284            1              1  ...       0        0          1       0   \n",
       "9896            1              1  ...       0        0          1       0   \n",
       "\n",
       "      male  age_group  18-24 25-45  46-62  63+  \n",
       "370      1      25-45      0     1      0    0  \n",
       "864      1      25-45      0     1      0    0  \n",
       "928      1      25-45      0     1      0    0  \n",
       "1330     1      25-45      0     1      0    0  \n",
       "1539     1      25-45      0     1      0    0  \n",
       "1652     1      25-45      0     1      0    0  \n",
       "1804     1      25-45      0     1      0    0  \n",
       "1862     1      25-45      0     1      0    0  \n",
       "1970     1      25-45      0     1      0    0  \n",
       "2499     1      25-45      0     1      0    0  \n",
       "2772     1      25-45      0     1      0    0  \n",
       "3083     1      25-45      0     1      0    0  \n",
       "3274     1      25-45      0     1      0    0  \n",
       "3319     1      25-45      0     1      0    0  \n",
       "3457     1      25-45      0     1      0    0  \n",
       "3676     1      25-45      0     1      0    0  \n",
       "4171     1      25-45      0     1      0    0  \n",
       "4183     1      25-45      0     1      0    0  \n",
       "4203     1      25-45      0     1      0    0  \n",
       "4620     1      25-45      0     1      0    0  \n",
       "5450     1      25-45      0     1      0    0  \n",
       "5966     1      25-45      0     1      0    0  \n",
       "6053     1      25-45      0     1      0    0  \n",
       "6342     1      25-45      0     1      0    0  \n",
       "7119     1      25-45      0     1      0    0  \n",
       "7254     1      25-45      0     1      0    0  \n",
       "7545     1      25-45      0     1      0    0  \n",
       "7998     1      25-45      0     1      0    0  \n",
       "8096     1      25-45      0     1      0    0  \n",
       "8399     1      25-45      0     1      0    0  \n",
       "8690     1      25-45      0     1      0    0  \n",
       "8804     1      25-45      0     1      0    0  \n",
       "8958     1      25-45      0     1      0    0  \n",
       "8964     1      25-45      0     1      0    0  \n",
       "9273     1      25-45      0     1      0    0  \n",
       "9284     1      25-45      0     1      0    0  \n",
       "9896     1      25-45      0     1      0    0  \n",
       "\n",
       "[37 rows x 22 columns]"
      ]
     },
     "execution_count": 199,
     "metadata": {},
     "output_type": "execute_result"
    }
   ],
   "source": [
    "portrait6 = data.query (\n",
    "    'male==1 and equity>=5 and score >= 800 and credit_card==1 and last_activity==1 and age>=25 \\\n",
    "    and age<=45 and products >= 3 and churn==1') \n",
    "portrait6"
   ]
  },
  {
   "cell_type": "markdown",
   "metadata": {},
   "source": [
    "#### Портрет №7"
   ]
  },
  {
   "cell_type": "markdown",
   "metadata": {},
   "source": [
    "Пол: женский  \n",
    "Возраст: 25-45  \n",
    "Город: любой  \n",
    "Оценка объектов собственности: 4 и выше  \n",
    "Скоринговый рейтинг: 750 и выше  \n",
    "Количество используемых продуктов: 3 и больше  \n",
    "Наличие кредитной карты: да  \n",
    "Пользовательская активность: да"
   ]
  },
  {
   "cell_type": "markdown",
   "metadata": {},
   "source": [
    "Теперь найдем всех клиентов, удовлетворяющих этим критериям:"
   ]
  },
  {
   "cell_type": "code",
   "execution_count": 200,
   "metadata": {},
   "outputs": [
    {
     "data": {
      "text/html": [
       "<div>\n",
       "<style scoped>\n",
       "    .dataframe tbody tr th:only-of-type {\n",
       "        vertical-align: middle;\n",
       "    }\n",
       "\n",
       "    .dataframe tbody tr th {\n",
       "        vertical-align: top;\n",
       "    }\n",
       "\n",
       "    .dataframe thead th {\n",
       "        text-align: right;\n",
       "    }\n",
       "</style>\n",
       "<table border=\"1\" class=\"dataframe\">\n",
       "  <thead>\n",
       "    <tr style=\"text-align: right;\">\n",
       "      <th></th>\n",
       "      <th>user_id</th>\n",
       "      <th>score</th>\n",
       "      <th>city</th>\n",
       "      <th>gender</th>\n",
       "      <th>age</th>\n",
       "      <th>equity</th>\n",
       "      <th>balance</th>\n",
       "      <th>products</th>\n",
       "      <th>credit_card</th>\n",
       "      <th>last_activity</th>\n",
       "      <th>...</th>\n",
       "      <th>Ростов</th>\n",
       "      <th>Рыбинск</th>\n",
       "      <th>Ярославль</th>\n",
       "      <th>female</th>\n",
       "      <th>male</th>\n",
       "      <th>age_group</th>\n",
       "      <th>18-24</th>\n",
       "      <th>25-45</th>\n",
       "      <th>46-62</th>\n",
       "      <th>63+</th>\n",
       "    </tr>\n",
       "  </thead>\n",
       "  <tbody>\n",
       "    <tr>\n",
       "      <th>330</th>\n",
       "      <td>161384.00</td>\n",
       "      <td>943.00</td>\n",
       "      <td>Ярославль</td>\n",
       "      <td>Ж</td>\n",
       "      <td>40</td>\n",
       "      <td>4</td>\n",
       "      <td>2853182.50</td>\n",
       "      <td>4</td>\n",
       "      <td>1</td>\n",
       "      <td>1</td>\n",
       "      <td>...</td>\n",
       "      <td>0</td>\n",
       "      <td>0</td>\n",
       "      <td>1</td>\n",
       "      <td>1</td>\n",
       "      <td>0</td>\n",
       "      <td>25-45</td>\n",
       "      <td>0</td>\n",
       "      <td>1</td>\n",
       "      <td>0</td>\n",
       "      <td>0</td>\n",
       "    </tr>\n",
       "    <tr>\n",
       "      <th>385</th>\n",
       "      <td>114349.00</td>\n",
       "      <td>898.00</td>\n",
       "      <td>Рыбинск</td>\n",
       "      <td>Ж</td>\n",
       "      <td>41</td>\n",
       "      <td>5</td>\n",
       "      <td>572927.93</td>\n",
       "      <td>4</td>\n",
       "      <td>1</td>\n",
       "      <td>1</td>\n",
       "      <td>...</td>\n",
       "      <td>0</td>\n",
       "      <td>1</td>\n",
       "      <td>0</td>\n",
       "      <td>1</td>\n",
       "      <td>0</td>\n",
       "      <td>25-45</td>\n",
       "      <td>0</td>\n",
       "      <td>1</td>\n",
       "      <td>0</td>\n",
       "      <td>0</td>\n",
       "    </tr>\n",
       "    <tr>\n",
       "      <th>494</th>\n",
       "      <td>165161.00</td>\n",
       "      <td>863.00</td>\n",
       "      <td>Ярославль</td>\n",
       "      <td>Ж</td>\n",
       "      <td>31</td>\n",
       "      <td>4</td>\n",
       "      <td>904183.25</td>\n",
       "      <td>4</td>\n",
       "      <td>1</td>\n",
       "      <td>1</td>\n",
       "      <td>...</td>\n",
       "      <td>0</td>\n",
       "      <td>0</td>\n",
       "      <td>1</td>\n",
       "      <td>1</td>\n",
       "      <td>0</td>\n",
       "      <td>25-45</td>\n",
       "      <td>0</td>\n",
       "      <td>1</td>\n",
       "      <td>0</td>\n",
       "      <td>0</td>\n",
       "    </tr>\n",
       "    <tr>\n",
       "      <th>523</th>\n",
       "      <td>195914.00</td>\n",
       "      <td>852.00</td>\n",
       "      <td>Ярославль</td>\n",
       "      <td>Ж</td>\n",
       "      <td>39</td>\n",
       "      <td>5</td>\n",
       "      <td>1388255.70</td>\n",
       "      <td>5</td>\n",
       "      <td>1</td>\n",
       "      <td>1</td>\n",
       "      <td>...</td>\n",
       "      <td>0</td>\n",
       "      <td>0</td>\n",
       "      <td>1</td>\n",
       "      <td>1</td>\n",
       "      <td>0</td>\n",
       "      <td>25-45</td>\n",
       "      <td>0</td>\n",
       "      <td>1</td>\n",
       "      <td>0</td>\n",
       "      <td>0</td>\n",
       "    </tr>\n",
       "    <tr>\n",
       "      <th>1199</th>\n",
       "      <td>119566.00</td>\n",
       "      <td>866.00</td>\n",
       "      <td>Ярославль</td>\n",
       "      <td>Ж</td>\n",
       "      <td>40</td>\n",
       "      <td>4</td>\n",
       "      <td>1183132.50</td>\n",
       "      <td>4</td>\n",
       "      <td>1</td>\n",
       "      <td>1</td>\n",
       "      <td>...</td>\n",
       "      <td>0</td>\n",
       "      <td>0</td>\n",
       "      <td>1</td>\n",
       "      <td>1</td>\n",
       "      <td>0</td>\n",
       "      <td>25-45</td>\n",
       "      <td>0</td>\n",
       "      <td>1</td>\n",
       "      <td>0</td>\n",
       "      <td>0</td>\n",
       "    </tr>\n",
       "    <tr>\n",
       "      <th>1382</th>\n",
       "      <td>103514.00</td>\n",
       "      <td>906.00</td>\n",
       "      <td>Рыбинск</td>\n",
       "      <td>Ж</td>\n",
       "      <td>34</td>\n",
       "      <td>5</td>\n",
       "      <td>1288431.87</td>\n",
       "      <td>4</td>\n",
       "      <td>1</td>\n",
       "      <td>1</td>\n",
       "      <td>...</td>\n",
       "      <td>0</td>\n",
       "      <td>1</td>\n",
       "      <td>0</td>\n",
       "      <td>1</td>\n",
       "      <td>0</td>\n",
       "      <td>25-45</td>\n",
       "      <td>0</td>\n",
       "      <td>1</td>\n",
       "      <td>0</td>\n",
       "      <td>0</td>\n",
       "    </tr>\n",
       "    <tr>\n",
       "      <th>1784</th>\n",
       "      <td>140461.00</td>\n",
       "      <td>910.00</td>\n",
       "      <td>Ярославль</td>\n",
       "      <td>Ж</td>\n",
       "      <td>38</td>\n",
       "      <td>5</td>\n",
       "      <td>2117755.34</td>\n",
       "      <td>4</td>\n",
       "      <td>1</td>\n",
       "      <td>1</td>\n",
       "      <td>...</td>\n",
       "      <td>0</td>\n",
       "      <td>0</td>\n",
       "      <td>1</td>\n",
       "      <td>1</td>\n",
       "      <td>0</td>\n",
       "      <td>25-45</td>\n",
       "      <td>0</td>\n",
       "      <td>1</td>\n",
       "      <td>0</td>\n",
       "      <td>0</td>\n",
       "    </tr>\n",
       "    <tr>\n",
       "      <th>2227</th>\n",
       "      <td>219815.00</td>\n",
       "      <td>888.00</td>\n",
       "      <td>Ярославль</td>\n",
       "      <td>Ж</td>\n",
       "      <td>26</td>\n",
       "      <td>5</td>\n",
       "      <td>336864.58</td>\n",
       "      <td>4</td>\n",
       "      <td>1</td>\n",
       "      <td>1</td>\n",
       "      <td>...</td>\n",
       "      <td>0</td>\n",
       "      <td>0</td>\n",
       "      <td>1</td>\n",
       "      <td>1</td>\n",
       "      <td>0</td>\n",
       "      <td>25-45</td>\n",
       "      <td>0</td>\n",
       "      <td>1</td>\n",
       "      <td>0</td>\n",
       "      <td>0</td>\n",
       "    </tr>\n",
       "    <tr>\n",
       "      <th>2314</th>\n",
       "      <td>134480.00</td>\n",
       "      <td>926.00</td>\n",
       "      <td>Рыбинск</td>\n",
       "      <td>Ж</td>\n",
       "      <td>34</td>\n",
       "      <td>4</td>\n",
       "      <td>414355.25</td>\n",
       "      <td>4</td>\n",
       "      <td>1</td>\n",
       "      <td>1</td>\n",
       "      <td>...</td>\n",
       "      <td>0</td>\n",
       "      <td>1</td>\n",
       "      <td>0</td>\n",
       "      <td>1</td>\n",
       "      <td>0</td>\n",
       "      <td>25-45</td>\n",
       "      <td>0</td>\n",
       "      <td>1</td>\n",
       "      <td>0</td>\n",
       "      <td>0</td>\n",
       "    </tr>\n",
       "    <tr>\n",
       "      <th>2800</th>\n",
       "      <td>152983.00</td>\n",
       "      <td>797.00</td>\n",
       "      <td>Ярославль</td>\n",
       "      <td>Ж</td>\n",
       "      <td>33</td>\n",
       "      <td>5</td>\n",
       "      <td>1053977.67</td>\n",
       "      <td>4</td>\n",
       "      <td>1</td>\n",
       "      <td>1</td>\n",
       "      <td>...</td>\n",
       "      <td>0</td>\n",
       "      <td>0</td>\n",
       "      <td>1</td>\n",
       "      <td>1</td>\n",
       "      <td>0</td>\n",
       "      <td>25-45</td>\n",
       "      <td>0</td>\n",
       "      <td>1</td>\n",
       "      <td>0</td>\n",
       "      <td>0</td>\n",
       "    </tr>\n",
       "    <tr>\n",
       "      <th>2865</th>\n",
       "      <td>163909.00</td>\n",
       "      <td>884.00</td>\n",
       "      <td>Ярославль</td>\n",
       "      <td>Ж</td>\n",
       "      <td>35</td>\n",
       "      <td>4</td>\n",
       "      <td>1279201.99</td>\n",
       "      <td>4</td>\n",
       "      <td>1</td>\n",
       "      <td>1</td>\n",
       "      <td>...</td>\n",
       "      <td>0</td>\n",
       "      <td>0</td>\n",
       "      <td>1</td>\n",
       "      <td>1</td>\n",
       "      <td>0</td>\n",
       "      <td>25-45</td>\n",
       "      <td>0</td>\n",
       "      <td>1</td>\n",
       "      <td>0</td>\n",
       "      <td>0</td>\n",
       "    </tr>\n",
       "    <tr>\n",
       "      <th>2989</th>\n",
       "      <td>187962.00</td>\n",
       "      <td>918.00</td>\n",
       "      <td>Ярославль</td>\n",
       "      <td>Ж</td>\n",
       "      <td>37</td>\n",
       "      <td>5</td>\n",
       "      <td>1366382.35</td>\n",
       "      <td>4</td>\n",
       "      <td>1</td>\n",
       "      <td>1</td>\n",
       "      <td>...</td>\n",
       "      <td>0</td>\n",
       "      <td>0</td>\n",
       "      <td>1</td>\n",
       "      <td>1</td>\n",
       "      <td>0</td>\n",
       "      <td>25-45</td>\n",
       "      <td>0</td>\n",
       "      <td>1</td>\n",
       "      <td>0</td>\n",
       "      <td>0</td>\n",
       "    </tr>\n",
       "    <tr>\n",
       "      <th>2990</th>\n",
       "      <td>96679.00</td>\n",
       "      <td>934.00</td>\n",
       "      <td>Ярославль</td>\n",
       "      <td>Ж</td>\n",
       "      <td>37</td>\n",
       "      <td>5</td>\n",
       "      <td>2894230.30</td>\n",
       "      <td>4</td>\n",
       "      <td>1</td>\n",
       "      <td>1</td>\n",
       "      <td>...</td>\n",
       "      <td>0</td>\n",
       "      <td>0</td>\n",
       "      <td>1</td>\n",
       "      <td>1</td>\n",
       "      <td>0</td>\n",
       "      <td>25-45</td>\n",
       "      <td>0</td>\n",
       "      <td>1</td>\n",
       "      <td>0</td>\n",
       "      <td>0</td>\n",
       "    </tr>\n",
       "    <tr>\n",
       "      <th>3133</th>\n",
       "      <td>204297.00</td>\n",
       "      <td>876.00</td>\n",
       "      <td>Ярославль</td>\n",
       "      <td>Ж</td>\n",
       "      <td>39</td>\n",
       "      <td>5</td>\n",
       "      <td>1497303.86</td>\n",
       "      <td>4</td>\n",
       "      <td>1</td>\n",
       "      <td>1</td>\n",
       "      <td>...</td>\n",
       "      <td>0</td>\n",
       "      <td>0</td>\n",
       "      <td>1</td>\n",
       "      <td>1</td>\n",
       "      <td>0</td>\n",
       "      <td>25-45</td>\n",
       "      <td>0</td>\n",
       "      <td>1</td>\n",
       "      <td>0</td>\n",
       "      <td>0</td>\n",
       "    </tr>\n",
       "    <tr>\n",
       "      <th>3842</th>\n",
       "      <td>154823.00</td>\n",
       "      <td>864.00</td>\n",
       "      <td>Ярославль</td>\n",
       "      <td>Ж</td>\n",
       "      <td>32</td>\n",
       "      <td>5</td>\n",
       "      <td>1930019.02</td>\n",
       "      <td>4</td>\n",
       "      <td>1</td>\n",
       "      <td>1</td>\n",
       "      <td>...</td>\n",
       "      <td>0</td>\n",
       "      <td>0</td>\n",
       "      <td>1</td>\n",
       "      <td>1</td>\n",
       "      <td>0</td>\n",
       "      <td>25-45</td>\n",
       "      <td>0</td>\n",
       "      <td>1</td>\n",
       "      <td>0</td>\n",
       "      <td>0</td>\n",
       "    </tr>\n",
       "    <tr>\n",
       "      <th>3846</th>\n",
       "      <td>122208.00</td>\n",
       "      <td>868.00</td>\n",
       "      <td>Рыбинск</td>\n",
       "      <td>Ж</td>\n",
       "      <td>42</td>\n",
       "      <td>5</td>\n",
       "      <td>546456.02</td>\n",
       "      <td>4</td>\n",
       "      <td>1</td>\n",
       "      <td>1</td>\n",
       "      <td>...</td>\n",
       "      <td>0</td>\n",
       "      <td>1</td>\n",
       "      <td>0</td>\n",
       "      <td>1</td>\n",
       "      <td>0</td>\n",
       "      <td>25-45</td>\n",
       "      <td>0</td>\n",
       "      <td>1</td>\n",
       "      <td>0</td>\n",
       "      <td>0</td>\n",
       "    </tr>\n",
       "    <tr>\n",
       "      <th>3904</th>\n",
       "      <td>129016.00</td>\n",
       "      <td>802.00</td>\n",
       "      <td>Ярославль</td>\n",
       "      <td>Ж</td>\n",
       "      <td>38</td>\n",
       "      <td>4</td>\n",
       "      <td>1423753.99</td>\n",
       "      <td>3</td>\n",
       "      <td>1</td>\n",
       "      <td>1</td>\n",
       "      <td>...</td>\n",
       "      <td>0</td>\n",
       "      <td>0</td>\n",
       "      <td>1</td>\n",
       "      <td>1</td>\n",
       "      <td>0</td>\n",
       "      <td>25-45</td>\n",
       "      <td>0</td>\n",
       "      <td>1</td>\n",
       "      <td>0</td>\n",
       "      <td>0</td>\n",
       "    </tr>\n",
       "    <tr>\n",
       "      <th>4414</th>\n",
       "      <td>173609.00</td>\n",
       "      <td>928.00</td>\n",
       "      <td>Ярославль</td>\n",
       "      <td>Ж</td>\n",
       "      <td>38</td>\n",
       "      <td>4</td>\n",
       "      <td>1293525.90</td>\n",
       "      <td>5</td>\n",
       "      <td>1</td>\n",
       "      <td>1</td>\n",
       "      <td>...</td>\n",
       "      <td>0</td>\n",
       "      <td>0</td>\n",
       "      <td>1</td>\n",
       "      <td>1</td>\n",
       "      <td>0</td>\n",
       "      <td>25-45</td>\n",
       "      <td>0</td>\n",
       "      <td>1</td>\n",
       "      <td>0</td>\n",
       "      <td>0</td>\n",
       "    </tr>\n",
       "    <tr>\n",
       "      <th>4714</th>\n",
       "      <td>171698.00</td>\n",
       "      <td>806.00</td>\n",
       "      <td>Ростов</td>\n",
       "      <td>Ж</td>\n",
       "      <td>33</td>\n",
       "      <td>4</td>\n",
       "      <td>365540.40</td>\n",
       "      <td>3</td>\n",
       "      <td>1</td>\n",
       "      <td>1</td>\n",
       "      <td>...</td>\n",
       "      <td>1</td>\n",
       "      <td>0</td>\n",
       "      <td>0</td>\n",
       "      <td>1</td>\n",
       "      <td>0</td>\n",
       "      <td>25-45</td>\n",
       "      <td>0</td>\n",
       "      <td>1</td>\n",
       "      <td>0</td>\n",
       "      <td>0</td>\n",
       "    </tr>\n",
       "    <tr>\n",
       "      <th>4866</th>\n",
       "      <td>146642.00</td>\n",
       "      <td>855.00</td>\n",
       "      <td>Рыбинск</td>\n",
       "      <td>Ж</td>\n",
       "      <td>32</td>\n",
       "      <td>6</td>\n",
       "      <td>1036832.93</td>\n",
       "      <td>4</td>\n",
       "      <td>1</td>\n",
       "      <td>1</td>\n",
       "      <td>...</td>\n",
       "      <td>0</td>\n",
       "      <td>1</td>\n",
       "      <td>0</td>\n",
       "      <td>1</td>\n",
       "      <td>0</td>\n",
       "      <td>25-45</td>\n",
       "      <td>0</td>\n",
       "      <td>1</td>\n",
       "      <td>0</td>\n",
       "      <td>0</td>\n",
       "    </tr>\n",
       "    <tr>\n",
       "      <th>5551</th>\n",
       "      <td>180076.00</td>\n",
       "      <td>864.00</td>\n",
       "      <td>Ярославль</td>\n",
       "      <td>Ж</td>\n",
       "      <td>45</td>\n",
       "      <td>5</td>\n",
       "      <td>1517133.62</td>\n",
       "      <td>4</td>\n",
       "      <td>1</td>\n",
       "      <td>1</td>\n",
       "      <td>...</td>\n",
       "      <td>0</td>\n",
       "      <td>0</td>\n",
       "      <td>1</td>\n",
       "      <td>1</td>\n",
       "      <td>0</td>\n",
       "      <td>25-45</td>\n",
       "      <td>0</td>\n",
       "      <td>1</td>\n",
       "      <td>0</td>\n",
       "      <td>0</td>\n",
       "    </tr>\n",
       "    <tr>\n",
       "      <th>5933</th>\n",
       "      <td>126536.00</td>\n",
       "      <td>888.00</td>\n",
       "      <td>Ярославль</td>\n",
       "      <td>Ж</td>\n",
       "      <td>37</td>\n",
       "      <td>4</td>\n",
       "      <td>1192463.14</td>\n",
       "      <td>4</td>\n",
       "      <td>1</td>\n",
       "      <td>1</td>\n",
       "      <td>...</td>\n",
       "      <td>0</td>\n",
       "      <td>0</td>\n",
       "      <td>1</td>\n",
       "      <td>1</td>\n",
       "      <td>0</td>\n",
       "      <td>25-45</td>\n",
       "      <td>0</td>\n",
       "      <td>1</td>\n",
       "      <td>0</td>\n",
       "      <td>0</td>\n",
       "    </tr>\n",
       "    <tr>\n",
       "      <th>7041</th>\n",
       "      <td>155677.00</td>\n",
       "      <td>805.00</td>\n",
       "      <td>Ростов</td>\n",
       "      <td>Ж</td>\n",
       "      <td>33</td>\n",
       "      <td>5</td>\n",
       "      <td>631053.76</td>\n",
       "      <td>3</td>\n",
       "      <td>1</td>\n",
       "      <td>1</td>\n",
       "      <td>...</td>\n",
       "      <td>1</td>\n",
       "      <td>0</td>\n",
       "      <td>0</td>\n",
       "      <td>1</td>\n",
       "      <td>0</td>\n",
       "      <td>25-45</td>\n",
       "      <td>0</td>\n",
       "      <td>1</td>\n",
       "      <td>0</td>\n",
       "      <td>0</td>\n",
       "    </tr>\n",
       "    <tr>\n",
       "      <th>7374</th>\n",
       "      <td>144464.00</td>\n",
       "      <td>913.00</td>\n",
       "      <td>Ростов</td>\n",
       "      <td>Ж</td>\n",
       "      <td>37</td>\n",
       "      <td>4</td>\n",
       "      <td>1382483.86</td>\n",
       "      <td>4</td>\n",
       "      <td>1</td>\n",
       "      <td>1</td>\n",
       "      <td>...</td>\n",
       "      <td>1</td>\n",
       "      <td>0</td>\n",
       "      <td>0</td>\n",
       "      <td>1</td>\n",
       "      <td>0</td>\n",
       "      <td>25-45</td>\n",
       "      <td>0</td>\n",
       "      <td>1</td>\n",
       "      <td>0</td>\n",
       "      <td>0</td>\n",
       "    </tr>\n",
       "    <tr>\n",
       "      <th>7453</th>\n",
       "      <td>171231.00</td>\n",
       "      <td>864.00</td>\n",
       "      <td>Ярославль</td>\n",
       "      <td>Ж</td>\n",
       "      <td>38</td>\n",
       "      <td>4</td>\n",
       "      <td>1527225.32</td>\n",
       "      <td>4</td>\n",
       "      <td>1</td>\n",
       "      <td>1</td>\n",
       "      <td>...</td>\n",
       "      <td>0</td>\n",
       "      <td>0</td>\n",
       "      <td>1</td>\n",
       "      <td>1</td>\n",
       "      <td>0</td>\n",
       "      <td>25-45</td>\n",
       "      <td>0</td>\n",
       "      <td>1</td>\n",
       "      <td>0</td>\n",
       "      <td>0</td>\n",
       "    </tr>\n",
       "    <tr>\n",
       "      <th>7722</th>\n",
       "      <td>164668.00</td>\n",
       "      <td>891.00</td>\n",
       "      <td>Ярославль</td>\n",
       "      <td>Ж</td>\n",
       "      <td>36</td>\n",
       "      <td>4</td>\n",
       "      <td>1216799.58</td>\n",
       "      <td>4</td>\n",
       "      <td>1</td>\n",
       "      <td>1</td>\n",
       "      <td>...</td>\n",
       "      <td>0</td>\n",
       "      <td>0</td>\n",
       "      <td>1</td>\n",
       "      <td>1</td>\n",
       "      <td>0</td>\n",
       "      <td>25-45</td>\n",
       "      <td>0</td>\n",
       "      <td>1</td>\n",
       "      <td>0</td>\n",
       "      <td>0</td>\n",
       "    </tr>\n",
       "    <tr>\n",
       "      <th>7753</th>\n",
       "      <td>130492.00</td>\n",
       "      <td>846.00</td>\n",
       "      <td>Ярославль</td>\n",
       "      <td>Ж</td>\n",
       "      <td>32</td>\n",
       "      <td>7</td>\n",
       "      <td>216764.74</td>\n",
       "      <td>4</td>\n",
       "      <td>1</td>\n",
       "      <td>1</td>\n",
       "      <td>...</td>\n",
       "      <td>0</td>\n",
       "      <td>0</td>\n",
       "      <td>1</td>\n",
       "      <td>1</td>\n",
       "      <td>0</td>\n",
       "      <td>25-45</td>\n",
       "      <td>0</td>\n",
       "      <td>1</td>\n",
       "      <td>0</td>\n",
       "      <td>0</td>\n",
       "    </tr>\n",
       "    <tr>\n",
       "      <th>8289</th>\n",
       "      <td>174741.00</td>\n",
       "      <td>881.00</td>\n",
       "      <td>Рыбинск</td>\n",
       "      <td>Ж</td>\n",
       "      <td>40</td>\n",
       "      <td>4</td>\n",
       "      <td>452152.55</td>\n",
       "      <td>4</td>\n",
       "      <td>1</td>\n",
       "      <td>1</td>\n",
       "      <td>...</td>\n",
       "      <td>0</td>\n",
       "      <td>1</td>\n",
       "      <td>0</td>\n",
       "      <td>1</td>\n",
       "      <td>0</td>\n",
       "      <td>25-45</td>\n",
       "      <td>0</td>\n",
       "      <td>1</td>\n",
       "      <td>0</td>\n",
       "      <td>0</td>\n",
       "    </tr>\n",
       "    <tr>\n",
       "      <th>8367</th>\n",
       "      <td>138357.00</td>\n",
       "      <td>909.00</td>\n",
       "      <td>Ярославль</td>\n",
       "      <td>Ж</td>\n",
       "      <td>35</td>\n",
       "      <td>4</td>\n",
       "      <td>1466138.05</td>\n",
       "      <td>4</td>\n",
       "      <td>1</td>\n",
       "      <td>1</td>\n",
       "      <td>...</td>\n",
       "      <td>0</td>\n",
       "      <td>0</td>\n",
       "      <td>1</td>\n",
       "      <td>1</td>\n",
       "      <td>0</td>\n",
       "      <td>25-45</td>\n",
       "      <td>0</td>\n",
       "      <td>1</td>\n",
       "      <td>0</td>\n",
       "      <td>0</td>\n",
       "    </tr>\n",
       "    <tr>\n",
       "      <th>8581</th>\n",
       "      <td>192100.00</td>\n",
       "      <td>932.00</td>\n",
       "      <td>Ростов</td>\n",
       "      <td>Ж</td>\n",
       "      <td>38</td>\n",
       "      <td>4</td>\n",
       "      <td>1268039.75</td>\n",
       "      <td>4</td>\n",
       "      <td>1</td>\n",
       "      <td>1</td>\n",
       "      <td>...</td>\n",
       "      <td>1</td>\n",
       "      <td>0</td>\n",
       "      <td>0</td>\n",
       "      <td>1</td>\n",
       "      <td>0</td>\n",
       "      <td>25-45</td>\n",
       "      <td>0</td>\n",
       "      <td>1</td>\n",
       "      <td>0</td>\n",
       "      <td>0</td>\n",
       "    </tr>\n",
       "    <tr>\n",
       "      <th>8679</th>\n",
       "      <td>140627.00</td>\n",
       "      <td>903.00</td>\n",
       "      <td>Ярославль</td>\n",
       "      <td>Ж</td>\n",
       "      <td>27</td>\n",
       "      <td>4</td>\n",
       "      <td>615864.43</td>\n",
       "      <td>4</td>\n",
       "      <td>1</td>\n",
       "      <td>1</td>\n",
       "      <td>...</td>\n",
       "      <td>0</td>\n",
       "      <td>0</td>\n",
       "      <td>1</td>\n",
       "      <td>1</td>\n",
       "      <td>0</td>\n",
       "      <td>25-45</td>\n",
       "      <td>0</td>\n",
       "      <td>1</td>\n",
       "      <td>0</td>\n",
       "      <td>0</td>\n",
       "    </tr>\n",
       "    <tr>\n",
       "      <th>8755</th>\n",
       "      <td>124169.00</td>\n",
       "      <td>985.00</td>\n",
       "      <td>Ярославль</td>\n",
       "      <td>Ж</td>\n",
       "      <td>32</td>\n",
       "      <td>4</td>\n",
       "      <td>156731.66</td>\n",
       "      <td>3</td>\n",
       "      <td>1</td>\n",
       "      <td>1</td>\n",
       "      <td>...</td>\n",
       "      <td>0</td>\n",
       "      <td>0</td>\n",
       "      <td>1</td>\n",
       "      <td>1</td>\n",
       "      <td>0</td>\n",
       "      <td>25-45</td>\n",
       "      <td>0</td>\n",
       "      <td>1</td>\n",
       "      <td>0</td>\n",
       "      <td>0</td>\n",
       "    </tr>\n",
       "  </tbody>\n",
       "</table>\n",
       "<p>32 rows × 22 columns</p>\n",
       "</div>"
      ],
      "text/plain": [
       "       user_id  score       city gender  age  equity    balance  products  \\\n",
       "330  161384.00 943.00  Ярославль      Ж   40       4 2853182.50         4   \n",
       "385  114349.00 898.00    Рыбинск      Ж   41       5  572927.93         4   \n",
       "494  165161.00 863.00  Ярославль      Ж   31       4  904183.25         4   \n",
       "523  195914.00 852.00  Ярославль      Ж   39       5 1388255.70         5   \n",
       "1199 119566.00 866.00  Ярославль      Ж   40       4 1183132.50         4   \n",
       "1382 103514.00 906.00    Рыбинск      Ж   34       5 1288431.87         4   \n",
       "1784 140461.00 910.00  Ярославль      Ж   38       5 2117755.34         4   \n",
       "2227 219815.00 888.00  Ярославль      Ж   26       5  336864.58         4   \n",
       "2314 134480.00 926.00    Рыбинск      Ж   34       4  414355.25         4   \n",
       "2800 152983.00 797.00  Ярославль      Ж   33       5 1053977.67         4   \n",
       "2865 163909.00 884.00  Ярославль      Ж   35       4 1279201.99         4   \n",
       "2989 187962.00 918.00  Ярославль      Ж   37       5 1366382.35         4   \n",
       "2990  96679.00 934.00  Ярославль      Ж   37       5 2894230.30         4   \n",
       "3133 204297.00 876.00  Ярославль      Ж   39       5 1497303.86         4   \n",
       "3842 154823.00 864.00  Ярославль      Ж   32       5 1930019.02         4   \n",
       "3846 122208.00 868.00    Рыбинск      Ж   42       5  546456.02         4   \n",
       "3904 129016.00 802.00  Ярославль      Ж   38       4 1423753.99         3   \n",
       "4414 173609.00 928.00  Ярославль      Ж   38       4 1293525.90         5   \n",
       "4714 171698.00 806.00     Ростов      Ж   33       4  365540.40         3   \n",
       "4866 146642.00 855.00    Рыбинск      Ж   32       6 1036832.93         4   \n",
       "5551 180076.00 864.00  Ярославль      Ж   45       5 1517133.62         4   \n",
       "5933 126536.00 888.00  Ярославль      Ж   37       4 1192463.14         4   \n",
       "7041 155677.00 805.00     Ростов      Ж   33       5  631053.76         3   \n",
       "7374 144464.00 913.00     Ростов      Ж   37       4 1382483.86         4   \n",
       "7453 171231.00 864.00  Ярославль      Ж   38       4 1527225.32         4   \n",
       "7722 164668.00 891.00  Ярославль      Ж   36       4 1216799.58         4   \n",
       "7753 130492.00 846.00  Ярославль      Ж   32       7  216764.74         4   \n",
       "8289 174741.00 881.00    Рыбинск      Ж   40       4  452152.55         4   \n",
       "8367 138357.00 909.00  Ярославль      Ж   35       4 1466138.05         4   \n",
       "8581 192100.00 932.00     Ростов      Ж   38       4 1268039.75         4   \n",
       "8679 140627.00 903.00  Ярославль      Ж   27       4  615864.43         4   \n",
       "8755 124169.00 985.00  Ярославль      Ж   32       4  156731.66         3   \n",
       "\n",
       "      credit_card  last_activity  ...  Ростов  Рыбинск  Ярославль  female  \\\n",
       "330             1              1  ...       0        0          1       1   \n",
       "385             1              1  ...       0        1          0       1   \n",
       "494             1              1  ...       0        0          1       1   \n",
       "523             1              1  ...       0        0          1       1   \n",
       "1199            1              1  ...       0        0          1       1   \n",
       "1382            1              1  ...       0        1          0       1   \n",
       "1784            1              1  ...       0        0          1       1   \n",
       "2227            1              1  ...       0        0          1       1   \n",
       "2314            1              1  ...       0        1          0       1   \n",
       "2800            1              1  ...       0        0          1       1   \n",
       "2865            1              1  ...       0        0          1       1   \n",
       "2989            1              1  ...       0        0          1       1   \n",
       "2990            1              1  ...       0        0          1       1   \n",
       "3133            1              1  ...       0        0          1       1   \n",
       "3842            1              1  ...       0        0          1       1   \n",
       "3846            1              1  ...       0        1          0       1   \n",
       "3904            1              1  ...       0        0          1       1   \n",
       "4414            1              1  ...       0        0          1       1   \n",
       "4714            1              1  ...       1        0          0       1   \n",
       "4866            1              1  ...       0        1          0       1   \n",
       "5551            1              1  ...       0        0          1       1   \n",
       "5933            1              1  ...       0        0          1       1   \n",
       "7041            1              1  ...       1        0          0       1   \n",
       "7374            1              1  ...       1        0          0       1   \n",
       "7453            1              1  ...       0        0          1       1   \n",
       "7722            1              1  ...       0        0          1       1   \n",
       "7753            1              1  ...       0        0          1       1   \n",
       "8289            1              1  ...       0        1          0       1   \n",
       "8367            1              1  ...       0        0          1       1   \n",
       "8581            1              1  ...       1        0          0       1   \n",
       "8679            1              1  ...       0        0          1       1   \n",
       "8755            1              1  ...       0        0          1       1   \n",
       "\n",
       "      male  age_group  18-24 25-45  46-62  63+  \n",
       "330      0      25-45      0     1      0    0  \n",
       "385      0      25-45      0     1      0    0  \n",
       "494      0      25-45      0     1      0    0  \n",
       "523      0      25-45      0     1      0    0  \n",
       "1199     0      25-45      0     1      0    0  \n",
       "1382     0      25-45      0     1      0    0  \n",
       "1784     0      25-45      0     1      0    0  \n",
       "2227     0      25-45      0     1      0    0  \n",
       "2314     0      25-45      0     1      0    0  \n",
       "2800     0      25-45      0     1      0    0  \n",
       "2865     0      25-45      0     1      0    0  \n",
       "2989     0      25-45      0     1      0    0  \n",
       "2990     0      25-45      0     1      0    0  \n",
       "3133     0      25-45      0     1      0    0  \n",
       "3842     0      25-45      0     1      0    0  \n",
       "3846     0      25-45      0     1      0    0  \n",
       "3904     0      25-45      0     1      0    0  \n",
       "4414     0      25-45      0     1      0    0  \n",
       "4714     0      25-45      0     1      0    0  \n",
       "4866     0      25-45      0     1      0    0  \n",
       "5551     0      25-45      0     1      0    0  \n",
       "5933     0      25-45      0     1      0    0  \n",
       "7041     0      25-45      0     1      0    0  \n",
       "7374     0      25-45      0     1      0    0  \n",
       "7453     0      25-45      0     1      0    0  \n",
       "7722     0      25-45      0     1      0    0  \n",
       "7753     0      25-45      0     1      0    0  \n",
       "8289     0      25-45      0     1      0    0  \n",
       "8367     0      25-45      0     1      0    0  \n",
       "8581     0      25-45      0     1      0    0  \n",
       "8679     0      25-45      0     1      0    0  \n",
       "8755     0      25-45      0     1      0    0  \n",
       "\n",
       "[32 rows x 22 columns]"
      ]
     },
     "execution_count": 200,
     "metadata": {},
     "output_type": "execute_result"
    }
   ],
   "source": [
    "portrait7 = data.query (\n",
    "    'female==1 and equity>=4 and score >= 750 and credit_card==1 and last_activity==1 and age>=25 \\\n",
    "    and age<=45 and products >= 3 and churn==1') \n",
    "portrait7"
   ]
  },
  {
   "cell_type": "markdown",
   "metadata": {},
   "source": [
    "## Статистический анализ данных"
   ]
  },
  {
   "cell_type": "markdown",
   "metadata": {},
   "source": [
    "### Гипотеза №1: различие доходов оставшихся и отточных клиентов"
   ]
  },
  {
   "cell_type": "markdown",
   "metadata": {},
   "source": [
    "Сформулируем нулевую и альтернативную гипотезы: \n",
    "\n",
    "**H₀:** средние доходы оставшихся и отточных клиентов **равны**  \n",
    "**H₁:** средние доходы оставшихся и отточных клиентов **не равны**\n",
    "\n",
    "Для проверки гипотезы проведем t-test:"
   ]
  },
  {
   "cell_type": "code",
   "execution_count": 201,
   "metadata": {},
   "outputs": [
    {
     "name": "stdout",
     "output_type": "stream",
     "text": [
      "0.947527561066995\n",
      "Не получилось отвергнуть нулевую гипотезу\n"
     ]
    }
   ],
   "source": [
    "# results = вызов метода для проверки гипотезы\n",
    "\n",
    "results = st.ttest_ind (\n",
    "    data[data['churn']==0]['est_salary'],\n",
    "    data[data['churn']==1]['est_salary'], equal_var = False)\n",
    "\n",
    "alpha = 0.05\n",
    "\n",
    "# вывод значения p-value на экран \n",
    "print (results.pvalue) \n",
    "# условный оператор с выводом строки с ответом\n",
    "\n",
    "if results.pvalue < alpha:\n",
    "    print ('Отвергаем нулевую гипотезу')\n",
    "else:\n",
    "    print ('Не получилось отвергнуть нулевую гипотезу')"
   ]
  },
  {
   "cell_type": "markdown",
   "metadata": {},
   "source": [
    "Проведенный t-test показал, что нулевую гипотезу об отсутствии различий в доходах отточных и оставшихся клиентов опровергнуть не удалось."
   ]
  },
  {
   "cell_type": "markdown",
   "metadata": {},
   "source": [
    "### Гипотеза №2: различие в оценке объектов собственности отточных и оставшихся клиентов"
   ]
  },
  {
   "cell_type": "markdown",
   "metadata": {},
   "source": [
    "Сформулируем нулевую и альтернативную гипотезы: \n",
    "\n",
    "**H₀:** средние оценки собственности оставшихся и отточных клиентов **равны**  \n",
    "**H₁:** средние оценки собственности оставшихся и отточных клиентов **не равны**\n",
    "\n",
    "Для проверки гипотезы проведем t-test:"
   ]
  },
  {
   "cell_type": "code",
   "execution_count": 202,
   "metadata": {},
   "outputs": [
    {
     "name": "stdout",
     "output_type": "stream",
     "text": [
      "6.872650310275268e-199\n",
      "Отвергаем нулевую гипотезу\n"
     ]
    }
   ],
   "source": [
    "# results = вызов метода для проверки гипотезы\n",
    "\n",
    "results = st.ttest_ind (\n",
    "    data[data['churn']==0]['equity'],\n",
    "    data[data['churn']==1]['equity'], equal_var = False)\n",
    "\n",
    "alpha = 0.05\n",
    "\n",
    "# вывод значения p-value на экран \n",
    "print (results.pvalue) \n",
    "# условный оператор с выводом строки с ответом\n",
    "\n",
    "if results.pvalue < alpha:\n",
    "    print ('Отвергаем нулевую гипотезу')\n",
    "else:\n",
    "    print ('Не получилось отвергнуть нулевую гипотезу')"
   ]
  },
  {
   "cell_type": "markdown",
   "metadata": {},
   "source": [
    "Проведенный t-test показал, что нулевую гипотезу об отсутствии различий в оценке собственности отточных и оставшихся клиентов следует опровергнуть (что также подтверждается проведенным ранее исследовательским анализом)"
   ]
  },
  {
   "cell_type": "markdown",
   "metadata": {},
   "source": [
    "### Гипотеза №3: различие в количестве используемых банковских продуктов"
   ]
  },
  {
   "cell_type": "markdown",
   "metadata": {},
   "source": [
    "Сформулируем нулевую и альтернативную гипотезы: \n",
    "\n",
    "**H₀:** среднее количество используемых банковских продуктов оставшихся и отточных клиентов **равны**  \n",
    "**H₁:** среднее количество используемых банковских продуктов оставшихся и отточных клиентов **не равны**\n",
    "\n",
    "Для проверки гипотезы проведем t-test:"
   ]
  },
  {
   "cell_type": "code",
   "execution_count": 203,
   "metadata": {},
   "outputs": [
    {
     "name": "stdout",
     "output_type": "stream",
     "text": [
      "1.466831495421153e-138\n",
      "Отвергаем нулевую гипотезу\n"
     ]
    }
   ],
   "source": [
    "# results = вызов метода для проверки гипотезы\n",
    "\n",
    "results = st.ttest_ind (\n",
    "    data[data['churn']==0]['products'],\n",
    "    data[data['churn']==1]['products'], equal_var = False)\n",
    "\n",
    "alpha = 0.05\n",
    "\n",
    "# вывод значения p-value на экран \n",
    "print (results.pvalue) \n",
    "# условный оператор с выводом строки с ответом\n",
    "\n",
    "if results.pvalue < alpha:\n",
    "    print ('Отвергаем нулевую гипотезу')\n",
    "else:\n",
    "    print ('Не получилось отвергнуть нулевую гипотезу')"
   ]
  },
  {
   "cell_type": "markdown",
   "metadata": {},
   "source": [
    "Здесь мы также видим в результате проведенного t-test-а, что нулевая гипотеза об отсутствии различий в количестве используемых банковских продуктов, должна быть отвергнута (что также подтверждается проведенным ранее исследовательским анализом)."
   ]
  },
  {
   "cell_type": "markdown",
   "metadata": {},
   "source": [
    "### Гипотеза №4: различие в наличии или отсутствии кредитной карты"
   ]
  },
  {
   "cell_type": "markdown",
   "metadata": {},
   "source": [
    "Сформулируем нулевую и альтернативную гипотезы: \n",
    "\n",
    "**H₀:** среднее количество кредитных карт у оставшихся и отточных клиентов **равны**  \n",
    "**H₁:** среднее количество кредитных карт у оставшихся и отточных клиентов **не равны**\n",
    "\n",
    "Для проверки гипотезы проведем t-test:"
   ]
  },
  {
   "cell_type": "code",
   "execution_count": 204,
   "metadata": {},
   "outputs": [
    {
     "name": "stdout",
     "output_type": "stream",
     "text": [
      "4.0681005395702976e-35\n",
      "Отвергаем нулевую гипотезу\n"
     ]
    }
   ],
   "source": [
    "# results = вызов метода для проверки гипотезы\n",
    "\n",
    "results = st.ttest_ind (\n",
    "    data[data['churn']==0]['credit_card'],\n",
    "    data[data['churn']==1]['credit_card'], equal_var = False)\n",
    "\n",
    "alpha = 0.05\n",
    "\n",
    "# вывод значения p-value на экран \n",
    "print (results.pvalue) \n",
    "# условный оператор с выводом строки с ответом\n",
    "\n",
    "if results.pvalue < alpha:\n",
    "    print ('Отвергаем нулевую гипотезу')\n",
    "else:\n",
    "    print ('Не получилось отвергнуть нулевую гипотезу')"
   ]
  },
  {
   "cell_type": "markdown",
   "metadata": {},
   "source": [
    "Еще один критерий, по которому t-test выявил наличие статистически значимой разницы между оставшимися и отточными пользователями - наличие кредитной карты. Как было установлено в ходе исследовательского анализа, ушедшие клиенты намного реже пользовались кредитными картами, чем оставшиеся клиенты."
   ]
  },
  {
   "cell_type": "markdown",
   "metadata": {},
   "source": [
    "## Сегментация пользователей и их приоритезация"
   ]
  },
  {
   "cell_type": "markdown",
   "metadata": {},
   "source": [
    "По итогам проведенного анализа и проверки гипотез выделим несколько высокоотточных сегментов пользователей.\n",
    "\n",
    "В качестве критериев для выделения выберем следующие параметры:\n",
    "- пол;\n",
    "- возраст;\n",
    "- оценка объектов собственности;\n",
    "- количество используемых продуктов."
   ]
  },
  {
   "cell_type": "markdown",
   "metadata": {},
   "source": [
    "### Сегмент №1"
   ]
  },
  {
   "cell_type": "markdown",
   "metadata": {},
   "source": [
    "Пол: мужской  \n",
    "Возраст: 46-62  \n",
    "Город: любой  \n",
    "Оценка объектов собственности: 5 и выше  \n",
    "Скоринговый рейтинг: 800 и выше  \n",
    "Количество используемых продуктов: 3 и больше  \n",
    "Наличие кредитной карты: нет  \n",
    "Пользовательская активность: да"
   ]
  },
  {
   "cell_type": "code",
   "execution_count": 205,
   "metadata": {},
   "outputs": [
    {
     "name": "stdout",
     "output_type": "stream",
     "text": [
      "Общее число пользователей в сегменте №1: 31\n",
      "Число отточных пользователей в сегменте №1: 20\n",
      "Доля отточных пользователей в сегменте №1: 64.51612903225806\n"
     ]
    }
   ],
   "source": [
    "# Рассчитаем общее число пользователей в этом сегменте:\n",
    "print ('Общее число пользователей в сегменте №1:', data.query (\n",
    "    'male==1 and equity>=5 and score >= 800 and credit_card==0 and last_activity==1 and age>=46 \\\n",
    "    and age<=62 and products >= 3')['user_id'].count() )\n",
    "\n",
    "\n",
    "# Рассчитаем число отточных пользователей в этом сегменте:\n",
    "print ('Число отточных пользователей в сегменте №1:', data.query (\n",
    "    'male==1 and equity>=5 and score >= 800 and credit_card==0 and last_activity==1 and age>=46 \\\n",
    "    and age<=62 and products >= 3 and churn==1')['user_id'].count())\n",
    "\n",
    "#  Рассчитаем долю отточных пользователей:\n",
    "print ('Доля отточных пользователей в сегменте №1:', data.query (\n",
    "    'male==1 and equity>=5 and score >= 800 and credit_card==0 and last_activity==1 and age>=46 \\\n",
    "    and age<=62 and products >= 3 and churn==1')['user_id'].count() / data.query (\n",
    "    'male==1 and equity>=5 and score >= 800 and credit_card==0 and last_activity==1 and age>=46 \\\n",
    "    and age<=62 and products >= 3')['user_id'].count()*100)"
   ]
  },
  {
   "cell_type": "markdown",
   "metadata": {},
   "source": [
    "### Сегмент №2"
   ]
  },
  {
   "cell_type": "markdown",
   "metadata": {},
   "source": [
    "Пол: женский  \n",
    "Возраст: 46-62  \n",
    "Город: любой  \n",
    "Оценка объектов собственности: 5 и выше  \n",
    "Скоринговый рейтинг: 800 и выше  \n",
    "Количество используемых продуктов: 3 и больше  \n",
    "Наличие кредитной карты: нет  \n",
    "Пользовательская активность: да"
   ]
  },
  {
   "cell_type": "code",
   "execution_count": 206,
   "metadata": {},
   "outputs": [
    {
     "name": "stdout",
     "output_type": "stream",
     "text": [
      "Общее число пользователей в сегменте №2: 26\n",
      "Число отточных пользователей в сегменте №2: 16\n",
      "Доля отточных пользователей в сегменте №2: 61.53846153846154\n"
     ]
    }
   ],
   "source": [
    "# Рассчитаем общее число пользователей в этом сегменте:\n",
    "print ('Общее число пользователей в сегменте №2:', data.query (\n",
    "    'female==1 and equity>=5 and score >= 800 and credit_card==0 and last_activity==1 and age>=46 \\\n",
    "    and age<=62 and products >= 3')['user_id'].count() )\n",
    "\n",
    "\n",
    "# Рассчитаем число отточных пользователей в этом сегменте:\n",
    "print ('Число отточных пользователей в сегменте №2:', data.query (\n",
    "    'female==1 and equity>=5 and score >= 800 and credit_card==0 and last_activity==1 and age>=46 \\\n",
    "    and age<=62 and products >= 3 and churn==1')['user_id'].count())\n",
    "\n",
    "#  Рассчитаем долю отточных пользователей:\n",
    "print ('Доля отточных пользователей в сегменте №2:', data.query (\n",
    "    'female==1 and equity>=5 and score >= 800 and credit_card==0 and last_activity==1 and age>=46 \\\n",
    "    and age<=62 and products >= 3 and churn==1')['user_id'].count() / data.query (\n",
    "    'female==1 and equity>=5 and score >= 800 and credit_card==0 and last_activity==1 and age>=46 \\\n",
    "    and age<=62 and products >= 3')['user_id'].count()*100)"
   ]
  },
  {
   "cell_type": "markdown",
   "metadata": {},
   "source": [
    "### Сегмент №3"
   ]
  },
  {
   "cell_type": "markdown",
   "metadata": {},
   "source": [
    "Пол: мужской  \n",
    "Возраст: от 46 до 62  \n",
    "Город: любой  \n",
    "Оценка объектов собственности: 5 и выше  \n",
    "Скоринговый рейтинг: 800 и выше  \n",
    "Количество используемых продуктов: менее 3  \n",
    "Наличие кредитной карты: нет  \n",
    "Пользовательская активность: да"
   ]
  },
  {
   "cell_type": "code",
   "execution_count": 207,
   "metadata": {},
   "outputs": [
    {
     "name": "stdout",
     "output_type": "stream",
     "text": [
      "Общее число пользователей в сегменте №3: 45\n",
      "Число отточных пользователей в сегменте №3: 31\n",
      "Доля отточных пользователей в сегменте №3: 68.88888888888889\n"
     ]
    }
   ],
   "source": [
    "# Рассчитаем общее число пользователей в этом сегменте:\n",
    "print ('Общее число пользователей в сегменте №3:', data.query (\n",
    "    'male==1 and equity>=5 and score >= 800 and credit_card==0 and last_activity==1 and age>=46 \\\n",
    "    and age<=62 and products <3')['user_id'].count() )\n",
    "\n",
    "\n",
    "# Рассчитаем число отточных пользователей в этом сегменте:\n",
    "print ('Число отточных пользователей в сегменте №3:', data.query (\n",
    "    'male==1 and equity>=5 and score >= 800 and credit_card==0 and last_activity==1 and age>=46 \\\n",
    "    and age<=62 and products < 3 and churn==1')['user_id'].count())\n",
    "\n",
    "#  Рассчитаем долю отточных пользователей:\n",
    "print ('Доля отточных пользователей в сегменте №3:', data.query (\n",
    "    'male==1 and equity>=5 and score >= 800 and credit_card==0 and last_activity==1 and age>=46 \\\n",
    "    and age<=62 and products < 3 and churn==1')['user_id'].count() / data.query (\n",
    "    'male==1 and equity>=5 and score >= 800 and credit_card==0 and last_activity==1 and age>=46 \\\n",
    "    and age<=62 and products < 3')['user_id'].count()*100)"
   ]
  },
  {
   "cell_type": "markdown",
   "metadata": {},
   "source": [
    "### Сегмент №4"
   ]
  },
  {
   "cell_type": "markdown",
   "metadata": {},
   "source": [
    "Пол: женский  \n",
    "Возраст: от 46 до 62  \n",
    "Город: любой  \n",
    "Оценка объектов собственности: 5 и выше  \n",
    "Скоринговый рейтинг: 800 и выше  \n",
    "Количество используемых продуктов: менее 3  \n",
    "Наличие кредитной карты: нет  \n",
    "Пользовательская активность: да"
   ]
  },
  {
   "cell_type": "code",
   "execution_count": 208,
   "metadata": {},
   "outputs": [
    {
     "name": "stdout",
     "output_type": "stream",
     "text": [
      "Общее число пользователей в сегменте №4: 55\n",
      "Число отточных пользователей в сегменте №4: 25\n",
      "Доля отточных пользователей в сегменте №4: 45.45454545454545\n"
     ]
    }
   ],
   "source": [
    "# Рассчитаем общее число пользователей в этом сегменте:\n",
    "print ('Общее число пользователей в сегменте №4:', data.query (\n",
    "    'female==1 and equity>=5 and score >= 800 and credit_card==0 and last_activity==1 and age>=46 \\\n",
    "    and age<=62 and products <3')['user_id'].count() )\n",
    "\n",
    "\n",
    "# Рассчитаем число отточных пользователей в этом сегменте:\n",
    "print ('Число отточных пользователей в сегменте №4:', data.query (\n",
    "    'female==1 and equity>=5 and score >= 800 and credit_card==0 and last_activity==1 and age>=46 \\\n",
    "    and age<=62 and products < 3 and churn==1')['user_id'].count())\n",
    "\n",
    "#  Рассчитаем долю отточных пользователей:\n",
    "print ('Доля отточных пользователей в сегменте №4:', data.query (\n",
    "    'female==1 and equity>=5 and score >= 800 and credit_card==0 and last_activity==1 and age>=46 \\\n",
    "    and age<=62 and products < 3 and churn==1')['user_id'].count() / data.query (\n",
    "    'female==1 and equity>=5 and score >= 800 and credit_card==0 and last_activity==1 and age>=46 \\\n",
    "    and age<=62 and products < 3')['user_id'].count()*100)"
   ]
  },
  {
   "cell_type": "markdown",
   "metadata": {},
   "source": [
    "### Сегмент №5"
   ]
  },
  {
   "cell_type": "markdown",
   "metadata": {},
   "source": [
    "Пол: любой  \n",
    "Возраст: от 25 до 45  \n",
    "Город: любой  \n",
    "Оценка объектов собственности: менее 5  \n",
    "Скоринговый рейтинг: 750 и выше  \n",
    "Количество используемых продуктов: 3 и больше  \n",
    "Наличие кредитной карты: нет  \n",
    "Пользовательская активность: да"
   ]
  },
  {
   "cell_type": "code",
   "execution_count": 209,
   "metadata": {},
   "outputs": [
    {
     "name": "stdout",
     "output_type": "stream",
     "text": [
      "Общее число пользователей в сегменте №5: 154\n",
      "Число отточных пользователей в сегменте №5: 58\n",
      "Доля отточных пользователей в сегменте №5: 37.66233766233766\n"
     ]
    }
   ],
   "source": [
    "# Рассчитаем общее число пользователей в этом сегменте:\n",
    "print ('Общее число пользователей в сегменте №5:', data.query (\n",
    "    'score >= 750 and credit_card==0 and equity < 5 and last_activity==1 and age>=25 \\\n",
    "    and age <=45 and products >= 3')['user_id'].count() )\n",
    "\n",
    "\n",
    "# Рассчитаем число отточных пользователей в этом сегменте:\n",
    "print ('Число отточных пользователей в сегменте №5:', data.query (\n",
    "    'score >= 750 and credit_card==0 and equity < 5 and last_activity==1 and age>=25 \\\n",
    "    and age <=45 and products >= 3 and churn==1')['user_id'].count())\n",
    "\n",
    "#  Рассчитаем долю отточных пользователей:\n",
    "print ('Доля отточных пользователей в сегменте №5:', data.query (\n",
    "    'score >= 750 and credit_card==0 and equity < 5 and last_activity==1 and age>=25 \\\n",
    "    and age <=45 and products >= 3 and churn==1')['user_id'].count() / data.query (\n",
    "    'score >= 750 and credit_card==0 and equity < 5 and last_activity==1 and age>=25 \\\n",
    "    and age <=45 and products >= 3')['user_id'].count()*100)"
   ]
  },
  {
   "cell_type": "markdown",
   "metadata": {},
   "source": [
    "### Сегмент №6"
   ]
  },
  {
   "cell_type": "markdown",
   "metadata": {},
   "source": [
    "Пол: мужской  \n",
    "Возраст: от 25 до 45  \n",
    "Город: любой  \n",
    "Оценка объектов собственности: менее 5  \n",
    "Скоринговый рейтинг: 750 и выше  \n",
    "Количество используемых продуктов: менее 3  \n",
    "Наличие кредитной карты: нет  \n",
    "Пользовательская активность: да"
   ]
  },
  {
   "cell_type": "code",
   "execution_count": 210,
   "metadata": {},
   "outputs": [
    {
     "name": "stdout",
     "output_type": "stream",
     "text": [
      "Общее число пользователей в сегменте №6: 221\n",
      "Число отточных пользователей в сегменте №6: 71\n",
      "Доля отточных пользователей в сегменте №6: 32.126696832579185\n"
     ]
    }
   ],
   "source": [
    "# Рассчитаем общее число пользователей в этом сегменте:\n",
    "print ('Общее число пользователей в сегменте №6:', data.query (\n",
    "    'male == 1 and score >= 750 and credit_card==0 and equity < 5 and last_activity==1 and age>=25 \\\n",
    "    and age <=45 and products < 3')['user_id'].count() )\n",
    "\n",
    "# Рассчитаем число отточных пользователей в этом сегменте:\n",
    "print ('Число отточных пользователей в сегменте №6:', data.query (\n",
    "    'male == 1 and score >= 750 and credit_card==0 and equity < 5 and last_activity==1 and age>=25 \\\n",
    "    and age <=45 and products < 3 and churn==1')['user_id'].count() )\n",
    "\n",
    "#  Рассчитаем долю отточных пользователей:\n",
    "print ('Доля отточных пользователей в сегменте №6:', data.query (\n",
    "    'male == 1 and score >= 750 and credit_card==0 and equity < 5 and last_activity==1 and age>=25 \\\n",
    "    and age <=45 and products < 3 and churn==1')['user_id'].count() / data.query (\n",
    "    'male == 1 and score >= 750 and credit_card==0 and equity < 5 and last_activity==1 and age>=25 \\\n",
    "    and age <=45 and products < 3')['user_id'].count() * 100)"
   ]
  },
  {
   "cell_type": "markdown",
   "metadata": {},
   "source": [
    "### Сегмент №7"
   ]
  },
  {
   "cell_type": "markdown",
   "metadata": {},
   "source": [
    "Пол: женский  \n",
    "Возраст: от 25 до 45  \n",
    "Город: любой  \n",
    "Оценка объектов собственности: менее 5  \n",
    "Скоринговый рейтинг: 750 и выше  \n",
    "Количество используемых продуктов: менее 3  \n",
    "Наличие кредитной карты: нет  \n",
    "Пользовательская активность: да"
   ]
  },
  {
   "cell_type": "code",
   "execution_count": 211,
   "metadata": {},
   "outputs": [
    {
     "name": "stdout",
     "output_type": "stream",
     "text": [
      "Общее число пользователей в сегменте №7: 274\n",
      "Число отточных пользователей в сегменте №7: 79\n",
      "Доля отточных пользователей в сегменте №7: 28.832116788321166\n"
     ]
    }
   ],
   "source": [
    "# Рассчитаем общее число пользователей в этом сегменте:\n",
    "print ('Общее число пользователей в сегменте №7:', data.query (\n",
    "    'female == 1 and score >= 750 and credit_card==0 and equity < 5 and last_activity==1 and age>=25 \\\n",
    "    and age <=45 and products < 3')['user_id'].count() )\n",
    "\n",
    "# Рассчитаем число отточных пользователей в этом сегменте:\n",
    "print ('Число отточных пользователей в сегменте №7:', data.query (\n",
    "    'female == 1 and score >= 750 and credit_card==0 and equity < 5 and last_activity==1 and age>=25 \\\n",
    "    and age <=45 and products < 3 and churn==1')['user_id'].count() )\n",
    "\n",
    "#  Рассчитаем долю отточных пользователей:\n",
    "print ('Доля отточных пользователей в сегменте №7:', data.query (\n",
    "    'female == 1 and score >= 750 and credit_card==0 and equity < 5 and last_activity==1 and age>=25 \\\n",
    "    and age <=45 and products < 3 and churn==1')['user_id'].count() / data.query (\n",
    "    'female == 1 and score >= 750 and credit_card==0 and equity < 5 and last_activity==1 and age>=25 \\\n",
    "    and age <=45 and products < 3')['user_id'].count() * 100)"
   ]
  },
  {
   "cell_type": "markdown",
   "metadata": {},
   "source": [
    "### Приоритизация сегментов"
   ]
  },
  {
   "cell_type": "markdown",
   "metadata": {},
   "source": [
    "Расположим сегменты в порядке убывания доли отточных клиентов:"
   ]
  },
  {
   "cell_type": "markdown",
   "metadata": {},
   "source": [
    "1) Наиболее высокая доля отточных клиентов в **сегменте №3** - почти 69% отточных клиентов\n",
    "\n",
    "Пол: мужской  \n",
    "Возраст: от 46 до 64 лет  \n",
    "Город: любой  \n",
    "Оценка объектов собственности: 5 и выше  \n",
    "Скоринговый рейтинг: 800 и выше  \n",
    "Количество используемых продуктов: менее 3  \n",
    "Наличие кредитной карты: нет  \n",
    "Пользовательская активность: да\n",
    "\n",
    "2) За ним следует **сегмент №1** - более 64% ушедших клиентов\n",
    "\n",
    "Пол: мужской  \n",
    "Возраст: от 46 до 64 лет  \n",
    "Город: любой  \n",
    "Оценка объектов собственности: 5 и выше  \n",
    "Скоринговый рейтинг: 800 и выше  \n",
    "Количество используемых продуктов: 3 и больше  \n",
    "Наличие кредитной карты: нет  \n",
    "Пользовательская активность: да\n",
    "\n",
    "3) Далее располагается **сегмент №2** - более 61% оттока\n",
    "\n",
    "Пол: женский  \n",
    "Возраст: от 46 до 64 лет  \n",
    "Город: любой  \n",
    "Оценка объектов собственности: 5 и выше  \n",
    "Скоринговый рейтинг: 800 и выше  \n",
    "Количество используемых продуктов: 3 и больше  \n",
    "Наличие кредитной карты: нет  \n",
    "Пользовательская активность: да\n",
    "\n",
    "4) С значительным отрывом за ним следует **сегмент №4** - более 45% ушедших клиентов\n",
    "\n",
    "Пол: женский  \n",
    "Возраст: от 46 до 64 лет\n",
    "Город: любой  \n",
    "Оценка объектов собственности: 5 и выше  \n",
    "Скоринговый рейтинг: 800 и выше  \n",
    "Количество используемых продуктов: менее 3  \n",
    "Наличие кредитной карты: нет  \n",
    "Пользовательская активность: да\n",
    "\n",
    "5) На следующей строчке располагается **сегмент №5** - более 37% в этом сегменте ушли из банка\n",
    "\n",
    "Пол: любой  \n",
    "Возраст: от 25 до 45 лет  \n",
    "Город: любой  \n",
    "Оценка объектов собственности: менее 5  \n",
    "Скоринговый рейтинг: 750 и выше  \n",
    "Количество используемых продуктов: 3 и больше  \n",
    "Наличие кредитной карты: нет  \n",
    "Пользовательская активность: да\n",
    "\n",
    "6) Далее находится **сегмент №6** с показателем оттока в 32%\n",
    "\n",
    "Пол: мужской  \n",
    "Возраст: от 25 до 45 лет  \n",
    "Город: любой  \n",
    "Оценка объектов собственности: менее 5  \n",
    "Скоринговый рейтинг: 750 и выше  \n",
    "Количество используемых продуктов: менее 3  \n",
    "Наличие кредитной карты: нет  \n",
    "Пользовательская активность: да\n",
    "\n",
    "7) На последней строке находится **сегмент №7** - более 28% отточных клиентов\n",
    "\n",
    "Пол: женский  \n",
    "Возраст: от 25 до 45 лет  \n",
    "Город: любой  \n",
    "Оценка объектов собственности: менее 5  \n",
    "Скоринговый рейтинг: 750 и выше  \n",
    "Количество используемых продуктов: менее 3  \n",
    "Наличие кредитной карты: нет  \n",
    "Пользовательская активность: да"
   ]
  },
  {
   "cell_type": "markdown",
   "metadata": {},
   "source": [
    "## Итоговые выводы и рекомендации по каждому из сегментов"
   ]
  },
  {
   "cell_type": "markdown",
   "metadata": {},
   "source": [
    "### Итоговые выводы"
   ]
  },
  {
   "cell_type": "markdown",
   "metadata": {},
   "source": [
    "1) Проведенное исследование показало, что между оттоком клиентов и некоторыми параметрами существует устойчивая корреляция, тогда как другие параметры практически не влияют на отток. \n",
    "\n",
    "К параметрам, влияющим на отток, относятся: \n",
    "\n",
    "- **оценка объектов собственности клиента:** чем выше оценка собственности, тем больше процент отточных клиентов;\n",
    "- **скоринговый рейтинг клиента:** из банка уходили клиенты со скоринговым баллом не ниже 706, а клиенты с более высоким скоринговым рейтингом показывали более высокий процент оттока;\n",
    "- **количество продуктов, которыми пользуется клиент:** клиенты, использовавшие 4 продукта, уходили из банка намного чаще, чем другие;\n",
    "- **наличие кредитной карты:** отсутствие у клиента кредитной карты сильно повышало риск его оттока из банка;\n",
    "- **активность пользователя:** более активные клиенты покидали банк чаще, чем менее активные;\n",
    "- **пол пользователя:** мужчины намного сильнее склонны уходить из банка, чем женщины;\n",
    "- **возраст пользователя:** наиболее отточные возрастные группы - 46-62 и 25-45.\n",
    "\n",
    "2) Был проведен статистический анализ следующих гипотез:\n",
    "\n",
    "**Гипотеза №1** о различии **доходов** оставшихся и отточных клиентов: не подтвердилась  \n",
    "**Гипотеза №2** о различии в **оценке объектов собственности** отточных и оставшихся клиентов: подтвердилась  \n",
    "**Гипотеза №3** о различии в **количестве используемых банковских продуктов** оставшихся и отточных клиентов: подтвердилась  \n",
    "**Гипотеза №4** о различии в **наличии или отсутствии кредитной карты** оставшихся и отточных клиентов: подтвердилась\n",
    "\n",
    "3) Были выделены и приоритизированы сегменты, в наибольшей степени подверженных оттоку (от 28 до 69% отточных клиентов)"
   ]
  },
  {
   "cell_type": "markdown",
   "metadata": {},
   "source": [
    "### Рекомендации для отдела маркетинга"
   ]
  },
  {
   "cell_type": "markdown",
   "metadata": {},
   "source": [
    "Для улучшения качества обслуживания каждого из выделенных высокоотточных сегментов можно выделить следующие рекомендации:\n",
    "    \n",
    "1) **Сегмент №3** - более 69% отточных клиентов\n",
    "\n",
    "Пол: мужской  \n",
    "Возраст: от 46 до 62 лет  \n",
    "Город: любой  \n",
    "Оценка объектов собственности: 5 и выше  \n",
    "Скоринговый рейтинг: 800 и выше  \n",
    "Количество используемых продуктов: менее 3  \n",
    "Наличие кредитной карты: нет  \n",
    "Пользовательская активность: да\n",
    "\n",
    "Рекомендации: \n",
    "- предложить специальные условия по страхованию объектов собственности;\n",
    "- информировать о новых доступных банковских продуктах;\n",
    "- предложить оформить кредитную карту;\n",
    "- для клиентов пенсионного возраста - предложить льготные условия для перевода пенсии в наш банк;\n",
    "- для клиентов, получающих зарплату на карту другого банка - предложить льготные условия для перевода зарплаты в наш банк;\n",
    "- предложить повышенный кешбек на товары для спорта, активного отдыха и рыбалки.\n",
    "\n",
    "2) **Сегмент №1** - более 65% ушедших клиентов\n",
    "\n",
    "Пол: мужской  \n",
    "Возраст: от 46 до 62 лет  \n",
    "Город: любой  \n",
    "Оценка объектов собственности: 5 и выше  \n",
    "Скоринговый рейтинг: 800 и выше  \n",
    "Количество используемых продуктов: 3 и больше  \n",
    "Наличие кредитной карты: нет  \n",
    "Пользовательская активность: да\n",
    "\n",
    "Рекомендации:\n",
    "- предложить специальные условия по страхованию объектов собственности;\n",
    "- предложить оформить кредитную карту;\n",
    "- для клиентов пенсионного возраста - предложить льготные условия для перевода пенсии в наш банк;\n",
    "- для клиентов, получающих зарплату на карту другого банка - предложить льготные условия для перевода зарплаты в наш банк;\n",
    "- предложить повышенный кешбек на товары для спорта, активного отдыха и рыбалки.\n",
    "\n",
    "3) **Сегмент №2** - более 61% оттока\n",
    "\n",
    "Пол: женский  \n",
    "Возраст: от 46 до 62 лет  \n",
    "Город: любой  \n",
    "Оценка объектов собственности: 5 и выше  \n",
    "Скоринговый рейтинг: 800 и выше  \n",
    "Количество используемых продуктов: 3 и больше  \n",
    "Наличие кредитной карты: нет  \n",
    "Пользовательская активность: да\n",
    "\n",
    "Рекомендации:\n",
    "- предложить специальные условия по страхованию объектов собственности;\n",
    "- предложить оформить кредитную карту;\n",
    "- для клиентов пенсионного возраста - предложить льготные условия для перевода пенсии в наш банк;\n",
    "- для клиентов, получающих зарплату на карту другого банка - предложить льготные условия для перевода зарплаты в наш банк;\n",
    "- предложить повышенный кешбек на косметику, товары для дома и одежду.\n",
    "\n",
    "4) **Сегмент №4** - более 45% ушедших клиентов\n",
    "\n",
    "Пол: женский  \n",
    "Возраст: от 46 до 62  \n",
    "Город: любой  \n",
    "Оценка объектов собственности: 5 и выше  \n",
    "Скоринговый рейтинг: 800 и выше  \n",
    "Количество используемых продуктов: менее 3  \n",
    "Наличие кредитной карты: нет  \n",
    "Пользовательская активность: да\n",
    "\n",
    "Рекомендации:\n",
    "- предложить специальные условия по страхованию объектов собственности;\n",
    "- информировать о новых доступных банковских продуктах;\n",
    "- предложить оформить кредитную карту;\n",
    "- для клиентов пенсионного возраста - предложить льготные условия для перевода пенсии в наш банк;\n",
    "- для клиентов, получающих зарплату на карту другого банка - предложить льготные условия для перевода зарплаты в наш банк;\n",
    "- предложить повышенный кешбек на косметику, товары для дома и одежду;\n",
    "\n",
    "5) **Сегмент №5** - более 37% пользователей в этом сегменте ушли из банка\n",
    "\n",
    "Пол: любой  \n",
    "Возраст: от 25 до 45  \n",
    "Город: любой  \n",
    "Оценка объектов собственности: менее 5  \n",
    "Скоринговый рейтинг: 750 и выше  \n",
    "Количество используемых продуктов: 3 и больше  \n",
    "Наличие кредитной карты: нет  \n",
    "Пользовательская активность: да\n",
    "\n",
    "Рекомендации:\n",
    "- предложить оформить кредитную карту;\n",
    "- информировать о новых доступных банковских продуктах;\n",
    "- для клиентов, получающих зарплату на карту другого банка - предложить льготные условия для перевода зарплаты в наш банк.\n",
    "\n",
    "\n",
    "6) **Сегмент №6** с показателем оттока в 32%\n",
    "\n",
    "Пол: мужской  \n",
    "Возраст: от 25 до 45  \n",
    "Город: любой  \n",
    "Оценка объектов собственности: менее 5  \n",
    "Скоринговый рейтинг: 750 и выше  \n",
    "Количество используемых продуктов: менее 3  \n",
    "Наличие кредитной карты: нет  \n",
    "Пользовательская активность: да\n",
    "\n",
    "Рекомендации:\n",
    "- предложить оформить кредитную карту;\n",
    "- информировать о новых доступных банковских продуктах;\n",
    "- для клиентов, получающих зарплату на карту другого банка - предложить льготные условия для перевода зарплаты в наш банк;\n",
    "- предложить повышенный кешбек на товары для спорта, активного отдыха и рыбалки.\n",
    "\n",
    "\n",
    "7) **Сегмент №7** - более 28% отточных клиентов\n",
    "\n",
    "Пол: женский  \n",
    "Возраст: от 25 до 45  \n",
    "Город: любой  \n",
    "Оценка объектов собственности: менее 5  \n",
    "Скоринговый рейтинг: 750 и выше  \n",
    "Количество используемых продуктов: менее 3  \n",
    "Наличие кредитной карты: нет  \n",
    "Пользовательская активность: да\n",
    "\n",
    "Рекомендации:\n",
    "- предложить оформить кредитную карту;\n",
    "- информировать о новых доступных банковских продуктах;\n",
    "- для клиентов, получающих зарплату на карту другого банка - предложить льготные условия для перевода зарплаты в наш банк;\n",
    "- предложить повышенный кешбек на косметику, товары для дома и одежду."
   ]
  }
 ],
 "metadata": {
  "ExecuteTimeLog": [
   {
    "duration": 374,
    "start_time": "2023-02-21T20:47:13.477Z"
   },
   {
    "duration": 1223,
    "start_time": "2023-02-21T20:47:42.971Z"
   },
   {
    "duration": 18,
    "start_time": "2023-02-21T20:47:57.006Z"
   },
   {
    "duration": 11,
    "start_time": "2023-02-21T20:48:34.278Z"
   },
   {
    "duration": 12,
    "start_time": "2023-02-21T20:50:34.291Z"
   },
   {
    "duration": 13,
    "start_time": "2023-02-21T20:50:38.539Z"
   },
   {
    "duration": 11,
    "start_time": "2023-02-21T20:52:50.706Z"
   },
   {
    "duration": 68,
    "start_time": "2023-02-21T20:56:10.804Z"
   },
   {
    "duration": 20,
    "start_time": "2023-02-21T21:02:46.115Z"
   },
   {
    "duration": 13,
    "start_time": "2023-02-21T21:03:00.888Z"
   },
   {
    "duration": 2,
    "start_time": "2023-02-21T21:03:08.095Z"
   },
   {
    "duration": 854,
    "start_time": "2023-02-21T21:03:08.099Z"
   },
   {
    "duration": 13,
    "start_time": "2023-02-21T21:03:08.955Z"
   },
   {
    "duration": 17,
    "start_time": "2023-02-21T21:03:08.969Z"
   },
   {
    "duration": 12,
    "start_time": "2023-02-21T21:03:08.987Z"
   },
   {
    "duration": 12,
    "start_time": "2023-02-21T21:03:16.742Z"
   },
   {
    "duration": 13,
    "start_time": "2023-02-21T21:03:54.650Z"
   },
   {
    "duration": 14,
    "start_time": "2023-02-21T21:04:10.463Z"
   },
   {
    "duration": 17,
    "start_time": "2023-02-21T21:04:57.924Z"
   },
   {
    "duration": 8,
    "start_time": "2023-02-21T21:05:07.562Z"
   },
   {
    "duration": 6,
    "start_time": "2023-02-21T21:05:16.049Z"
   },
   {
    "duration": 7,
    "start_time": "2023-02-21T21:05:50.657Z"
   },
   {
    "duration": 5,
    "start_time": "2023-02-21T21:09:36.894Z"
   },
   {
    "duration": 6,
    "start_time": "2023-02-21T21:09:56.983Z"
   },
   {
    "duration": 18,
    "start_time": "2023-02-21T21:10:09.192Z"
   },
   {
    "duration": 11,
    "start_time": "2023-02-21T21:20:23.347Z"
   },
   {
    "duration": 8,
    "start_time": "2023-02-21T21:20:31.362Z"
   },
   {
    "duration": 8,
    "start_time": "2023-02-21T21:20:50.861Z"
   },
   {
    "duration": 9,
    "start_time": "2023-02-21T21:21:00.961Z"
   },
   {
    "duration": 9,
    "start_time": "2023-02-21T21:21:20.370Z"
   },
   {
    "duration": 10,
    "start_time": "2023-02-21T21:21:38.013Z"
   },
   {
    "duration": 8,
    "start_time": "2023-02-21T21:22:16.888Z"
   },
   {
    "duration": 6,
    "start_time": "2023-02-21T21:23:57.650Z"
   },
   {
    "duration": 15,
    "start_time": "2023-02-21T21:24:11.004Z"
   },
   {
    "duration": 16,
    "start_time": "2023-02-21T21:24:18.973Z"
   },
   {
    "duration": 10,
    "start_time": "2023-02-21T21:24:22.822Z"
   },
   {
    "duration": 10,
    "start_time": "2023-02-21T21:24:23.401Z"
   },
   {
    "duration": 2,
    "start_time": "2023-02-21T21:24:26.067Z"
   },
   {
    "duration": 1132,
    "start_time": "2023-02-21T21:24:26.072Z"
   },
   {
    "duration": 14,
    "start_time": "2023-02-21T21:24:27.206Z"
   },
   {
    "duration": 16,
    "start_time": "2023-02-21T21:24:27.221Z"
   },
   {
    "duration": 13,
    "start_time": "2023-02-21T21:24:27.238Z"
   },
   {
    "duration": 8,
    "start_time": "2023-02-21T21:24:27.253Z"
   },
   {
    "duration": 14,
    "start_time": "2023-02-21T21:24:27.263Z"
   },
   {
    "duration": 8,
    "start_time": "2023-02-21T21:24:27.278Z"
   },
   {
    "duration": 9,
    "start_time": "2023-02-21T21:24:27.288Z"
   },
   {
    "duration": 5,
    "start_time": "2023-02-21T21:32:06.918Z"
   },
   {
    "duration": 1016,
    "start_time": "2023-02-21T21:32:11.811Z"
   },
   {
    "duration": 3,
    "start_time": "2023-02-21T21:32:24.225Z"
   },
   {
    "duration": 1332,
    "start_time": "2023-02-21T21:32:24.231Z"
   },
   {
    "duration": 14,
    "start_time": "2023-02-21T21:32:25.565Z"
   },
   {
    "duration": 24,
    "start_time": "2023-02-21T21:32:25.581Z"
   },
   {
    "duration": 14,
    "start_time": "2023-02-21T21:32:25.607Z"
   },
   {
    "duration": 26,
    "start_time": "2023-02-21T21:32:25.623Z"
   },
   {
    "duration": 16,
    "start_time": "2023-02-21T21:32:25.651Z"
   },
   {
    "duration": 13,
    "start_time": "2023-02-21T21:32:25.669Z"
   },
   {
    "duration": 6,
    "start_time": "2023-02-21T21:32:25.684Z"
   },
   {
    "duration": 12,
    "start_time": "2023-02-21T21:32:25.692Z"
   },
   {
    "duration": 870,
    "start_time": "2023-02-21T21:32:28.933Z"
   },
   {
    "duration": 432,
    "start_time": "2023-02-21T21:32:42.334Z"
   },
   {
    "duration": 977,
    "start_time": "2023-02-21T21:32:42.768Z"
   },
   {
    "duration": 21,
    "start_time": "2023-02-21T21:32:43.747Z"
   },
   {
    "duration": 18,
    "start_time": "2023-02-21T21:32:43.770Z"
   },
   {
    "duration": 24,
    "start_time": "2023-02-21T21:32:43.791Z"
   },
   {
    "duration": 10,
    "start_time": "2023-02-21T21:32:43.837Z"
   },
   {
    "duration": 16,
    "start_time": "2023-02-21T21:32:43.849Z"
   },
   {
    "duration": 12,
    "start_time": "2023-02-21T21:32:43.867Z"
   },
   {
    "duration": 6,
    "start_time": "2023-02-21T21:32:43.882Z"
   },
   {
    "duration": 8,
    "start_time": "2023-02-21T21:32:43.889Z"
   },
   {
    "duration": 944,
    "start_time": "2023-02-21T21:32:47.367Z"
   },
   {
    "duration": 872,
    "start_time": "2023-02-21T21:33:02.985Z"
   },
   {
    "duration": 7,
    "start_time": "2023-02-21T21:33:12.675Z"
   },
   {
    "duration": 5,
    "start_time": "2023-02-21T21:33:19.838Z"
   },
   {
    "duration": 396,
    "start_time": "2023-02-21T21:33:26.997Z"
   },
   {
    "duration": 1104,
    "start_time": "2023-02-21T21:33:27.395Z"
   },
   {
    "duration": 20,
    "start_time": "2023-02-21T21:33:28.500Z"
   },
   {
    "duration": 14,
    "start_time": "2023-02-21T21:33:28.522Z"
   },
   {
    "duration": 19,
    "start_time": "2023-02-21T21:33:28.539Z"
   },
   {
    "duration": 9,
    "start_time": "2023-02-21T21:33:28.560Z"
   },
   {
    "duration": 13,
    "start_time": "2023-02-21T21:33:28.571Z"
   },
   {
    "duration": 12,
    "start_time": "2023-02-21T21:33:28.587Z"
   },
   {
    "duration": 5,
    "start_time": "2023-02-21T21:33:28.601Z"
   },
   {
    "duration": 4,
    "start_time": "2023-02-21T21:33:28.638Z"
   },
   {
    "duration": 60,
    "start_time": "2023-02-21T21:35:36.026Z"
   },
   {
    "duration": 8,
    "start_time": "2023-02-21T21:35:49.168Z"
   },
   {
    "duration": 883,
    "start_time": "2023-02-21T21:36:05.156Z"
   },
   {
    "duration": 3,
    "start_time": "2023-02-21T21:36:08.126Z"
   },
   {
    "duration": 1082,
    "start_time": "2023-02-21T21:36:08.131Z"
   },
   {
    "duration": 17,
    "start_time": "2023-02-21T21:36:09.216Z"
   },
   {
    "duration": 14,
    "start_time": "2023-02-21T21:36:09.234Z"
   },
   {
    "duration": 16,
    "start_time": "2023-02-21T21:36:09.250Z"
   },
   {
    "duration": 9,
    "start_time": "2023-02-21T21:36:09.267Z"
   },
   {
    "duration": 12,
    "start_time": "2023-02-21T21:36:09.277Z"
   },
   {
    "duration": 12,
    "start_time": "2023-02-21T21:36:09.290Z"
   },
   {
    "duration": 3,
    "start_time": "2023-02-21T21:36:09.304Z"
   },
   {
    "duration": 28,
    "start_time": "2023-02-21T21:36:09.309Z"
   },
   {
    "duration": 35,
    "start_time": "2023-02-21T21:36:09.340Z"
   },
   {
    "duration": 5,
    "start_time": "2023-02-21T21:44:47.143Z"
   },
   {
    "duration": 5,
    "start_time": "2023-02-21T21:46:09.676Z"
   },
   {
    "duration": 4,
    "start_time": "2023-02-21T21:47:15.695Z"
   },
   {
    "duration": 4,
    "start_time": "2023-02-21T21:47:56.497Z"
   },
   {
    "duration": 4,
    "start_time": "2023-02-21T21:48:14.135Z"
   },
   {
    "duration": 35,
    "start_time": "2023-02-21T21:51:19.585Z"
   },
   {
    "duration": 485,
    "start_time": "2023-02-21T21:53:37.493Z"
   },
   {
    "duration": 5,
    "start_time": "2023-02-21T21:55:18.898Z"
   },
   {
    "duration": 8,
    "start_time": "2023-02-21T21:55:36.743Z"
   },
   {
    "duration": 4,
    "start_time": "2023-02-21T21:55:50.784Z"
   },
   {
    "duration": 149,
    "start_time": "2023-02-21T21:56:03.353Z"
   },
   {
    "duration": 156,
    "start_time": "2023-02-21T21:56:25.989Z"
   },
   {
    "duration": 103,
    "start_time": "2023-02-21T22:01:30.810Z"
   },
   {
    "duration": 89,
    "start_time": "2023-02-21T22:04:13.762Z"
   },
   {
    "duration": 37,
    "start_time": "2023-02-21T22:04:23.189Z"
   },
   {
    "duration": 111,
    "start_time": "2023-02-21T22:04:26.780Z"
   },
   {
    "duration": 32,
    "start_time": "2023-02-21T22:05:08.170Z"
   },
   {
    "duration": 128,
    "start_time": "2023-02-21T22:06:16.136Z"
   },
   {
    "duration": 100,
    "start_time": "2023-02-21T22:06:46.422Z"
   },
   {
    "duration": 110,
    "start_time": "2023-02-21T22:06:53.098Z"
   },
   {
    "duration": 122,
    "start_time": "2023-02-21T22:07:17.612Z"
   },
   {
    "duration": 432,
    "start_time": "2023-02-22T11:25:18.847Z"
   },
   {
    "duration": 411,
    "start_time": "2023-02-22T11:25:36.017Z"
   },
   {
    "duration": 1290,
    "start_time": "2023-02-22T11:25:36.430Z"
   },
   {
    "duration": 24,
    "start_time": "2023-02-22T11:25:37.722Z"
   },
   {
    "duration": 14,
    "start_time": "2023-02-22T11:25:37.747Z"
   },
   {
    "duration": 28,
    "start_time": "2023-02-22T11:25:37.764Z"
   },
   {
    "duration": 23,
    "start_time": "2023-02-22T11:25:37.805Z"
   },
   {
    "duration": 13,
    "start_time": "2023-02-22T11:25:37.829Z"
   },
   {
    "duration": 10,
    "start_time": "2023-02-22T11:25:37.844Z"
   },
   {
    "duration": 4,
    "start_time": "2023-02-22T11:25:37.855Z"
   },
   {
    "duration": 5,
    "start_time": "2023-02-22T11:25:37.861Z"
   },
   {
    "duration": 10,
    "start_time": "2023-02-22T11:25:37.868Z"
   },
   {
    "duration": 25,
    "start_time": "2023-02-22T11:25:37.880Z"
   },
   {
    "duration": 10,
    "start_time": "2023-02-22T11:25:37.908Z"
   },
   {
    "duration": 9,
    "start_time": "2023-02-22T11:25:37.921Z"
   },
   {
    "duration": 6,
    "start_time": "2023-02-22T11:25:37.932Z"
   },
   {
    "duration": 48,
    "start_time": "2023-02-22T11:25:37.940Z"
   },
   {
    "duration": 556,
    "start_time": "2023-02-22T11:25:37.990Z"
   },
   {
    "duration": 9,
    "start_time": "2023-02-22T11:27:41.119Z"
   },
   {
    "duration": 6,
    "start_time": "2023-02-22T11:27:48.150Z"
   },
   {
    "duration": 6,
    "start_time": "2023-02-22T11:27:56.622Z"
   },
   {
    "duration": 5,
    "start_time": "2023-02-22T11:28:29.521Z"
   },
   {
    "duration": 6,
    "start_time": "2023-02-22T11:28:37.131Z"
   },
   {
    "duration": 7,
    "start_time": "2023-02-22T11:28:47.824Z"
   },
   {
    "duration": 156,
    "start_time": "2023-02-22T11:29:17.870Z"
   },
   {
    "duration": 6,
    "start_time": "2023-02-22T11:54:08.084Z"
   },
   {
    "duration": 18,
    "start_time": "2023-02-22T11:58:51.283Z"
   },
   {
    "duration": 5,
    "start_time": "2023-02-22T12:00:46.474Z"
   },
   {
    "duration": 6,
    "start_time": "2023-02-22T12:00:53.426Z"
   },
   {
    "duration": 6,
    "start_time": "2023-02-22T12:01:00.485Z"
   },
   {
    "duration": 5,
    "start_time": "2023-02-22T12:06:23.730Z"
   },
   {
    "duration": 6,
    "start_time": "2023-02-22T12:06:36.930Z"
   },
   {
    "duration": 25,
    "start_time": "2023-02-22T12:06:47.031Z"
   },
   {
    "duration": 18,
    "start_time": "2023-02-22T12:23:57.160Z"
   },
   {
    "duration": 21,
    "start_time": "2023-02-22T12:32:53.053Z"
   },
   {
    "duration": 12,
    "start_time": "2023-02-22T12:33:05.396Z"
   },
   {
    "duration": 131,
    "start_time": "2023-02-22T12:42:28.491Z"
   },
   {
    "duration": 135,
    "start_time": "2023-02-22T12:42:42.871Z"
   },
   {
    "duration": 208,
    "start_time": "2023-02-22T12:42:51.647Z"
   },
   {
    "duration": 125,
    "start_time": "2023-02-22T12:43:10.377Z"
   },
   {
    "duration": 4,
    "start_time": "2023-02-22T12:51:09.420Z"
   },
   {
    "duration": 4,
    "start_time": "2023-02-22T12:53:42.101Z"
   },
   {
    "duration": 148,
    "start_time": "2023-02-22T12:53:53.047Z"
   },
   {
    "duration": 76,
    "start_time": "2023-02-22T12:54:10.497Z"
   },
   {
    "duration": 51,
    "start_time": "2023-02-22T12:55:09.022Z"
   },
   {
    "duration": 17,
    "start_time": "2023-02-22T12:55:15.428Z"
   },
   {
    "duration": 69,
    "start_time": "2023-02-22T12:55:31.613Z"
   },
   {
    "duration": 76,
    "start_time": "2023-02-22T12:56:52.275Z"
   },
   {
    "duration": 113,
    "start_time": "2023-02-22T12:59:36.049Z"
   },
   {
    "duration": 41,
    "start_time": "2023-02-22T12:59:56.248Z"
   },
   {
    "duration": 22,
    "start_time": "2023-02-22T13:00:01.070Z"
   },
   {
    "duration": 4,
    "start_time": "2023-02-22T13:00:11.315Z"
   },
   {
    "duration": 7,
    "start_time": "2023-02-22T13:00:33.096Z"
   },
   {
    "duration": 2,
    "start_time": "2023-02-22T13:03:57.584Z"
   },
   {
    "duration": 9,
    "start_time": "2023-02-22T13:04:47.624Z"
   },
   {
    "duration": 11,
    "start_time": "2023-02-22T13:05:06.445Z"
   },
   {
    "duration": 7,
    "start_time": "2023-02-22T13:05:24.923Z"
   },
   {
    "duration": 784,
    "start_time": "2023-02-22T13:05:32.644Z"
   },
   {
    "duration": 835,
    "start_time": "2023-02-22T13:05:40.377Z"
   },
   {
    "duration": 781,
    "start_time": "2023-02-22T13:08:43.318Z"
   },
   {
    "duration": 820,
    "start_time": "2023-02-22T13:08:48.019Z"
   },
   {
    "duration": 7,
    "start_time": "2023-02-22T13:08:59.491Z"
   },
   {
    "duration": 10,
    "start_time": "2023-02-22T13:09:11.336Z"
   },
   {
    "duration": 744,
    "start_time": "2023-02-22T13:09:47.013Z"
   },
   {
    "duration": 2080,
    "start_time": "2023-02-22T13:10:02.128Z"
   },
   {
    "duration": 831,
    "start_time": "2023-02-22T13:10:10.659Z"
   },
   {
    "duration": 12,
    "start_time": "2023-02-22T13:10:47.493Z"
   },
   {
    "duration": 11,
    "start_time": "2023-02-22T13:10:50.984Z"
   },
   {
    "duration": 350,
    "start_time": "2023-02-22T13:10:58.361Z"
   },
   {
    "duration": 978,
    "start_time": "2023-02-22T13:10:58.713Z"
   },
   {
    "duration": 20,
    "start_time": "2023-02-22T13:10:59.693Z"
   },
   {
    "duration": 13,
    "start_time": "2023-02-22T13:10:59.715Z"
   },
   {
    "duration": 20,
    "start_time": "2023-02-22T13:10:59.729Z"
   },
   {
    "duration": 6,
    "start_time": "2023-02-22T13:10:59.750Z"
   },
   {
    "duration": 10,
    "start_time": "2023-02-22T13:10:59.757Z"
   },
   {
    "duration": 7,
    "start_time": "2023-02-22T13:10:59.768Z"
   },
   {
    "duration": 27,
    "start_time": "2023-02-22T13:10:59.776Z"
   },
   {
    "duration": 4,
    "start_time": "2023-02-22T13:10:59.806Z"
   },
   {
    "duration": 7,
    "start_time": "2023-02-22T13:10:59.811Z"
   },
   {
    "duration": 5,
    "start_time": "2023-02-22T13:10:59.820Z"
   },
   {
    "duration": 5,
    "start_time": "2023-02-22T13:10:59.826Z"
   },
   {
    "duration": 7,
    "start_time": "2023-02-22T13:10:59.833Z"
   },
   {
    "duration": 7,
    "start_time": "2023-02-22T13:10:59.841Z"
   },
   {
    "duration": 55,
    "start_time": "2023-02-22T13:10:59.850Z"
   },
   {
    "duration": 4,
    "start_time": "2023-02-22T13:10:59.906Z"
   },
   {
    "duration": 7,
    "start_time": "2023-02-22T13:10:59.911Z"
   },
   {
    "duration": 24,
    "start_time": "2023-02-22T13:10:59.919Z"
   },
   {
    "duration": 23,
    "start_time": "2023-02-22T13:11:19.952Z"
   },
   {
    "duration": 10,
    "start_time": "2023-02-22T13:13:43.713Z"
   },
   {
    "duration": 17,
    "start_time": "2023-02-22T13:13:55.227Z"
   },
   {
    "duration": 15,
    "start_time": "2023-02-22T13:14:46.268Z"
   },
   {
    "duration": 17,
    "start_time": "2023-02-22T13:14:54.530Z"
   },
   {
    "duration": 3,
    "start_time": "2023-02-22T13:15:01.625Z"
   },
   {
    "duration": 1464,
    "start_time": "2023-02-22T13:15:01.630Z"
   },
   {
    "duration": 12,
    "start_time": "2023-02-22T13:15:03.096Z"
   },
   {
    "duration": 39,
    "start_time": "2023-02-22T13:15:03.109Z"
   },
   {
    "duration": 39,
    "start_time": "2023-02-22T13:15:03.150Z"
   },
   {
    "duration": 26,
    "start_time": "2023-02-22T13:15:03.190Z"
   },
   {
    "duration": 17,
    "start_time": "2023-02-22T13:15:03.217Z"
   },
   {
    "duration": 30,
    "start_time": "2023-02-22T13:15:03.235Z"
   },
   {
    "duration": 18,
    "start_time": "2023-02-22T13:15:03.267Z"
   },
   {
    "duration": 19,
    "start_time": "2023-02-22T13:15:03.286Z"
   },
   {
    "duration": 13,
    "start_time": "2023-02-22T13:15:03.306Z"
   },
   {
    "duration": 5,
    "start_time": "2023-02-22T13:15:03.320Z"
   },
   {
    "duration": 12,
    "start_time": "2023-02-22T13:15:03.327Z"
   },
   {
    "duration": 32,
    "start_time": "2023-02-22T13:15:03.340Z"
   },
   {
    "duration": 58,
    "start_time": "2023-02-22T13:15:03.374Z"
   },
   {
    "duration": 48,
    "start_time": "2023-02-22T13:15:03.433Z"
   },
   {
    "duration": 12,
    "start_time": "2023-02-22T13:15:03.482Z"
   },
   {
    "duration": 9,
    "start_time": "2023-02-22T13:15:03.496Z"
   },
   {
    "duration": 19,
    "start_time": "2023-02-22T13:15:03.507Z"
   },
   {
    "duration": 15,
    "start_time": "2023-02-22T13:18:22.932Z"
   },
   {
    "duration": 64,
    "start_time": "2023-02-22T13:27:59.928Z"
   },
   {
    "duration": 7,
    "start_time": "2023-02-22T13:28:03.191Z"
   },
   {
    "duration": 4,
    "start_time": "2023-02-22T13:28:15.302Z"
   },
   {
    "duration": 7,
    "start_time": "2023-02-22T13:28:27.141Z"
   },
   {
    "duration": 6,
    "start_time": "2023-02-22T13:29:22.800Z"
   },
   {
    "duration": 4,
    "start_time": "2023-02-22T13:34:16.509Z"
   },
   {
    "duration": 8,
    "start_time": "2023-02-22T13:34:49.123Z"
   },
   {
    "duration": 7,
    "start_time": "2023-02-22T13:35:20.779Z"
   },
   {
    "duration": 7,
    "start_time": "2023-02-22T13:35:25.582Z"
   },
   {
    "duration": 15,
    "start_time": "2023-02-22T13:35:35.217Z"
   },
   {
    "duration": 14,
    "start_time": "2023-02-22T13:36:52.715Z"
   },
   {
    "duration": 3,
    "start_time": "2023-02-22T13:36:59.461Z"
   },
   {
    "duration": 1057,
    "start_time": "2023-02-22T13:36:59.466Z"
   },
   {
    "duration": 12,
    "start_time": "2023-02-22T13:37:00.525Z"
   },
   {
    "duration": 55,
    "start_time": "2023-02-22T13:37:00.538Z"
   },
   {
    "duration": 38,
    "start_time": "2023-02-22T13:37:00.595Z"
   },
   {
    "duration": 16,
    "start_time": "2023-02-22T13:37:00.634Z"
   },
   {
    "duration": 27,
    "start_time": "2023-02-22T13:37:00.652Z"
   },
   {
    "duration": 55,
    "start_time": "2023-02-22T13:37:00.681Z"
   },
   {
    "duration": 45,
    "start_time": "2023-02-22T13:37:00.738Z"
   },
   {
    "duration": 33,
    "start_time": "2023-02-22T13:37:00.785Z"
   },
   {
    "duration": 11,
    "start_time": "2023-02-22T13:37:00.820Z"
   },
   {
    "duration": 18,
    "start_time": "2023-02-22T13:37:00.833Z"
   },
   {
    "duration": 13,
    "start_time": "2023-02-22T13:37:00.853Z"
   },
   {
    "duration": 35,
    "start_time": "2023-02-22T13:37:00.868Z"
   },
   {
    "duration": 35,
    "start_time": "2023-02-22T13:37:00.904Z"
   },
   {
    "duration": 67,
    "start_time": "2023-02-22T13:37:00.940Z"
   },
   {
    "duration": 5,
    "start_time": "2023-02-22T13:37:01.009Z"
   },
   {
    "duration": 33,
    "start_time": "2023-02-22T13:37:01.015Z"
   },
   {
    "duration": 29,
    "start_time": "2023-02-22T13:37:01.050Z"
   },
   {
    "duration": 18,
    "start_time": "2023-02-22T13:37:01.081Z"
   },
   {
    "duration": 91,
    "start_time": "2023-02-22T13:37:01.101Z"
   },
   {
    "duration": 185,
    "start_time": "2023-02-22T13:37:13.001Z"
   },
   {
    "duration": 3,
    "start_time": "2023-02-22T13:37:15.663Z"
   },
   {
    "duration": 885,
    "start_time": "2023-02-22T13:37:15.668Z"
   },
   {
    "duration": 14,
    "start_time": "2023-02-22T13:37:16.556Z"
   },
   {
    "duration": 32,
    "start_time": "2023-02-22T13:37:16.572Z"
   },
   {
    "duration": 22,
    "start_time": "2023-02-22T13:37:16.606Z"
   },
   {
    "duration": 20,
    "start_time": "2023-02-22T13:37:16.630Z"
   },
   {
    "duration": 31,
    "start_time": "2023-02-22T13:37:16.652Z"
   },
   {
    "duration": 22,
    "start_time": "2023-02-22T13:37:16.686Z"
   },
   {
    "duration": 7,
    "start_time": "2023-02-22T13:37:16.711Z"
   },
   {
    "duration": 25,
    "start_time": "2023-02-22T13:37:16.722Z"
   },
   {
    "duration": 17,
    "start_time": "2023-02-22T13:37:16.751Z"
   },
   {
    "duration": 31,
    "start_time": "2023-02-22T13:37:16.770Z"
   },
   {
    "duration": 16,
    "start_time": "2023-02-22T13:37:16.803Z"
   },
   {
    "duration": 7,
    "start_time": "2023-02-22T13:37:16.820Z"
   },
   {
    "duration": 12,
    "start_time": "2023-02-22T13:37:16.828Z"
   },
   {
    "duration": 43,
    "start_time": "2023-02-22T13:37:16.842Z"
   },
   {
    "duration": 4,
    "start_time": "2023-02-22T13:37:16.887Z"
   },
   {
    "duration": 15,
    "start_time": "2023-02-22T13:37:16.893Z"
   },
   {
    "duration": 25,
    "start_time": "2023-02-22T13:37:16.910Z"
   },
   {
    "duration": 4,
    "start_time": "2023-02-22T13:37:16.937Z"
   },
   {
    "duration": 17,
    "start_time": "2023-02-22T13:37:16.943Z"
   },
   {
    "duration": 46,
    "start_time": "2023-02-22T13:57:36.423Z"
   },
   {
    "duration": 19,
    "start_time": "2023-02-22T13:59:15.541Z"
   },
   {
    "duration": 654,
    "start_time": "2023-02-22T13:59:39.884Z"
   },
   {
    "duration": 19,
    "start_time": "2023-02-22T13:59:52.838Z"
   },
   {
    "duration": 27,
    "start_time": "2023-02-22T14:00:31.395Z"
   },
   {
    "duration": 13649,
    "start_time": "2023-02-22T14:00:41.676Z"
   },
   {
    "duration": 9558,
    "start_time": "2023-02-22T14:01:46.448Z"
   },
   {
    "duration": 7,
    "start_time": "2023-02-22T14:03:13.960Z"
   },
   {
    "duration": 119,
    "start_time": "2023-02-22T14:03:27.944Z"
   },
   {
    "duration": 8,
    "start_time": "2023-02-22T14:04:58.754Z"
   },
   {
    "duration": 9,
    "start_time": "2023-02-22T14:08:00.393Z"
   },
   {
    "duration": 12,
    "start_time": "2023-02-22T14:08:06.232Z"
   },
   {
    "duration": 20,
    "start_time": "2023-02-22T14:10:03.855Z"
   },
   {
    "duration": 8,
    "start_time": "2023-02-22T14:10:28.844Z"
   },
   {
    "duration": 20,
    "start_time": "2023-02-22T14:10:42.477Z"
   },
   {
    "duration": 8,
    "start_time": "2023-02-22T14:13:14.468Z"
   },
   {
    "duration": 22,
    "start_time": "2023-02-22T14:13:20.612Z"
   },
   {
    "duration": 402,
    "start_time": "2023-02-22T14:13:38.618Z"
   },
   {
    "duration": 1097,
    "start_time": "2023-02-22T14:13:39.021Z"
   },
   {
    "duration": 21,
    "start_time": "2023-02-22T14:13:40.120Z"
   },
   {
    "duration": 12,
    "start_time": "2023-02-22T14:13:40.143Z"
   },
   {
    "duration": 15,
    "start_time": "2023-02-22T14:13:40.156Z"
   },
   {
    "duration": 10,
    "start_time": "2023-02-22T14:13:40.172Z"
   },
   {
    "duration": 11,
    "start_time": "2023-02-22T14:13:40.204Z"
   },
   {
    "duration": 8,
    "start_time": "2023-02-22T14:13:40.216Z"
   },
   {
    "duration": 4,
    "start_time": "2023-02-22T14:13:40.226Z"
   },
   {
    "duration": 10,
    "start_time": "2023-02-22T14:13:40.232Z"
   },
   {
    "duration": 15,
    "start_time": "2023-02-22T14:13:40.244Z"
   },
   {
    "duration": 11,
    "start_time": "2023-02-22T14:13:40.261Z"
   },
   {
    "duration": 31,
    "start_time": "2023-02-22T14:13:40.274Z"
   },
   {
    "duration": 11,
    "start_time": "2023-02-22T14:13:40.306Z"
   },
   {
    "duration": 7,
    "start_time": "2023-02-22T14:13:40.318Z"
   },
   {
    "duration": 39,
    "start_time": "2023-02-22T14:13:40.327Z"
   },
   {
    "duration": 4,
    "start_time": "2023-02-22T14:13:40.368Z"
   },
   {
    "duration": 7,
    "start_time": "2023-02-22T14:13:40.374Z"
   },
   {
    "duration": 17,
    "start_time": "2023-02-22T14:13:40.404Z"
   },
   {
    "duration": 19,
    "start_time": "2023-02-22T14:13:40.423Z"
   },
   {
    "duration": 3,
    "start_time": "2023-02-22T14:13:40.443Z"
   },
   {
    "duration": 25,
    "start_time": "2023-02-22T14:13:40.448Z"
   },
   {
    "duration": 92,
    "start_time": "2023-02-22T14:13:40.475Z"
   },
   {
    "duration": 23,
    "start_time": "2023-02-22T14:14:25.720Z"
   },
   {
    "duration": 17,
    "start_time": "2023-02-22T14:18:40.008Z"
   },
   {
    "duration": 981,
    "start_time": "2023-02-22T14:21:44.180Z"
   },
   {
    "duration": 8,
    "start_time": "2023-02-22T14:22:14.032Z"
   },
   {
    "duration": 7,
    "start_time": "2023-02-22T14:22:24.265Z"
   },
   {
    "duration": 13,
    "start_time": "2023-02-22T14:23:32.198Z"
   },
   {
    "duration": 13,
    "start_time": "2023-02-22T14:25:47.050Z"
   },
   {
    "duration": 53,
    "start_time": "2023-02-22T14:26:30.796Z"
   },
   {
    "duration": 72,
    "start_time": "2023-02-22T14:26:36.449Z"
   },
   {
    "duration": 20,
    "start_time": "2023-02-22T14:26:52.163Z"
   },
   {
    "duration": 20,
    "start_time": "2023-02-22T14:27:17.489Z"
   },
   {
    "duration": 18,
    "start_time": "2023-02-22T14:27:27.877Z"
   },
   {
    "duration": 28,
    "start_time": "2023-02-22T14:27:57.550Z"
   },
   {
    "duration": 26,
    "start_time": "2023-02-22T14:28:19.109Z"
   },
   {
    "duration": 20,
    "start_time": "2023-02-22T14:28:24.497Z"
   },
   {
    "duration": 19,
    "start_time": "2023-02-22T14:28:45.211Z"
   },
   {
    "duration": 18,
    "start_time": "2023-02-22T14:28:52.703Z"
   },
   {
    "duration": 21,
    "start_time": "2023-02-22T14:29:37.834Z"
   },
   {
    "duration": 22,
    "start_time": "2023-02-22T14:36:30.065Z"
   },
   {
    "duration": 19,
    "start_time": "2023-02-22T14:37:02.039Z"
   },
   {
    "duration": 14,
    "start_time": "2023-02-22T14:37:10.661Z"
   },
   {
    "duration": 19,
    "start_time": "2023-02-22T14:37:18.138Z"
   },
   {
    "duration": 15,
    "start_time": "2023-02-22T14:37:52.895Z"
   },
   {
    "duration": 20,
    "start_time": "2023-02-22T14:37:56.560Z"
   },
   {
    "duration": 3,
    "start_time": "2023-02-22T15:25:46.012Z"
   },
   {
    "duration": 1118,
    "start_time": "2023-02-22T15:25:46.017Z"
   },
   {
    "duration": 12,
    "start_time": "2023-02-22T15:25:47.137Z"
   },
   {
    "duration": 26,
    "start_time": "2023-02-22T15:25:47.151Z"
   },
   {
    "duration": 16,
    "start_time": "2023-02-22T15:25:47.180Z"
   },
   {
    "duration": 7,
    "start_time": "2023-02-22T15:25:47.197Z"
   },
   {
    "duration": 20,
    "start_time": "2023-02-22T15:25:47.207Z"
   },
   {
    "duration": 9,
    "start_time": "2023-02-22T15:25:47.228Z"
   },
   {
    "duration": 4,
    "start_time": "2023-02-22T15:25:47.239Z"
   },
   {
    "duration": 7,
    "start_time": "2023-02-22T15:25:47.245Z"
   },
   {
    "duration": 7,
    "start_time": "2023-02-22T15:25:47.254Z"
   },
   {
    "duration": 5,
    "start_time": "2023-02-22T15:25:47.263Z"
   },
   {
    "duration": 6,
    "start_time": "2023-02-22T15:25:47.269Z"
   },
   {
    "duration": 5,
    "start_time": "2023-02-22T15:25:47.277Z"
   },
   {
    "duration": 9,
    "start_time": "2023-02-22T15:25:47.304Z"
   },
   {
    "duration": 41,
    "start_time": "2023-02-22T15:25:47.314Z"
   },
   {
    "duration": 4,
    "start_time": "2023-02-22T15:25:47.356Z"
   },
   {
    "duration": 14,
    "start_time": "2023-02-22T15:25:47.362Z"
   },
   {
    "duration": 29,
    "start_time": "2023-02-22T15:25:47.378Z"
   },
   {
    "duration": 11,
    "start_time": "2023-02-22T15:25:47.408Z"
   },
   {
    "duration": 22,
    "start_time": "2023-02-22T15:25:47.421Z"
   },
   {
    "duration": 20,
    "start_time": "2023-02-22T15:25:47.444Z"
   },
   {
    "duration": 22,
    "start_time": "2023-02-22T15:25:47.466Z"
   },
   {
    "duration": 791,
    "start_time": "2023-02-22T15:27:53.128Z"
   },
   {
    "duration": 435,
    "start_time": "2023-02-22T15:28:06.523Z"
   },
   {
    "duration": 1030,
    "start_time": "2023-02-22T15:28:06.959Z"
   },
   {
    "duration": 31,
    "start_time": "2023-02-22T15:28:07.990Z"
   },
   {
    "duration": 14,
    "start_time": "2023-02-22T15:28:08.022Z"
   },
   {
    "duration": 26,
    "start_time": "2023-02-22T15:28:08.038Z"
   },
   {
    "duration": 6,
    "start_time": "2023-02-22T15:28:08.066Z"
   },
   {
    "duration": 8,
    "start_time": "2023-02-22T15:28:08.073Z"
   },
   {
    "duration": 7,
    "start_time": "2023-02-22T15:28:08.083Z"
   },
   {
    "duration": 5,
    "start_time": "2023-02-22T15:28:08.103Z"
   },
   {
    "duration": 6,
    "start_time": "2023-02-22T15:28:08.112Z"
   },
   {
    "duration": 8,
    "start_time": "2023-02-22T15:28:08.119Z"
   },
   {
    "duration": 7,
    "start_time": "2023-02-22T15:28:08.128Z"
   },
   {
    "duration": 5,
    "start_time": "2023-02-22T15:28:08.136Z"
   },
   {
    "duration": 4,
    "start_time": "2023-02-22T15:28:08.144Z"
   },
   {
    "duration": 5,
    "start_time": "2023-02-22T15:28:08.150Z"
   },
   {
    "duration": 69,
    "start_time": "2023-02-22T15:28:08.156Z"
   },
   {
    "duration": 5,
    "start_time": "2023-02-22T15:28:08.227Z"
   },
   {
    "duration": 11,
    "start_time": "2023-02-22T15:28:08.233Z"
   },
   {
    "duration": 4,
    "start_time": "2023-02-22T15:28:08.246Z"
   },
   {
    "duration": 26,
    "start_time": "2023-02-22T15:28:08.251Z"
   },
   {
    "duration": 3,
    "start_time": "2023-02-22T15:28:08.279Z"
   },
   {
    "duration": 40,
    "start_time": "2023-02-22T15:28:08.283Z"
   },
   {
    "duration": 22,
    "start_time": "2023-02-22T15:28:08.325Z"
   },
   {
    "duration": 21,
    "start_time": "2023-02-22T15:28:08.348Z"
   },
   {
    "duration": 882,
    "start_time": "2023-02-22T15:28:16.136Z"
   },
   {
    "duration": 2,
    "start_time": "2023-02-22T15:28:21.752Z"
   },
   {
    "duration": 943,
    "start_time": "2023-02-22T15:28:21.756Z"
   },
   {
    "duration": 0,
    "start_time": "2023-02-22T15:28:22.701Z"
   },
   {
    "duration": 0,
    "start_time": "2023-02-22T15:28:22.702Z"
   },
   {
    "duration": 0,
    "start_time": "2023-02-22T15:28:22.704Z"
   },
   {
    "duration": 0,
    "start_time": "2023-02-22T15:28:22.705Z"
   },
   {
    "duration": 0,
    "start_time": "2023-02-22T15:28:22.705Z"
   },
   {
    "duration": 0,
    "start_time": "2023-02-22T15:28:22.706Z"
   },
   {
    "duration": 0,
    "start_time": "2023-02-22T15:28:22.707Z"
   },
   {
    "duration": 0,
    "start_time": "2023-02-22T15:28:22.708Z"
   },
   {
    "duration": 0,
    "start_time": "2023-02-22T15:28:22.709Z"
   },
   {
    "duration": 0,
    "start_time": "2023-02-22T15:28:22.709Z"
   },
   {
    "duration": 0,
    "start_time": "2023-02-22T15:28:22.711Z"
   },
   {
    "duration": 0,
    "start_time": "2023-02-22T15:28:22.712Z"
   },
   {
    "duration": 0,
    "start_time": "2023-02-22T15:28:22.713Z"
   },
   {
    "duration": 0,
    "start_time": "2023-02-22T15:28:22.714Z"
   },
   {
    "duration": 0,
    "start_time": "2023-02-22T15:28:22.715Z"
   },
   {
    "duration": 0,
    "start_time": "2023-02-22T15:28:22.716Z"
   },
   {
    "duration": 0,
    "start_time": "2023-02-22T15:28:22.717Z"
   },
   {
    "duration": 0,
    "start_time": "2023-02-22T15:28:22.718Z"
   },
   {
    "duration": 0,
    "start_time": "2023-02-22T15:28:22.721Z"
   },
   {
    "duration": 0,
    "start_time": "2023-02-22T15:28:22.722Z"
   },
   {
    "duration": 0,
    "start_time": "2023-02-22T15:28:22.725Z"
   },
   {
    "duration": 0,
    "start_time": "2023-02-22T15:28:22.726Z"
   },
   {
    "duration": 2,
    "start_time": "2023-02-22T15:29:05.428Z"
   },
   {
    "duration": 948,
    "start_time": "2023-02-22T15:29:05.433Z"
   },
   {
    "duration": 11,
    "start_time": "2023-02-22T15:29:06.383Z"
   },
   {
    "duration": 28,
    "start_time": "2023-02-22T15:29:06.395Z"
   },
   {
    "duration": 22,
    "start_time": "2023-02-22T15:29:06.425Z"
   },
   {
    "duration": 7,
    "start_time": "2023-02-22T15:29:06.449Z"
   },
   {
    "duration": 11,
    "start_time": "2023-02-22T15:29:06.457Z"
   },
   {
    "duration": 8,
    "start_time": "2023-02-22T15:29:06.470Z"
   },
   {
    "duration": 10,
    "start_time": "2023-02-22T15:29:06.479Z"
   },
   {
    "duration": 24,
    "start_time": "2023-02-22T15:29:06.491Z"
   },
   {
    "duration": 14,
    "start_time": "2023-02-22T15:29:06.518Z"
   },
   {
    "duration": 11,
    "start_time": "2023-02-22T15:29:06.534Z"
   },
   {
    "duration": 6,
    "start_time": "2023-02-22T15:29:06.547Z"
   },
   {
    "duration": 7,
    "start_time": "2023-02-22T15:29:06.555Z"
   },
   {
    "duration": 7,
    "start_time": "2023-02-22T15:29:06.564Z"
   },
   {
    "duration": 45,
    "start_time": "2023-02-22T15:29:06.572Z"
   },
   {
    "duration": 7,
    "start_time": "2023-02-22T15:29:06.618Z"
   },
   {
    "duration": 10,
    "start_time": "2023-02-22T15:29:06.627Z"
   },
   {
    "duration": 11,
    "start_time": "2023-02-22T15:29:06.639Z"
   },
   {
    "duration": 31,
    "start_time": "2023-02-22T15:29:06.652Z"
   },
   {
    "duration": 4,
    "start_time": "2023-02-22T15:29:06.685Z"
   },
   {
    "duration": 31,
    "start_time": "2023-02-22T15:29:06.690Z"
   },
   {
    "duration": 23,
    "start_time": "2023-02-22T15:29:06.723Z"
   },
   {
    "duration": 20,
    "start_time": "2023-02-22T15:29:06.748Z"
   },
   {
    "duration": 18,
    "start_time": "2023-02-22T15:29:16.066Z"
   },
   {
    "duration": 11,
    "start_time": "2023-02-22T15:29:24.652Z"
   },
   {
    "duration": 405,
    "start_time": "2023-02-22T15:29:39.020Z"
   },
   {
    "duration": 3509,
    "start_time": "2023-02-22T15:29:39.427Z"
   },
   {
    "duration": 20,
    "start_time": "2023-02-22T15:29:42.937Z"
   },
   {
    "duration": 14,
    "start_time": "2023-02-22T15:29:42.959Z"
   },
   {
    "duration": 16,
    "start_time": "2023-02-22T15:29:42.974Z"
   },
   {
    "duration": 15,
    "start_time": "2023-02-22T15:29:42.992Z"
   },
   {
    "duration": 24,
    "start_time": "2023-02-22T15:29:43.010Z"
   },
   {
    "duration": 8,
    "start_time": "2023-02-22T15:29:43.036Z"
   },
   {
    "duration": 4,
    "start_time": "2023-02-22T15:29:43.045Z"
   },
   {
    "duration": 10,
    "start_time": "2023-02-22T15:29:43.051Z"
   },
   {
    "duration": 10,
    "start_time": "2023-02-22T15:29:43.062Z"
   },
   {
    "duration": 8,
    "start_time": "2023-02-22T15:29:43.073Z"
   },
   {
    "duration": 41,
    "start_time": "2023-02-22T15:29:43.082Z"
   },
   {
    "duration": 17,
    "start_time": "2023-02-22T15:29:43.127Z"
   },
   {
    "duration": 11,
    "start_time": "2023-02-22T15:29:43.146Z"
   },
   {
    "duration": 38,
    "start_time": "2023-02-22T15:29:43.159Z"
   },
   {
    "duration": 5,
    "start_time": "2023-02-22T15:29:43.199Z"
   },
   {
    "duration": 23,
    "start_time": "2023-02-22T15:29:43.206Z"
   },
   {
    "duration": 4,
    "start_time": "2023-02-22T15:29:43.231Z"
   },
   {
    "duration": 18,
    "start_time": "2023-02-22T15:29:43.236Z"
   },
   {
    "duration": 20,
    "start_time": "2023-02-22T15:29:43.255Z"
   },
   {
    "duration": 3,
    "start_time": "2023-02-22T15:29:43.277Z"
   },
   {
    "duration": 31,
    "start_time": "2023-02-22T15:29:43.282Z"
   },
   {
    "duration": 30,
    "start_time": "2023-02-22T15:29:43.316Z"
   },
   {
    "duration": 21,
    "start_time": "2023-02-22T15:29:43.348Z"
   },
   {
    "duration": 951,
    "start_time": "2023-02-22T15:30:56.909Z"
   },
   {
    "duration": 11,
    "start_time": "2023-02-22T15:30:57.890Z"
   },
   {
    "duration": 841,
    "start_time": "2023-02-22T15:31:25.621Z"
   },
   {
    "duration": 789,
    "start_time": "2023-02-22T15:31:58.696Z"
   },
   {
    "duration": 403,
    "start_time": "2023-02-22T15:32:08.718Z"
   },
   {
    "duration": 1745,
    "start_time": "2023-02-22T15:32:09.124Z"
   },
   {
    "duration": 19,
    "start_time": "2023-02-22T15:32:10.871Z"
   },
   {
    "duration": 26,
    "start_time": "2023-02-22T15:32:10.891Z"
   },
   {
    "duration": 18,
    "start_time": "2023-02-22T15:32:10.918Z"
   },
   {
    "duration": 7,
    "start_time": "2023-02-22T15:32:10.938Z"
   },
   {
    "duration": 21,
    "start_time": "2023-02-22T15:32:10.947Z"
   },
   {
    "duration": 21,
    "start_time": "2023-02-22T15:32:10.969Z"
   },
   {
    "duration": 10,
    "start_time": "2023-02-22T15:32:10.992Z"
   },
   {
    "duration": 30,
    "start_time": "2023-02-22T15:32:11.005Z"
   },
   {
    "duration": 20,
    "start_time": "2023-02-22T15:32:11.037Z"
   },
   {
    "duration": 12,
    "start_time": "2023-02-22T15:32:11.058Z"
   },
   {
    "duration": 11,
    "start_time": "2023-02-22T15:32:11.071Z"
   },
   {
    "duration": 27,
    "start_time": "2023-02-22T15:32:11.084Z"
   },
   {
    "duration": 35,
    "start_time": "2023-02-22T15:32:11.113Z"
   },
   {
    "duration": 46,
    "start_time": "2023-02-22T15:32:11.151Z"
   },
   {
    "duration": 11,
    "start_time": "2023-02-22T15:32:11.199Z"
   },
   {
    "duration": 21,
    "start_time": "2023-02-22T15:32:11.215Z"
   },
   {
    "duration": 10,
    "start_time": "2023-02-22T15:32:11.237Z"
   },
   {
    "duration": 21,
    "start_time": "2023-02-22T15:32:11.248Z"
   },
   {
    "duration": 32,
    "start_time": "2023-02-22T15:32:11.270Z"
   },
   {
    "duration": 18,
    "start_time": "2023-02-22T15:32:11.303Z"
   },
   {
    "duration": 36,
    "start_time": "2023-02-22T15:32:11.322Z"
   },
   {
    "duration": 25,
    "start_time": "2023-02-22T15:32:11.360Z"
   },
   {
    "duration": 23,
    "start_time": "2023-02-22T15:32:11.386Z"
   },
   {
    "duration": 825,
    "start_time": "2023-02-22T15:33:46.756Z"
   },
   {
    "duration": 392,
    "start_time": "2023-02-22T15:33:55.824Z"
   },
   {
    "duration": 860,
    "start_time": "2023-02-22T15:33:56.218Z"
   },
   {
    "duration": 21,
    "start_time": "2023-02-22T15:33:57.079Z"
   },
   {
    "duration": 22,
    "start_time": "2023-02-22T15:33:57.102Z"
   },
   {
    "duration": 18,
    "start_time": "2023-02-22T15:33:57.126Z"
   },
   {
    "duration": 8,
    "start_time": "2023-02-22T15:33:57.146Z"
   },
   {
    "duration": 14,
    "start_time": "2023-02-22T15:33:57.156Z"
   },
   {
    "duration": 9,
    "start_time": "2023-02-22T15:33:57.171Z"
   },
   {
    "duration": 4,
    "start_time": "2023-02-22T15:33:57.181Z"
   },
   {
    "duration": 19,
    "start_time": "2023-02-22T15:33:57.187Z"
   },
   {
    "duration": 6,
    "start_time": "2023-02-22T15:33:57.216Z"
   },
   {
    "duration": 9,
    "start_time": "2023-02-22T15:33:57.224Z"
   },
   {
    "duration": 7,
    "start_time": "2023-02-22T15:33:57.235Z"
   },
   {
    "duration": 5,
    "start_time": "2023-02-22T15:33:57.244Z"
   },
   {
    "duration": 7,
    "start_time": "2023-02-22T15:33:57.251Z"
   },
   {
    "duration": 58,
    "start_time": "2023-02-22T15:33:57.260Z"
   },
   {
    "duration": 7,
    "start_time": "2023-02-22T15:33:57.319Z"
   },
   {
    "duration": 8,
    "start_time": "2023-02-22T15:33:57.328Z"
   },
   {
    "duration": 4,
    "start_time": "2023-02-22T15:33:57.338Z"
   },
   {
    "duration": 22,
    "start_time": "2023-02-22T15:33:57.344Z"
   },
   {
    "duration": 14,
    "start_time": "2023-02-22T15:33:57.368Z"
   },
   {
    "duration": 20,
    "start_time": "2023-02-22T15:33:57.384Z"
   },
   {
    "duration": 951,
    "start_time": "2023-02-22T15:33:57.411Z"
   },
   {
    "duration": 0,
    "start_time": "2023-02-22T15:33:58.364Z"
   },
   {
    "duration": 0,
    "start_time": "2023-02-22T15:33:58.365Z"
   },
   {
    "duration": 10,
    "start_time": "2023-02-22T15:34:27.661Z"
   },
   {
    "duration": 391,
    "start_time": "2023-02-22T15:34:33.781Z"
   },
   {
    "duration": 408,
    "start_time": "2023-02-22T15:35:16.361Z"
   },
   {
    "duration": 2306,
    "start_time": "2023-02-22T15:35:16.771Z"
   },
   {
    "duration": 22,
    "start_time": "2023-02-22T15:35:19.078Z"
   },
   {
    "duration": 22,
    "start_time": "2023-02-22T15:35:19.102Z"
   },
   {
    "duration": 22,
    "start_time": "2023-02-22T15:35:19.127Z"
   },
   {
    "duration": 9,
    "start_time": "2023-02-22T15:35:19.152Z"
   },
   {
    "duration": 9,
    "start_time": "2023-02-22T15:35:19.163Z"
   },
   {
    "duration": 33,
    "start_time": "2023-02-22T15:35:19.174Z"
   },
   {
    "duration": 8,
    "start_time": "2023-02-22T15:35:19.210Z"
   },
   {
    "duration": 12,
    "start_time": "2023-02-22T15:35:19.220Z"
   },
   {
    "duration": 11,
    "start_time": "2023-02-22T15:35:19.233Z"
   },
   {
    "duration": 10,
    "start_time": "2023-02-22T15:35:19.245Z"
   },
   {
    "duration": 8,
    "start_time": "2023-02-22T15:35:19.257Z"
   },
   {
    "duration": 14,
    "start_time": "2023-02-22T15:35:19.267Z"
   },
   {
    "duration": 10,
    "start_time": "2023-02-22T15:35:19.283Z"
   },
   {
    "duration": 68,
    "start_time": "2023-02-22T15:35:19.295Z"
   },
   {
    "duration": 4,
    "start_time": "2023-02-22T15:35:19.364Z"
   },
   {
    "duration": 9,
    "start_time": "2023-02-22T15:35:19.370Z"
   },
   {
    "duration": 7,
    "start_time": "2023-02-22T15:35:19.381Z"
   },
   {
    "duration": 26,
    "start_time": "2023-02-22T15:35:19.389Z"
   },
   {
    "duration": 23,
    "start_time": "2023-02-22T15:35:19.419Z"
   },
   {
    "duration": 3,
    "start_time": "2023-02-22T15:35:19.443Z"
   },
   {
    "duration": 21,
    "start_time": "2023-02-22T15:35:19.448Z"
   },
   {
    "duration": 27,
    "start_time": "2023-02-22T15:35:19.470Z"
   },
   {
    "duration": 32,
    "start_time": "2023-02-22T15:35:19.499Z"
   },
   {
    "duration": 1015,
    "start_time": "2023-02-22T15:36:08.374Z"
   },
   {
    "duration": 3,
    "start_time": "2023-02-22T15:36:13.324Z"
   },
   {
    "duration": 781,
    "start_time": "2023-02-22T15:36:13.355Z"
   },
   {
    "duration": 11,
    "start_time": "2023-02-22T15:36:14.137Z"
   },
   {
    "duration": 19,
    "start_time": "2023-02-22T15:36:14.150Z"
   },
   {
    "duration": 12,
    "start_time": "2023-02-22T15:36:14.170Z"
   },
   {
    "duration": 7,
    "start_time": "2023-02-22T15:36:14.184Z"
   },
   {
    "duration": 21,
    "start_time": "2023-02-22T15:36:14.192Z"
   },
   {
    "duration": 11,
    "start_time": "2023-02-22T15:36:14.214Z"
   },
   {
    "duration": 8,
    "start_time": "2023-02-22T15:36:14.227Z"
   },
   {
    "duration": 7,
    "start_time": "2023-02-22T15:36:14.236Z"
   },
   {
    "duration": 7,
    "start_time": "2023-02-22T15:36:14.244Z"
   },
   {
    "duration": 8,
    "start_time": "2023-02-22T15:36:14.252Z"
   },
   {
    "duration": 14,
    "start_time": "2023-02-22T15:36:14.262Z"
   },
   {
    "duration": 17,
    "start_time": "2023-02-22T15:36:14.277Z"
   },
   {
    "duration": 7,
    "start_time": "2023-02-22T15:36:14.296Z"
   },
   {
    "duration": 50,
    "start_time": "2023-02-22T15:36:14.305Z"
   },
   {
    "duration": 5,
    "start_time": "2023-02-22T15:36:14.358Z"
   },
   {
    "duration": 17,
    "start_time": "2023-02-22T15:36:14.364Z"
   },
   {
    "duration": 8,
    "start_time": "2023-02-22T15:36:14.383Z"
   },
   {
    "duration": 18,
    "start_time": "2023-02-22T15:36:14.392Z"
   },
   {
    "duration": 21,
    "start_time": "2023-02-22T15:36:14.413Z"
   },
   {
    "duration": 3,
    "start_time": "2023-02-22T15:36:14.436Z"
   },
   {
    "duration": 22,
    "start_time": "2023-02-22T15:36:14.440Z"
   },
   {
    "duration": 17,
    "start_time": "2023-02-22T15:36:14.464Z"
   },
   {
    "duration": 37,
    "start_time": "2023-02-22T15:36:14.483Z"
   },
   {
    "duration": 5,
    "start_time": "2023-02-22T15:37:21.358Z"
   },
   {
    "duration": 13,
    "start_time": "2023-02-22T15:37:22.954Z"
   },
   {
    "duration": 752,
    "start_time": "2023-02-22T15:37:40.086Z"
   },
   {
    "duration": 976,
    "start_time": "2023-02-22T15:37:45.216Z"
   },
   {
    "duration": 11,
    "start_time": "2023-02-22T15:37:51.465Z"
   },
   {
    "duration": 46,
    "start_time": "2023-02-22T15:38:21.587Z"
   },
   {
    "duration": 26,
    "start_time": "2023-02-22T15:38:39.848Z"
   },
   {
    "duration": 10,
    "start_time": "2023-02-22T15:38:51.552Z"
   },
   {
    "duration": 13,
    "start_time": "2023-02-22T15:39:05.329Z"
   },
   {
    "duration": 2,
    "start_time": "2023-02-22T15:39:14.817Z"
   },
   {
    "duration": 435,
    "start_time": "2023-02-22T15:39:46.451Z"
   },
   {
    "duration": 2113,
    "start_time": "2023-02-22T15:39:46.889Z"
   },
   {
    "duration": 23,
    "start_time": "2023-02-22T15:39:49.004Z"
   },
   {
    "duration": 16,
    "start_time": "2023-02-22T15:39:49.029Z"
   },
   {
    "duration": 15,
    "start_time": "2023-02-22T15:39:49.046Z"
   },
   {
    "duration": 6,
    "start_time": "2023-02-22T15:39:49.063Z"
   },
   {
    "duration": 40,
    "start_time": "2023-02-22T15:39:49.070Z"
   },
   {
    "duration": 11,
    "start_time": "2023-02-22T15:39:49.117Z"
   },
   {
    "duration": 3,
    "start_time": "2023-02-22T15:39:49.130Z"
   },
   {
    "duration": 10,
    "start_time": "2023-02-22T15:39:49.135Z"
   },
   {
    "duration": 9,
    "start_time": "2023-02-22T15:39:49.147Z"
   },
   {
    "duration": 7,
    "start_time": "2023-02-22T15:39:49.158Z"
   },
   {
    "duration": 15,
    "start_time": "2023-02-22T15:39:49.167Z"
   },
   {
    "duration": 11,
    "start_time": "2023-02-22T15:39:49.184Z"
   },
   {
    "duration": 6,
    "start_time": "2023-02-22T15:39:49.197Z"
   },
   {
    "duration": 46,
    "start_time": "2023-02-22T15:39:49.204Z"
   },
   {
    "duration": 4,
    "start_time": "2023-02-22T15:39:49.252Z"
   },
   {
    "duration": 10,
    "start_time": "2023-02-22T15:39:49.257Z"
   },
   {
    "duration": 6,
    "start_time": "2023-02-22T15:39:49.268Z"
   },
   {
    "duration": 34,
    "start_time": "2023-02-22T15:39:49.275Z"
   },
   {
    "duration": 22,
    "start_time": "2023-02-22T15:39:49.315Z"
   },
   {
    "duration": 3,
    "start_time": "2023-02-22T15:39:49.339Z"
   },
   {
    "duration": 18,
    "start_time": "2023-02-22T15:39:49.344Z"
   },
   {
    "duration": 23,
    "start_time": "2023-02-22T15:39:49.363Z"
   },
   {
    "duration": 40,
    "start_time": "2023-02-22T15:39:49.387Z"
   },
   {
    "duration": 79,
    "start_time": "2023-02-22T15:40:36.721Z"
   },
   {
    "duration": 422,
    "start_time": "2023-02-22T15:40:45.373Z"
   },
   {
    "duration": 892,
    "start_time": "2023-02-22T15:40:45.797Z"
   },
   {
    "duration": 19,
    "start_time": "2023-02-22T15:40:46.690Z"
   },
   {
    "duration": 12,
    "start_time": "2023-02-22T15:40:46.711Z"
   },
   {
    "duration": 16,
    "start_time": "2023-02-22T15:40:46.725Z"
   },
   {
    "duration": 6,
    "start_time": "2023-02-22T15:40:46.743Z"
   },
   {
    "duration": 15,
    "start_time": "2023-02-22T15:40:46.751Z"
   },
   {
    "duration": 37,
    "start_time": "2023-02-22T15:40:46.768Z"
   },
   {
    "duration": 10,
    "start_time": "2023-02-22T15:40:46.807Z"
   },
   {
    "duration": 8,
    "start_time": "2023-02-22T15:40:46.821Z"
   },
   {
    "duration": 11,
    "start_time": "2023-02-22T15:40:46.831Z"
   },
   {
    "duration": 7,
    "start_time": "2023-02-22T15:40:46.844Z"
   },
   {
    "duration": 6,
    "start_time": "2023-02-22T15:40:46.853Z"
   },
   {
    "duration": 15,
    "start_time": "2023-02-22T15:40:46.861Z"
   },
   {
    "duration": 27,
    "start_time": "2023-02-22T15:40:46.878Z"
   },
   {
    "duration": 46,
    "start_time": "2023-02-22T15:40:46.907Z"
   },
   {
    "duration": 5,
    "start_time": "2023-02-22T15:40:46.955Z"
   },
   {
    "duration": 13,
    "start_time": "2023-02-22T15:40:46.962Z"
   },
   {
    "duration": 11,
    "start_time": "2023-02-22T15:40:46.977Z"
   },
   {
    "duration": 13,
    "start_time": "2023-02-22T15:40:47.004Z"
   },
   {
    "duration": 22,
    "start_time": "2023-02-22T15:40:47.019Z"
   },
   {
    "duration": 3,
    "start_time": "2023-02-22T15:40:47.043Z"
   },
   {
    "duration": 24,
    "start_time": "2023-02-22T15:40:47.047Z"
   },
   {
    "duration": 51,
    "start_time": "2023-02-22T15:40:47.073Z"
   },
   {
    "duration": 21,
    "start_time": "2023-02-22T15:40:47.127Z"
   },
   {
    "duration": 65,
    "start_time": "2023-02-22T15:41:54.191Z"
   },
   {
    "duration": 428,
    "start_time": "2023-02-22T15:42:01.098Z"
   },
   {
    "duration": 782,
    "start_time": "2023-02-22T15:42:01.529Z"
   },
   {
    "duration": 20,
    "start_time": "2023-02-22T15:42:02.312Z"
   },
   {
    "duration": 15,
    "start_time": "2023-02-22T15:42:02.333Z"
   },
   {
    "duration": 18,
    "start_time": "2023-02-22T15:42:02.350Z"
   },
   {
    "duration": 6,
    "start_time": "2023-02-22T15:42:02.370Z"
   },
   {
    "duration": 26,
    "start_time": "2023-02-22T15:42:02.378Z"
   },
   {
    "duration": 8,
    "start_time": "2023-02-22T15:42:02.406Z"
   },
   {
    "duration": 4,
    "start_time": "2023-02-22T15:42:02.416Z"
   },
   {
    "duration": 12,
    "start_time": "2023-02-22T15:42:02.421Z"
   },
   {
    "duration": 10,
    "start_time": "2023-02-22T15:42:02.434Z"
   },
   {
    "duration": 14,
    "start_time": "2023-02-22T15:42:02.446Z"
   },
   {
    "duration": 19,
    "start_time": "2023-02-22T15:42:02.462Z"
   },
   {
    "duration": 12,
    "start_time": "2023-02-22T15:42:02.484Z"
   },
   {
    "duration": 15,
    "start_time": "2023-02-22T15:42:02.497Z"
   },
   {
    "duration": 43,
    "start_time": "2023-02-22T15:42:02.513Z"
   },
   {
    "duration": 5,
    "start_time": "2023-02-22T15:42:02.557Z"
   },
   {
    "duration": 13,
    "start_time": "2023-02-22T15:42:02.563Z"
   },
   {
    "duration": 10,
    "start_time": "2023-02-22T15:42:02.578Z"
   },
   {
    "duration": 23,
    "start_time": "2023-02-22T15:42:02.590Z"
   },
   {
    "duration": 29,
    "start_time": "2023-02-22T15:42:02.615Z"
   },
   {
    "duration": 4,
    "start_time": "2023-02-22T15:42:02.646Z"
   },
   {
    "duration": 28,
    "start_time": "2023-02-22T15:42:02.651Z"
   },
   {
    "duration": 30,
    "start_time": "2023-02-22T15:42:02.680Z"
   },
   {
    "duration": 19,
    "start_time": "2023-02-22T15:42:02.712Z"
   },
   {
    "duration": 68,
    "start_time": "2023-02-22T15:42:24.522Z"
   },
   {
    "duration": 420,
    "start_time": "2023-02-22T15:42:29.379Z"
   },
   {
    "duration": 1104,
    "start_time": "2023-02-22T15:42:29.801Z"
   },
   {
    "duration": 21,
    "start_time": "2023-02-22T15:42:30.907Z"
   },
   {
    "duration": 21,
    "start_time": "2023-02-22T15:42:30.930Z"
   },
   {
    "duration": 41,
    "start_time": "2023-02-22T15:42:30.954Z"
   },
   {
    "duration": 36,
    "start_time": "2023-02-22T15:42:30.997Z"
   },
   {
    "duration": 37,
    "start_time": "2023-02-22T15:42:31.035Z"
   },
   {
    "duration": 34,
    "start_time": "2023-02-22T15:42:31.074Z"
   },
   {
    "duration": 41,
    "start_time": "2023-02-22T15:42:31.110Z"
   },
   {
    "duration": 21,
    "start_time": "2023-02-22T15:42:31.153Z"
   },
   {
    "duration": 37,
    "start_time": "2023-02-22T15:42:31.176Z"
   },
   {
    "duration": 19,
    "start_time": "2023-02-22T15:42:31.215Z"
   },
   {
    "duration": 16,
    "start_time": "2023-02-22T15:42:31.236Z"
   },
   {
    "duration": 23,
    "start_time": "2023-02-22T15:42:31.254Z"
   },
   {
    "duration": 32,
    "start_time": "2023-02-22T15:42:31.278Z"
   },
   {
    "duration": 40,
    "start_time": "2023-02-22T15:42:31.312Z"
   },
   {
    "duration": 6,
    "start_time": "2023-02-22T15:42:31.354Z"
   },
   {
    "duration": 17,
    "start_time": "2023-02-22T15:42:31.362Z"
   },
   {
    "duration": 36,
    "start_time": "2023-02-22T15:42:31.380Z"
   },
   {
    "duration": 33,
    "start_time": "2023-02-22T15:42:31.418Z"
   },
   {
    "duration": 39,
    "start_time": "2023-02-22T15:42:31.453Z"
   },
   {
    "duration": 4,
    "start_time": "2023-02-22T15:42:31.494Z"
   },
   {
    "duration": 40,
    "start_time": "2023-02-22T15:42:31.499Z"
   },
   {
    "duration": 24,
    "start_time": "2023-02-22T15:42:31.540Z"
   },
   {
    "duration": 21,
    "start_time": "2023-02-22T15:42:31.566Z"
   },
   {
    "duration": 66,
    "start_time": "2023-02-22T15:43:30.098Z"
   },
   {
    "duration": 2,
    "start_time": "2023-02-22T15:43:32.867Z"
   },
   {
    "duration": 1580,
    "start_time": "2023-02-22T15:43:32.871Z"
   },
   {
    "duration": 11,
    "start_time": "2023-02-22T15:43:34.453Z"
   },
   {
    "duration": 18,
    "start_time": "2023-02-22T15:43:34.465Z"
   },
   {
    "duration": 11,
    "start_time": "2023-02-22T15:43:34.485Z"
   },
   {
    "duration": 22,
    "start_time": "2023-02-22T15:43:34.498Z"
   },
   {
    "duration": 14,
    "start_time": "2023-02-22T15:43:34.522Z"
   },
   {
    "duration": 8,
    "start_time": "2023-02-22T15:43:34.538Z"
   },
   {
    "duration": 3,
    "start_time": "2023-02-22T15:43:34.548Z"
   },
   {
    "duration": 8,
    "start_time": "2023-02-22T15:43:34.553Z"
   },
   {
    "duration": 9,
    "start_time": "2023-02-22T15:43:34.564Z"
   },
   {
    "duration": 4,
    "start_time": "2023-02-22T15:43:34.575Z"
   },
   {
    "duration": 7,
    "start_time": "2023-02-22T15:43:34.581Z"
   },
   {
    "duration": 15,
    "start_time": "2023-02-22T15:43:34.589Z"
   },
   {
    "duration": 4,
    "start_time": "2023-02-22T15:43:34.605Z"
   },
   {
    "duration": 51,
    "start_time": "2023-02-22T15:43:34.611Z"
   },
   {
    "duration": 5,
    "start_time": "2023-02-22T15:43:34.664Z"
   },
   {
    "duration": 13,
    "start_time": "2023-02-22T15:43:34.671Z"
   },
   {
    "duration": 20,
    "start_time": "2023-02-22T15:43:34.685Z"
   },
   {
    "duration": 14,
    "start_time": "2023-02-22T15:43:34.706Z"
   },
   {
    "duration": 28,
    "start_time": "2023-02-22T15:43:34.722Z"
   },
   {
    "duration": 3,
    "start_time": "2023-02-22T15:43:34.752Z"
   },
   {
    "duration": 23,
    "start_time": "2023-02-22T15:43:34.757Z"
   },
   {
    "duration": 32,
    "start_time": "2023-02-22T15:43:34.782Z"
   },
   {
    "duration": 21,
    "start_time": "2023-02-22T15:43:34.815Z"
   },
   {
    "duration": 15,
    "start_time": "2023-02-22T15:43:55.156Z"
   },
   {
    "duration": 51,
    "start_time": "2023-02-22T15:45:01.347Z"
   },
   {
    "duration": 427,
    "start_time": "2023-02-22T15:45:15.382Z"
   },
   {
    "duration": 1135,
    "start_time": "2023-02-22T15:45:15.811Z"
   },
   {
    "duration": 25,
    "start_time": "2023-02-22T15:45:16.948Z"
   },
   {
    "duration": 19,
    "start_time": "2023-02-22T15:45:16.976Z"
   },
   {
    "duration": 16,
    "start_time": "2023-02-22T15:45:16.997Z"
   },
   {
    "duration": 11,
    "start_time": "2023-02-22T15:45:17.014Z"
   },
   {
    "duration": 17,
    "start_time": "2023-02-22T15:45:17.027Z"
   },
   {
    "duration": 14,
    "start_time": "2023-02-22T15:45:17.046Z"
   },
   {
    "duration": 11,
    "start_time": "2023-02-22T15:45:17.061Z"
   },
   {
    "duration": 17,
    "start_time": "2023-02-22T15:45:17.075Z"
   },
   {
    "duration": 27,
    "start_time": "2023-02-22T15:45:17.094Z"
   },
   {
    "duration": 13,
    "start_time": "2023-02-22T15:45:17.123Z"
   },
   {
    "duration": 17,
    "start_time": "2023-02-22T15:45:17.137Z"
   },
   {
    "duration": 16,
    "start_time": "2023-02-22T15:45:17.156Z"
   },
   {
    "duration": 24,
    "start_time": "2023-02-22T15:45:17.173Z"
   },
   {
    "duration": 42,
    "start_time": "2023-02-22T15:45:17.199Z"
   },
   {
    "duration": 5,
    "start_time": "2023-02-22T15:45:17.243Z"
   },
   {
    "duration": 19,
    "start_time": "2023-02-22T15:45:17.250Z"
   },
   {
    "duration": 20,
    "start_time": "2023-02-22T15:45:17.271Z"
   },
   {
    "duration": 43,
    "start_time": "2023-02-22T15:45:17.292Z"
   },
   {
    "duration": 0,
    "start_time": "2023-02-22T15:45:17.337Z"
   },
   {
    "duration": 0,
    "start_time": "2023-02-22T15:45:17.338Z"
   },
   {
    "duration": 0,
    "start_time": "2023-02-22T15:45:17.339Z"
   },
   {
    "duration": 0,
    "start_time": "2023-02-22T15:45:17.340Z"
   },
   {
    "duration": 46,
    "start_time": "2023-02-22T15:45:40.247Z"
   },
   {
    "duration": 51,
    "start_time": "2023-02-22T15:45:58.664Z"
   },
   {
    "duration": 47,
    "start_time": "2023-02-22T15:46:04.060Z"
   },
   {
    "duration": 42,
    "start_time": "2023-02-22T15:46:17.031Z"
   },
   {
    "duration": 3,
    "start_time": "2023-02-22T15:46:26.747Z"
   },
   {
    "duration": 873,
    "start_time": "2023-02-22T15:46:26.753Z"
   },
   {
    "duration": 11,
    "start_time": "2023-02-22T15:46:27.628Z"
   },
   {
    "duration": 19,
    "start_time": "2023-02-22T15:46:27.640Z"
   },
   {
    "duration": 11,
    "start_time": "2023-02-22T15:46:27.661Z"
   },
   {
    "duration": 6,
    "start_time": "2023-02-22T15:46:27.674Z"
   },
   {
    "duration": 26,
    "start_time": "2023-02-22T15:46:27.681Z"
   },
   {
    "duration": 8,
    "start_time": "2023-02-22T15:46:27.709Z"
   },
   {
    "duration": 3,
    "start_time": "2023-02-22T15:46:27.718Z"
   },
   {
    "duration": 12,
    "start_time": "2023-02-22T15:46:27.723Z"
   },
   {
    "duration": 15,
    "start_time": "2023-02-22T15:46:27.736Z"
   },
   {
    "duration": 11,
    "start_time": "2023-02-22T15:46:27.752Z"
   },
   {
    "duration": 8,
    "start_time": "2023-02-22T15:46:27.765Z"
   },
   {
    "duration": 16,
    "start_time": "2023-02-22T15:46:27.776Z"
   },
   {
    "duration": 12,
    "start_time": "2023-02-22T15:46:27.793Z"
   },
   {
    "duration": 35,
    "start_time": "2023-02-22T15:46:27.807Z"
   },
   {
    "duration": 4,
    "start_time": "2023-02-22T15:46:27.844Z"
   },
   {
    "duration": 7,
    "start_time": "2023-02-22T15:46:27.850Z"
   },
   {
    "duration": 16,
    "start_time": "2023-02-22T15:46:27.858Z"
   },
   {
    "duration": 45,
    "start_time": "2023-02-22T15:46:27.904Z"
   },
   {
    "duration": 0,
    "start_time": "2023-02-22T15:46:27.951Z"
   },
   {
    "duration": 0,
    "start_time": "2023-02-22T15:46:27.952Z"
   },
   {
    "duration": 0,
    "start_time": "2023-02-22T15:46:27.953Z"
   },
   {
    "duration": 0,
    "start_time": "2023-02-22T15:46:27.954Z"
   },
   {
    "duration": 20,
    "start_time": "2023-02-22T15:46:51.341Z"
   },
   {
    "duration": 72,
    "start_time": "2023-02-22T15:47:00.675Z"
   },
   {
    "duration": 2,
    "start_time": "2023-02-22T15:47:05.063Z"
   },
   {
    "duration": 800,
    "start_time": "2023-02-22T15:47:05.068Z"
   },
   {
    "duration": 11,
    "start_time": "2023-02-22T15:47:05.869Z"
   },
   {
    "duration": 13,
    "start_time": "2023-02-22T15:47:05.881Z"
   },
   {
    "duration": 21,
    "start_time": "2023-02-22T15:47:05.896Z"
   },
   {
    "duration": 7,
    "start_time": "2023-02-22T15:47:05.919Z"
   },
   {
    "duration": 16,
    "start_time": "2023-02-22T15:47:05.927Z"
   },
   {
    "duration": 12,
    "start_time": "2023-02-22T15:47:05.945Z"
   },
   {
    "duration": 4,
    "start_time": "2023-02-22T15:47:05.959Z"
   },
   {
    "duration": 19,
    "start_time": "2023-02-22T15:47:05.965Z"
   },
   {
    "duration": 7,
    "start_time": "2023-02-22T15:47:05.987Z"
   },
   {
    "duration": 5,
    "start_time": "2023-02-22T15:47:06.004Z"
   },
   {
    "duration": 9,
    "start_time": "2023-02-22T15:47:06.011Z"
   },
   {
    "duration": 13,
    "start_time": "2023-02-22T15:47:06.022Z"
   },
   {
    "duration": 10,
    "start_time": "2023-02-22T15:47:06.037Z"
   },
   {
    "duration": 36,
    "start_time": "2023-02-22T15:47:06.049Z"
   },
   {
    "duration": 18,
    "start_time": "2023-02-22T15:47:06.087Z"
   },
   {
    "duration": 8,
    "start_time": "2023-02-22T15:47:06.107Z"
   },
   {
    "duration": 16,
    "start_time": "2023-02-22T15:47:06.117Z"
   },
   {
    "duration": 19,
    "start_time": "2023-02-22T15:47:06.135Z"
   },
   {
    "duration": 3,
    "start_time": "2023-02-22T15:47:06.156Z"
   },
   {
    "duration": 50,
    "start_time": "2023-02-22T15:47:06.161Z"
   },
   {
    "duration": 25,
    "start_time": "2023-02-22T15:47:06.213Z"
   },
   {
    "duration": 26,
    "start_time": "2023-02-22T15:47:06.240Z"
   },
   {
    "duration": 23,
    "start_time": "2023-02-22T15:57:14.956Z"
   },
   {
    "duration": 7,
    "start_time": "2023-02-22T15:57:49.823Z"
   },
   {
    "duration": 7,
    "start_time": "2023-02-22T15:58:02.054Z"
   },
   {
    "duration": 6,
    "start_time": "2023-02-22T15:58:40.864Z"
   },
   {
    "duration": 10,
    "start_time": "2023-02-22T15:59:14.464Z"
   },
   {
    "duration": 8,
    "start_time": "2023-02-22T15:59:23.645Z"
   },
   {
    "duration": 7,
    "start_time": "2023-02-22T16:00:15.251Z"
   },
   {
    "duration": 7,
    "start_time": "2023-02-22T16:01:13.620Z"
   },
   {
    "duration": 7,
    "start_time": "2023-02-22T16:02:59.478Z"
   },
   {
    "duration": 58,
    "start_time": "2023-02-22T20:31:57.129Z"
   },
   {
    "duration": 440,
    "start_time": "2023-02-22T20:32:02.763Z"
   },
   {
    "duration": 1444,
    "start_time": "2023-02-22T20:32:03.205Z"
   },
   {
    "duration": 24,
    "start_time": "2023-02-22T20:32:04.653Z"
   },
   {
    "duration": 13,
    "start_time": "2023-02-22T20:32:04.679Z"
   },
   {
    "duration": 15,
    "start_time": "2023-02-22T20:32:04.695Z"
   },
   {
    "duration": 7,
    "start_time": "2023-02-22T20:32:04.712Z"
   },
   {
    "duration": 17,
    "start_time": "2023-02-22T20:32:04.746Z"
   },
   {
    "duration": 17,
    "start_time": "2023-02-22T20:32:04.766Z"
   },
   {
    "duration": 4,
    "start_time": "2023-02-22T20:32:04.785Z"
   },
   {
    "duration": 6,
    "start_time": "2023-02-22T20:32:04.791Z"
   },
   {
    "duration": 4,
    "start_time": "2023-02-22T20:32:04.799Z"
   },
   {
    "duration": 11,
    "start_time": "2023-02-22T20:32:04.804Z"
   },
   {
    "duration": 34,
    "start_time": "2023-02-22T20:32:04.816Z"
   },
   {
    "duration": 13,
    "start_time": "2023-02-22T20:32:04.855Z"
   },
   {
    "duration": 6,
    "start_time": "2023-02-22T20:32:04.870Z"
   },
   {
    "duration": 49,
    "start_time": "2023-02-22T20:32:04.878Z"
   },
   {
    "duration": 11,
    "start_time": "2023-02-22T20:32:04.948Z"
   },
   {
    "duration": 12,
    "start_time": "2023-02-22T20:32:04.962Z"
   },
   {
    "duration": 15,
    "start_time": "2023-02-22T20:32:04.977Z"
   },
   {
    "duration": 51,
    "start_time": "2023-02-22T20:32:04.994Z"
   },
   {
    "duration": 9,
    "start_time": "2023-02-22T20:32:05.049Z"
   },
   {
    "duration": 23,
    "start_time": "2023-02-22T20:32:05.061Z"
   },
   {
    "duration": 34,
    "start_time": "2023-02-22T20:32:05.086Z"
   },
   {
    "duration": 676,
    "start_time": "2023-02-22T20:32:05.121Z"
   },
   {
    "duration": 8,
    "start_time": "2023-02-22T20:32:05.799Z"
   },
   {
    "duration": 9,
    "start_time": "2023-02-22T20:32:05.809Z"
   },
   {
    "duration": 30,
    "start_time": "2023-02-22T20:32:05.820Z"
   },
   {
    "duration": 35,
    "start_time": "2023-02-22T20:32:05.853Z"
   },
   {
    "duration": 8,
    "start_time": "2023-02-22T20:32:18.862Z"
   },
   {
    "duration": 11,
    "start_time": "2023-02-22T20:32:32.180Z"
   },
   {
    "duration": 11,
    "start_time": "2023-02-22T20:32:55.682Z"
   },
   {
    "duration": 11,
    "start_time": "2023-02-22T20:33:23.523Z"
   },
   {
    "duration": 162,
    "start_time": "2023-02-22T20:34:23.060Z"
   },
   {
    "duration": 184,
    "start_time": "2023-02-22T20:34:41.060Z"
   },
   {
    "duration": 145,
    "start_time": "2023-02-22T20:34:57.604Z"
   },
   {
    "duration": 215,
    "start_time": "2023-02-22T20:35:19.876Z"
   },
   {
    "duration": 159,
    "start_time": "2023-02-22T20:36:15.213Z"
   },
   {
    "duration": 150,
    "start_time": "2023-02-22T20:36:48.251Z"
   },
   {
    "duration": 46,
    "start_time": "2023-02-22T20:36:59.473Z"
   },
   {
    "duration": 1019,
    "start_time": "2023-02-22T20:37:16.578Z"
   },
   {
    "duration": 16,
    "start_time": "2023-02-22T20:37:36.526Z"
   },
   {
    "duration": 998,
    "start_time": "2023-02-22T20:37:43.627Z"
   },
   {
    "duration": 10,
    "start_time": "2023-02-22T20:37:59.591Z"
   },
   {
    "duration": 10,
    "start_time": "2023-02-22T20:38:14.328Z"
   },
   {
    "duration": 148,
    "start_time": "2023-02-22T20:38:18.074Z"
   },
   {
    "duration": 138,
    "start_time": "2023-02-22T20:39:10.971Z"
   },
   {
    "duration": 149,
    "start_time": "2023-02-22T20:39:23.386Z"
   },
   {
    "duration": 53,
    "start_time": "2023-02-22T20:39:49.719Z"
   },
   {
    "duration": 147,
    "start_time": "2023-02-22T20:39:58.772Z"
   },
   {
    "duration": 186,
    "start_time": "2023-02-22T20:40:09.558Z"
   },
   {
    "duration": 156,
    "start_time": "2023-02-22T20:40:23.940Z"
   },
   {
    "duration": 212,
    "start_time": "2023-02-22T20:40:53.239Z"
   },
   {
    "duration": 141,
    "start_time": "2023-02-22T20:41:07.152Z"
   },
   {
    "duration": 194,
    "start_time": "2023-02-22T20:41:29.738Z"
   },
   {
    "duration": 155,
    "start_time": "2023-02-22T20:41:39.456Z"
   },
   {
    "duration": 136,
    "start_time": "2023-02-22T20:41:51.681Z"
   },
   {
    "duration": 140,
    "start_time": "2023-02-22T20:42:10.728Z"
   },
   {
    "duration": 145,
    "start_time": "2023-02-22T20:43:06.446Z"
   },
   {
    "duration": 812,
    "start_time": "2023-02-22T20:43:27.458Z"
   },
   {
    "duration": 138,
    "start_time": "2023-02-22T20:43:38.576Z"
   },
   {
    "duration": 157,
    "start_time": "2023-02-22T20:45:15.772Z"
   },
   {
    "duration": 772,
    "start_time": "2023-02-22T20:48:09.092Z"
   },
   {
    "duration": 158,
    "start_time": "2023-02-22T20:48:15.747Z"
   },
   {
    "duration": 7,
    "start_time": "2023-02-22T20:48:34.073Z"
   },
   {
    "duration": 230,
    "start_time": "2023-02-22T20:53:10.577Z"
   },
   {
    "duration": 8,
    "start_time": "2023-02-22T20:54:07.232Z"
   },
   {
    "duration": 7,
    "start_time": "2023-02-22T20:54:53.299Z"
   },
   {
    "duration": 6,
    "start_time": "2023-02-22T20:56:17.596Z"
   },
   {
    "duration": 100,
    "start_time": "2023-02-22T20:59:36.363Z"
   },
   {
    "duration": 68,
    "start_time": "2023-02-22T20:59:42.191Z"
   },
   {
    "duration": 71,
    "start_time": "2023-02-22T21:01:13.877Z"
   },
   {
    "duration": 87,
    "start_time": "2023-02-22T21:01:36.350Z"
   },
   {
    "duration": 145,
    "start_time": "2023-02-22T21:01:53.957Z"
   },
   {
    "duration": 172,
    "start_time": "2023-02-22T21:02:49.789Z"
   },
   {
    "duration": 141,
    "start_time": "2023-02-22T21:03:42.612Z"
   },
   {
    "duration": 8,
    "start_time": "2023-02-22T21:04:23.732Z"
   },
   {
    "duration": 7,
    "start_time": "2023-02-22T21:04:35.301Z"
   },
   {
    "duration": 9,
    "start_time": "2023-02-22T21:05:12.857Z"
   },
   {
    "duration": 211,
    "start_time": "2023-02-22T21:05:24.103Z"
   },
   {
    "duration": 212,
    "start_time": "2023-02-22T21:05:48.724Z"
   },
   {
    "duration": 5,
    "start_time": "2023-02-22T21:06:51.284Z"
   },
   {
    "duration": 4,
    "start_time": "2023-02-22T21:06:55.217Z"
   },
   {
    "duration": 7,
    "start_time": "2023-02-22T21:06:58.092Z"
   },
   {
    "duration": 8,
    "start_time": "2023-02-22T21:09:18.001Z"
   },
   {
    "duration": 8,
    "start_time": "2023-02-22T21:09:45.444Z"
   },
   {
    "duration": 12,
    "start_time": "2023-02-22T21:10:47.445Z"
   },
   {
    "duration": 10,
    "start_time": "2023-02-22T21:11:04.663Z"
   },
   {
    "duration": 8,
    "start_time": "2023-02-22T21:11:47.623Z"
   },
   {
    "duration": 7,
    "start_time": "2023-02-22T21:12:09.529Z"
   },
   {
    "duration": 5,
    "start_time": "2023-02-22T21:13:07.360Z"
   },
   {
    "duration": 6,
    "start_time": "2023-02-22T21:14:21.186Z"
   },
   {
    "duration": 65,
    "start_time": "2023-02-23T15:33:23.118Z"
   },
   {
    "duration": 392,
    "start_time": "2023-02-23T15:33:26.758Z"
   },
   {
    "duration": 1166,
    "start_time": "2023-02-23T15:33:27.151Z"
   },
   {
    "duration": 24,
    "start_time": "2023-02-23T15:33:28.319Z"
   },
   {
    "duration": 29,
    "start_time": "2023-02-23T15:33:28.345Z"
   },
   {
    "duration": 21,
    "start_time": "2023-02-23T15:33:28.376Z"
   },
   {
    "duration": 8,
    "start_time": "2023-02-23T15:33:28.398Z"
   },
   {
    "duration": 23,
    "start_time": "2023-02-23T15:33:28.408Z"
   },
   {
    "duration": 13,
    "start_time": "2023-02-23T15:33:28.433Z"
   },
   {
    "duration": 4,
    "start_time": "2023-02-23T15:33:28.448Z"
   },
   {
    "duration": 9,
    "start_time": "2023-02-23T15:33:28.453Z"
   },
   {
    "duration": 19,
    "start_time": "2023-02-23T15:33:28.464Z"
   },
   {
    "duration": 6,
    "start_time": "2023-02-23T15:33:28.484Z"
   },
   {
    "duration": 7,
    "start_time": "2023-02-23T15:33:28.491Z"
   },
   {
    "duration": 6,
    "start_time": "2023-02-23T15:33:28.501Z"
   },
   {
    "duration": 8,
    "start_time": "2023-02-23T15:33:28.509Z"
   },
   {
    "duration": 43,
    "start_time": "2023-02-23T15:33:28.538Z"
   },
   {
    "duration": 5,
    "start_time": "2023-02-23T15:33:28.583Z"
   },
   {
    "duration": 10,
    "start_time": "2023-02-23T15:33:28.589Z"
   },
   {
    "duration": 45,
    "start_time": "2023-02-23T15:33:28.601Z"
   },
   {
    "duration": 30,
    "start_time": "2023-02-23T15:33:28.648Z"
   },
   {
    "duration": 4,
    "start_time": "2023-02-23T15:33:28.680Z"
   },
   {
    "duration": 25,
    "start_time": "2023-02-23T15:33:28.686Z"
   },
   {
    "duration": 49,
    "start_time": "2023-02-23T15:33:28.713Z"
   },
   {
    "duration": 533,
    "start_time": "2023-02-23T15:33:28.763Z"
   },
   {
    "duration": 6,
    "start_time": "2023-02-23T15:33:29.298Z"
   },
   {
    "duration": 150,
    "start_time": "2023-02-23T15:33:29.305Z"
   },
   {
    "duration": 5,
    "start_time": "2023-02-23T15:33:29.457Z"
   },
   {
    "duration": 9,
    "start_time": "2023-02-23T15:33:29.463Z"
   },
   {
    "duration": 5,
    "start_time": "2023-02-23T15:33:29.473Z"
   },
   {
    "duration": 189,
    "start_time": "2023-02-23T15:33:29.480Z"
   },
   {
    "duration": 6,
    "start_time": "2023-02-23T15:33:29.671Z"
   },
   {
    "duration": 11,
    "start_time": "2023-02-23T15:33:29.679Z"
   },
   {
    "duration": 7,
    "start_time": "2023-02-23T16:08:03.112Z"
   },
   {
    "duration": 23,
    "start_time": "2023-02-23T16:08:11.009Z"
   },
   {
    "duration": 8,
    "start_time": "2023-02-23T16:09:08.165Z"
   },
   {
    "duration": 8,
    "start_time": "2023-02-23T16:09:36.387Z"
   },
   {
    "duration": 3,
    "start_time": "2023-02-23T16:13:43.068Z"
   },
   {
    "duration": 9,
    "start_time": "2023-02-23T16:13:56.332Z"
   },
   {
    "duration": 14,
    "start_time": "2023-02-23T16:18:53.376Z"
   },
   {
    "duration": 14,
    "start_time": "2023-02-23T16:19:17.271Z"
   },
   {
    "duration": 65,
    "start_time": "2023-02-23T16:19:50.156Z"
   },
   {
    "duration": 15,
    "start_time": "2023-02-23T16:19:57.621Z"
   },
   {
    "duration": 2,
    "start_time": "2023-02-23T16:20:00.586Z"
   },
   {
    "duration": 1645,
    "start_time": "2023-02-23T16:20:00.593Z"
   },
   {
    "duration": 16,
    "start_time": "2023-02-23T16:20:02.244Z"
   },
   {
    "duration": 36,
    "start_time": "2023-02-23T16:20:02.261Z"
   },
   {
    "duration": 12,
    "start_time": "2023-02-23T16:20:02.299Z"
   },
   {
    "duration": 13,
    "start_time": "2023-02-23T16:20:02.312Z"
   },
   {
    "duration": 39,
    "start_time": "2023-02-23T16:20:02.326Z"
   },
   {
    "duration": 33,
    "start_time": "2023-02-23T16:20:02.367Z"
   },
   {
    "duration": 18,
    "start_time": "2023-02-23T16:20:02.402Z"
   },
   {
    "duration": 25,
    "start_time": "2023-02-23T16:20:02.422Z"
   },
   {
    "duration": 25,
    "start_time": "2023-02-23T16:20:02.453Z"
   },
   {
    "duration": 20,
    "start_time": "2023-02-23T16:20:02.480Z"
   },
   {
    "duration": 37,
    "start_time": "2023-02-23T16:20:02.503Z"
   },
   {
    "duration": 35,
    "start_time": "2023-02-23T16:20:02.546Z"
   },
   {
    "duration": 16,
    "start_time": "2023-02-23T16:20:02.583Z"
   },
   {
    "duration": 13,
    "start_time": "2023-02-23T16:20:02.601Z"
   },
   {
    "duration": 22,
    "start_time": "2023-02-23T16:20:02.616Z"
   },
   {
    "duration": 64,
    "start_time": "2023-02-23T16:20:02.641Z"
   },
   {
    "duration": 6,
    "start_time": "2023-02-23T16:20:02.707Z"
   },
   {
    "duration": 9,
    "start_time": "2023-02-23T16:20:02.715Z"
   },
   {
    "duration": 29,
    "start_time": "2023-02-23T16:20:02.726Z"
   },
   {
    "duration": 21,
    "start_time": "2023-02-23T16:20:02.760Z"
   },
   {
    "duration": 3,
    "start_time": "2023-02-23T16:20:02.783Z"
   },
   {
    "duration": 21,
    "start_time": "2023-02-23T16:20:02.788Z"
   },
   {
    "duration": 43,
    "start_time": "2023-02-23T16:20:02.811Z"
   },
   {
    "duration": 152,
    "start_time": "2023-02-23T16:20:02.855Z"
   },
   {
    "duration": 5,
    "start_time": "2023-02-23T16:20:03.009Z"
   },
   {
    "duration": 218,
    "start_time": "2023-02-23T16:20:03.016Z"
   },
   {
    "duration": 14,
    "start_time": "2023-02-23T16:20:03.237Z"
   },
   {
    "duration": 17,
    "start_time": "2023-02-23T16:20:03.254Z"
   },
   {
    "duration": 7,
    "start_time": "2023-02-23T16:20:03.273Z"
   },
   {
    "duration": 173,
    "start_time": "2023-02-23T16:20:03.283Z"
   },
   {
    "duration": 6,
    "start_time": "2023-02-23T16:20:03.459Z"
   },
   {
    "duration": 13,
    "start_time": "2023-02-23T16:20:03.467Z"
   },
   {
    "duration": 3,
    "start_time": "2023-02-23T16:20:41.295Z"
   },
   {
    "duration": 5,
    "start_time": "2023-02-23T16:20:44.530Z"
   },
   {
    "duration": 14,
    "start_time": "2023-02-23T16:20:49.856Z"
   },
   {
    "duration": 27,
    "start_time": "2023-02-23T16:21:18.770Z"
   },
   {
    "duration": 8,
    "start_time": "2023-02-23T16:21:54.687Z"
   },
   {
    "duration": 7,
    "start_time": "2023-02-23T16:22:51.299Z"
   },
   {
    "duration": 147,
    "start_time": "2023-02-23T16:23:01.357Z"
   },
   {
    "duration": 8,
    "start_time": "2023-02-23T16:23:25.559Z"
   },
   {
    "duration": 7,
    "start_time": "2023-02-23T16:23:45.893Z"
   },
   {
    "duration": 8,
    "start_time": "2023-02-23T16:23:53.060Z"
   },
   {
    "duration": 7,
    "start_time": "2023-02-23T16:23:57.891Z"
   },
   {
    "duration": 53,
    "start_time": "2023-02-23T16:24:14.914Z"
   },
   {
    "duration": 130,
    "start_time": "2023-02-23T16:24:19.702Z"
   },
   {
    "duration": 3347,
    "start_time": "2023-02-23T16:38:51.704Z"
   },
   {
    "duration": 14,
    "start_time": "2023-02-23T16:39:08.788Z"
   },
   {
    "duration": 155,
    "start_time": "2023-02-23T16:39:36.657Z"
   },
   {
    "duration": 187,
    "start_time": "2023-02-23T16:42:02.288Z"
   },
   {
    "duration": 154,
    "start_time": "2023-02-23T16:43:07.314Z"
   },
   {
    "duration": 198,
    "start_time": "2023-02-23T16:43:22.004Z"
   },
   {
    "duration": 74,
    "start_time": "2023-02-23T16:44:19.401Z"
   },
   {
    "duration": 8,
    "start_time": "2023-02-23T16:44:28.562Z"
   },
   {
    "duration": 70,
    "start_time": "2023-02-23T16:44:44.066Z"
   },
   {
    "duration": 182,
    "start_time": "2023-02-23T16:45:21.978Z"
   },
   {
    "duration": 88,
    "start_time": "2023-02-23T16:45:26.904Z"
   },
   {
    "duration": 107,
    "start_time": "2023-02-23T16:45:38.025Z"
   },
   {
    "duration": 185,
    "start_time": "2023-02-23T16:45:56.876Z"
   },
   {
    "duration": 197,
    "start_time": "2023-02-23T16:46:17.788Z"
   },
   {
    "duration": 99,
    "start_time": "2023-02-23T16:46:28.983Z"
   },
   {
    "duration": 70,
    "start_time": "2023-02-23T16:46:57.152Z"
   },
   {
    "duration": 210,
    "start_time": "2023-02-23T16:47:58.974Z"
   },
   {
    "duration": 3582,
    "start_time": "2023-02-23T16:50:14.953Z"
   },
   {
    "duration": 210,
    "start_time": "2023-02-23T16:50:25.846Z"
   },
   {
    "duration": 3,
    "start_time": "2023-02-23T16:51:34.297Z"
   },
   {
    "duration": 201,
    "start_time": "2023-02-23T16:51:34.951Z"
   },
   {
    "duration": 112,
    "start_time": "2023-02-23T16:51:36.457Z"
   },
   {
    "duration": 9,
    "start_time": "2023-02-23T16:52:27.534Z"
   },
   {
    "duration": 119,
    "start_time": "2023-02-23T16:52:42.442Z"
   },
   {
    "duration": 110,
    "start_time": "2023-02-23T16:53:30.015Z"
   },
   {
    "duration": 1326,
    "start_time": "2023-02-23T16:53:55.499Z"
   },
   {
    "duration": 158,
    "start_time": "2023-02-23T16:54:04.621Z"
   },
   {
    "duration": 170,
    "start_time": "2023-02-23T16:54:26.651Z"
   },
   {
    "duration": 21,
    "start_time": "2023-02-23T16:54:43.029Z"
   },
   {
    "duration": 936,
    "start_time": "2023-02-23T16:55:09.397Z"
   },
   {
    "duration": 298,
    "start_time": "2023-02-23T16:55:27.696Z"
   },
   {
    "duration": 7,
    "start_time": "2023-02-23T16:56:35.147Z"
   },
   {
    "duration": 10,
    "start_time": "2023-02-23T16:59:28.431Z"
   },
   {
    "duration": 28,
    "start_time": "2023-02-23T17:15:15.037Z"
   },
   {
    "duration": 21,
    "start_time": "2023-02-23T17:15:20.848Z"
   },
   {
    "duration": 21,
    "start_time": "2023-02-23T17:15:48.503Z"
   },
   {
    "duration": 2,
    "start_time": "2023-02-23T17:16:11.727Z"
   },
   {
    "duration": 1636,
    "start_time": "2023-02-23T17:16:11.731Z"
   },
   {
    "duration": 10,
    "start_time": "2023-02-23T17:16:13.368Z"
   },
   {
    "duration": 12,
    "start_time": "2023-02-23T17:16:13.380Z"
   },
   {
    "duration": 14,
    "start_time": "2023-02-23T17:16:13.393Z"
   },
   {
    "duration": 6,
    "start_time": "2023-02-23T17:16:13.408Z"
   },
   {
    "duration": 35,
    "start_time": "2023-02-23T17:16:13.415Z"
   },
   {
    "duration": 7,
    "start_time": "2023-02-23T17:16:13.451Z"
   },
   {
    "duration": 176,
    "start_time": "2023-02-23T17:16:13.461Z"
   },
   {
    "duration": 16,
    "start_time": "2023-02-23T17:16:13.639Z"
   },
   {
    "duration": 107,
    "start_time": "2023-02-23T17:16:13.656Z"
   },
   {
    "duration": 6,
    "start_time": "2023-02-23T17:16:13.765Z"
   },
   {
    "duration": 151,
    "start_time": "2023-02-23T17:16:13.773Z"
   },
   {
    "duration": 191,
    "start_time": "2023-02-23T17:16:13.926Z"
   },
   {
    "duration": 25,
    "start_time": "2023-02-23T17:16:14.119Z"
   },
   {
    "duration": 11,
    "start_time": "2023-02-23T17:16:14.149Z"
   },
   {
    "duration": 4,
    "start_time": "2023-02-23T17:16:14.162Z"
   },
   {
    "duration": 7,
    "start_time": "2023-02-23T17:16:14.167Z"
   },
   {
    "duration": 7,
    "start_time": "2023-02-23T17:16:14.176Z"
   },
   {
    "duration": 9,
    "start_time": "2023-02-23T17:16:14.185Z"
   },
   {
    "duration": 6,
    "start_time": "2023-02-23T17:16:14.196Z"
   },
   {
    "duration": 5,
    "start_time": "2023-02-23T17:16:14.204Z"
   },
   {
    "duration": 44,
    "start_time": "2023-02-23T17:16:14.211Z"
   },
   {
    "duration": 38,
    "start_time": "2023-02-23T17:16:14.260Z"
   },
   {
    "duration": 6,
    "start_time": "2023-02-23T17:16:14.300Z"
   },
   {
    "duration": 8,
    "start_time": "2023-02-23T17:16:14.308Z"
   },
   {
    "duration": 39,
    "start_time": "2023-02-23T17:16:14.317Z"
   },
   {
    "duration": 29,
    "start_time": "2023-02-23T17:16:14.358Z"
   },
   {
    "duration": 3,
    "start_time": "2023-02-23T17:16:14.389Z"
   },
   {
    "duration": 35,
    "start_time": "2023-02-23T17:16:14.394Z"
   },
   {
    "duration": 58,
    "start_time": "2023-02-23T17:16:14.430Z"
   },
   {
    "duration": 160,
    "start_time": "2023-02-23T17:16:14.490Z"
   },
   {
    "duration": 7,
    "start_time": "2023-02-23T17:16:14.653Z"
   },
   {
    "duration": 166,
    "start_time": "2023-02-23T17:16:14.662Z"
   },
   {
    "duration": 20,
    "start_time": "2023-02-23T17:16:14.829Z"
   },
   {
    "duration": 13,
    "start_time": "2023-02-23T17:16:14.851Z"
   },
   {
    "duration": 6,
    "start_time": "2023-02-23T17:16:14.866Z"
   },
   {
    "duration": 182,
    "start_time": "2023-02-23T17:16:14.874Z"
   },
   {
    "duration": 7,
    "start_time": "2023-02-23T17:16:15.058Z"
   },
   {
    "duration": 14,
    "start_time": "2023-02-23T17:16:15.067Z"
   },
   {
    "duration": 193,
    "start_time": "2023-02-23T17:16:52.672Z"
   },
   {
    "duration": 214,
    "start_time": "2023-02-23T17:17:09.558Z"
   },
   {
    "duration": 203,
    "start_time": "2023-02-23T17:17:54.865Z"
   },
   {
    "duration": 12,
    "start_time": "2023-02-23T17:27:53.439Z"
   },
   {
    "duration": 169,
    "start_time": "2023-02-23T17:28:56.003Z"
   },
   {
    "duration": 164,
    "start_time": "2023-02-23T17:29:22.228Z"
   },
   {
    "duration": 7,
    "start_time": "2023-02-23T17:33:06.221Z"
   },
   {
    "duration": 6,
    "start_time": "2023-02-23T17:35:34.774Z"
   },
   {
    "duration": 154,
    "start_time": "2023-02-23T17:36:38.799Z"
   },
   {
    "duration": 49,
    "start_time": "2023-02-23T17:37:50.898Z"
   },
   {
    "duration": 13,
    "start_time": "2023-02-23T17:40:50.143Z"
   },
   {
    "duration": 7,
    "start_time": "2023-02-23T17:45:33.812Z"
   },
   {
    "duration": 10,
    "start_time": "2023-02-23T17:46:01.869Z"
   },
   {
    "duration": 11,
    "start_time": "2023-02-23T17:46:10.928Z"
   },
   {
    "duration": 3,
    "start_time": "2023-02-23T17:46:28.280Z"
   },
   {
    "duration": 1044,
    "start_time": "2023-02-23T17:46:28.285Z"
   },
   {
    "duration": 27,
    "start_time": "2023-02-23T17:46:29.331Z"
   },
   {
    "duration": 28,
    "start_time": "2023-02-23T17:46:29.361Z"
   },
   {
    "duration": 18,
    "start_time": "2023-02-23T17:46:29.392Z"
   },
   {
    "duration": 51,
    "start_time": "2023-02-23T17:46:29.412Z"
   },
   {
    "duration": 11,
    "start_time": "2023-02-23T17:46:29.465Z"
   },
   {
    "duration": 50,
    "start_time": "2023-02-23T17:46:29.478Z"
   },
   {
    "duration": 17,
    "start_time": "2023-02-23T17:46:29.530Z"
   },
   {
    "duration": 46,
    "start_time": "2023-02-23T17:46:29.550Z"
   },
   {
    "duration": 4,
    "start_time": "2023-02-23T17:46:29.600Z"
   },
   {
    "duration": 268,
    "start_time": "2023-02-23T17:46:29.606Z"
   },
   {
    "duration": 221,
    "start_time": "2023-02-23T17:46:29.875Z"
   },
   {
    "duration": 156,
    "start_time": "2023-02-23T17:46:30.097Z"
   },
   {
    "duration": 8,
    "start_time": "2023-02-23T17:46:30.258Z"
   },
   {
    "duration": 261,
    "start_time": "2023-02-23T17:46:30.268Z"
   },
   {
    "duration": 20,
    "start_time": "2023-02-23T17:46:30.530Z"
   },
   {
    "duration": 250,
    "start_time": "2023-02-23T17:46:30.558Z"
   },
   {
    "duration": 244,
    "start_time": "2023-02-23T17:46:30.810Z"
   },
   {
    "duration": 10,
    "start_time": "2023-02-23T17:46:31.055Z"
   },
   {
    "duration": 189,
    "start_time": "2023-02-23T17:46:31.068Z"
   },
   {
    "duration": 70,
    "start_time": "2023-02-23T17:46:31.259Z"
   },
   {
    "duration": 0,
    "start_time": "2023-02-23T17:46:31.331Z"
   },
   {
    "duration": 0,
    "start_time": "2023-02-23T17:46:31.332Z"
   },
   {
    "duration": 0,
    "start_time": "2023-02-23T17:46:31.333Z"
   },
   {
    "duration": 0,
    "start_time": "2023-02-23T17:46:31.334Z"
   },
   {
    "duration": 0,
    "start_time": "2023-02-23T17:46:31.335Z"
   },
   {
    "duration": 0,
    "start_time": "2023-02-23T17:46:31.336Z"
   },
   {
    "duration": 0,
    "start_time": "2023-02-23T17:46:31.337Z"
   },
   {
    "duration": 0,
    "start_time": "2023-02-23T17:46:31.339Z"
   },
   {
    "duration": 0,
    "start_time": "2023-02-23T17:46:31.343Z"
   },
   {
    "duration": 0,
    "start_time": "2023-02-23T17:46:31.345Z"
   },
   {
    "duration": 0,
    "start_time": "2023-02-23T17:46:31.346Z"
   },
   {
    "duration": 0,
    "start_time": "2023-02-23T17:46:31.347Z"
   },
   {
    "duration": 0,
    "start_time": "2023-02-23T17:46:31.349Z"
   },
   {
    "duration": 0,
    "start_time": "2023-02-23T17:46:31.350Z"
   },
   {
    "duration": 0,
    "start_time": "2023-02-23T17:46:31.351Z"
   },
   {
    "duration": 0,
    "start_time": "2023-02-23T17:46:31.352Z"
   },
   {
    "duration": 0,
    "start_time": "2023-02-23T17:46:31.353Z"
   },
   {
    "duration": 0,
    "start_time": "2023-02-23T17:46:31.354Z"
   },
   {
    "duration": 0,
    "start_time": "2023-02-23T17:46:31.355Z"
   },
   {
    "duration": 0,
    "start_time": "2023-02-23T17:46:31.356Z"
   },
   {
    "duration": 0,
    "start_time": "2023-02-23T17:46:31.364Z"
   },
   {
    "duration": 0,
    "start_time": "2023-02-23T17:46:31.367Z"
   },
   {
    "duration": 0,
    "start_time": "2023-02-23T17:46:31.370Z"
   },
   {
    "duration": 0,
    "start_time": "2023-02-23T17:46:31.371Z"
   },
   {
    "duration": 0,
    "start_time": "2023-02-23T17:46:31.372Z"
   },
   {
    "duration": 0,
    "start_time": "2023-02-23T17:46:31.373Z"
   },
   {
    "duration": 30,
    "start_time": "2023-02-23T17:47:49.371Z"
   },
   {
    "duration": 54,
    "start_time": "2023-02-23T17:50:07.757Z"
   },
   {
    "duration": 64,
    "start_time": "2023-02-23T17:50:31.496Z"
   },
   {
    "duration": 8,
    "start_time": "2023-02-23T17:52:49.591Z"
   },
   {
    "duration": 8,
    "start_time": "2023-02-23T17:52:58.193Z"
   },
   {
    "duration": 23,
    "start_time": "2023-02-23T17:53:33.227Z"
   },
   {
    "duration": 8,
    "start_time": "2023-02-23T17:53:55.788Z"
   },
   {
    "duration": 8,
    "start_time": "2023-02-23T17:54:01.370Z"
   },
   {
    "duration": 13,
    "start_time": "2023-02-23T18:00:47.228Z"
   },
   {
    "duration": 8,
    "start_time": "2023-02-23T18:01:03.945Z"
   },
   {
    "duration": 7,
    "start_time": "2023-02-23T18:01:13.786Z"
   },
   {
    "duration": 374,
    "start_time": "2023-02-24T11:36:24.703Z"
   },
   {
    "duration": 851,
    "start_time": "2023-02-24T11:36:25.079Z"
   },
   {
    "duration": 22,
    "start_time": "2023-02-24T11:36:25.932Z"
   },
   {
    "duration": 13,
    "start_time": "2023-02-24T11:36:25.956Z"
   },
   {
    "duration": 25,
    "start_time": "2023-02-24T11:36:25.971Z"
   },
   {
    "duration": 51,
    "start_time": "2023-02-24T11:36:25.998Z"
   },
   {
    "duration": 12,
    "start_time": "2023-02-24T11:36:26.051Z"
   },
   {
    "duration": 8,
    "start_time": "2023-02-24T11:36:26.065Z"
   },
   {
    "duration": 9,
    "start_time": "2023-02-24T11:36:26.075Z"
   },
   {
    "duration": 95,
    "start_time": "2023-02-24T11:36:26.087Z"
   },
   {
    "duration": 6,
    "start_time": "2023-02-24T11:36:26.184Z"
   },
   {
    "duration": 47,
    "start_time": "2023-02-24T11:36:26.192Z"
   },
   {
    "duration": 0,
    "start_time": "2023-02-24T11:36:26.242Z"
   },
   {
    "duration": 0,
    "start_time": "2023-02-24T11:36:26.244Z"
   },
   {
    "duration": 0,
    "start_time": "2023-02-24T11:36:26.245Z"
   },
   {
    "duration": 0,
    "start_time": "2023-02-24T11:36:26.247Z"
   },
   {
    "duration": 0,
    "start_time": "2023-02-24T11:36:26.249Z"
   },
   {
    "duration": 0,
    "start_time": "2023-02-24T11:36:26.251Z"
   },
   {
    "duration": 0,
    "start_time": "2023-02-24T11:36:26.253Z"
   },
   {
    "duration": 0,
    "start_time": "2023-02-24T11:36:26.254Z"
   },
   {
    "duration": 0,
    "start_time": "2023-02-24T11:36:26.256Z"
   },
   {
    "duration": 0,
    "start_time": "2023-02-24T11:36:26.258Z"
   },
   {
    "duration": 0,
    "start_time": "2023-02-24T11:36:26.260Z"
   },
   {
    "duration": 0,
    "start_time": "2023-02-24T11:36:26.261Z"
   },
   {
    "duration": 0,
    "start_time": "2023-02-24T11:36:26.263Z"
   },
   {
    "duration": 0,
    "start_time": "2023-02-24T11:36:26.264Z"
   },
   {
    "duration": 0,
    "start_time": "2023-02-24T11:36:26.266Z"
   },
   {
    "duration": 0,
    "start_time": "2023-02-24T11:36:26.267Z"
   },
   {
    "duration": 0,
    "start_time": "2023-02-24T11:36:26.269Z"
   },
   {
    "duration": 0,
    "start_time": "2023-02-24T11:36:26.270Z"
   },
   {
    "duration": 0,
    "start_time": "2023-02-24T11:36:26.271Z"
   },
   {
    "duration": 0,
    "start_time": "2023-02-24T11:36:26.272Z"
   },
   {
    "duration": 0,
    "start_time": "2023-02-24T11:36:26.274Z"
   },
   {
    "duration": 0,
    "start_time": "2023-02-24T11:36:26.275Z"
   },
   {
    "duration": 0,
    "start_time": "2023-02-24T11:36:26.277Z"
   },
   {
    "duration": 0,
    "start_time": "2023-02-24T11:36:26.278Z"
   },
   {
    "duration": 0,
    "start_time": "2023-02-24T11:36:26.279Z"
   },
   {
    "duration": 0,
    "start_time": "2023-02-24T11:36:26.280Z"
   },
   {
    "duration": 15,
    "start_time": "2023-02-24T11:37:48.729Z"
   },
   {
    "duration": 2,
    "start_time": "2023-02-24T11:37:52.239Z"
   },
   {
    "duration": 863,
    "start_time": "2023-02-24T11:37:52.243Z"
   },
   {
    "duration": 14,
    "start_time": "2023-02-24T11:37:53.108Z"
   },
   {
    "duration": 15,
    "start_time": "2023-02-24T11:37:53.123Z"
   },
   {
    "duration": 14,
    "start_time": "2023-02-24T11:37:53.140Z"
   },
   {
    "duration": 43,
    "start_time": "2023-02-24T11:37:53.156Z"
   },
   {
    "duration": 12,
    "start_time": "2023-02-24T11:37:53.201Z"
   },
   {
    "duration": 12,
    "start_time": "2023-02-24T11:37:53.214Z"
   },
   {
    "duration": 25,
    "start_time": "2023-02-24T11:37:53.228Z"
   },
   {
    "duration": 85,
    "start_time": "2023-02-24T11:37:53.255Z"
   },
   {
    "duration": 10,
    "start_time": "2023-02-24T11:37:53.342Z"
   },
   {
    "duration": 15,
    "start_time": "2023-02-24T11:37:53.354Z"
   },
   {
    "duration": 10,
    "start_time": "2023-02-24T11:37:53.373Z"
   },
   {
    "duration": 7,
    "start_time": "2023-02-24T11:37:53.385Z"
   },
   {
    "duration": 15,
    "start_time": "2023-02-24T11:37:53.393Z"
   },
   {
    "duration": 22,
    "start_time": "2023-02-24T11:37:53.410Z"
   },
   {
    "duration": 15,
    "start_time": "2023-02-24T11:37:53.435Z"
   },
   {
    "duration": 7,
    "start_time": "2023-02-24T11:37:53.452Z"
   },
   {
    "duration": 10,
    "start_time": "2023-02-24T11:37:53.460Z"
   },
   {
    "duration": 13,
    "start_time": "2023-02-24T11:37:53.472Z"
   },
   {
    "duration": 45,
    "start_time": "2023-02-24T11:37:53.486Z"
   },
   {
    "duration": 17,
    "start_time": "2023-02-24T11:37:53.532Z"
   },
   {
    "duration": 6,
    "start_time": "2023-02-24T11:37:53.550Z"
   },
   {
    "duration": 15,
    "start_time": "2023-02-24T11:37:53.558Z"
   },
   {
    "duration": 21,
    "start_time": "2023-02-24T11:37:53.574Z"
   },
   {
    "duration": 3,
    "start_time": "2023-02-24T11:37:53.597Z"
   },
   {
    "duration": 48,
    "start_time": "2023-02-24T11:37:53.602Z"
   },
   {
    "duration": 21,
    "start_time": "2023-02-24T11:37:53.651Z"
   },
   {
    "duration": 549,
    "start_time": "2023-02-24T11:37:53.674Z"
   },
   {
    "duration": 6,
    "start_time": "2023-02-24T11:37:54.224Z"
   },
   {
    "duration": 172,
    "start_time": "2023-02-24T11:37:54.232Z"
   },
   {
    "duration": 6,
    "start_time": "2023-02-24T11:37:54.406Z"
   },
   {
    "duration": 14,
    "start_time": "2023-02-24T11:37:54.413Z"
   },
   {
    "duration": 7,
    "start_time": "2023-02-24T11:37:54.428Z"
   },
   {
    "duration": 149,
    "start_time": "2023-02-24T11:37:54.448Z"
   },
   {
    "duration": 6,
    "start_time": "2023-02-24T11:37:54.598Z"
   },
   {
    "duration": 12,
    "start_time": "2023-02-24T11:37:54.607Z"
   },
   {
    "duration": 487,
    "start_time": "2023-02-24T11:53:41.177Z"
   },
   {
    "duration": 532,
    "start_time": "2023-02-24T11:53:55.593Z"
   },
   {
    "duration": 208,
    "start_time": "2023-02-24T11:54:40.942Z"
   },
   {
    "duration": 1685,
    "start_time": "2023-02-24T11:55:34.188Z"
   },
   {
    "duration": 45,
    "start_time": "2023-02-24T11:56:51.874Z"
   },
   {
    "duration": 10,
    "start_time": "2023-02-24T11:56:59.842Z"
   },
   {
    "duration": 3,
    "start_time": "2023-02-24T11:57:20.305Z"
   },
   {
    "duration": 9,
    "start_time": "2023-02-24T11:57:23.277Z"
   },
   {
    "duration": 3,
    "start_time": "2023-02-24T11:57:55.169Z"
   },
   {
    "duration": 1575,
    "start_time": "2023-02-24T11:57:58.872Z"
   },
   {
    "duration": 1591,
    "start_time": "2023-02-24T11:58:21.899Z"
   },
   {
    "duration": 1600,
    "start_time": "2023-02-24T11:58:51.116Z"
   },
   {
    "duration": 1747,
    "start_time": "2023-02-24T11:59:23.702Z"
   },
   {
    "duration": 1580,
    "start_time": "2023-02-24T11:59:53.880Z"
   },
   {
    "duration": 1645,
    "start_time": "2023-02-24T12:00:17.804Z"
   },
   {
    "duration": 1635,
    "start_time": "2023-02-24T12:00:26.275Z"
   },
   {
    "duration": 34,
    "start_time": "2023-02-24T12:07:11.720Z"
   },
   {
    "duration": 12,
    "start_time": "2023-02-24T12:09:42.771Z"
   },
   {
    "duration": 6,
    "start_time": "2023-02-24T12:10:03.431Z"
   },
   {
    "duration": 845,
    "start_time": "2023-02-24T12:10:12.445Z"
   },
   {
    "duration": 829,
    "start_time": "2023-02-24T12:10:17.607Z"
   },
   {
    "duration": 12,
    "start_time": "2023-02-24T12:10:40.376Z"
   },
   {
    "duration": 824,
    "start_time": "2023-02-24T12:10:50.093Z"
   },
   {
    "duration": 3,
    "start_time": "2023-02-24T12:10:53.370Z"
   },
   {
    "duration": 1196,
    "start_time": "2023-02-24T12:10:53.375Z"
   },
   {
    "duration": 11,
    "start_time": "2023-02-24T12:10:54.573Z"
   },
   {
    "duration": 15,
    "start_time": "2023-02-24T12:10:54.586Z"
   },
   {
    "duration": 14,
    "start_time": "2023-02-24T12:10:54.602Z"
   },
   {
    "duration": 45,
    "start_time": "2023-02-24T12:10:54.618Z"
   },
   {
    "duration": 9,
    "start_time": "2023-02-24T12:10:54.665Z"
   },
   {
    "duration": 13,
    "start_time": "2023-02-24T12:10:54.676Z"
   },
   {
    "duration": 6,
    "start_time": "2023-02-24T12:10:54.691Z"
   },
   {
    "duration": 79,
    "start_time": "2023-02-24T12:10:54.698Z"
   },
   {
    "duration": 7,
    "start_time": "2023-02-24T12:10:54.778Z"
   },
   {
    "duration": 15,
    "start_time": "2023-02-24T12:10:54.786Z"
   },
   {
    "duration": 8,
    "start_time": "2023-02-24T12:10:54.802Z"
   },
   {
    "duration": 4,
    "start_time": "2023-02-24T12:10:54.812Z"
   },
   {
    "duration": 7,
    "start_time": "2023-02-24T12:10:54.817Z"
   },
   {
    "duration": 4,
    "start_time": "2023-02-24T12:10:54.849Z"
   },
   {
    "duration": 7,
    "start_time": "2023-02-24T12:10:54.855Z"
   },
   {
    "duration": 5,
    "start_time": "2023-02-24T12:10:54.864Z"
   },
   {
    "duration": 11,
    "start_time": "2023-02-24T12:10:54.870Z"
   },
   {
    "duration": 7,
    "start_time": "2023-02-24T12:10:54.882Z"
   },
   {
    "duration": 36,
    "start_time": "2023-02-24T12:10:54.891Z"
   },
   {
    "duration": 4,
    "start_time": "2023-02-24T12:10:54.949Z"
   },
   {
    "duration": 7,
    "start_time": "2023-02-24T12:10:54.955Z"
   },
   {
    "duration": 13,
    "start_time": "2023-02-24T12:10:54.965Z"
   },
   {
    "duration": 20,
    "start_time": "2023-02-24T12:10:54.981Z"
   },
   {
    "duration": 4,
    "start_time": "2023-02-24T12:10:55.002Z"
   },
   {
    "duration": 51,
    "start_time": "2023-02-24T12:10:55.007Z"
   },
   {
    "duration": 26,
    "start_time": "2023-02-24T12:10:55.059Z"
   },
   {
    "duration": 2552,
    "start_time": "2023-02-24T12:10:55.087Z"
   },
   {
    "duration": 36,
    "start_time": "2023-02-24T12:10:57.641Z"
   },
   {
    "duration": 152,
    "start_time": "2023-02-24T12:10:57.679Z"
   },
   {
    "duration": 6,
    "start_time": "2023-02-24T12:10:57.832Z"
   },
   {
    "duration": 164,
    "start_time": "2023-02-24T12:10:57.848Z"
   },
   {
    "duration": 6,
    "start_time": "2023-02-24T12:10:58.013Z"
   },
   {
    "duration": 8,
    "start_time": "2023-02-24T12:10:58.020Z"
   },
   {
    "duration": 20,
    "start_time": "2023-02-24T12:10:58.029Z"
   },
   {
    "duration": 152,
    "start_time": "2023-02-24T12:10:58.051Z"
   },
   {
    "duration": 6,
    "start_time": "2023-02-24T12:10:58.204Z"
   },
   {
    "duration": 750,
    "start_time": "2023-02-24T12:10:58.212Z"
   },
   {
    "duration": 19,
    "start_time": "2023-02-24T12:11:04.118Z"
   },
   {
    "duration": 20,
    "start_time": "2023-02-24T12:11:18.131Z"
   },
   {
    "duration": 3,
    "start_time": "2023-02-24T12:11:22.363Z"
   },
   {
    "duration": 1265,
    "start_time": "2023-02-24T12:11:22.368Z"
   },
   {
    "duration": 12,
    "start_time": "2023-02-24T12:11:23.635Z"
   },
   {
    "duration": 18,
    "start_time": "2023-02-24T12:11:23.649Z"
   },
   {
    "duration": 12,
    "start_time": "2023-02-24T12:11:23.669Z"
   },
   {
    "duration": 33,
    "start_time": "2023-02-24T12:11:23.683Z"
   },
   {
    "duration": 10,
    "start_time": "2023-02-24T12:11:23.717Z"
   },
   {
    "duration": 10,
    "start_time": "2023-02-24T12:11:23.749Z"
   },
   {
    "duration": 8,
    "start_time": "2023-02-24T12:11:23.761Z"
   },
   {
    "duration": 90,
    "start_time": "2023-02-24T12:11:23.771Z"
   },
   {
    "duration": 13,
    "start_time": "2023-02-24T12:11:23.863Z"
   },
   {
    "duration": 11,
    "start_time": "2023-02-24T12:11:23.878Z"
   },
   {
    "duration": 9,
    "start_time": "2023-02-24T12:11:23.890Z"
   },
   {
    "duration": 3,
    "start_time": "2023-02-24T12:11:23.901Z"
   },
   {
    "duration": 15,
    "start_time": "2023-02-24T12:11:23.906Z"
   },
   {
    "duration": 29,
    "start_time": "2023-02-24T12:11:23.923Z"
   },
   {
    "duration": 11,
    "start_time": "2023-02-24T12:11:23.954Z"
   },
   {
    "duration": 11,
    "start_time": "2023-02-24T12:11:23.967Z"
   },
   {
    "duration": 11,
    "start_time": "2023-02-24T12:11:23.979Z"
   },
   {
    "duration": 6,
    "start_time": "2023-02-24T12:11:23.992Z"
   },
   {
    "duration": 36,
    "start_time": "2023-02-24T12:11:23.999Z"
   },
   {
    "duration": 6,
    "start_time": "2023-02-24T12:11:24.048Z"
   },
   {
    "duration": 14,
    "start_time": "2023-02-24T12:11:24.056Z"
   },
   {
    "duration": 15,
    "start_time": "2023-02-24T12:11:24.074Z"
   },
   {
    "duration": 22,
    "start_time": "2023-02-24T12:11:24.090Z"
   },
   {
    "duration": 3,
    "start_time": "2023-02-24T12:11:24.114Z"
   },
   {
    "duration": 40,
    "start_time": "2023-02-24T12:11:24.119Z"
   },
   {
    "duration": 23,
    "start_time": "2023-02-24T12:11:24.161Z"
   },
   {
    "duration": 2701,
    "start_time": "2023-02-24T12:11:24.185Z"
   },
   {
    "duration": 36,
    "start_time": "2023-02-24T12:11:26.887Z"
   },
   {
    "duration": 153,
    "start_time": "2023-02-24T12:11:26.924Z"
   },
   {
    "duration": 6,
    "start_time": "2023-02-24T12:11:27.078Z"
   },
   {
    "duration": 200,
    "start_time": "2023-02-24T12:11:27.085Z"
   },
   {
    "duration": 6,
    "start_time": "2023-02-24T12:11:27.287Z"
   },
   {
    "duration": 27,
    "start_time": "2023-02-24T12:11:27.295Z"
   },
   {
    "duration": 10,
    "start_time": "2023-02-24T12:11:27.324Z"
   },
   {
    "duration": 175,
    "start_time": "2023-02-24T12:11:27.336Z"
   },
   {
    "duration": 7,
    "start_time": "2023-02-24T12:11:27.512Z"
   },
   {
    "duration": 769,
    "start_time": "2023-02-24T12:11:27.520Z"
   },
   {
    "duration": 49,
    "start_time": "2023-02-24T12:14:11.576Z"
   },
   {
    "duration": 709,
    "start_time": "2023-02-24T12:18:45.518Z"
   },
   {
    "duration": 37,
    "start_time": "2023-02-24T12:18:57.545Z"
   },
   {
    "duration": 31,
    "start_time": "2023-02-24T12:19:14.121Z"
   },
   {
    "duration": 24,
    "start_time": "2023-02-24T12:19:59.301Z"
   },
   {
    "duration": 23,
    "start_time": "2023-02-24T12:21:54.780Z"
   },
   {
    "duration": 23,
    "start_time": "2023-02-24T12:22:09.010Z"
   },
   {
    "duration": 606,
    "start_time": "2023-02-24T12:23:10.513Z"
   },
   {
    "duration": 616,
    "start_time": "2023-02-24T12:23:17.815Z"
   },
   {
    "duration": 2506,
    "start_time": "2023-02-24T12:23:30.373Z"
   },
   {
    "duration": 45,
    "start_time": "2023-02-24T12:30:22.559Z"
   },
   {
    "duration": 46,
    "start_time": "2023-02-24T12:30:27.997Z"
   },
   {
    "duration": 13,
    "start_time": "2023-02-24T12:30:38.040Z"
   },
   {
    "duration": 46,
    "start_time": "2023-02-24T12:31:11.103Z"
   },
   {
    "duration": 18,
    "start_time": "2023-02-24T12:31:18.906Z"
   },
   {
    "duration": 14,
    "start_time": "2023-02-24T12:31:58.751Z"
   },
   {
    "duration": 15,
    "start_time": "2023-02-24T12:32:25.659Z"
   },
   {
    "duration": 17,
    "start_time": "2023-02-24T12:32:35.874Z"
   },
   {
    "duration": 32,
    "start_time": "2023-02-24T12:32:51.393Z"
   },
   {
    "duration": 24,
    "start_time": "2023-02-24T12:33:03.087Z"
   },
   {
    "duration": 5,
    "start_time": "2023-02-24T12:33:16.548Z"
   },
   {
    "duration": 18,
    "start_time": "2023-02-24T12:33:20.418Z"
   },
   {
    "duration": 19,
    "start_time": "2023-02-24T12:33:33.918Z"
   },
   {
    "duration": 18,
    "start_time": "2023-02-24T12:33:44.161Z"
   },
   {
    "duration": 21,
    "start_time": "2023-02-24T12:33:53.480Z"
   },
   {
    "duration": 28,
    "start_time": "2023-02-24T12:34:18.123Z"
   },
   {
    "duration": 17,
    "start_time": "2023-02-24T12:34:29.068Z"
   },
   {
    "duration": 19,
    "start_time": "2023-02-24T12:35:50.427Z"
   },
   {
    "duration": 24,
    "start_time": "2023-02-24T12:37:03.226Z"
   },
   {
    "duration": 23,
    "start_time": "2023-02-24T12:37:21.953Z"
   },
   {
    "duration": 834,
    "start_time": "2023-02-24T12:39:35.661Z"
   },
   {
    "duration": 15,
    "start_time": "2023-02-24T12:39:47.038Z"
   },
   {
    "duration": 21,
    "start_time": "2023-02-24T12:39:54.365Z"
   },
   {
    "duration": 17,
    "start_time": "2023-02-24T12:41:20.657Z"
   },
   {
    "duration": 19,
    "start_time": "2023-02-24T12:41:31.394Z"
   },
   {
    "duration": 19,
    "start_time": "2023-02-24T12:41:51.859Z"
   },
   {
    "duration": 17,
    "start_time": "2023-02-24T12:52:11.141Z"
   },
   {
    "duration": 179,
    "start_time": "2023-02-24T12:52:48.851Z"
   },
   {
    "duration": 19,
    "start_time": "2023-02-24T12:53:12.164Z"
   },
   {
    "duration": 16,
    "start_time": "2023-02-24T12:53:45.336Z"
   },
   {
    "duration": 20,
    "start_time": "2023-02-24T12:54:03.618Z"
   },
   {
    "duration": 22,
    "start_time": "2023-02-24T12:54:10.173Z"
   },
   {
    "duration": 229,
    "start_time": "2023-02-24T12:55:16.746Z"
   },
   {
    "duration": 28,
    "start_time": "2023-02-24T12:55:37.445Z"
   },
   {
    "duration": 72,
    "start_time": "2023-02-24T12:56:02.107Z"
   },
   {
    "duration": 148,
    "start_time": "2023-02-24T12:56:06.929Z"
   },
   {
    "duration": 165,
    "start_time": "2023-02-24T12:56:35.785Z"
   },
   {
    "duration": 170,
    "start_time": "2023-02-24T12:58:03.212Z"
   },
   {
    "duration": 183,
    "start_time": "2023-02-24T12:58:22.595Z"
   },
   {
    "duration": 184,
    "start_time": "2023-02-24T12:58:30.416Z"
   },
   {
    "duration": 173,
    "start_time": "2023-02-24T12:58:37.005Z"
   },
   {
    "duration": 279,
    "start_time": "2023-02-24T12:59:47.121Z"
   },
   {
    "duration": 31,
    "start_time": "2023-02-24T13:01:22.262Z"
   },
   {
    "duration": 96,
    "start_time": "2023-02-24T13:01:37.021Z"
   },
   {
    "duration": 24,
    "start_time": "2023-02-24T13:01:42.997Z"
   },
   {
    "duration": 28,
    "start_time": "2023-02-24T13:01:51.504Z"
   },
   {
    "duration": 21,
    "start_time": "2023-02-24T13:02:00.585Z"
   },
   {
    "duration": 25,
    "start_time": "2023-02-24T13:02:21.340Z"
   },
   {
    "duration": 19,
    "start_time": "2023-02-24T13:02:52.996Z"
   },
   {
    "duration": 165,
    "start_time": "2023-02-24T13:03:11.720Z"
   },
   {
    "duration": 152,
    "start_time": "2023-02-24T13:03:34.586Z"
   },
   {
    "duration": 176,
    "start_time": "2023-02-24T13:04:58.919Z"
   },
   {
    "duration": 160,
    "start_time": "2023-02-24T13:06:06.771Z"
   },
   {
    "duration": 162,
    "start_time": "2023-02-24T13:06:25.574Z"
   },
   {
    "duration": 165,
    "start_time": "2023-02-24T13:07:02.946Z"
   },
   {
    "duration": 196,
    "start_time": "2023-02-24T13:08:32.470Z"
   },
   {
    "duration": 19,
    "start_time": "2023-02-24T13:11:32.256Z"
   },
   {
    "duration": 6,
    "start_time": "2023-02-24T13:12:46.364Z"
   },
   {
    "duration": 161,
    "start_time": "2023-02-24T13:12:50.000Z"
   },
   {
    "duration": 142,
    "start_time": "2023-02-24T13:13:35.685Z"
   },
   {
    "duration": 151,
    "start_time": "2023-02-24T13:15:51.027Z"
   },
   {
    "duration": 131,
    "start_time": "2023-02-24T13:16:04.208Z"
   },
   {
    "duration": 108,
    "start_time": "2023-02-24T13:16:12.751Z"
   },
   {
    "duration": 23,
    "start_time": "2023-02-24T13:17:18.537Z"
   },
   {
    "duration": 191,
    "start_time": "2023-02-24T13:19:25.001Z"
   },
   {
    "duration": 209,
    "start_time": "2023-02-24T13:19:39.361Z"
   },
   {
    "duration": 151,
    "start_time": "2023-02-24T13:20:25.499Z"
   },
   {
    "duration": 126,
    "start_time": "2023-02-24T13:20:59.624Z"
   },
   {
    "duration": 110,
    "start_time": "2023-02-24T13:21:07.585Z"
   },
   {
    "duration": 112,
    "start_time": "2023-02-24T13:21:27.211Z"
   },
   {
    "duration": 136,
    "start_time": "2023-02-24T13:21:50.662Z"
   },
   {
    "duration": 103,
    "start_time": "2023-02-24T13:22:21.782Z"
   },
   {
    "duration": 145,
    "start_time": "2023-02-24T13:22:38.364Z"
   },
   {
    "duration": 149,
    "start_time": "2023-02-24T13:22:48.772Z"
   },
   {
    "duration": 181,
    "start_time": "2023-02-24T13:24:02.501Z"
   },
   {
    "duration": 114,
    "start_time": "2023-02-24T13:24:24.942Z"
   },
   {
    "duration": 122,
    "start_time": "2023-02-24T13:24:38.814Z"
   },
   {
    "duration": 192,
    "start_time": "2023-02-24T13:25:30.102Z"
   },
   {
    "duration": 111,
    "start_time": "2023-02-24T13:45:28.876Z"
   },
   {
    "duration": 21,
    "start_time": "2023-02-24T13:45:49.949Z"
   },
   {
    "duration": 119,
    "start_time": "2023-02-24T13:46:04.441Z"
   },
   {
    "duration": 119,
    "start_time": "2023-02-24T13:46:22.665Z"
   },
   {
    "duration": 116,
    "start_time": "2023-02-24T13:47:21.876Z"
   },
   {
    "duration": 115,
    "start_time": "2023-02-24T13:47:25.955Z"
   },
   {
    "duration": 212,
    "start_time": "2023-02-24T13:47:57.056Z"
   },
   {
    "duration": 113,
    "start_time": "2023-02-24T13:48:20.923Z"
   },
   {
    "duration": 151,
    "start_time": "2023-02-24T13:49:02.725Z"
   },
   {
    "duration": 156,
    "start_time": "2023-02-24T13:49:22.316Z"
   },
   {
    "duration": 146,
    "start_time": "2023-02-24T13:49:30.090Z"
   },
   {
    "duration": 144,
    "start_time": "2023-02-24T13:49:38.787Z"
   },
   {
    "duration": 181,
    "start_time": "2023-02-24T13:49:53.516Z"
   },
   {
    "duration": 165,
    "start_time": "2023-02-24T13:50:02.914Z"
   },
   {
    "duration": 137,
    "start_time": "2023-02-24T13:50:07.590Z"
   },
   {
    "duration": 140,
    "start_time": "2023-02-24T13:51:58.429Z"
   },
   {
    "duration": 44,
    "start_time": "2023-02-24T20:21:32.511Z"
   },
   {
    "duration": 1302,
    "start_time": "2023-02-24T20:21:35.865Z"
   },
   {
    "duration": 1207,
    "start_time": "2023-02-24T20:21:37.169Z"
   },
   {
    "duration": 26,
    "start_time": "2023-02-24T20:21:38.378Z"
   },
   {
    "duration": 17,
    "start_time": "2023-02-24T20:21:38.407Z"
   },
   {
    "duration": 14,
    "start_time": "2023-02-24T20:21:38.426Z"
   },
   {
    "duration": 70,
    "start_time": "2023-02-24T20:21:38.441Z"
   },
   {
    "duration": 14,
    "start_time": "2023-02-24T20:21:38.513Z"
   },
   {
    "duration": 12,
    "start_time": "2023-02-24T20:21:38.529Z"
   },
   {
    "duration": 10,
    "start_time": "2023-02-24T20:21:38.542Z"
   },
   {
    "duration": 88,
    "start_time": "2023-02-24T20:21:38.556Z"
   },
   {
    "duration": 7,
    "start_time": "2023-02-24T20:21:38.646Z"
   },
   {
    "duration": 32,
    "start_time": "2023-02-24T20:21:38.654Z"
   },
   {
    "duration": 13,
    "start_time": "2023-02-24T20:21:38.688Z"
   },
   {
    "duration": 24,
    "start_time": "2023-02-24T20:21:38.703Z"
   },
   {
    "duration": 10,
    "start_time": "2023-02-24T20:21:38.729Z"
   },
   {
    "duration": 21,
    "start_time": "2023-02-24T20:21:38.742Z"
   },
   {
    "duration": 10,
    "start_time": "2023-02-24T20:21:38.765Z"
   },
   {
    "duration": 43,
    "start_time": "2023-02-24T20:21:38.777Z"
   },
   {
    "duration": 35,
    "start_time": "2023-02-24T20:21:38.822Z"
   },
   {
    "duration": 25,
    "start_time": "2023-02-24T20:21:38.859Z"
   },
   {
    "duration": 67,
    "start_time": "2023-02-24T20:21:38.886Z"
   },
   {
    "duration": 5,
    "start_time": "2023-02-24T20:21:38.955Z"
   },
   {
    "duration": 24,
    "start_time": "2023-02-24T20:21:38.962Z"
   },
   {
    "duration": 51,
    "start_time": "2023-02-24T20:21:38.988Z"
   },
   {
    "duration": 37,
    "start_time": "2023-02-24T20:21:39.041Z"
   },
   {
    "duration": 4,
    "start_time": "2023-02-24T20:21:39.080Z"
   },
   {
    "duration": 42,
    "start_time": "2023-02-24T20:21:39.085Z"
   },
   {
    "duration": 26,
    "start_time": "2023-02-24T20:21:39.132Z"
   },
   {
    "duration": 2613,
    "start_time": "2023-02-24T20:21:39.160Z"
   },
   {
    "duration": 208,
    "start_time": "2023-02-24T20:21:41.775Z"
   },
   {
    "duration": 173,
    "start_time": "2023-02-24T20:21:41.986Z"
   },
   {
    "duration": 139,
    "start_time": "2023-02-24T20:21:42.160Z"
   },
   {
    "duration": 147,
    "start_time": "2023-02-24T20:21:42.302Z"
   },
   {
    "duration": 10,
    "start_time": "2023-02-24T20:21:42.451Z"
   },
   {
    "duration": 2339,
    "start_time": "2023-02-24T20:21:42.463Z"
   },
   {
    "duration": 155,
    "start_time": "2023-02-24T20:21:44.804Z"
   },
   {
    "duration": 6,
    "start_time": "2023-02-24T20:21:44.961Z"
   },
   {
    "duration": 185,
    "start_time": "2023-02-24T20:21:44.969Z"
   },
   {
    "duration": 6,
    "start_time": "2023-02-24T20:21:45.157Z"
   },
   {
    "duration": 22,
    "start_time": "2023-02-24T20:21:45.165Z"
   },
   {
    "duration": 14,
    "start_time": "2023-02-24T20:21:45.189Z"
   },
   {
    "duration": 156,
    "start_time": "2023-02-24T20:21:45.205Z"
   },
   {
    "duration": 6,
    "start_time": "2023-02-24T20:21:45.362Z"
   },
   {
    "duration": 10,
    "start_time": "2023-02-24T20:22:19.216Z"
   },
   {
    "duration": 12,
    "start_time": "2023-02-24T20:22:41.677Z"
   },
   {
    "duration": 72,
    "start_time": "2023-02-24T20:24:03.649Z"
   },
   {
    "duration": 4,
    "start_time": "2023-02-24T20:24:28.729Z"
   },
   {
    "duration": 13,
    "start_time": "2023-02-24T20:24:34.874Z"
   },
   {
    "duration": 13,
    "start_time": "2023-02-24T20:25:00.579Z"
   },
   {
    "duration": 9,
    "start_time": "2023-02-24T20:25:31.306Z"
   },
   {
    "duration": 142,
    "start_time": "2023-02-24T20:27:27.927Z"
   },
   {
    "duration": 10,
    "start_time": "2023-02-24T20:29:11.068Z"
   },
   {
    "duration": 1098,
    "start_time": "2023-02-24T20:31:48.529Z"
   },
   {
    "duration": 3,
    "start_time": "2023-02-24T20:31:53.530Z"
   },
   {
    "duration": 1818,
    "start_time": "2023-02-24T20:31:53.535Z"
   },
   {
    "duration": 12,
    "start_time": "2023-02-24T20:31:55.356Z"
   },
   {
    "duration": 19,
    "start_time": "2023-02-24T20:31:55.370Z"
   },
   {
    "duration": 14,
    "start_time": "2023-02-24T20:31:55.391Z"
   },
   {
    "duration": 43,
    "start_time": "2023-02-24T20:31:55.407Z"
   },
   {
    "duration": 12,
    "start_time": "2023-02-24T20:31:55.452Z"
   },
   {
    "duration": 23,
    "start_time": "2023-02-24T20:31:55.485Z"
   },
   {
    "duration": 20,
    "start_time": "2023-02-24T20:31:55.511Z"
   },
   {
    "duration": 88,
    "start_time": "2023-02-24T20:31:55.533Z"
   },
   {
    "duration": 9,
    "start_time": "2023-02-24T20:31:55.625Z"
   },
   {
    "duration": 17,
    "start_time": "2023-02-24T20:31:55.636Z"
   },
   {
    "duration": 30,
    "start_time": "2023-02-24T20:31:55.656Z"
   },
   {
    "duration": 21,
    "start_time": "2023-02-24T20:31:55.689Z"
   },
   {
    "duration": 8,
    "start_time": "2023-02-24T20:31:55.712Z"
   },
   {
    "duration": 6,
    "start_time": "2023-02-24T20:31:55.722Z"
   },
   {
    "duration": 29,
    "start_time": "2023-02-24T20:31:55.730Z"
   },
   {
    "duration": 6,
    "start_time": "2023-02-24T20:31:55.761Z"
   },
   {
    "duration": 11,
    "start_time": "2023-02-24T20:31:55.769Z"
   },
   {
    "duration": 11,
    "start_time": "2023-02-24T20:31:55.782Z"
   },
   {
    "duration": 60,
    "start_time": "2023-02-24T20:31:55.795Z"
   },
   {
    "duration": 5,
    "start_time": "2023-02-24T20:31:55.856Z"
   },
   {
    "duration": 11,
    "start_time": "2023-02-24T20:31:55.862Z"
   },
   {
    "duration": 15,
    "start_time": "2023-02-24T20:31:55.875Z"
   },
   {
    "duration": 22,
    "start_time": "2023-02-24T20:31:55.892Z"
   },
   {
    "duration": 4,
    "start_time": "2023-02-24T20:31:55.917Z"
   },
   {
    "duration": 37,
    "start_time": "2023-02-24T20:31:55.923Z"
   },
   {
    "duration": 5,
    "start_time": "2023-02-24T20:31:55.962Z"
   },
   {
    "duration": 31,
    "start_time": "2023-02-24T20:31:55.970Z"
   },
   {
    "duration": 3494,
    "start_time": "2023-02-24T20:31:56.002Z"
   },
   {
    "duration": 207,
    "start_time": "2023-02-24T20:31:59.497Z"
   },
   {
    "duration": 164,
    "start_time": "2023-02-24T20:31:59.706Z"
   },
   {
    "duration": 126,
    "start_time": "2023-02-24T20:31:59.872Z"
   },
   {
    "duration": 164,
    "start_time": "2023-02-24T20:32:00.001Z"
   },
   {
    "duration": 8,
    "start_time": "2023-02-24T20:32:00.167Z"
   },
   {
    "duration": 31,
    "start_time": "2023-02-24T20:32:00.185Z"
   },
   {
    "duration": 2189,
    "start_time": "2023-02-24T20:32:00.218Z"
   },
   {
    "duration": 23,
    "start_time": "2023-02-24T20:32:04.382Z"
   },
   {
    "duration": 4,
    "start_time": "2023-02-24T20:32:13.574Z"
   },
   {
    "duration": 1172,
    "start_time": "2023-02-24T20:32:13.579Z"
   },
   {
    "duration": 16,
    "start_time": "2023-02-24T20:32:14.754Z"
   },
   {
    "duration": 17,
    "start_time": "2023-02-24T20:32:14.772Z"
   },
   {
    "duration": 17,
    "start_time": "2023-02-24T20:32:14.791Z"
   },
   {
    "duration": 145,
    "start_time": "2023-02-24T20:32:14.810Z"
   },
   {
    "duration": 14,
    "start_time": "2023-02-24T20:32:14.964Z"
   },
   {
    "duration": 14,
    "start_time": "2023-02-24T20:32:14.980Z"
   },
   {
    "duration": 15,
    "start_time": "2023-02-24T20:32:14.996Z"
   },
   {
    "duration": 82,
    "start_time": "2023-02-24T20:32:15.013Z"
   },
   {
    "duration": 5,
    "start_time": "2023-02-24T20:32:15.098Z"
   },
   {
    "duration": 16,
    "start_time": "2023-02-24T20:32:15.105Z"
   },
   {
    "duration": 11,
    "start_time": "2023-02-24T20:32:15.122Z"
   },
   {
    "duration": 4,
    "start_time": "2023-02-24T20:32:15.135Z"
   },
   {
    "duration": 8,
    "start_time": "2023-02-24T20:32:15.140Z"
   },
   {
    "duration": 5,
    "start_time": "2023-02-24T20:32:15.150Z"
   },
   {
    "duration": 29,
    "start_time": "2023-02-24T20:32:15.157Z"
   },
   {
    "duration": 4,
    "start_time": "2023-02-24T20:32:15.188Z"
   },
   {
    "duration": 11,
    "start_time": "2023-02-24T20:32:15.194Z"
   },
   {
    "duration": 8,
    "start_time": "2023-02-24T20:32:15.207Z"
   },
   {
    "duration": 48,
    "start_time": "2023-02-24T20:32:15.217Z"
   },
   {
    "duration": 19,
    "start_time": "2023-02-24T20:32:15.267Z"
   },
   {
    "duration": 6,
    "start_time": "2023-02-24T20:32:15.287Z"
   },
   {
    "duration": 14,
    "start_time": "2023-02-24T20:32:15.295Z"
   },
   {
    "duration": 23,
    "start_time": "2023-02-24T20:32:15.311Z"
   },
   {
    "duration": 4,
    "start_time": "2023-02-24T20:32:15.336Z"
   },
   {
    "duration": 19,
    "start_time": "2023-02-24T20:32:15.341Z"
   },
   {
    "duration": 24,
    "start_time": "2023-02-24T20:32:15.362Z"
   },
   {
    "duration": 26,
    "start_time": "2023-02-24T20:32:15.390Z"
   },
   {
    "duration": 3269,
    "start_time": "2023-02-24T20:32:15.419Z"
   },
   {
    "duration": 177,
    "start_time": "2023-02-24T20:32:18.690Z"
   },
   {
    "duration": 156,
    "start_time": "2023-02-24T20:32:18.868Z"
   },
   {
    "duration": 132,
    "start_time": "2023-02-24T20:32:19.026Z"
   },
   {
    "duration": 142,
    "start_time": "2023-02-24T20:32:19.159Z"
   },
   {
    "duration": 11,
    "start_time": "2023-02-24T20:32:19.303Z"
   },
   {
    "duration": 0,
    "start_time": "2023-02-24T20:32:19.316Z"
   },
   {
    "duration": 0,
    "start_time": "2023-02-24T20:32:19.317Z"
   },
   {
    "duration": 4,
    "start_time": "2023-02-24T20:32:31.190Z"
   },
   {
    "duration": 72,
    "start_time": "2023-02-24T20:32:40.835Z"
   },
   {
    "duration": 29,
    "start_time": "2023-02-24T20:32:45.464Z"
   },
   {
    "duration": 3,
    "start_time": "2023-02-24T20:32:53.600Z"
   },
   {
    "duration": 1817,
    "start_time": "2023-02-24T20:32:53.606Z"
   },
   {
    "duration": 16,
    "start_time": "2023-02-24T20:32:55.425Z"
   },
   {
    "duration": 72,
    "start_time": "2023-02-24T20:32:55.444Z"
   },
   {
    "duration": 36,
    "start_time": "2023-02-24T20:32:55.519Z"
   },
   {
    "duration": 64,
    "start_time": "2023-02-24T20:32:55.557Z"
   },
   {
    "duration": 15,
    "start_time": "2023-02-24T20:32:55.623Z"
   },
   {
    "duration": 36,
    "start_time": "2023-02-24T20:32:55.640Z"
   },
   {
    "duration": 8,
    "start_time": "2023-02-24T20:32:55.678Z"
   },
   {
    "duration": 70,
    "start_time": "2023-02-24T20:32:55.688Z"
   },
   {
    "duration": 6,
    "start_time": "2023-02-24T20:32:55.761Z"
   },
   {
    "duration": 23,
    "start_time": "2023-02-24T20:32:55.768Z"
   },
   {
    "duration": 8,
    "start_time": "2023-02-24T20:32:55.793Z"
   },
   {
    "duration": 5,
    "start_time": "2023-02-24T20:32:55.803Z"
   },
   {
    "duration": 17,
    "start_time": "2023-02-24T20:32:55.809Z"
   },
   {
    "duration": 58,
    "start_time": "2023-02-24T20:32:55.828Z"
   },
   {
    "duration": 5,
    "start_time": "2023-02-24T20:32:55.888Z"
   },
   {
    "duration": 14,
    "start_time": "2023-02-24T20:32:55.895Z"
   },
   {
    "duration": 7,
    "start_time": "2023-02-24T20:32:55.911Z"
   },
   {
    "duration": 13,
    "start_time": "2023-02-24T20:32:55.920Z"
   },
   {
    "duration": 88,
    "start_time": "2023-02-24T20:32:55.935Z"
   },
   {
    "duration": 6,
    "start_time": "2023-02-24T20:32:56.025Z"
   },
   {
    "duration": 7,
    "start_time": "2023-02-24T20:32:56.087Z"
   },
   {
    "duration": 20,
    "start_time": "2023-02-24T20:32:56.095Z"
   },
   {
    "duration": 88,
    "start_time": "2023-02-24T20:32:56.116Z"
   },
   {
    "duration": 4,
    "start_time": "2023-02-24T20:32:56.206Z"
   },
   {
    "duration": 75,
    "start_time": "2023-02-24T20:32:56.212Z"
   },
   {
    "duration": 21,
    "start_time": "2023-02-24T20:32:56.289Z"
   },
   {
    "duration": 89,
    "start_time": "2023-02-24T20:32:56.314Z"
   },
   {
    "duration": 3236,
    "start_time": "2023-02-24T20:32:56.405Z"
   },
   {
    "duration": 191,
    "start_time": "2023-02-24T20:32:59.642Z"
   },
   {
    "duration": 170,
    "start_time": "2023-02-24T20:32:59.835Z"
   },
   {
    "duration": 123,
    "start_time": "2023-02-24T20:33:00.007Z"
   },
   {
    "duration": 154,
    "start_time": "2023-02-24T20:33:00.132Z"
   },
   {
    "duration": 13,
    "start_time": "2023-02-24T20:33:00.287Z"
   },
   {
    "duration": 0,
    "start_time": "2023-02-24T20:33:00.301Z"
   },
   {
    "duration": 0,
    "start_time": "2023-02-24T20:33:00.303Z"
   },
   {
    "duration": 14,
    "start_time": "2023-02-24T20:34:47.237Z"
   },
   {
    "duration": 3,
    "start_time": "2023-02-24T20:34:55.077Z"
   },
   {
    "duration": 1365,
    "start_time": "2023-02-24T20:34:55.082Z"
   },
   {
    "duration": 11,
    "start_time": "2023-02-24T20:34:56.449Z"
   },
   {
    "duration": 18,
    "start_time": "2023-02-24T20:34:56.461Z"
   },
   {
    "duration": 13,
    "start_time": "2023-02-24T20:34:56.481Z"
   },
   {
    "duration": 50,
    "start_time": "2023-02-24T20:34:56.496Z"
   },
   {
    "duration": 10,
    "start_time": "2023-02-24T20:34:56.548Z"
   },
   {
    "duration": 30,
    "start_time": "2023-02-24T20:34:56.559Z"
   },
   {
    "duration": 6,
    "start_time": "2023-02-24T20:34:56.591Z"
   },
   {
    "duration": 63,
    "start_time": "2023-02-24T20:34:56.599Z"
   },
   {
    "duration": 21,
    "start_time": "2023-02-24T20:34:56.665Z"
   },
   {
    "duration": 9,
    "start_time": "2023-02-24T20:34:56.688Z"
   },
   {
    "duration": 7,
    "start_time": "2023-02-24T20:34:56.699Z"
   },
   {
    "duration": 4,
    "start_time": "2023-02-24T20:34:56.708Z"
   },
   {
    "duration": 7,
    "start_time": "2023-02-24T20:34:56.714Z"
   },
   {
    "duration": 5,
    "start_time": "2023-02-24T20:34:56.723Z"
   },
   {
    "duration": 5,
    "start_time": "2023-02-24T20:34:56.730Z"
   },
   {
    "duration": 8,
    "start_time": "2023-02-24T20:34:56.736Z"
   },
   {
    "duration": 41,
    "start_time": "2023-02-24T20:34:56.746Z"
   },
   {
    "duration": 5,
    "start_time": "2023-02-24T20:34:56.788Z"
   },
   {
    "duration": 37,
    "start_time": "2023-02-24T20:34:56.794Z"
   },
   {
    "duration": 5,
    "start_time": "2023-02-24T20:34:56.832Z"
   },
   {
    "duration": 8,
    "start_time": "2023-02-24T20:34:56.838Z"
   },
   {
    "duration": 18,
    "start_time": "2023-02-24T20:34:56.847Z"
   },
   {
    "duration": 21,
    "start_time": "2023-02-24T20:34:56.886Z"
   },
   {
    "duration": 4,
    "start_time": "2023-02-24T20:34:56.908Z"
   },
   {
    "duration": 26,
    "start_time": "2023-02-24T20:34:56.913Z"
   },
   {
    "duration": 23,
    "start_time": "2023-02-24T20:34:56.940Z"
   },
   {
    "duration": 38,
    "start_time": "2023-02-24T20:34:56.965Z"
   },
   {
    "duration": 2335,
    "start_time": "2023-02-24T20:34:57.005Z"
   },
   {
    "duration": 259,
    "start_time": "2023-02-24T20:34:59.341Z"
   },
   {
    "duration": 301,
    "start_time": "2023-02-24T20:34:59.602Z"
   },
   {
    "duration": 215,
    "start_time": "2023-02-24T20:34:59.905Z"
   },
   {
    "duration": 287,
    "start_time": "2023-02-24T20:35:00.122Z"
   },
   {
    "duration": 12,
    "start_time": "2023-02-24T20:35:00.410Z"
   },
   {
    "duration": 0,
    "start_time": "2023-02-24T20:35:00.423Z"
   },
   {
    "duration": 0,
    "start_time": "2023-02-24T20:35:00.424Z"
   },
   {
    "duration": 2447,
    "start_time": "2023-02-24T20:35:48.394Z"
   },
   {
    "duration": 19,
    "start_time": "2023-02-24T20:36:36.750Z"
   },
   {
    "duration": 18,
    "start_time": "2023-02-24T20:37:07.891Z"
   },
   {
    "duration": 2226,
    "start_time": "2023-02-24T20:37:19.865Z"
   },
   {
    "duration": 144,
    "start_time": "2023-02-24T20:37:53.206Z"
   },
   {
    "duration": 16,
    "start_time": "2023-02-24T20:38:07.745Z"
   },
   {
    "duration": 23,
    "start_time": "2023-02-24T20:38:13.157Z"
   },
   {
    "duration": 151,
    "start_time": "2023-02-24T20:39:12.765Z"
   },
   {
    "duration": 152,
    "start_time": "2023-02-24T20:40:39.778Z"
   },
   {
    "duration": 172,
    "start_time": "2023-02-24T20:43:38.596Z"
   },
   {
    "duration": 170,
    "start_time": "2023-02-24T20:44:02.879Z"
   },
   {
    "duration": 195,
    "start_time": "2023-02-24T20:44:27.383Z"
   },
   {
    "duration": 141,
    "start_time": "2023-02-24T20:45:21.177Z"
   },
   {
    "duration": 211,
    "start_time": "2023-02-24T20:45:44.605Z"
   },
   {
    "duration": 135,
    "start_time": "2023-02-24T20:50:19.798Z"
   },
   {
    "duration": 138,
    "start_time": "2023-02-24T20:50:59.324Z"
   },
   {
    "duration": 116,
    "start_time": "2023-02-24T20:52:35.678Z"
   },
   {
    "duration": 133,
    "start_time": "2023-02-24T20:52:50.860Z"
   },
   {
    "duration": 134,
    "start_time": "2023-02-24T20:53:31.020Z"
   },
   {
    "duration": 137,
    "start_time": "2023-02-24T20:53:49.924Z"
   },
   {
    "duration": 157,
    "start_time": "2023-02-24T20:54:15.203Z"
   },
   {
    "duration": 157,
    "start_time": "2023-02-24T20:54:30.445Z"
   },
   {
    "duration": 75,
    "start_time": "2023-02-24T20:55:18.120Z"
   },
   {
    "duration": 158,
    "start_time": "2023-02-24T20:55:33.167Z"
   },
   {
    "duration": 117,
    "start_time": "2023-02-24T20:56:00.162Z"
   },
   {
    "duration": 136,
    "start_time": "2023-02-24T20:56:23.920Z"
   },
   {
    "duration": 128,
    "start_time": "2023-02-24T20:56:47.405Z"
   },
   {
    "duration": 142,
    "start_time": "2023-02-24T20:57:14.948Z"
   },
   {
    "duration": 233,
    "start_time": "2023-02-24T20:57:58.447Z"
   },
   {
    "duration": 144,
    "start_time": "2023-02-24T20:58:24.233Z"
   },
   {
    "duration": 14,
    "start_time": "2023-02-24T21:02:16.040Z"
   },
   {
    "duration": 24,
    "start_time": "2023-02-24T21:02:52.628Z"
   },
   {
    "duration": 23,
    "start_time": "2023-02-24T21:03:52.943Z"
   },
   {
    "duration": 22,
    "start_time": "2023-02-24T21:04:17.462Z"
   },
   {
    "duration": 25,
    "start_time": "2023-02-24T21:05:26.915Z"
   },
   {
    "duration": 22,
    "start_time": "2023-02-24T21:06:25.577Z"
   },
   {
    "duration": 23,
    "start_time": "2023-02-24T21:06:31.669Z"
   },
   {
    "duration": 22,
    "start_time": "2023-02-24T21:06:47.428Z"
   },
   {
    "duration": 17,
    "start_time": "2023-02-24T21:07:20.869Z"
   },
   {
    "duration": 22,
    "start_time": "2023-02-24T21:07:27.495Z"
   },
   {
    "duration": 22,
    "start_time": "2023-02-24T21:07:41.621Z"
   },
   {
    "duration": 391,
    "start_time": "2023-02-24T21:08:20.717Z"
   },
   {
    "duration": 73,
    "start_time": "2023-02-24T21:08:40.547Z"
   },
   {
    "duration": 430,
    "start_time": "2023-02-24T21:08:45.050Z"
   },
   {
    "duration": 301,
    "start_time": "2023-02-24T21:09:00.041Z"
   },
   {
    "duration": 406,
    "start_time": "2023-02-24T21:09:21.630Z"
   },
   {
    "duration": 275,
    "start_time": "2023-02-24T21:09:43.449Z"
   },
   {
    "duration": 274,
    "start_time": "2023-02-24T21:10:38.823Z"
   },
   {
    "duration": 264,
    "start_time": "2023-02-24T21:11:17.526Z"
   },
   {
    "duration": 33,
    "start_time": "2023-02-24T21:17:11.444Z"
   },
   {
    "duration": 161,
    "start_time": "2023-02-24T21:19:04.232Z"
   },
   {
    "duration": 174,
    "start_time": "2023-02-24T21:21:07.564Z"
   },
   {
    "duration": 159,
    "start_time": "2023-02-24T21:23:36.264Z"
   },
   {
    "duration": 2,
    "start_time": "2023-02-24T21:28:58.849Z"
   },
   {
    "duration": 70,
    "start_time": "2023-02-24T21:33:03.133Z"
   },
   {
    "duration": 19,
    "start_time": "2023-02-24T21:35:24.964Z"
   },
   {
    "duration": 18,
    "start_time": "2023-02-24T21:35:43.949Z"
   },
   {
    "duration": 16,
    "start_time": "2023-02-24T21:35:52.291Z"
   },
   {
    "duration": 88,
    "start_time": "2023-02-24T21:36:14.496Z"
   },
   {
    "duration": 14,
    "start_time": "2023-02-24T21:36:21.992Z"
   },
   {
    "duration": 25,
    "start_time": "2023-02-24T21:37:03.784Z"
   },
   {
    "duration": 30,
    "start_time": "2023-02-24T21:38:12.226Z"
   },
   {
    "duration": 23,
    "start_time": "2023-02-24T21:38:56.798Z"
   },
   {
    "duration": 22,
    "start_time": "2023-02-24T21:39:07.706Z"
   },
   {
    "duration": 29,
    "start_time": "2023-02-24T21:39:59.082Z"
   },
   {
    "duration": 14,
    "start_time": "2023-02-24T21:40:25.109Z"
   },
   {
    "duration": 14,
    "start_time": "2023-02-24T21:41:05.389Z"
   },
   {
    "duration": 14,
    "start_time": "2023-02-24T21:41:38.902Z"
   },
   {
    "duration": 897,
    "start_time": "2023-02-24T21:44:25.871Z"
   },
   {
    "duration": 27,
    "start_time": "2023-02-24T21:45:02.794Z"
   },
   {
    "duration": 26,
    "start_time": "2023-02-24T21:45:15.463Z"
   },
   {
    "duration": 27,
    "start_time": "2023-02-24T21:45:36.032Z"
   },
   {
    "duration": 28,
    "start_time": "2023-02-24T21:46:07.929Z"
   },
   {
    "duration": 19,
    "start_time": "2023-02-24T21:46:27.185Z"
   },
   {
    "duration": 23,
    "start_time": "2023-02-24T21:46:34.363Z"
   },
   {
    "duration": 23,
    "start_time": "2023-02-24T21:47:06.233Z"
   },
   {
    "duration": 32,
    "start_time": "2023-02-24T21:47:22.876Z"
   },
   {
    "duration": 23,
    "start_time": "2023-02-24T21:47:36.048Z"
   },
   {
    "duration": 25,
    "start_time": "2023-02-24T21:48:01.748Z"
   },
   {
    "duration": 22,
    "start_time": "2023-02-24T21:48:48.993Z"
   },
   {
    "duration": 13,
    "start_time": "2023-02-24T21:51:01.541Z"
   },
   {
    "duration": 24,
    "start_time": "2023-02-24T21:51:36.946Z"
   },
   {
    "duration": 21,
    "start_time": "2023-02-24T21:51:47.257Z"
   },
   {
    "duration": 24,
    "start_time": "2023-02-24T21:52:57.807Z"
   },
   {
    "duration": 21,
    "start_time": "2023-02-24T21:53:50.587Z"
   },
   {
    "duration": 26,
    "start_time": "2023-02-24T21:54:11.993Z"
   },
   {
    "duration": 70,
    "start_time": "2023-02-24T21:56:38.438Z"
   },
   {
    "duration": 21,
    "start_time": "2023-02-24T21:56:49.997Z"
   },
   {
    "duration": 24,
    "start_time": "2023-02-24T21:58:16.975Z"
   },
   {
    "duration": 128,
    "start_time": "2023-02-24T21:59:56.960Z"
   },
   {
    "duration": 21,
    "start_time": "2023-02-24T22:00:20.867Z"
   },
   {
    "duration": 26,
    "start_time": "2023-02-24T22:00:45.330Z"
   },
   {
    "duration": 29,
    "start_time": "2023-02-24T22:01:02.332Z"
   },
   {
    "duration": 17,
    "start_time": "2023-02-24T22:02:02.705Z"
   },
   {
    "duration": 26,
    "start_time": "2023-02-24T22:02:20.209Z"
   },
   {
    "duration": 27,
    "start_time": "2023-02-24T22:02:34.623Z"
   },
   {
    "duration": 36,
    "start_time": "2023-02-24T22:03:04.001Z"
   },
   {
    "duration": 28,
    "start_time": "2023-02-24T22:03:15.802Z"
   },
   {
    "duration": 34,
    "start_time": "2023-02-24T22:04:39.688Z"
   },
   {
    "duration": 23,
    "start_time": "2023-02-24T22:05:08.083Z"
   },
   {
    "duration": 24,
    "start_time": "2023-02-24T22:05:55.013Z"
   },
   {
    "duration": 102,
    "start_time": "2023-02-24T22:06:13.567Z"
   },
   {
    "duration": 21,
    "start_time": "2023-02-24T22:06:21.632Z"
   },
   {
    "duration": 22,
    "start_time": "2023-02-24T22:06:40.638Z"
   },
   {
    "duration": 21,
    "start_time": "2023-02-24T22:07:40.562Z"
   },
   {
    "duration": 30,
    "start_time": "2023-02-24T22:08:35.154Z"
   },
   {
    "duration": 36,
    "start_time": "2023-02-24T22:10:44.929Z"
   },
   {
    "duration": 32,
    "start_time": "2023-02-24T22:11:08.675Z"
   },
   {
    "duration": 30,
    "start_time": "2023-02-24T22:11:23.216Z"
   },
   {
    "duration": 24,
    "start_time": "2023-02-24T22:12:11.532Z"
   },
   {
    "duration": 37,
    "start_time": "2023-02-24T22:12:28.112Z"
   },
   {
    "duration": 69,
    "start_time": "2023-02-24T22:12:36.772Z"
   },
   {
    "duration": 22,
    "start_time": "2023-02-24T22:13:18.883Z"
   },
   {
    "duration": 36,
    "start_time": "2023-02-24T22:13:35.586Z"
   },
   {
    "duration": 32,
    "start_time": "2023-02-24T22:14:19.090Z"
   },
   {
    "duration": 30,
    "start_time": "2023-02-24T22:15:07.002Z"
   },
   {
    "duration": 3,
    "start_time": "2023-02-24T22:15:39.471Z"
   },
   {
    "duration": 1218,
    "start_time": "2023-02-24T22:15:39.476Z"
   },
   {
    "duration": 14,
    "start_time": "2023-02-24T22:15:40.696Z"
   },
   {
    "duration": 20,
    "start_time": "2023-02-24T22:15:40.711Z"
   },
   {
    "duration": 15,
    "start_time": "2023-02-24T22:15:40.733Z"
   },
   {
    "duration": 47,
    "start_time": "2023-02-24T22:15:40.751Z"
   },
   {
    "duration": 11,
    "start_time": "2023-02-24T22:15:40.800Z"
   },
   {
    "duration": 41,
    "start_time": "2023-02-24T22:15:40.812Z"
   },
   {
    "duration": 30,
    "start_time": "2023-02-24T22:15:40.854Z"
   },
   {
    "duration": 63,
    "start_time": "2023-02-24T22:15:40.886Z"
   },
   {
    "duration": 7,
    "start_time": "2023-02-24T22:15:40.951Z"
   },
   {
    "duration": 29,
    "start_time": "2023-02-24T22:15:40.960Z"
   },
   {
    "duration": 9,
    "start_time": "2023-02-24T22:15:40.991Z"
   },
   {
    "duration": 4,
    "start_time": "2023-02-24T22:15:41.003Z"
   },
   {
    "duration": 17,
    "start_time": "2023-02-24T22:15:41.009Z"
   },
   {
    "duration": 6,
    "start_time": "2023-02-24T22:15:41.028Z"
   },
   {
    "duration": 32,
    "start_time": "2023-02-24T22:15:41.036Z"
   },
   {
    "duration": 10,
    "start_time": "2023-02-24T22:15:41.070Z"
   },
   {
    "duration": 8,
    "start_time": "2023-02-24T22:15:41.081Z"
   },
   {
    "duration": 32,
    "start_time": "2023-02-24T22:15:41.091Z"
   },
   {
    "duration": 41,
    "start_time": "2023-02-24T22:15:41.124Z"
   },
   {
    "duration": 6,
    "start_time": "2023-02-24T22:15:41.167Z"
   },
   {
    "duration": 17,
    "start_time": "2023-02-24T22:15:41.175Z"
   },
   {
    "duration": 27,
    "start_time": "2023-02-24T22:15:41.195Z"
   },
   {
    "duration": 34,
    "start_time": "2023-02-24T22:15:41.224Z"
   },
   {
    "duration": 3,
    "start_time": "2023-02-24T22:15:41.260Z"
   },
   {
    "duration": 33,
    "start_time": "2023-02-24T22:15:41.265Z"
   },
   {
    "duration": 29,
    "start_time": "2023-02-24T22:15:41.300Z"
   },
   {
    "duration": 31,
    "start_time": "2023-02-24T22:15:41.330Z"
   },
   {
    "duration": 2549,
    "start_time": "2023-02-24T22:15:41.363Z"
   },
   {
    "duration": 188,
    "start_time": "2023-02-24T22:15:43.914Z"
   },
   {
    "duration": 310,
    "start_time": "2023-02-24T22:15:44.104Z"
   },
   {
    "duration": 171,
    "start_time": "2023-02-24T22:15:44.416Z"
   },
   {
    "duration": 155,
    "start_time": "2023-02-24T22:15:44.589Z"
   },
   {
    "duration": 167,
    "start_time": "2023-02-24T22:15:44.746Z"
   },
   {
    "duration": 178,
    "start_time": "2023-02-24T22:15:44.914Z"
   },
   {
    "duration": 164,
    "start_time": "2023-02-24T22:15:45.094Z"
   },
   {
    "duration": 320,
    "start_time": "2023-02-24T22:15:45.261Z"
   },
   {
    "duration": 43,
    "start_time": "2023-02-24T22:15:45.583Z"
   },
   {
    "duration": 60,
    "start_time": "2023-02-24T22:15:45.628Z"
   },
   {
    "duration": 27,
    "start_time": "2023-02-24T22:15:45.695Z"
   },
   {
    "duration": 30,
    "start_time": "2023-02-24T22:15:45.724Z"
   },
   {
    "duration": 22,
    "start_time": "2023-02-24T22:16:33.716Z"
   },
   {
    "duration": 1348,
    "start_time": "2023-02-25T10:56:13.870Z"
   },
   {
    "duration": 1040,
    "start_time": "2023-02-25T10:56:15.220Z"
   },
   {
    "duration": 19,
    "start_time": "2023-02-25T10:56:16.261Z"
   },
   {
    "duration": 13,
    "start_time": "2023-02-25T10:56:16.281Z"
   },
   {
    "duration": 15,
    "start_time": "2023-02-25T10:56:16.296Z"
   },
   {
    "duration": 59,
    "start_time": "2023-02-25T10:56:16.313Z"
   },
   {
    "duration": 12,
    "start_time": "2023-02-25T10:56:16.374Z"
   },
   {
    "duration": 9,
    "start_time": "2023-02-25T10:56:16.387Z"
   },
   {
    "duration": 7,
    "start_time": "2023-02-25T10:56:16.397Z"
   },
   {
    "duration": 76,
    "start_time": "2023-02-25T10:56:16.437Z"
   },
   {
    "duration": 26,
    "start_time": "2023-02-25T10:56:16.515Z"
   },
   {
    "duration": 11,
    "start_time": "2023-02-25T10:56:16.543Z"
   },
   {
    "duration": 9,
    "start_time": "2023-02-25T10:56:16.556Z"
   },
   {
    "duration": 4,
    "start_time": "2023-02-25T10:56:16.568Z"
   },
   {
    "duration": 10,
    "start_time": "2023-02-25T10:56:16.573Z"
   },
   {
    "duration": 8,
    "start_time": "2023-02-25T10:56:16.585Z"
   },
   {
    "duration": 6,
    "start_time": "2023-02-25T10:56:16.595Z"
   },
   {
    "duration": 34,
    "start_time": "2023-02-25T10:56:16.603Z"
   },
   {
    "duration": 4,
    "start_time": "2023-02-25T10:56:16.639Z"
   },
   {
    "duration": 8,
    "start_time": "2023-02-25T10:56:16.645Z"
   },
   {
    "duration": 37,
    "start_time": "2023-02-25T10:56:16.655Z"
   },
   {
    "duration": 4,
    "start_time": "2023-02-25T10:56:16.694Z"
   },
   {
    "duration": 41,
    "start_time": "2023-02-25T10:56:16.700Z"
   },
   {
    "duration": 15,
    "start_time": "2023-02-25T10:56:16.743Z"
   },
   {
    "duration": 22,
    "start_time": "2023-02-25T10:56:16.759Z"
   },
   {
    "duration": 4,
    "start_time": "2023-02-25T10:56:16.782Z"
   },
   {
    "duration": 20,
    "start_time": "2023-02-25T10:56:16.787Z"
   },
   {
    "duration": 42,
    "start_time": "2023-02-25T10:56:16.808Z"
   },
   {
    "duration": 29,
    "start_time": "2023-02-25T10:56:16.852Z"
   },
   {
    "duration": 2690,
    "start_time": "2023-02-25T10:56:16.882Z"
   },
   {
    "duration": 182,
    "start_time": "2023-02-25T10:56:19.574Z"
   },
   {
    "duration": 301,
    "start_time": "2023-02-25T10:56:19.758Z"
   },
   {
    "duration": 156,
    "start_time": "2023-02-25T10:56:20.060Z"
   },
   {
    "duration": 243,
    "start_time": "2023-02-25T10:56:20.218Z"
   },
   {
    "duration": 140,
    "start_time": "2023-02-25T10:56:20.463Z"
   },
   {
    "duration": 151,
    "start_time": "2023-02-25T10:56:20.604Z"
   },
   {
    "duration": 157,
    "start_time": "2023-02-25T10:56:20.757Z"
   },
   {
    "duration": 154,
    "start_time": "2023-02-25T10:56:20.916Z"
   },
   {
    "duration": 31,
    "start_time": "2023-02-25T10:56:21.071Z"
   },
   {
    "duration": 43,
    "start_time": "2023-02-25T10:56:21.104Z"
   },
   {
    "duration": 24,
    "start_time": "2023-02-25T10:56:21.151Z"
   },
   {
    "duration": 29,
    "start_time": "2023-02-25T10:56:21.177Z"
   },
   {
    "duration": 28,
    "start_time": "2023-02-25T11:01:51.580Z"
   },
   {
    "duration": 26,
    "start_time": "2023-02-25T11:02:44.883Z"
   },
   {
    "duration": 32,
    "start_time": "2023-02-25T11:02:46.521Z"
   },
   {
    "duration": 30,
    "start_time": "2023-02-25T11:02:58.975Z"
   },
   {
    "duration": 77,
    "start_time": "2023-02-25T11:03:36.693Z"
   },
   {
    "duration": 27,
    "start_time": "2023-02-25T11:04:35.562Z"
   },
   {
    "duration": 68,
    "start_time": "2023-02-25T11:04:58.283Z"
   },
   {
    "duration": 43,
    "start_time": "2023-02-25T11:05:19.431Z"
   },
   {
    "duration": 43,
    "start_time": "2023-02-25T11:05:26.514Z"
   },
   {
    "duration": 37,
    "start_time": "2023-02-25T11:06:22.734Z"
   },
   {
    "duration": 35,
    "start_time": "2023-02-25T11:07:35.967Z"
   },
   {
    "duration": 39,
    "start_time": "2023-02-25T11:08:34.435Z"
   },
   {
    "duration": 71,
    "start_time": "2023-02-25T11:19:48.253Z"
   },
   {
    "duration": 4,
    "start_time": "2023-02-25T11:36:13.799Z"
   },
   {
    "duration": 1420,
    "start_time": "2023-02-25T11:36:26.966Z"
   },
   {
    "duration": 119,
    "start_time": "2023-02-25T11:36:46.768Z"
   },
   {
    "duration": 132,
    "start_time": "2023-02-25T11:41:25.529Z"
   },
   {
    "duration": 28,
    "start_time": "2023-02-25T11:43:23.466Z"
   },
   {
    "duration": 7,
    "start_time": "2023-02-25T11:43:41.614Z"
   },
   {
    "duration": 100,
    "start_time": "2023-02-25T11:48:57.852Z"
   },
   {
    "duration": 3,
    "start_time": "2023-02-25T11:50:02.276Z"
   },
   {
    "duration": 2216,
    "start_time": "2023-02-25T11:50:02.281Z"
   },
   {
    "duration": 10,
    "start_time": "2023-02-25T11:50:04.499Z"
   },
   {
    "duration": 34,
    "start_time": "2023-02-25T11:50:04.511Z"
   },
   {
    "duration": 12,
    "start_time": "2023-02-25T11:50:04.547Z"
   },
   {
    "duration": 49,
    "start_time": "2023-02-25T11:50:04.561Z"
   },
   {
    "duration": 10,
    "start_time": "2023-02-25T11:50:04.611Z"
   },
   {
    "duration": 18,
    "start_time": "2023-02-25T11:50:04.623Z"
   },
   {
    "duration": 7,
    "start_time": "2023-02-25T11:50:04.644Z"
   },
   {
    "duration": 73,
    "start_time": "2023-02-25T11:50:04.652Z"
   },
   {
    "duration": 11,
    "start_time": "2023-02-25T11:50:04.727Z"
   },
   {
    "duration": 9,
    "start_time": "2023-02-25T11:50:04.739Z"
   },
   {
    "duration": 8,
    "start_time": "2023-02-25T11:50:04.750Z"
   },
   {
    "duration": 10,
    "start_time": "2023-02-25T11:50:04.759Z"
   },
   {
    "duration": 10,
    "start_time": "2023-02-25T11:50:04.771Z"
   },
   {
    "duration": 12,
    "start_time": "2023-02-25T11:50:04.782Z"
   },
   {
    "duration": 25,
    "start_time": "2023-02-25T11:50:04.796Z"
   },
   {
    "duration": 9,
    "start_time": "2023-02-25T11:50:04.823Z"
   },
   {
    "duration": 8,
    "start_time": "2023-02-25T11:50:04.834Z"
   },
   {
    "duration": 5,
    "start_time": "2023-02-25T11:50:04.844Z"
   },
   {
    "duration": 34,
    "start_time": "2023-02-25T11:50:04.851Z"
   },
   {
    "duration": 5,
    "start_time": "2023-02-25T11:50:04.887Z"
   },
   {
    "duration": 9,
    "start_time": "2023-02-25T11:50:04.894Z"
   },
   {
    "duration": 35,
    "start_time": "2023-02-25T11:50:04.907Z"
   },
   {
    "duration": 19,
    "start_time": "2023-02-25T11:50:04.943Z"
   },
   {
    "duration": 3,
    "start_time": "2023-02-25T11:50:04.964Z"
   },
   {
    "duration": 27,
    "start_time": "2023-02-25T11:50:04.969Z"
   },
   {
    "duration": 16,
    "start_time": "2023-02-25T11:50:04.998Z"
   },
   {
    "duration": 40,
    "start_time": "2023-02-25T11:50:05.015Z"
   },
   {
    "duration": 2255,
    "start_time": "2023-02-25T11:50:05.057Z"
   },
   {
    "duration": 177,
    "start_time": "2023-02-25T11:50:07.313Z"
   },
   {
    "duration": 284,
    "start_time": "2023-02-25T11:50:07.492Z"
   },
   {
    "duration": 251,
    "start_time": "2023-02-25T11:50:07.778Z"
   },
   {
    "duration": 152,
    "start_time": "2023-02-25T11:50:08.036Z"
   },
   {
    "duration": 141,
    "start_time": "2023-02-25T11:50:08.190Z"
   },
   {
    "duration": 141,
    "start_time": "2023-02-25T11:50:08.332Z"
   },
   {
    "duration": 149,
    "start_time": "2023-02-25T11:50:08.474Z"
   },
   {
    "duration": 159,
    "start_time": "2023-02-25T11:50:08.624Z"
   },
   {
    "duration": 29,
    "start_time": "2023-02-25T11:50:08.784Z"
   },
   {
    "duration": 40,
    "start_time": "2023-02-25T11:50:08.814Z"
   },
   {
    "duration": 19,
    "start_time": "2023-02-25T11:50:08.855Z"
   },
   {
    "duration": 24,
    "start_time": "2023-02-25T11:50:08.876Z"
   },
   {
    "duration": 48,
    "start_time": "2023-02-25T11:50:08.902Z"
   },
   {
    "duration": 27,
    "start_time": "2023-02-25T11:50:08.952Z"
   },
   {
    "duration": 27,
    "start_time": "2023-02-25T11:50:08.981Z"
   },
   {
    "duration": 1227,
    "start_time": "2023-02-25T11:50:09.010Z"
   },
   {
    "duration": 8,
    "start_time": "2023-02-25T11:50:40.666Z"
   },
   {
    "duration": 8,
    "start_time": "2023-02-25T11:59:27.414Z"
   },
   {
    "duration": 112,
    "start_time": "2023-02-25T12:02:22.897Z"
   },
   {
    "duration": 9,
    "start_time": "2023-02-25T12:02:51.813Z"
   },
   {
    "duration": 81,
    "start_time": "2023-02-25T13:35:27.084Z"
   },
   {
    "duration": 9,
    "start_time": "2023-02-25T13:35:36.498Z"
   },
   {
    "duration": 9,
    "start_time": "2023-02-25T13:35:56.349Z"
   },
   {
    "duration": 2,
    "start_time": "2023-02-25T13:39:18.162Z"
   },
   {
    "duration": 70,
    "start_time": "2023-02-25T13:40:43.064Z"
   },
   {
    "duration": 32,
    "start_time": "2023-02-25T13:43:03.792Z"
   },
   {
    "duration": 14,
    "start_time": "2023-02-25T13:43:37.802Z"
   },
   {
    "duration": 10,
    "start_time": "2023-02-25T13:43:50.745Z"
   },
   {
    "duration": 32,
    "start_time": "2023-02-25T13:44:06.176Z"
   },
   {
    "duration": 13,
    "start_time": "2023-02-25T13:44:16.918Z"
   },
   {
    "duration": 19,
    "start_time": "2023-02-25T13:44:56.489Z"
   },
   {
    "duration": 116,
    "start_time": "2023-02-25T13:45:55.155Z"
   },
   {
    "duration": 28,
    "start_time": "2023-02-25T13:45:59.823Z"
   },
   {
    "duration": 16,
    "start_time": "2023-02-25T13:46:18.246Z"
   },
   {
    "duration": 5,
    "start_time": "2023-02-25T13:47:49.522Z"
   },
   {
    "duration": 3,
    "start_time": "2023-02-25T13:47:51.300Z"
   },
   {
    "duration": 1805,
    "start_time": "2023-02-25T13:47:51.306Z"
   },
   {
    "duration": 14,
    "start_time": "2023-02-25T13:47:53.113Z"
   },
   {
    "duration": 14,
    "start_time": "2023-02-25T13:47:53.128Z"
   },
   {
    "duration": 15,
    "start_time": "2023-02-25T13:47:53.155Z"
   },
   {
    "duration": 33,
    "start_time": "2023-02-25T13:47:53.171Z"
   },
   {
    "duration": 9,
    "start_time": "2023-02-25T13:47:53.206Z"
   },
   {
    "duration": 9,
    "start_time": "2023-02-25T13:47:53.217Z"
   },
   {
    "duration": 9,
    "start_time": "2023-02-25T13:47:53.237Z"
   },
   {
    "duration": 65,
    "start_time": "2023-02-25T13:47:53.247Z"
   },
   {
    "duration": 6,
    "start_time": "2023-02-25T13:47:53.315Z"
   },
   {
    "duration": 15,
    "start_time": "2023-02-25T13:47:53.341Z"
   },
   {
    "duration": 8,
    "start_time": "2023-02-25T13:47:53.357Z"
   },
   {
    "duration": 4,
    "start_time": "2023-02-25T13:47:53.366Z"
   },
   {
    "duration": 6,
    "start_time": "2023-02-25T13:47:53.371Z"
   },
   {
    "duration": 5,
    "start_time": "2023-02-25T13:47:53.378Z"
   },
   {
    "duration": 6,
    "start_time": "2023-02-25T13:47:53.385Z"
   },
   {
    "duration": 5,
    "start_time": "2023-02-25T13:47:53.393Z"
   },
   {
    "duration": 6,
    "start_time": "2023-02-25T13:47:53.399Z"
   },
   {
    "duration": 40,
    "start_time": "2023-02-25T13:47:53.407Z"
   },
   {
    "duration": 32,
    "start_time": "2023-02-25T13:47:53.452Z"
   },
   {
    "duration": 4,
    "start_time": "2023-02-25T13:47:53.486Z"
   },
   {
    "duration": 12,
    "start_time": "2023-02-25T13:47:53.492Z"
   },
   {
    "duration": 14,
    "start_time": "2023-02-25T13:47:53.506Z"
   },
   {
    "duration": 38,
    "start_time": "2023-02-25T13:47:53.521Z"
   },
   {
    "duration": 5,
    "start_time": "2023-02-25T13:47:53.560Z"
   },
   {
    "duration": 21,
    "start_time": "2023-02-25T13:47:53.566Z"
   },
   {
    "duration": 13,
    "start_time": "2023-02-25T13:47:53.589Z"
   },
   {
    "duration": 52,
    "start_time": "2023-02-25T13:47:53.606Z"
   },
   {
    "duration": 2372,
    "start_time": "2023-02-25T13:47:53.660Z"
   },
   {
    "duration": 186,
    "start_time": "2023-02-25T13:47:56.033Z"
   },
   {
    "duration": 421,
    "start_time": "2023-02-25T13:47:56.220Z"
   },
   {
    "duration": 160,
    "start_time": "2023-02-25T13:47:56.643Z"
   },
   {
    "duration": 177,
    "start_time": "2023-02-25T13:47:56.805Z"
   },
   {
    "duration": 140,
    "start_time": "2023-02-25T13:47:56.984Z"
   },
   {
    "duration": 154,
    "start_time": "2023-02-25T13:47:57.126Z"
   },
   {
    "duration": 145,
    "start_time": "2023-02-25T13:47:57.281Z"
   },
   {
    "duration": 162,
    "start_time": "2023-02-25T13:47:57.428Z"
   },
   {
    "duration": 27,
    "start_time": "2023-02-25T13:47:57.591Z"
   },
   {
    "duration": 46,
    "start_time": "2023-02-25T13:47:57.620Z"
   },
   {
    "duration": 27,
    "start_time": "2023-02-25T13:47:57.667Z"
   },
   {
    "duration": 57,
    "start_time": "2023-02-25T13:47:57.696Z"
   },
   {
    "duration": 28,
    "start_time": "2023-02-25T13:47:57.755Z"
   },
   {
    "duration": 28,
    "start_time": "2023-02-25T13:47:57.785Z"
   },
   {
    "duration": 49,
    "start_time": "2023-02-25T13:47:57.814Z"
   },
   {
    "duration": 8,
    "start_time": "2023-02-25T13:47:57.864Z"
   },
   {
    "duration": 8,
    "start_time": "2023-02-25T13:47:57.873Z"
   },
   {
    "duration": 7,
    "start_time": "2023-02-25T13:47:57.882Z"
   },
   {
    "duration": 10,
    "start_time": "2023-02-25T13:47:57.890Z"
   },
   {
    "duration": 50,
    "start_time": "2023-02-25T13:47:57.901Z"
   },
   {
    "duration": 11,
    "start_time": "2023-02-25T13:47:57.953Z"
   },
   {
    "duration": 23,
    "start_time": "2023-02-25T13:49:23.223Z"
   },
   {
    "duration": 26,
    "start_time": "2023-02-25T13:51:35.321Z"
   },
   {
    "duration": 31,
    "start_time": "2023-02-25T13:51:44.224Z"
   },
   {
    "duration": 83,
    "start_time": "2023-02-25T13:51:52.068Z"
   },
   {
    "duration": 25,
    "start_time": "2023-02-25T13:53:27.655Z"
   },
   {
    "duration": 26,
    "start_time": "2023-02-25T13:55:31.371Z"
   },
   {
    "duration": 36,
    "start_time": "2023-02-25T13:55:42.667Z"
   },
   {
    "duration": 29,
    "start_time": "2023-02-25T13:55:58.468Z"
   },
   {
    "duration": 73,
    "start_time": "2023-02-25T13:57:03.459Z"
   },
   {
    "duration": 79,
    "start_time": "2023-02-25T13:57:39.152Z"
   },
   {
    "duration": 31,
    "start_time": "2023-02-25T13:57:53.191Z"
   },
   {
    "duration": 30,
    "start_time": "2023-02-25T13:58:06.560Z"
   },
   {
    "duration": 24,
    "start_time": "2023-02-25T13:59:00.966Z"
   },
   {
    "duration": 25,
    "start_time": "2023-02-25T13:59:13.787Z"
   },
   {
    "duration": 30,
    "start_time": "2023-02-25T13:59:25.365Z"
   },
   {
    "duration": 25,
    "start_time": "2023-02-25T13:59:36.456Z"
   },
   {
    "duration": 27,
    "start_time": "2023-02-25T13:59:46.763Z"
   },
   {
    "duration": 24,
    "start_time": "2023-02-25T14:01:07.273Z"
   },
   {
    "duration": 32,
    "start_time": "2023-02-25T14:04:17.467Z"
   },
   {
    "duration": 62,
    "start_time": "2023-02-25T14:05:43.828Z"
   },
   {
    "duration": 38,
    "start_time": "2023-02-25T14:06:20.357Z"
   },
   {
    "duration": 27,
    "start_time": "2023-02-25T14:06:33.197Z"
   },
   {
    "duration": 70,
    "start_time": "2023-02-25T14:09:14.676Z"
   },
   {
    "duration": 33,
    "start_time": "2023-02-25T14:09:21.829Z"
   },
   {
    "duration": 41,
    "start_time": "2023-02-25T14:11:18.149Z"
   },
   {
    "duration": 75,
    "start_time": "2023-02-25T14:12:21.753Z"
   },
   {
    "duration": 30,
    "start_time": "2023-02-25T14:12:44.757Z"
   },
   {
    "duration": 29,
    "start_time": "2023-02-25T14:12:59.560Z"
   },
   {
    "duration": 39,
    "start_time": "2023-02-25T14:13:15.025Z"
   },
   {
    "duration": 33,
    "start_time": "2023-02-25T14:13:35.675Z"
   },
   {
    "duration": 33,
    "start_time": "2023-02-25T14:15:38.624Z"
   },
   {
    "duration": 32,
    "start_time": "2023-02-25T14:15:54.355Z"
   },
   {
    "duration": 32,
    "start_time": "2023-02-25T14:16:06.352Z"
   },
   {
    "duration": 15,
    "start_time": "2023-02-25T14:17:33.589Z"
   },
   {
    "duration": 55,
    "start_time": "2023-02-25T14:17:57.774Z"
   },
   {
    "duration": 52,
    "start_time": "2023-02-25T14:18:32.155Z"
   },
   {
    "duration": 19,
    "start_time": "2023-02-25T14:19:13.896Z"
   },
   {
    "duration": 26,
    "start_time": "2023-02-25T14:19:49.246Z"
   },
   {
    "duration": 101,
    "start_time": "2023-02-25T14:20:11.782Z"
   },
   {
    "duration": 35,
    "start_time": "2023-02-25T14:20:19.256Z"
   },
   {
    "duration": 24,
    "start_time": "2023-02-25T14:21:13.975Z"
   },
   {
    "duration": 24,
    "start_time": "2023-02-25T14:21:39.536Z"
   },
   {
    "duration": 33,
    "start_time": "2023-02-25T14:25:05.621Z"
   },
   {
    "duration": 26,
    "start_time": "2023-02-25T14:28:54.406Z"
   },
   {
    "duration": 23,
    "start_time": "2023-02-25T14:29:13.064Z"
   },
   {
    "duration": 24,
    "start_time": "2023-02-25T14:29:31.551Z"
   },
   {
    "duration": 26,
    "start_time": "2023-02-25T14:30:29.955Z"
   },
   {
    "duration": 39,
    "start_time": "2023-02-25T14:32:28.305Z"
   },
   {
    "duration": 32,
    "start_time": "2023-02-25T14:33:22.378Z"
   },
   {
    "duration": 24,
    "start_time": "2023-02-25T14:35:59.598Z"
   },
   {
    "duration": 32,
    "start_time": "2023-02-25T14:45:28.563Z"
   },
   {
    "duration": 105,
    "start_time": "2023-02-25T14:45:59.168Z"
   },
   {
    "duration": 32,
    "start_time": "2023-02-25T15:00:28.199Z"
   },
   {
    "duration": 31,
    "start_time": "2023-02-25T15:00:39.913Z"
   },
   {
    "duration": 25,
    "start_time": "2023-02-25T15:00:51.497Z"
   },
   {
    "duration": 79,
    "start_time": "2023-02-25T15:05:52.674Z"
   },
   {
    "duration": 75,
    "start_time": "2023-02-25T15:16:28.477Z"
   },
   {
    "duration": 3,
    "start_time": "2023-02-25T15:16:36.268Z"
   },
   {
    "duration": 1566,
    "start_time": "2023-02-25T15:16:36.273Z"
   },
   {
    "duration": 12,
    "start_time": "2023-02-25T15:16:37.844Z"
   },
   {
    "duration": 14,
    "start_time": "2023-02-25T15:16:37.858Z"
   },
   {
    "duration": 13,
    "start_time": "2023-02-25T15:16:37.874Z"
   },
   {
    "duration": 56,
    "start_time": "2023-02-25T15:16:37.888Z"
   },
   {
    "duration": 13,
    "start_time": "2023-02-25T15:16:37.949Z"
   },
   {
    "duration": 8,
    "start_time": "2023-02-25T15:16:37.964Z"
   },
   {
    "duration": 7,
    "start_time": "2023-02-25T15:16:37.974Z"
   },
   {
    "duration": 81,
    "start_time": "2023-02-25T15:16:37.982Z"
   },
   {
    "duration": 6,
    "start_time": "2023-02-25T15:16:38.066Z"
   },
   {
    "duration": 14,
    "start_time": "2023-02-25T15:16:38.073Z"
   },
   {
    "duration": 11,
    "start_time": "2023-02-25T15:16:38.088Z"
   },
   {
    "duration": 4,
    "start_time": "2023-02-25T15:16:38.101Z"
   },
   {
    "duration": 31,
    "start_time": "2023-02-25T15:16:38.106Z"
   },
   {
    "duration": 12,
    "start_time": "2023-02-25T15:16:38.141Z"
   },
   {
    "duration": 6,
    "start_time": "2023-02-25T15:16:38.155Z"
   },
   {
    "duration": 6,
    "start_time": "2023-02-25T15:16:38.163Z"
   },
   {
    "duration": 9,
    "start_time": "2023-02-25T15:16:38.171Z"
   },
   {
    "duration": 12,
    "start_time": "2023-02-25T15:16:38.181Z"
   },
   {
    "duration": 46,
    "start_time": "2023-02-25T15:16:38.195Z"
   },
   {
    "duration": 13,
    "start_time": "2023-02-25T15:16:38.244Z"
   },
   {
    "duration": 9,
    "start_time": "2023-02-25T15:16:38.259Z"
   },
   {
    "duration": 13,
    "start_time": "2023-02-25T15:16:38.270Z"
   },
   {
    "duration": 18,
    "start_time": "2023-02-25T15:16:38.285Z"
   },
   {
    "duration": 4,
    "start_time": "2023-02-25T15:16:38.304Z"
   },
   {
    "duration": 38,
    "start_time": "2023-02-25T15:16:38.309Z"
   },
   {
    "duration": 32,
    "start_time": "2023-02-25T15:16:38.350Z"
   },
   {
    "duration": 28,
    "start_time": "2023-02-25T15:16:38.386Z"
   },
   {
    "duration": 2742,
    "start_time": "2023-02-25T15:16:38.417Z"
   },
   {
    "duration": 215,
    "start_time": "2023-02-25T15:16:41.162Z"
   },
   {
    "duration": 370,
    "start_time": "2023-02-25T15:16:41.379Z"
   },
   {
    "duration": 215,
    "start_time": "2023-02-25T15:16:41.754Z"
   },
   {
    "duration": 185,
    "start_time": "2023-02-25T15:16:41.970Z"
   },
   {
    "duration": 147,
    "start_time": "2023-02-25T15:16:42.158Z"
   },
   {
    "duration": 185,
    "start_time": "2023-02-25T15:16:42.306Z"
   },
   {
    "duration": 205,
    "start_time": "2023-02-25T15:16:42.493Z"
   },
   {
    "duration": 174,
    "start_time": "2023-02-25T15:16:42.700Z"
   },
   {
    "duration": 28,
    "start_time": "2023-02-25T15:16:42.876Z"
   },
   {
    "duration": 51,
    "start_time": "2023-02-25T15:16:42.906Z"
   },
   {
    "duration": 26,
    "start_time": "2023-02-25T15:16:42.959Z"
   },
   {
    "duration": 51,
    "start_time": "2023-02-25T15:16:42.987Z"
   },
   {
    "duration": 32,
    "start_time": "2023-02-25T15:16:43.040Z"
   },
   {
    "duration": 29,
    "start_time": "2023-02-25T15:16:43.074Z"
   },
   {
    "duration": 54,
    "start_time": "2023-02-25T15:16:43.105Z"
   },
   {
    "duration": 8,
    "start_time": "2023-02-25T15:16:43.161Z"
   },
   {
    "duration": 8,
    "start_time": "2023-02-25T15:16:43.171Z"
   },
   {
    "duration": 12,
    "start_time": "2023-02-25T15:16:43.181Z"
   },
   {
    "duration": 8,
    "start_time": "2023-02-25T15:16:43.194Z"
   },
   {
    "duration": 54,
    "start_time": "2023-02-25T15:16:43.203Z"
   },
   {
    "duration": 23,
    "start_time": "2023-02-25T15:16:43.259Z"
   },
   {
    "duration": 23,
    "start_time": "2023-02-25T15:16:43.283Z"
   },
   {
    "duration": 48,
    "start_time": "2023-02-25T15:16:43.307Z"
   },
   {
    "duration": 24,
    "start_time": "2023-02-25T15:16:43.358Z"
   },
   {
    "duration": 25,
    "start_time": "2023-02-25T15:16:43.384Z"
   },
   {
    "duration": 66,
    "start_time": "2023-02-25T15:16:43.410Z"
   },
   {
    "duration": 1424,
    "start_time": "2023-02-26T20:36:53.962Z"
   },
   {
    "duration": 1672,
    "start_time": "2023-02-26T20:36:55.388Z"
   },
   {
    "duration": 26,
    "start_time": "2023-02-26T20:36:57.062Z"
   },
   {
    "duration": 24,
    "start_time": "2023-02-26T20:36:57.090Z"
   },
   {
    "duration": 30,
    "start_time": "2023-02-26T20:36:57.116Z"
   },
   {
    "duration": 64,
    "start_time": "2023-02-26T20:36:57.149Z"
   },
   {
    "duration": 25,
    "start_time": "2023-02-26T20:36:57.217Z"
   },
   {
    "duration": 16,
    "start_time": "2023-02-26T20:36:57.245Z"
   },
   {
    "duration": 27,
    "start_time": "2023-02-26T20:36:57.263Z"
   },
   {
    "duration": 115,
    "start_time": "2023-02-26T20:36:57.297Z"
   },
   {
    "duration": 8,
    "start_time": "2023-02-26T20:36:57.414Z"
   },
   {
    "duration": 13,
    "start_time": "2023-02-26T20:36:57.424Z"
   },
   {
    "duration": 11,
    "start_time": "2023-02-26T20:36:57.439Z"
   },
   {
    "duration": 5,
    "start_time": "2023-02-26T20:36:57.454Z"
   },
   {
    "duration": 45,
    "start_time": "2023-02-26T20:36:57.461Z"
   },
   {
    "duration": 15,
    "start_time": "2023-02-26T20:36:57.510Z"
   },
   {
    "duration": 10,
    "start_time": "2023-02-26T20:36:57.527Z"
   },
   {
    "duration": 8,
    "start_time": "2023-02-26T20:36:57.539Z"
   },
   {
    "duration": 9,
    "start_time": "2023-02-26T20:36:57.549Z"
   },
   {
    "duration": 8,
    "start_time": "2023-02-26T20:36:57.560Z"
   },
   {
    "duration": 61,
    "start_time": "2023-02-26T20:36:57.570Z"
   },
   {
    "duration": 6,
    "start_time": "2023-02-26T20:36:57.633Z"
   },
   {
    "duration": 7,
    "start_time": "2023-02-26T20:36:57.641Z"
   },
   {
    "duration": 20,
    "start_time": "2023-02-26T20:36:57.650Z"
   },
   {
    "duration": 51,
    "start_time": "2023-02-26T20:36:57.672Z"
   },
   {
    "duration": 4,
    "start_time": "2023-02-26T20:36:57.725Z"
   },
   {
    "duration": 19,
    "start_time": "2023-02-26T20:36:57.731Z"
   },
   {
    "duration": 40,
    "start_time": "2023-02-26T20:36:57.753Z"
   },
   {
    "duration": 37,
    "start_time": "2023-02-26T20:36:57.794Z"
   },
   {
    "duration": 2704,
    "start_time": "2023-02-26T20:36:57.833Z"
   },
   {
    "duration": 231,
    "start_time": "2023-02-26T20:37:00.540Z"
   },
   {
    "duration": 381,
    "start_time": "2023-02-26T20:37:00.773Z"
   },
   {
    "duration": 208,
    "start_time": "2023-02-26T20:37:01.156Z"
   },
   {
    "duration": 290,
    "start_time": "2023-02-26T20:37:01.367Z"
   },
   {
    "duration": 174,
    "start_time": "2023-02-26T20:37:01.659Z"
   },
   {
    "duration": 193,
    "start_time": "2023-02-26T20:37:01.835Z"
   },
   {
    "duration": 221,
    "start_time": "2023-02-26T20:37:02.030Z"
   },
   {
    "duration": 173,
    "start_time": "2023-02-26T20:37:02.253Z"
   },
   {
    "duration": 30,
    "start_time": "2023-02-26T20:37:02.429Z"
   },
   {
    "duration": 51,
    "start_time": "2023-02-26T20:37:02.461Z"
   },
   {
    "duration": 48,
    "start_time": "2023-02-26T20:37:02.516Z"
   },
   {
    "duration": 144,
    "start_time": "2023-02-26T20:37:02.566Z"
   },
   {
    "duration": 30,
    "start_time": "2023-02-26T20:37:02.712Z"
   },
   {
    "duration": 31,
    "start_time": "2023-02-26T20:37:02.743Z"
   },
   {
    "duration": 32,
    "start_time": "2023-02-26T20:37:02.793Z"
   },
   {
    "duration": 9,
    "start_time": "2023-02-26T20:37:02.826Z"
   },
   {
    "duration": 24,
    "start_time": "2023-02-26T20:37:02.837Z"
   },
   {
    "duration": 21,
    "start_time": "2023-02-26T20:37:02.864Z"
   },
   {
    "duration": 35,
    "start_time": "2023-02-26T20:37:02.887Z"
   },
   {
    "duration": 55,
    "start_time": "2023-02-26T20:37:02.924Z"
   },
   {
    "duration": 75,
    "start_time": "2023-02-26T20:37:02.981Z"
   },
   {
    "duration": 58,
    "start_time": "2023-02-26T20:37:03.058Z"
   },
   {
    "duration": 36,
    "start_time": "2023-02-26T20:37:03.118Z"
   },
   {
    "duration": 50,
    "start_time": "2023-02-26T20:37:03.156Z"
   },
   {
    "duration": 35,
    "start_time": "2023-02-26T20:37:03.213Z"
   },
   {
    "duration": 48,
    "start_time": "2023-02-26T20:37:03.250Z"
   },
   {
    "duration": 1178,
    "start_time": "2023-02-27T13:54:00.966Z"
   },
   {
    "duration": 1179,
    "start_time": "2023-02-27T13:54:02.146Z"
   },
   {
    "duration": 26,
    "start_time": "2023-02-27T13:54:03.327Z"
   },
   {
    "duration": 16,
    "start_time": "2023-02-27T13:54:03.355Z"
   },
   {
    "duration": 13,
    "start_time": "2023-02-27T13:54:03.373Z"
   },
   {
    "duration": 66,
    "start_time": "2023-02-27T13:54:03.388Z"
   },
   {
    "duration": 12,
    "start_time": "2023-02-27T13:54:03.456Z"
   },
   {
    "duration": 9,
    "start_time": "2023-02-27T13:54:03.470Z"
   },
   {
    "duration": 7,
    "start_time": "2023-02-27T13:54:03.480Z"
   },
   {
    "duration": 98,
    "start_time": "2023-02-27T13:54:03.489Z"
   },
   {
    "duration": 7,
    "start_time": "2023-02-27T13:54:03.589Z"
   },
   {
    "duration": 26,
    "start_time": "2023-02-27T13:54:03.597Z"
   },
   {
    "duration": 19,
    "start_time": "2023-02-27T13:54:03.625Z"
   },
   {
    "duration": 18,
    "start_time": "2023-02-27T13:54:03.647Z"
   },
   {
    "duration": 13,
    "start_time": "2023-02-27T13:54:03.667Z"
   },
   {
    "duration": 9,
    "start_time": "2023-02-27T13:54:03.682Z"
   },
   {
    "duration": 8,
    "start_time": "2023-02-27T13:54:03.693Z"
   },
   {
    "duration": 6,
    "start_time": "2023-02-27T13:54:03.702Z"
   },
   {
    "duration": 8,
    "start_time": "2023-02-27T13:54:03.710Z"
   },
   {
    "duration": 8,
    "start_time": "2023-02-27T13:54:03.720Z"
   },
   {
    "duration": 83,
    "start_time": "2023-02-27T13:54:03.730Z"
   },
   {
    "duration": 5,
    "start_time": "2023-02-27T13:54:03.814Z"
   },
   {
    "duration": 8,
    "start_time": "2023-02-27T13:54:03.820Z"
   },
   {
    "duration": 27,
    "start_time": "2023-02-27T13:54:03.830Z"
   },
   {
    "duration": 24,
    "start_time": "2023-02-27T13:54:03.859Z"
   },
   {
    "duration": 3,
    "start_time": "2023-02-27T13:54:03.885Z"
   },
   {
    "duration": 35,
    "start_time": "2023-02-27T13:54:03.890Z"
   },
   {
    "duration": 33,
    "start_time": "2023-02-27T13:54:03.927Z"
   },
   {
    "duration": 31,
    "start_time": "2023-02-27T13:54:03.962Z"
   },
   {
    "duration": 2630,
    "start_time": "2023-02-27T13:54:03.995Z"
   },
   {
    "duration": 212,
    "start_time": "2023-02-27T13:54:06.627Z"
   },
   {
    "duration": 331,
    "start_time": "2023-02-27T13:54:06.840Z"
   },
   {
    "duration": 181,
    "start_time": "2023-02-27T13:54:07.172Z"
   },
   {
    "duration": 253,
    "start_time": "2023-02-27T13:54:07.355Z"
   },
   {
    "duration": 166,
    "start_time": "2023-02-27T13:54:07.610Z"
   },
   {
    "duration": 157,
    "start_time": "2023-02-27T13:54:07.778Z"
   },
   {
    "duration": 167,
    "start_time": "2023-02-27T13:54:07.937Z"
   },
   {
    "duration": 185,
    "start_time": "2023-02-27T13:54:08.106Z"
   },
   {
    "duration": 47,
    "start_time": "2023-02-27T13:54:08.293Z"
   },
   {
    "duration": 28,
    "start_time": "2023-02-27T13:54:08.342Z"
   },
   {
    "duration": 28,
    "start_time": "2023-02-27T13:54:08.373Z"
   },
   {
    "duration": 48,
    "start_time": "2023-02-27T13:54:08.402Z"
   },
   {
    "duration": 37,
    "start_time": "2023-02-27T13:54:08.452Z"
   },
   {
    "duration": 55,
    "start_time": "2023-02-27T13:54:08.491Z"
   },
   {
    "duration": 29,
    "start_time": "2023-02-27T13:54:08.548Z"
   },
   {
    "duration": 8,
    "start_time": "2023-02-27T13:54:08.579Z"
   },
   {
    "duration": 8,
    "start_time": "2023-02-27T13:54:08.589Z"
   },
   {
    "duration": 41,
    "start_time": "2023-02-27T13:54:08.598Z"
   },
   {
    "duration": 10,
    "start_time": "2023-02-27T13:54:08.641Z"
   },
   {
    "duration": 35,
    "start_time": "2023-02-27T13:54:08.653Z"
   },
   {
    "duration": 41,
    "start_time": "2023-02-27T13:54:08.690Z"
   },
   {
    "duration": 27,
    "start_time": "2023-02-27T13:54:08.733Z"
   },
   {
    "duration": 27,
    "start_time": "2023-02-27T13:54:08.762Z"
   },
   {
    "duration": 57,
    "start_time": "2023-02-27T13:54:08.791Z"
   },
   {
    "duration": 28,
    "start_time": "2023-02-27T13:54:08.850Z"
   },
   {
    "duration": 28,
    "start_time": "2023-02-27T13:54:08.880Z"
   },
   {
    "duration": 1372,
    "start_time": "2023-02-27T18:06:04.130Z"
   },
   {
    "duration": 1525,
    "start_time": "2023-02-27T18:06:05.504Z"
   },
   {
    "duration": 24,
    "start_time": "2023-02-27T18:06:07.030Z"
   },
   {
    "duration": 13,
    "start_time": "2023-02-27T18:06:07.055Z"
   },
   {
    "duration": 15,
    "start_time": "2023-02-27T18:06:07.070Z"
   },
   {
    "duration": 36,
    "start_time": "2023-02-27T18:06:07.086Z"
   },
   {
    "duration": 31,
    "start_time": "2023-02-27T18:06:07.124Z"
   },
   {
    "duration": 10,
    "start_time": "2023-02-27T18:06:07.157Z"
   },
   {
    "duration": 8,
    "start_time": "2023-02-27T18:06:07.168Z"
   },
   {
    "duration": 94,
    "start_time": "2023-02-27T18:06:07.177Z"
   },
   {
    "duration": 7,
    "start_time": "2023-02-27T18:06:07.272Z"
   },
   {
    "duration": 9,
    "start_time": "2023-02-27T18:06:07.281Z"
   },
   {
    "duration": 27,
    "start_time": "2023-02-27T18:06:07.292Z"
   },
   {
    "duration": 3,
    "start_time": "2023-02-27T18:06:07.322Z"
   },
   {
    "duration": 15,
    "start_time": "2023-02-27T18:06:07.327Z"
   },
   {
    "duration": 6,
    "start_time": "2023-02-27T18:06:07.344Z"
   },
   {
    "duration": 5,
    "start_time": "2023-02-27T18:06:07.352Z"
   },
   {
    "duration": 7,
    "start_time": "2023-02-27T18:06:07.359Z"
   },
   {
    "duration": 6,
    "start_time": "2023-02-27T18:06:07.368Z"
   },
   {
    "duration": 7,
    "start_time": "2023-02-27T18:06:07.375Z"
   },
   {
    "duration": 33,
    "start_time": "2023-02-27T18:06:07.384Z"
   },
   {
    "duration": 4,
    "start_time": "2023-02-27T18:06:07.419Z"
   },
   {
    "duration": 7,
    "start_time": "2023-02-27T18:06:07.448Z"
   },
   {
    "duration": 15,
    "start_time": "2023-02-27T18:06:07.457Z"
   },
   {
    "duration": 19,
    "start_time": "2023-02-27T18:06:07.473Z"
   },
   {
    "duration": 7,
    "start_time": "2023-02-27T18:06:07.493Z"
   },
   {
    "duration": 4,
    "start_time": "2023-02-27T18:06:07.501Z"
   },
   {
    "duration": 50,
    "start_time": "2023-02-27T18:06:07.507Z"
   },
   {
    "duration": 15,
    "start_time": "2023-02-27T18:06:07.558Z"
   },
   {
    "duration": 28,
    "start_time": "2023-02-27T18:06:07.575Z"
   },
   {
    "duration": 2326,
    "start_time": "2023-02-27T18:06:07.605Z"
   },
   {
    "duration": 165,
    "start_time": "2023-02-27T18:06:09.932Z"
   },
   {
    "duration": 273,
    "start_time": "2023-02-27T18:06:10.098Z"
   },
   {
    "duration": 147,
    "start_time": "2023-02-27T18:06:10.372Z"
   },
   {
    "duration": 217,
    "start_time": "2023-02-27T18:06:10.521Z"
   },
   {
    "duration": 139,
    "start_time": "2023-02-27T18:06:10.740Z"
   },
   {
    "duration": 141,
    "start_time": "2023-02-27T18:06:10.881Z"
   },
   {
    "duration": 141,
    "start_time": "2023-02-27T18:06:11.023Z"
   },
   {
    "duration": 151,
    "start_time": "2023-02-27T18:06:11.165Z"
   },
   {
    "duration": 36,
    "start_time": "2023-02-27T18:06:11.317Z"
   },
   {
    "duration": 23,
    "start_time": "2023-02-27T18:06:11.358Z"
   },
   {
    "duration": 37,
    "start_time": "2023-02-27T18:06:11.383Z"
   },
   {
    "duration": 35,
    "start_time": "2023-02-27T18:06:11.421Z"
   },
   {
    "duration": 25,
    "start_time": "2023-02-27T18:06:11.458Z"
   },
   {
    "duration": 27,
    "start_time": "2023-02-27T18:06:11.485Z"
   },
   {
    "duration": 43,
    "start_time": "2023-02-27T18:06:11.513Z"
   },
   {
    "duration": 7,
    "start_time": "2023-02-27T18:06:11.558Z"
   },
   {
    "duration": 10,
    "start_time": "2023-02-27T18:06:11.566Z"
   },
   {
    "duration": 8,
    "start_time": "2023-02-27T18:06:11.577Z"
   },
   {
    "duration": 6,
    "start_time": "2023-02-27T18:06:11.587Z"
   },
   {
    "duration": 21,
    "start_time": "2023-02-27T18:06:11.595Z"
   },
   {
    "duration": 51,
    "start_time": "2023-02-27T18:06:11.617Z"
   },
   {
    "duration": 22,
    "start_time": "2023-02-27T18:06:11.669Z"
   },
   {
    "duration": 22,
    "start_time": "2023-02-27T18:06:11.692Z"
   },
   {
    "duration": 46,
    "start_time": "2023-02-27T18:06:11.715Z"
   },
   {
    "duration": 21,
    "start_time": "2023-02-27T18:06:11.763Z"
   },
   {
    "duration": 23,
    "start_time": "2023-02-27T18:06:11.786Z"
   },
   {
    "duration": 20276,
    "start_time": "2023-02-27T18:06:27.762Z"
   },
   {
    "duration": 6,
    "start_time": "2023-02-27T18:07:44.056Z"
   },
   {
    "duration": 8,
    "start_time": "2023-02-27T18:08:09.952Z"
   },
   {
    "duration": 7,
    "start_time": "2023-02-27T18:08:24.460Z"
   },
   {
    "duration": 8,
    "start_time": "2023-02-27T18:08:52.368Z"
   },
   {
    "duration": 666,
    "start_time": "2023-02-27T18:09:14.936Z"
   },
   {
    "duration": 872,
    "start_time": "2023-02-27T18:09:34.948Z"
   },
   {
    "duration": 7,
    "start_time": "2023-02-27T18:10:08.144Z"
   },
   {
    "duration": 10,
    "start_time": "2023-02-27T18:10:16.017Z"
   },
   {
    "duration": 12,
    "start_time": "2023-02-27T18:10:28.954Z"
   },
   {
    "duration": 791,
    "start_time": "2023-02-27T18:10:35.787Z"
   },
   {
    "duration": 100,
    "start_time": "2023-02-27T18:11:00.511Z"
   },
   {
    "duration": 670,
    "start_time": "2023-02-27T18:11:08.227Z"
   },
   {
    "duration": 827,
    "start_time": "2023-02-27T18:11:28.161Z"
   },
   {
    "duration": 11,
    "start_time": "2023-02-27T18:11:34.617Z"
   },
   {
    "duration": 16,
    "start_time": "2023-02-27T18:12:23.609Z"
   },
   {
    "duration": 9,
    "start_time": "2023-02-27T18:12:45.680Z"
   },
   {
    "duration": 791,
    "start_time": "2023-02-27T18:12:59.623Z"
   },
   {
    "duration": 11,
    "start_time": "2023-02-27T18:14:21.843Z"
   },
   {
    "duration": 8,
    "start_time": "2023-02-27T18:14:35.941Z"
   },
   {
    "duration": 13,
    "start_time": "2023-02-27T18:14:53.587Z"
   },
   {
    "duration": 29,
    "start_time": "2023-02-27T18:15:18.904Z"
   },
   {
    "duration": 12,
    "start_time": "2023-02-27T18:16:28.464Z"
   },
   {
    "duration": 43,
    "start_time": "2023-02-27T18:16:52.633Z"
   },
   {
    "duration": 18,
    "start_time": "2023-02-27T18:17:03.281Z"
   },
   {
    "duration": 796,
    "start_time": "2023-02-27T18:17:09.704Z"
   },
   {
    "duration": 722,
    "start_time": "2023-02-27T18:17:43.260Z"
   },
   {
    "duration": 947,
    "start_time": "2023-02-27T18:18:48.420Z"
   },
   {
    "duration": 3,
    "start_time": "2023-02-27T18:23:12.934Z"
   },
   {
    "duration": 19,
    "start_time": "2023-02-27T18:23:17.495Z"
   },
   {
    "duration": 26,
    "start_time": "2023-02-27T18:23:28.439Z"
   },
   {
    "duration": 1074,
    "start_time": "2023-02-27T18:23:43.898Z"
   },
   {
    "duration": 833,
    "start_time": "2023-02-27T18:23:44.973Z"
   },
   {
    "duration": 15,
    "start_time": "2023-02-27T18:23:45.808Z"
   },
   {
    "duration": 19,
    "start_time": "2023-02-27T18:23:45.825Z"
   },
   {
    "duration": 27,
    "start_time": "2023-02-27T18:23:45.845Z"
   },
   {
    "duration": 38,
    "start_time": "2023-02-27T18:23:45.873Z"
   },
   {
    "duration": 11,
    "start_time": "2023-02-27T18:23:45.913Z"
   },
   {
    "duration": 11,
    "start_time": "2023-02-27T18:23:45.925Z"
   },
   {
    "duration": 23,
    "start_time": "2023-02-27T18:23:45.937Z"
   },
   {
    "duration": 72,
    "start_time": "2023-02-27T18:23:45.963Z"
   },
   {
    "duration": 5,
    "start_time": "2023-02-27T18:23:46.037Z"
   },
   {
    "duration": 27,
    "start_time": "2023-02-27T18:23:46.043Z"
   },
   {
    "duration": 8,
    "start_time": "2023-02-27T18:23:46.071Z"
   },
   {
    "duration": 3,
    "start_time": "2023-02-27T18:23:46.080Z"
   },
   {
    "duration": 6,
    "start_time": "2023-02-27T18:23:46.084Z"
   },
   {
    "duration": 5,
    "start_time": "2023-02-27T18:23:46.091Z"
   },
   {
    "duration": 14,
    "start_time": "2023-02-27T18:23:46.098Z"
   },
   {
    "duration": 14,
    "start_time": "2023-02-27T18:23:46.113Z"
   },
   {
    "duration": 8,
    "start_time": "2023-02-27T18:23:46.128Z"
   },
   {
    "duration": 25,
    "start_time": "2023-02-27T18:23:46.137Z"
   },
   {
    "duration": 32,
    "start_time": "2023-02-27T18:23:46.163Z"
   },
   {
    "duration": 4,
    "start_time": "2023-02-27T18:23:46.196Z"
   },
   {
    "duration": 8,
    "start_time": "2023-02-27T18:23:46.201Z"
   },
   {
    "duration": 12,
    "start_time": "2023-02-27T18:23:46.211Z"
   },
   {
    "duration": 26,
    "start_time": "2023-02-27T18:23:46.225Z"
   },
   {
    "duration": 722,
    "start_time": "2023-02-27T18:23:46.253Z"
   },
   {
    "duration": 3,
    "start_time": "2023-02-27T18:23:46.976Z"
   },
   {
    "duration": 23,
    "start_time": "2023-02-27T18:23:46.982Z"
   },
   {
    "duration": 17,
    "start_time": "2023-02-27T18:23:47.006Z"
   },
   {
    "duration": 29,
    "start_time": "2023-02-27T18:23:47.024Z"
   },
   {
    "duration": 2455,
    "start_time": "2023-02-27T18:23:47.055Z"
   },
   {
    "duration": 400,
    "start_time": "2023-02-27T18:23:49.548Z"
   },
   {
    "duration": 640,
    "start_time": "2023-02-27T18:23:49.951Z"
   },
   {
    "duration": 426,
    "start_time": "2023-02-27T18:23:50.593Z"
   },
   {
    "duration": 174,
    "start_time": "2023-02-27T18:23:51.021Z"
   },
   {
    "duration": 155,
    "start_time": "2023-02-27T18:23:51.196Z"
   },
   {
    "duration": 170,
    "start_time": "2023-02-27T18:23:51.353Z"
   },
   {
    "duration": 163,
    "start_time": "2023-02-27T18:23:51.525Z"
   },
   {
    "duration": 181,
    "start_time": "2023-02-27T18:23:51.689Z"
   },
   {
    "duration": 29,
    "start_time": "2023-02-27T18:23:51.871Z"
   },
   {
    "duration": 27,
    "start_time": "2023-02-27T18:23:51.902Z"
   },
   {
    "duration": 33,
    "start_time": "2023-02-27T18:23:51.953Z"
   },
   {
    "duration": 29,
    "start_time": "2023-02-27T18:23:51.987Z"
   },
   {
    "duration": 48,
    "start_time": "2023-02-27T18:23:52.018Z"
   },
   {
    "duration": 32,
    "start_time": "2023-02-27T18:23:52.067Z"
   },
   {
    "duration": 49,
    "start_time": "2023-02-27T18:23:52.101Z"
   },
   {
    "duration": 14,
    "start_time": "2023-02-27T18:23:52.152Z"
   },
   {
    "duration": 10,
    "start_time": "2023-02-27T18:23:52.168Z"
   },
   {
    "duration": 8,
    "start_time": "2023-02-27T18:23:52.180Z"
   },
   {
    "duration": 10,
    "start_time": "2023-02-27T18:23:52.189Z"
   },
   {
    "duration": 37,
    "start_time": "2023-02-27T18:23:52.200Z"
   },
   {
    "duration": 31,
    "start_time": "2023-02-27T18:23:52.248Z"
   },
   {
    "duration": 25,
    "start_time": "2023-02-27T18:23:52.281Z"
   },
   {
    "duration": 51,
    "start_time": "2023-02-27T18:23:52.308Z"
   },
   {
    "duration": 24,
    "start_time": "2023-02-27T18:23:52.361Z"
   },
   {
    "duration": 24,
    "start_time": "2023-02-27T18:23:52.386Z"
   },
   {
    "duration": 53,
    "start_time": "2023-02-27T18:23:52.412Z"
   },
   {
    "duration": 103,
    "start_time": "2023-02-27T18:25:23.035Z"
   },
   {
    "duration": 12,
    "start_time": "2023-02-27T18:26:02.260Z"
   },
   {
    "duration": 13,
    "start_time": "2023-02-27T18:26:11.296Z"
   },
   {
    "duration": 17,
    "start_time": "2023-02-27T18:26:16.391Z"
   },
   {
    "duration": 26,
    "start_time": "2023-02-27T18:26:31.930Z"
   },
   {
    "duration": 13,
    "start_time": "2023-02-27T18:26:57.914Z"
   },
   {
    "duration": 4,
    "start_time": "2023-02-27T18:27:00.165Z"
   },
   {
    "duration": 1049,
    "start_time": "2023-02-27T18:27:00.171Z"
   },
   {
    "duration": 10,
    "start_time": "2023-02-27T18:27:01.222Z"
   },
   {
    "duration": 50,
    "start_time": "2023-02-27T18:27:01.234Z"
   },
   {
    "duration": 42,
    "start_time": "2023-02-27T18:27:01.286Z"
   },
   {
    "duration": 92,
    "start_time": "2023-02-27T18:27:01.329Z"
   },
   {
    "duration": 11,
    "start_time": "2023-02-27T18:27:01.423Z"
   },
   {
    "duration": 36,
    "start_time": "2023-02-27T18:27:01.436Z"
   },
   {
    "duration": 42,
    "start_time": "2023-02-27T18:27:01.473Z"
   },
   {
    "duration": 102,
    "start_time": "2023-02-27T18:27:01.517Z"
   },
   {
    "duration": 6,
    "start_time": "2023-02-27T18:27:01.621Z"
   },
   {
    "duration": 43,
    "start_time": "2023-02-27T18:27:01.628Z"
   },
   {
    "duration": 12,
    "start_time": "2023-02-27T18:27:01.673Z"
   },
   {
    "duration": 17,
    "start_time": "2023-02-27T18:27:01.687Z"
   },
   {
    "duration": 27,
    "start_time": "2023-02-27T18:27:01.705Z"
   },
   {
    "duration": 31,
    "start_time": "2023-02-27T18:27:01.733Z"
   },
   {
    "duration": 33,
    "start_time": "2023-02-27T18:27:01.766Z"
   },
   {
    "duration": 14,
    "start_time": "2023-02-27T18:27:01.800Z"
   },
   {
    "duration": 24,
    "start_time": "2023-02-27T18:27:01.816Z"
   },
   {
    "duration": 39,
    "start_time": "2023-02-27T18:27:01.842Z"
   },
   {
    "duration": 56,
    "start_time": "2023-02-27T18:27:01.883Z"
   },
   {
    "duration": 48,
    "start_time": "2023-02-27T18:27:01.941Z"
   },
   {
    "duration": 32,
    "start_time": "2023-02-27T18:27:01.991Z"
   },
   {
    "duration": 38,
    "start_time": "2023-02-27T18:27:02.024Z"
   },
   {
    "duration": 47,
    "start_time": "2023-02-27T18:27:02.064Z"
   },
   {
    "duration": 711,
    "start_time": "2023-02-27T18:27:02.113Z"
   },
   {
    "duration": 4,
    "start_time": "2023-02-27T18:27:02.825Z"
   },
   {
    "duration": 36,
    "start_time": "2023-02-27T18:27:02.831Z"
   },
   {
    "duration": 34,
    "start_time": "2023-02-27T18:27:02.871Z"
   },
   {
    "duration": 49,
    "start_time": "2023-02-27T18:27:02.907Z"
   },
   {
    "duration": 2316,
    "start_time": "2023-02-27T18:27:02.958Z"
   },
   {
    "duration": 204,
    "start_time": "2023-02-27T18:27:05.275Z"
   },
   {
    "duration": 316,
    "start_time": "2023-02-27T18:27:05.481Z"
   },
   {
    "duration": 162,
    "start_time": "2023-02-27T18:27:05.798Z"
   },
   {
    "duration": 155,
    "start_time": "2023-02-27T18:27:05.962Z"
   },
   {
    "duration": 149,
    "start_time": "2023-02-27T18:27:06.119Z"
   },
   {
    "duration": 155,
    "start_time": "2023-02-27T18:27:06.269Z"
   },
   {
    "duration": 149,
    "start_time": "2023-02-27T18:27:06.426Z"
   },
   {
    "duration": 226,
    "start_time": "2023-02-27T18:27:06.577Z"
   },
   {
    "duration": 28,
    "start_time": "2023-02-27T18:27:06.804Z"
   },
   {
    "duration": 29,
    "start_time": "2023-02-27T18:27:06.847Z"
   },
   {
    "duration": 23,
    "start_time": "2023-02-27T18:27:06.878Z"
   },
   {
    "duration": 24,
    "start_time": "2023-02-27T18:27:06.903Z"
   },
   {
    "duration": 32,
    "start_time": "2023-02-27T18:27:06.947Z"
   },
   {
    "duration": 30,
    "start_time": "2023-02-27T18:27:06.981Z"
   },
   {
    "duration": 53,
    "start_time": "2023-02-27T18:27:07.012Z"
   },
   {
    "duration": 7,
    "start_time": "2023-02-27T18:27:07.066Z"
   },
   {
    "duration": 10,
    "start_time": "2023-02-27T18:27:07.074Z"
   },
   {
    "duration": 6,
    "start_time": "2023-02-27T18:27:07.085Z"
   },
   {
    "duration": 9,
    "start_time": "2023-02-27T18:27:07.092Z"
   },
   {
    "duration": 53,
    "start_time": "2023-02-27T18:27:07.102Z"
   },
   {
    "duration": 23,
    "start_time": "2023-02-27T18:27:07.157Z"
   },
   {
    "duration": 21,
    "start_time": "2023-02-27T18:27:07.182Z"
   },
   {
    "duration": 21,
    "start_time": "2023-02-27T18:27:07.204Z"
   },
   {
    "duration": 46,
    "start_time": "2023-02-27T18:27:07.226Z"
   },
   {
    "duration": 26,
    "start_time": "2023-02-27T18:27:07.274Z"
   },
   {
    "duration": 55,
    "start_time": "2023-02-27T18:27:07.302Z"
   },
   {
    "duration": 19,
    "start_time": "2023-02-27T18:28:05.098Z"
   },
   {
    "duration": 12,
    "start_time": "2023-02-27T18:28:23.071Z"
   },
   {
    "duration": 12,
    "start_time": "2023-02-27T18:28:29.316Z"
   },
   {
    "duration": 3,
    "start_time": "2023-02-27T18:28:36.634Z"
   },
   {
    "duration": 937,
    "start_time": "2023-02-27T18:28:36.639Z"
   },
   {
    "duration": 11,
    "start_time": "2023-02-27T18:28:37.577Z"
   },
   {
    "duration": 11,
    "start_time": "2023-02-27T18:28:37.589Z"
   },
   {
    "duration": 13,
    "start_time": "2023-02-27T18:28:37.602Z"
   },
   {
    "duration": 41,
    "start_time": "2023-02-27T18:28:37.616Z"
   },
   {
    "duration": 10,
    "start_time": "2023-02-27T18:28:37.659Z"
   },
   {
    "duration": 9,
    "start_time": "2023-02-27T18:28:37.670Z"
   },
   {
    "duration": 6,
    "start_time": "2023-02-27T18:28:37.682Z"
   },
   {
    "duration": 98,
    "start_time": "2023-02-27T18:28:37.689Z"
   },
   {
    "duration": 8,
    "start_time": "2023-02-27T18:28:37.789Z"
   },
   {
    "duration": 13,
    "start_time": "2023-02-27T18:28:37.798Z"
   },
   {
    "duration": 7,
    "start_time": "2023-02-27T18:28:37.813Z"
   },
   {
    "duration": 3,
    "start_time": "2023-02-27T18:28:37.822Z"
   },
   {
    "duration": 15,
    "start_time": "2023-02-27T18:28:37.827Z"
   },
   {
    "duration": 8,
    "start_time": "2023-02-27T18:28:37.844Z"
   },
   {
    "duration": 18,
    "start_time": "2023-02-27T18:28:37.854Z"
   },
   {
    "duration": 16,
    "start_time": "2023-02-27T18:28:37.874Z"
   },
   {
    "duration": 9,
    "start_time": "2023-02-27T18:28:37.891Z"
   },
   {
    "duration": 6,
    "start_time": "2023-02-27T18:28:37.902Z"
   },
   {
    "duration": 52,
    "start_time": "2023-02-27T18:28:37.909Z"
   },
   {
    "duration": 5,
    "start_time": "2023-02-27T18:28:37.962Z"
   },
   {
    "duration": 15,
    "start_time": "2023-02-27T18:28:37.969Z"
   },
   {
    "duration": 13,
    "start_time": "2023-02-27T18:28:37.987Z"
   },
   {
    "duration": 23,
    "start_time": "2023-02-27T18:28:38.001Z"
   },
   {
    "duration": 744,
    "start_time": "2023-02-27T18:28:38.025Z"
   },
   {
    "duration": 3,
    "start_time": "2023-02-27T18:28:38.771Z"
   },
   {
    "duration": 22,
    "start_time": "2023-02-27T18:28:38.776Z"
   },
   {
    "duration": 14,
    "start_time": "2023-02-27T18:28:38.800Z"
   },
   {
    "duration": 25,
    "start_time": "2023-02-27T18:28:38.815Z"
   },
   {
    "duration": 3372,
    "start_time": "2023-02-27T18:28:38.849Z"
   },
   {
    "duration": 181,
    "start_time": "2023-02-27T18:28:42.223Z"
   },
   {
    "duration": 299,
    "start_time": "2023-02-27T18:28:42.405Z"
   },
   {
    "duration": 254,
    "start_time": "2023-02-27T18:28:42.706Z"
   },
   {
    "duration": 157,
    "start_time": "2023-02-27T18:28:42.963Z"
   },
   {
    "duration": 144,
    "start_time": "2023-02-27T18:28:43.122Z"
   },
   {
    "duration": 139,
    "start_time": "2023-02-27T18:28:43.267Z"
   },
   {
    "duration": 153,
    "start_time": "2023-02-27T18:28:43.408Z"
   },
   {
    "duration": 158,
    "start_time": "2023-02-27T18:28:43.563Z"
   },
   {
    "duration": 39,
    "start_time": "2023-02-27T18:28:43.723Z"
   },
   {
    "duration": 25,
    "start_time": "2023-02-27T18:28:43.763Z"
   },
   {
    "duration": 23,
    "start_time": "2023-02-27T18:28:43.789Z"
   },
   {
    "duration": 54,
    "start_time": "2023-02-27T18:28:43.813Z"
   },
   {
    "duration": 28,
    "start_time": "2023-02-27T18:28:43.869Z"
   },
   {
    "duration": 30,
    "start_time": "2023-02-27T18:28:43.898Z"
   },
   {
    "duration": 35,
    "start_time": "2023-02-27T18:28:43.947Z"
   },
   {
    "duration": 7,
    "start_time": "2023-02-27T18:28:43.983Z"
   },
   {
    "duration": 7,
    "start_time": "2023-02-27T18:28:43.991Z"
   },
   {
    "duration": 7,
    "start_time": "2023-02-27T18:28:43.999Z"
   },
   {
    "duration": 8,
    "start_time": "2023-02-27T18:28:44.007Z"
   },
   {
    "duration": 57,
    "start_time": "2023-02-27T18:28:44.017Z"
   },
   {
    "duration": 23,
    "start_time": "2023-02-27T18:28:44.076Z"
   },
   {
    "duration": 49,
    "start_time": "2023-02-27T18:28:44.100Z"
   },
   {
    "duration": 29,
    "start_time": "2023-02-27T18:28:44.150Z"
   },
   {
    "duration": 27,
    "start_time": "2023-02-27T18:28:44.180Z"
   },
   {
    "duration": 50,
    "start_time": "2023-02-27T18:28:44.208Z"
   },
   {
    "duration": 21,
    "start_time": "2023-02-27T18:28:44.260Z"
   },
   {
    "duration": 4,
    "start_time": "2023-02-27T18:28:46.785Z"
   },
   {
    "duration": 13,
    "start_time": "2023-02-27T18:29:14.042Z"
   },
   {
    "duration": 12,
    "start_time": "2023-02-27T18:29:19.978Z"
   },
   {
    "duration": 12,
    "start_time": "2023-02-27T18:29:22.299Z"
   },
   {
    "duration": 3,
    "start_time": "2023-02-27T18:29:29.284Z"
   },
   {
    "duration": 906,
    "start_time": "2023-02-27T18:29:29.289Z"
   },
   {
    "duration": 11,
    "start_time": "2023-02-27T18:29:30.197Z"
   },
   {
    "duration": 16,
    "start_time": "2023-02-27T18:29:30.209Z"
   },
   {
    "duration": 10,
    "start_time": "2023-02-27T18:29:30.227Z"
   },
   {
    "duration": 57,
    "start_time": "2023-02-27T18:29:30.239Z"
   },
   {
    "duration": 9,
    "start_time": "2023-02-27T18:29:30.298Z"
   },
   {
    "duration": 32,
    "start_time": "2023-02-27T18:29:30.308Z"
   },
   {
    "duration": 57,
    "start_time": "2023-02-27T18:29:30.342Z"
   },
   {
    "duration": 70,
    "start_time": "2023-02-27T18:29:30.400Z"
   },
   {
    "duration": 7,
    "start_time": "2023-02-27T18:29:30.473Z"
   },
   {
    "duration": 37,
    "start_time": "2023-02-27T18:29:30.481Z"
   },
   {
    "duration": 54,
    "start_time": "2023-02-27T18:29:30.520Z"
   },
   {
    "duration": 37,
    "start_time": "2023-02-27T18:29:30.578Z"
   },
   {
    "duration": 20,
    "start_time": "2023-02-27T18:29:30.617Z"
   },
   {
    "duration": 56,
    "start_time": "2023-02-27T18:29:30.639Z"
   },
   {
    "duration": 23,
    "start_time": "2023-02-27T18:29:30.697Z"
   },
   {
    "duration": 53,
    "start_time": "2023-02-27T18:29:30.721Z"
   },
   {
    "duration": 46,
    "start_time": "2023-02-27T18:29:30.776Z"
   },
   {
    "duration": 50,
    "start_time": "2023-02-27T18:29:30.824Z"
   },
   {
    "duration": 71,
    "start_time": "2023-02-27T18:29:30.876Z"
   },
   {
    "duration": 18,
    "start_time": "2023-02-27T18:29:30.949Z"
   },
   {
    "duration": 27,
    "start_time": "2023-02-27T18:29:30.968Z"
   },
   {
    "duration": 26,
    "start_time": "2023-02-27T18:29:30.997Z"
   },
   {
    "duration": 52,
    "start_time": "2023-02-27T18:29:31.025Z"
   },
   {
    "duration": 922,
    "start_time": "2023-02-27T18:29:31.079Z"
   },
   {
    "duration": 4,
    "start_time": "2023-02-27T18:29:32.003Z"
   },
   {
    "duration": 55,
    "start_time": "2023-02-27T18:29:32.009Z"
   },
   {
    "duration": 33,
    "start_time": "2023-02-27T18:29:32.069Z"
   },
   {
    "duration": 33,
    "start_time": "2023-02-27T18:29:32.104Z"
   },
   {
    "duration": 3653,
    "start_time": "2023-02-27T18:29:32.138Z"
   },
   {
    "duration": 200,
    "start_time": "2023-02-27T18:29:35.793Z"
   },
   {
    "duration": 331,
    "start_time": "2023-02-27T18:29:35.995Z"
   },
   {
    "duration": 189,
    "start_time": "2023-02-27T18:29:36.328Z"
   },
   {
    "duration": 195,
    "start_time": "2023-02-27T18:29:36.519Z"
   },
   {
    "duration": 165,
    "start_time": "2023-02-27T18:29:36.716Z"
   },
   {
    "duration": 158,
    "start_time": "2023-02-27T18:29:36.885Z"
   },
   {
    "duration": 159,
    "start_time": "2023-02-27T18:29:37.045Z"
   },
   {
    "duration": 252,
    "start_time": "2023-02-27T18:29:37.206Z"
   },
   {
    "duration": 31,
    "start_time": "2023-02-27T18:29:37.461Z"
   },
   {
    "duration": 26,
    "start_time": "2023-02-27T18:29:37.494Z"
   },
   {
    "duration": 61,
    "start_time": "2023-02-27T18:29:37.521Z"
   },
   {
    "duration": 32,
    "start_time": "2023-02-27T18:29:37.584Z"
   },
   {
    "duration": 48,
    "start_time": "2023-02-27T18:29:37.617Z"
   },
   {
    "duration": 35,
    "start_time": "2023-02-27T18:29:37.667Z"
   },
   {
    "duration": 27,
    "start_time": "2023-02-27T18:29:37.703Z"
   },
   {
    "duration": 24,
    "start_time": "2023-02-27T18:29:37.731Z"
   },
   {
    "duration": 33,
    "start_time": "2023-02-27T18:29:37.757Z"
   },
   {
    "duration": 12,
    "start_time": "2023-02-27T18:29:37.791Z"
   },
   {
    "duration": 9,
    "start_time": "2023-02-27T18:29:37.805Z"
   },
   {
    "duration": 26,
    "start_time": "2023-02-27T18:29:37.815Z"
   },
   {
    "duration": 31,
    "start_time": "2023-02-27T18:29:37.842Z"
   },
   {
    "duration": 38,
    "start_time": "2023-02-27T18:29:37.876Z"
   },
   {
    "duration": 32,
    "start_time": "2023-02-27T18:29:37.916Z"
   },
   {
    "duration": 32,
    "start_time": "2023-02-27T18:29:37.949Z"
   },
   {
    "duration": 26,
    "start_time": "2023-02-27T18:29:37.983Z"
   },
   {
    "duration": 55,
    "start_time": "2023-02-27T18:29:38.010Z"
   },
   {
    "duration": 18,
    "start_time": "2023-02-27T18:29:38.070Z"
   },
   {
    "duration": 13,
    "start_time": "2023-02-27T18:29:46.833Z"
   },
   {
    "duration": 1173,
    "start_time": "2023-02-27T18:29:53.209Z"
   },
   {
    "duration": 888,
    "start_time": "2023-02-27T18:29:54.384Z"
   },
   {
    "duration": 18,
    "start_time": "2023-02-27T18:29:55.275Z"
   },
   {
    "duration": 35,
    "start_time": "2023-02-27T18:29:55.296Z"
   },
   {
    "duration": 58,
    "start_time": "2023-02-27T18:29:55.333Z"
   },
   {
    "duration": 51,
    "start_time": "2023-02-27T18:29:55.392Z"
   },
   {
    "duration": 15,
    "start_time": "2023-02-27T18:29:55.444Z"
   },
   {
    "duration": 37,
    "start_time": "2023-02-27T18:29:55.461Z"
   },
   {
    "duration": 17,
    "start_time": "2023-02-27T18:29:55.500Z"
   },
   {
    "duration": 95,
    "start_time": "2023-02-27T18:29:55.520Z"
   },
   {
    "duration": 6,
    "start_time": "2023-02-27T18:29:55.617Z"
   },
   {
    "duration": 18,
    "start_time": "2023-02-27T18:29:55.624Z"
   },
   {
    "duration": 38,
    "start_time": "2023-02-27T18:29:55.643Z"
   },
   {
    "duration": 16,
    "start_time": "2023-02-27T18:29:55.682Z"
   },
   {
    "duration": 18,
    "start_time": "2023-02-27T18:29:55.700Z"
   },
   {
    "duration": 23,
    "start_time": "2023-02-27T18:29:55.720Z"
   },
   {
    "duration": 46,
    "start_time": "2023-02-27T18:29:55.744Z"
   },
   {
    "duration": 9,
    "start_time": "2023-02-27T18:29:55.792Z"
   },
   {
    "duration": 6,
    "start_time": "2023-02-27T18:29:55.802Z"
   },
   {
    "duration": 10,
    "start_time": "2023-02-27T18:29:55.810Z"
   },
   {
    "duration": 52,
    "start_time": "2023-02-27T18:29:55.821Z"
   },
   {
    "duration": 4,
    "start_time": "2023-02-27T18:29:55.876Z"
   },
   {
    "duration": 14,
    "start_time": "2023-02-27T18:29:55.882Z"
   },
   {
    "duration": 21,
    "start_time": "2023-02-27T18:29:55.898Z"
   },
   {
    "duration": 38,
    "start_time": "2023-02-27T18:29:55.920Z"
   },
   {
    "duration": 811,
    "start_time": "2023-02-27T18:29:55.966Z"
   },
   {
    "duration": 4,
    "start_time": "2023-02-27T18:29:56.779Z"
   },
   {
    "duration": 22,
    "start_time": "2023-02-27T18:29:56.787Z"
   },
   {
    "duration": 15,
    "start_time": "2023-02-27T18:29:56.812Z"
   },
   {
    "duration": 37,
    "start_time": "2023-02-27T18:29:56.828Z"
   },
   {
    "duration": 3576,
    "start_time": "2023-02-27T18:29:56.867Z"
   },
   {
    "duration": 192,
    "start_time": "2023-02-27T18:30:00.445Z"
   },
   {
    "duration": 322,
    "start_time": "2023-02-27T18:30:00.638Z"
   },
   {
    "duration": 264,
    "start_time": "2023-02-27T18:30:00.962Z"
   },
   {
    "duration": 176,
    "start_time": "2023-02-27T18:30:01.227Z"
   },
   {
    "duration": 165,
    "start_time": "2023-02-27T18:30:01.404Z"
   },
   {
    "duration": 167,
    "start_time": "2023-02-27T18:30:01.571Z"
   },
   {
    "duration": 167,
    "start_time": "2023-02-27T18:30:01.739Z"
   },
   {
    "duration": 198,
    "start_time": "2023-02-27T18:30:01.908Z"
   },
   {
    "duration": 41,
    "start_time": "2023-02-27T18:30:02.108Z"
   },
   {
    "duration": 42,
    "start_time": "2023-02-27T18:30:02.151Z"
   },
   {
    "duration": 61,
    "start_time": "2023-02-27T18:30:02.195Z"
   },
   {
    "duration": 42,
    "start_time": "2023-02-27T18:30:02.258Z"
   },
   {
    "duration": 35,
    "start_time": "2023-02-27T18:30:02.302Z"
   },
   {
    "duration": 39,
    "start_time": "2023-02-27T18:30:02.339Z"
   },
   {
    "duration": 46,
    "start_time": "2023-02-27T18:30:02.380Z"
   },
   {
    "duration": 20,
    "start_time": "2023-02-27T18:30:02.428Z"
   },
   {
    "duration": 51,
    "start_time": "2023-02-27T18:30:02.450Z"
   },
   {
    "duration": 68,
    "start_time": "2023-02-27T18:30:02.503Z"
   },
   {
    "duration": 102,
    "start_time": "2023-02-27T18:30:02.573Z"
   },
   {
    "duration": 58,
    "start_time": "2023-02-27T18:30:02.677Z"
   },
   {
    "duration": 92,
    "start_time": "2023-02-27T18:30:02.737Z"
   },
   {
    "duration": 84,
    "start_time": "2023-02-27T18:30:02.830Z"
   },
   {
    "duration": 35,
    "start_time": "2023-02-27T18:30:02.915Z"
   },
   {
    "duration": 64,
    "start_time": "2023-02-27T18:30:02.953Z"
   },
   {
    "duration": 78,
    "start_time": "2023-02-27T18:30:03.019Z"
   },
   {
    "duration": 64,
    "start_time": "2023-02-27T18:30:03.099Z"
   },
   {
    "duration": 148,
    "start_time": "2023-02-27T18:31:37.649Z"
   },
   {
    "duration": 16,
    "start_time": "2023-02-27T18:35:51.499Z"
   },
   {
    "duration": 26,
    "start_time": "2023-02-27T18:36:10.417Z"
   },
   {
    "duration": 23,
    "start_time": "2023-02-27T18:36:32.177Z"
   },
   {
    "duration": 31,
    "start_time": "2023-02-27T18:37:26.962Z"
   },
   {
    "duration": 27,
    "start_time": "2023-02-27T18:37:35.274Z"
   },
   {
    "duration": 26,
    "start_time": "2023-02-27T18:37:40.704Z"
   },
   {
    "duration": 28,
    "start_time": "2023-02-27T18:38:44.605Z"
   },
   {
    "duration": 34,
    "start_time": "2023-02-27T18:39:10.135Z"
   },
   {
    "duration": 20,
    "start_time": "2023-02-27T18:39:33.930Z"
   },
   {
    "duration": 36,
    "start_time": "2023-02-27T18:39:50.906Z"
   },
   {
    "duration": 31,
    "start_time": "2023-02-27T18:40:15.176Z"
   },
   {
    "duration": 24,
    "start_time": "2023-02-27T18:41:19.968Z"
   },
   {
    "duration": 29,
    "start_time": "2023-02-27T18:41:51.764Z"
   },
   {
    "duration": 28,
    "start_time": "2023-02-27T18:42:35.878Z"
   },
   {
    "duration": 24,
    "start_time": "2023-02-27T18:43:04.473Z"
   },
   {
    "duration": 21,
    "start_time": "2023-02-27T18:43:55.261Z"
   },
   {
    "duration": 23,
    "start_time": "2023-02-27T18:44:29.821Z"
   },
   {
    "duration": 23,
    "start_time": "2023-02-27T18:45:11.970Z"
   },
   {
    "duration": 31,
    "start_time": "2023-02-27T18:57:28.872Z"
   },
   {
    "duration": 7,
    "start_time": "2023-02-27T18:57:49.560Z"
   },
   {
    "duration": 6,
    "start_time": "2023-02-27T18:58:10.464Z"
   },
   {
    "duration": 5,
    "start_time": "2023-02-27T18:58:19.516Z"
   },
   {
    "duration": 6,
    "start_time": "2023-02-27T18:58:39.898Z"
   },
   {
    "duration": 29,
    "start_time": "2023-02-27T18:58:54.067Z"
   },
   {
    "duration": 7,
    "start_time": "2023-02-27T18:59:17.408Z"
   },
   {
    "duration": 7,
    "start_time": "2023-02-27T18:59:27.566Z"
   },
   {
    "duration": 31,
    "start_time": "2023-02-27T18:59:43.708Z"
   },
   {
    "duration": 5,
    "start_time": "2023-02-27T19:00:03.837Z"
   },
   {
    "duration": 1135,
    "start_time": "2023-02-27T19:02:57.814Z"
   },
   {
    "duration": 4,
    "start_time": "2023-02-27T19:03:06.364Z"
   },
   {
    "duration": 3,
    "start_time": "2023-02-27T19:03:11.823Z"
   },
   {
    "duration": 848,
    "start_time": "2023-02-27T19:03:11.828Z"
   },
   {
    "duration": 10,
    "start_time": "2023-02-27T19:03:12.678Z"
   },
   {
    "duration": 13,
    "start_time": "2023-02-27T19:03:12.690Z"
   },
   {
    "duration": 12,
    "start_time": "2023-02-27T19:03:12.705Z"
   },
   {
    "duration": 43,
    "start_time": "2023-02-27T19:03:12.718Z"
   },
   {
    "duration": 9,
    "start_time": "2023-02-27T19:03:12.763Z"
   },
   {
    "duration": 10,
    "start_time": "2023-02-27T19:03:12.773Z"
   },
   {
    "duration": 13,
    "start_time": "2023-02-27T19:03:12.785Z"
   },
   {
    "duration": 77,
    "start_time": "2023-02-27T19:03:12.800Z"
   },
   {
    "duration": 6,
    "start_time": "2023-02-27T19:03:12.881Z"
   },
   {
    "duration": 14,
    "start_time": "2023-02-27T19:03:12.889Z"
   },
   {
    "duration": 7,
    "start_time": "2023-02-27T19:03:12.905Z"
   },
   {
    "duration": 12,
    "start_time": "2023-02-27T19:03:12.913Z"
   },
   {
    "duration": 5,
    "start_time": "2023-02-27T19:03:12.927Z"
   },
   {
    "duration": 17,
    "start_time": "2023-02-27T19:03:12.934Z"
   },
   {
    "duration": 24,
    "start_time": "2023-02-27T19:03:12.953Z"
   },
   {
    "duration": 6,
    "start_time": "2023-02-27T19:03:12.979Z"
   },
   {
    "duration": 8,
    "start_time": "2023-02-27T19:03:12.987Z"
   },
   {
    "duration": 9,
    "start_time": "2023-02-27T19:03:12.997Z"
   },
   {
    "duration": 35,
    "start_time": "2023-02-27T19:03:13.008Z"
   },
   {
    "duration": 6,
    "start_time": "2023-02-27T19:03:13.045Z"
   },
   {
    "duration": 21,
    "start_time": "2023-02-27T19:03:13.053Z"
   },
   {
    "duration": 16,
    "start_time": "2023-02-27T19:03:13.075Z"
   },
   {
    "duration": 18,
    "start_time": "2023-02-27T19:03:13.092Z"
   },
   {
    "duration": 731,
    "start_time": "2023-02-27T19:03:13.112Z"
   },
   {
    "duration": 6,
    "start_time": "2023-02-27T19:03:13.844Z"
   },
   {
    "duration": 29,
    "start_time": "2023-02-27T19:03:13.851Z"
   },
   {
    "duration": 20,
    "start_time": "2023-02-27T19:03:13.883Z"
   },
   {
    "duration": 27,
    "start_time": "2023-02-27T19:03:13.905Z"
   },
   {
    "duration": 2451,
    "start_time": "2023-02-27T19:03:13.933Z"
   },
   {
    "duration": 187,
    "start_time": "2023-02-27T19:03:16.385Z"
   },
   {
    "duration": 302,
    "start_time": "2023-02-27T19:03:16.574Z"
   },
   {
    "duration": 161,
    "start_time": "2023-02-27T19:03:16.878Z"
   },
   {
    "duration": 165,
    "start_time": "2023-02-27T19:03:17.040Z"
   },
   {
    "duration": 150,
    "start_time": "2023-02-27T19:03:17.207Z"
   },
   {
    "duration": 157,
    "start_time": "2023-02-27T19:03:17.360Z"
   },
   {
    "duration": 234,
    "start_time": "2023-02-27T19:03:17.519Z"
   },
   {
    "duration": 157,
    "start_time": "2023-02-27T19:03:17.755Z"
   },
   {
    "duration": 34,
    "start_time": "2023-02-27T19:03:17.914Z"
   },
   {
    "duration": 24,
    "start_time": "2023-02-27T19:03:17.953Z"
   },
   {
    "duration": 35,
    "start_time": "2023-02-27T19:03:17.979Z"
   },
   {
    "duration": 45,
    "start_time": "2023-02-27T19:03:18.016Z"
   },
   {
    "duration": 27,
    "start_time": "2023-02-27T19:03:18.063Z"
   },
   {
    "duration": 26,
    "start_time": "2023-02-27T19:03:18.092Z"
   },
   {
    "duration": 54,
    "start_time": "2023-02-27T19:03:18.119Z"
   },
   {
    "duration": 6,
    "start_time": "2023-02-27T19:03:18.175Z"
   },
   {
    "duration": 35,
    "start_time": "2023-02-27T19:03:18.183Z"
   },
   {
    "duration": 11,
    "start_time": "2023-02-27T19:03:18.219Z"
   },
   {
    "duration": 9,
    "start_time": "2023-02-27T19:03:18.232Z"
   },
   {
    "duration": 31,
    "start_time": "2023-02-27T19:03:18.242Z"
   },
   {
    "duration": 27,
    "start_time": "2023-02-27T19:03:18.275Z"
   },
   {
    "duration": 21,
    "start_time": "2023-02-27T19:03:18.304Z"
   },
   {
    "duration": 41,
    "start_time": "2023-02-27T19:03:18.327Z"
   },
   {
    "duration": 23,
    "start_time": "2023-02-27T19:03:18.369Z"
   },
   {
    "duration": 22,
    "start_time": "2023-02-27T19:03:18.394Z"
   },
   {
    "duration": 49,
    "start_time": "2023-02-27T19:03:18.418Z"
   },
   {
    "duration": 16,
    "start_time": "2023-02-27T20:16:50.026Z"
   },
   {
    "duration": 16,
    "start_time": "2023-02-27T20:16:59.469Z"
   },
   {
    "duration": 32,
    "start_time": "2023-02-27T20:17:05.804Z"
   },
   {
    "duration": 12,
    "start_time": "2023-02-27T20:17:59.291Z"
   },
   {
    "duration": 8,
    "start_time": "2023-02-27T20:21:19.395Z"
   },
   {
    "duration": 10,
    "start_time": "2023-02-27T20:22:05.269Z"
   },
   {
    "duration": 293,
    "start_time": "2023-02-27T21:20:33.580Z"
   },
   {
    "duration": 313,
    "start_time": "2023-02-27T21:20:57.135Z"
   },
   {
    "duration": 160,
    "start_time": "2023-02-27T21:29:14.334Z"
   },
   {
    "duration": 3,
    "start_time": "2023-02-27T22:21:17.003Z"
   },
   {
    "duration": 943,
    "start_time": "2023-02-27T22:21:17.015Z"
   },
   {
    "duration": 11,
    "start_time": "2023-02-27T22:21:17.959Z"
   },
   {
    "duration": 25,
    "start_time": "2023-02-27T22:21:17.972Z"
   },
   {
    "duration": 31,
    "start_time": "2023-02-27T22:21:17.999Z"
   },
   {
    "duration": 59,
    "start_time": "2023-02-27T22:21:18.032Z"
   },
   {
    "duration": 9,
    "start_time": "2023-02-27T22:21:18.093Z"
   },
   {
    "duration": 33,
    "start_time": "2023-02-27T22:21:18.104Z"
   },
   {
    "duration": 26,
    "start_time": "2023-02-27T22:21:18.139Z"
   },
   {
    "duration": 91,
    "start_time": "2023-02-27T22:21:18.167Z"
   },
   {
    "duration": 8,
    "start_time": "2023-02-27T22:21:18.259Z"
   },
   {
    "duration": 31,
    "start_time": "2023-02-27T22:21:18.269Z"
   },
   {
    "duration": 23,
    "start_time": "2023-02-27T22:21:18.301Z"
   },
   {
    "duration": 20,
    "start_time": "2023-02-27T22:21:18.326Z"
   },
   {
    "duration": 28,
    "start_time": "2023-02-27T22:21:18.349Z"
   },
   {
    "duration": 20,
    "start_time": "2023-02-27T22:21:18.379Z"
   },
   {
    "duration": 45,
    "start_time": "2023-02-27T22:21:18.401Z"
   },
   {
    "duration": 21,
    "start_time": "2023-02-27T22:21:18.447Z"
   },
   {
    "duration": 28,
    "start_time": "2023-02-27T22:21:18.470Z"
   },
   {
    "duration": 36,
    "start_time": "2023-02-27T22:21:18.500Z"
   },
   {
    "duration": 73,
    "start_time": "2023-02-27T22:21:18.538Z"
   },
   {
    "duration": 11,
    "start_time": "2023-02-27T22:21:18.612Z"
   },
   {
    "duration": 46,
    "start_time": "2023-02-27T22:21:18.624Z"
   },
   {
    "duration": 27,
    "start_time": "2023-02-27T22:21:18.671Z"
   },
   {
    "duration": 38,
    "start_time": "2023-02-27T22:21:18.700Z"
   },
   {
    "duration": 683,
    "start_time": "2023-02-27T22:21:18.739Z"
   },
   {
    "duration": 3,
    "start_time": "2023-02-27T22:21:19.423Z"
   },
   {
    "duration": 47,
    "start_time": "2023-02-27T22:21:19.428Z"
   },
   {
    "duration": 37,
    "start_time": "2023-02-27T22:21:19.476Z"
   },
   {
    "duration": 27,
    "start_time": "2023-02-27T22:21:19.515Z"
   },
   {
    "duration": 2127,
    "start_time": "2023-02-27T22:21:19.543Z"
   },
   {
    "duration": 166,
    "start_time": "2023-02-27T22:21:21.671Z"
   },
   {
    "duration": 279,
    "start_time": "2023-02-27T22:21:21.838Z"
   },
   {
    "duration": 150,
    "start_time": "2023-02-27T22:21:22.118Z"
   },
   {
    "duration": 151,
    "start_time": "2023-02-27T22:21:22.269Z"
   },
   {
    "duration": 157,
    "start_time": "2023-02-27T22:21:22.422Z"
   },
   {
    "duration": 146,
    "start_time": "2023-02-27T22:21:22.581Z"
   },
   {
    "duration": 160,
    "start_time": "2023-02-27T22:21:22.729Z"
   },
   {
    "duration": 230,
    "start_time": "2023-02-27T22:21:22.891Z"
   },
   {
    "duration": 30,
    "start_time": "2023-02-27T22:21:23.123Z"
   },
   {
    "duration": 22,
    "start_time": "2023-02-27T22:21:23.154Z"
   },
   {
    "duration": 28,
    "start_time": "2023-02-27T22:21:23.180Z"
   },
   {
    "duration": 41,
    "start_time": "2023-02-27T22:21:23.210Z"
   },
   {
    "duration": 24,
    "start_time": "2023-02-27T22:21:23.252Z"
   },
   {
    "duration": 28,
    "start_time": "2023-02-27T22:21:23.278Z"
   },
   {
    "duration": 47,
    "start_time": "2023-02-27T22:21:23.307Z"
   },
   {
    "duration": 7,
    "start_time": "2023-02-27T22:21:23.356Z"
   },
   {
    "duration": 7,
    "start_time": "2023-02-27T22:21:23.364Z"
   },
   {
    "duration": 6,
    "start_time": "2023-02-27T22:21:23.373Z"
   },
   {
    "duration": 18,
    "start_time": "2023-02-27T22:21:23.381Z"
   },
   {
    "duration": 24,
    "start_time": "2023-02-27T22:21:23.400Z"
   },
   {
    "duration": 38,
    "start_time": "2023-02-27T22:21:23.426Z"
   },
   {
    "duration": 21,
    "start_time": "2023-02-27T22:21:23.465Z"
   },
   {
    "duration": 22,
    "start_time": "2023-02-27T22:21:23.487Z"
   },
   {
    "duration": 45,
    "start_time": "2023-02-27T22:21:23.510Z"
   },
   {
    "duration": 23,
    "start_time": "2023-02-27T22:21:23.556Z"
   },
   {
    "duration": 24,
    "start_time": "2023-02-27T22:21:23.580Z"
   }
  ],
  "kernelspec": {
   "display_name": "Python 3 (ipykernel)",
   "language": "python",
   "name": "python3"
  },
  "language_info": {
   "codemirror_mode": {
    "name": "ipython",
    "version": 3
   },
   "file_extension": ".py",
   "mimetype": "text/x-python",
   "name": "python",
   "nbconvert_exporter": "python",
   "pygments_lexer": "ipython3",
   "version": "3.9.5"
  },
  "toc": {
   "base_numbering": 1,
   "nav_menu": {},
   "number_sections": true,
   "sideBar": true,
   "skip_h1_title": true,
   "title_cell": "Table of Contents",
   "title_sidebar": "Contents",
   "toc_cell": false,
   "toc_position": {},
   "toc_section_display": true,
   "toc_window_display": true
  }
 },
 "nbformat": 4,
 "nbformat_minor": 2
}
